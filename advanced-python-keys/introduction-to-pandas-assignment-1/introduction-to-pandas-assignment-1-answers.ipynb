{
 "cells": [
  {
   "cell_type": "markdown",
   "id": "73284ee0-f115-4fd9-b1ce-84c488c33381",
   "metadata": {},
   "source": [
    "# Pandas Assignment 1\n",
    "In this assignment you will practice working with Pandas dataframes.\n",
    "\n",
    "Specifically, you will be carrying out the following excercises:\n",
    "\n",
    "1. Import data from a CSV file.\n",
    "2. Describe and get information from dataframes.\n",
    "3. Collect observations of the data.\n",
    "\n",
    "### Note about assignments\n",
    "You can add lines of code according to your preferences. As long as the code required by the assignment is found in this notebook under the corresponding question header (ie. the answer to question 1 is underneath the title \"Question 1\"), you will recieve credit for it.\n",
    "\n",
    "## About the data\n",
    "The data used in this assignment is a table built from the Human Resources schema of the Adventure Works 2019 database. This data contains information about each time that Employee Pay History was changed (each line is a pay rate change). It also contains information about the employee and the department they were working in when they received the pay rate listed.\n",
    "\n",
    "The actual data is stored in a `.csv` file located inside the `data` directory. The file is called `pay_history.csv`."
   ]
  },
  {
   "cell_type": "markdown",
   "id": "5fe124f3-c297-436d-9e09-0bb01bf5d749",
   "metadata": {
    "tags": []
   },
   "source": [
    "## Instructions\n",
    "##### Question 1: Import pandas\n",
    "Import pandas to be able to use it in the notebook\n",
    "\n",
    "<p style=\"font-size:.75rem\">Expected output: None</p>"
   ]
  },
  {
   "cell_type": "code",
   "execution_count": null,
   "id": "e3c670e0-96ae-4d93-a9bd-66ffa9a97597",
   "metadata": {},
   "outputs": [],
   "source": [
    "import pandas as pd"
   ]
  },
  {
   "cell_type": "markdown",
   "id": "ad13aa60-d2a8-4662-ad6e-aa66c2df540b",
   "metadata": {
    "tags": []
   },
   "source": [
    "##### Question 2: Import the data\n",
    "This data is stored in the `data` directory as a csv. Read the CSV file into a dataframe, and store it as a variable called `df`.\n",
    "\n",
    "<p style=\"font-size:.75rem\">Expected output: None</p>"
   ]
  },
  {
   "cell_type": "code",
   "execution_count": null,
   "id": "5cece8f1-03c6-44e0-a49d-e940ad2b57d3",
   "metadata": {},
   "outputs": [],
   "source": [
    "df = pd.read_csv(\"./data/pay_history.csv\")"
   ]
  },
  {
   "cell_type": "markdown",
   "id": "37cb8423-b499-43d5-85da-372ba37aa335",
   "metadata": {},
   "source": [
    "##### Question 3: View the first five rows\n",
    "Use the `.head()` method to output the first five rows of the dataframe.\n",
    "\n",
    "<p style=\"font-size:.75rem\">Expected output: 5 rows, indexes 0-4</p>"
   ]
  },
  {
   "cell_type": "code",
   "execution_count": null,
   "id": "6620ae2d-1dcd-4d43-abf3-30b23c2b12c9",
   "metadata": {},
   "outputs": [],
   "source": [
    "df.head()"
   ]
  },
  {
   "cell_type": "markdown",
   "id": "c607c52d-8542-4502-8923-7c7627606df5",
   "metadata": {},
   "source": [
    "##### Question 4: View the last three rows\n",
    "Use the `.tail()` method to output the last **three** rows of the dataframe.\n",
    "\n",
    "<p style=\"font-size:.75rem\">Expected output: 3 rows, indexes 301-303</p>"
   ]
  },
  {
   "cell_type": "code",
   "execution_count": null,
   "id": "b17dac5f-51e1-49cf-a542-0bdb7f289c37",
   "metadata": {},
   "outputs": [],
   "source": [
    "df.tail(3)"
   ]
  },
  {
   "cell_type": "markdown",
   "id": "08f6042a-9d10-467e-a312-a25416362c8d",
   "metadata": {},
   "source": [
    "##### Question 5: Describe the data set\n",
    "Use the `.describe()` method to get some summary statistics about the numerical data in the data set.\n",
    "\n",
    "<p style=\"font-size:.75rem\">Expected output: Summary table with 8 rows and 10 columns</p>"
   ]
  },
  {
   "cell_type": "code",
   "execution_count": null,
   "id": "4e1523d9-370f-409e-96dc-aac8798a0a68",
   "metadata": {},
   "outputs": [],
   "source": [
    "df.describe()"
   ]
  },
  {
   "cell_type": "markdown",
   "id": "bb72c3ad-d979-4d53-b320-bbd2550fd148",
   "metadata": {},
   "source": [
    "##### Question 6: Observe the data\n",
    "Knowing that the \"SalariedFlag\" column is either a 1 or a 0 to indicate if an employee is salaried (1) or not (0), can you estimate the percent of employees that are salaried (hint: look at the mean)?  Why isn't this a good estimator of the actual ratio of salaried to non-salaried employees? Hint: Remember that this data set has one row for each **pay rate change**, not one row for each employee (each employee may be listed \n",
    "\n",
    "<p style=\"font-size:.75rem\">Expected output: None</p>"
   ]
  },
  {
   "cell_type": "markdown",
   "id": "d212960a-2686-4a81-87f8-f974968508bc",
   "metadata": {},
   "source": [
    "```\n",
    "The mean of the SalariedFlag column is .2, which seems to indicate that 20% of employees are salaried. However, the granularity of this data set is changes in employee pay. Thus, this is not an average of employees but rather an average of how many employee changes have been for salaried employees.\n",
    "```"
   ]
  },
  {
   "cell_type": "markdown",
   "id": "bf05c7b3-145f-470c-8231-88563c56dd01",
   "metadata": {},
   "source": [
    "##### Question 7: Describe the categorical data\n",
    "Use the `.describe()` method to get summary statistics about the categorical data in the data set. Remember that you can pass in `include=[object]` to the `.describe()` method to get information about categorical data.\n",
    "\n",
    "<p style=\"font-size:.75rem\">Expected output: Summary table with 4 rows and 12 columns</p>"
   ]
  },
  {
   "cell_type": "code",
   "execution_count": null,
   "id": "1d171d7c-e791-4b38-b6cc-4ecfc8fdb02d",
   "metadata": {},
   "outputs": [],
   "source": [
    "df.describe(include=[object])"
   ]
  },
  {
   "cell_type": "markdown",
   "id": "59a3ce67-c5e9-4566-8619-853ac83ae78f",
   "metadata": {},
   "source": [
    "##### Question 8: Get data information\n",
    "Use the `.info()` method to get information about the data set.\n",
    "\n",
    "<p style=\"font-size:.75rem\">Expected output: Informational dataframe with non-null count and datatypes for 22 columns</p>"
   ]
  },
  {
   "cell_type": "code",
   "execution_count": null,
   "id": "09a7e811-315a-4cce-9a2d-3f2479973553",
   "metadata": {
    "tags": []
   },
   "outputs": [],
   "source": [
    "df.info()"
   ]
  },
  {
   "cell_type": "markdown",
   "id": "280ffe8f-c88d-49d6-9c13-63bbe38b5892",
   "metadata": {},
   "source": [
    "##### Question 9: Analyze null values\n",
    "Which columns have null values? How many null values do they have?\n",
    "\n",
    "<p style=\"font-size:.75rem\">Expected output: None</p>"
   ]
  },
  {
   "cell_type": "markdown",
   "id": "0d15be27-2382-4c5c-962b-ce97a4855db8",
   "metadata": {},
   "source": [
    "```\n",
    "There are 297 null values in the EndDate column and there is 1 null value in the OrganizationLevel column.\n",
    "```"
   ]
  },
  {
   "cell_type": "markdown",
   "id": "274681c5-a88e-4c9b-9b07-ba0eff755540",
   "metadata": {},
   "source": [
    "##### Question 10: How many rows and columns are there?\n",
    "Print out your answer using the `print()` function, or create a Markdown cell and write it there. Show what you did to work this out. Hint: Use the `.shape` property.\n",
    "\n",
    "<p style=\"font-size:.75rem\">Expected output: Printed text that describes the number of rows and columns</p>"
   ]
  },
  {
   "cell_type": "code",
   "execution_count": null,
   "id": "ccee1f44-4fa5-4752-86e3-c996e7dd8dfe",
   "metadata": {},
   "outputs": [],
   "source": [
    "print(f\"There are {df.shape[0]} rows and {df.shape[1]} columns.\")"
   ]
  }
 ],
 "metadata": {
  "kernelspec": {
   "display_name": "Python 3 (ipykernel)",
   "language": "python",
   "name": "python3"
  },
  "language_info": {
   "codemirror_mode": {
    "name": "ipython",
    "version": 3
   },
   "file_extension": ".py",
   "mimetype": "text/x-python",
   "name": "python",
   "nbconvert_exporter": "python",
   "pygments_lexer": "ipython3",
   "version": "3.10.2"
  }
 },
 "nbformat": 4,
 "nbformat_minor": 5
}
