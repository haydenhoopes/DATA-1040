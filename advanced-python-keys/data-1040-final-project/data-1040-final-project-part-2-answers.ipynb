{
 "cells": [
  {
   "cell_type": "markdown",
   "id": "0478150d-80f6-434e-85d3-a03a95522dee",
   "metadata": {},
   "source": [
    "# Advanced Python for Data Analytics - Final Project (part 2)\n",
    "\n",
    "In part 2 of this final project, you will use the skills you have learned in this course to explore a data set.\n",
    "\n",
    "Specifically, you will perform the following in this project:\n",
    "\n",
    "1. Use Jupyter Lab to organize notebook text and run Python code.\n",
    "2. Use Pandas to import data, create new columns, run aggregations, and export a CSV file.\n",
    "3. Use regular expressions to enrichen the data set.\n",
    "<!-- 4. Use matplotlib to create meaningful exploratory visualizations -->\n",
    "\n",
    "## About the data\n",
    "The data comes from the `InvoiceLines` table of the `Sales` schema from the `WideWorldImporters` database. The data contains information about invoice lines for different invoices for the company *Wide World Importers*. To clarify, each row contains information about a single invoice line, and a single invoice may contain multiple invoice lines. In other words, each invoice line (each row) contains information about the sale of a single product, even though a customer may have purchased several different products in a single invoice. Thus, each invoice **line item** (each row) belongs to a single invoice.\n",
    "\n",
    "The table contains information about the quantity, unit price, and the profit for each **line item**. You will not need any other tables or data to complete this project.\n",
    "\n",
    "## Instructions\n",
    "This final project will be very similar to the homework assignments you completed in modules 2 and 3. Specifically, you will import and analyze a dataset by creating new columns and using aggregation to summarize data. However, the instructions given to you will be minimal, and the methods used to perform the necessary opertions for cleaning the data set will not be provided in the instructions. You will not need any methods or functions that have not been covered in the course readings to complete the assignment, although you are free to use them if you would like.\n",
    "\n",
    "Answer the questions enumerated below by writing code to obtain the answers. You should show all of your work and then answer the question in a sentence below the question header.\n",
    "\n",
    "You are free to add as many cells to this file as you would like. However, each of the cells should be ordered in such a way that the entire file could be run all at once from top to bottom and everything will run as expected.\n",
    "\n",
    "### Import packages\n",
    "Use the cell below to import all of the packages you will need to complete this assignment. You can come back later and add code to this cell as needed."
   ]
  },
  {
   "cell_type": "code",
   "execution_count": 59,
   "id": "2362ac0c-9a86-4aec-b7af-925e27d0c71f",
   "metadata": {},
   "outputs": [],
   "source": [
    "import pandas as pd\n",
    "import numpy as np\n",
    "import matplotlib.pyplot as plt"
   ]
  },
  {
   "cell_type": "markdown",
   "id": "5b5cfb0a-6f81-49b6-9df7-749bc187d9c8",
   "metadata": {},
   "source": [
    "#### Import data set\n",
    "Import the file `invoice_lines.csv` from the `data` directory into a variable called `df`."
   ]
  },
  {
   "cell_type": "code",
   "execution_count": 60,
   "id": "e00996f8-3d32-48f5-b353-a1d26d413ad9",
   "metadata": {},
   "outputs": [],
   "source": [
    "df = pd.read_csv('./data/invoice_lines.csv')"
   ]
  },
  {
   "cell_type": "markdown",
   "id": "a4b9d5eb-e6ee-4fb7-a944-6a62d50cb40d",
   "metadata": {},
   "source": [
    "#### First five rows\n",
    "Use appropriate dataframe methods to show the first five rows of the dataframe."
   ]
  },
  {
   "cell_type": "code",
   "execution_count": 61,
   "id": "c8083893-c427-4d5e-b363-5d4674d83159",
   "metadata": {},
   "outputs": [
    {
     "data": {
      "text/html": [
       "<div>\n",
       "<style scoped>\n",
       "    .dataframe tbody tr th:only-of-type {\n",
       "        vertical-align: middle;\n",
       "    }\n",
       "\n",
       "    .dataframe tbody tr th {\n",
       "        vertical-align: top;\n",
       "    }\n",
       "\n",
       "    .dataframe thead th {\n",
       "        text-align: right;\n",
       "    }\n",
       "</style>\n",
       "<table border=\"1\" class=\"dataframe\">\n",
       "  <thead>\n",
       "    <tr style=\"text-align: right;\">\n",
       "      <th></th>\n",
       "      <th>InvoiceLineID</th>\n",
       "      <th>InvoiceID</th>\n",
       "      <th>StockItemID</th>\n",
       "      <th>Description</th>\n",
       "      <th>PackageTypeID</th>\n",
       "      <th>Quantity</th>\n",
       "      <th>UnitPrice</th>\n",
       "      <th>TaxRate</th>\n",
       "      <th>TaxAmount</th>\n",
       "      <th>LineProfit</th>\n",
       "      <th>ExtendedPrice</th>\n",
       "      <th>LastEditedBy</th>\n",
       "      <th>LastEditedWhen</th>\n",
       "    </tr>\n",
       "  </thead>\n",
       "  <tbody>\n",
       "    <tr>\n",
       "      <th>0</th>\n",
       "      <td>1</td>\n",
       "      <td>1</td>\n",
       "      <td>67</td>\n",
       "      <td>Ride on toy sedan car (Black) 1/12 scale</td>\n",
       "      <td>7</td>\n",
       "      <td>10</td>\n",
       "      <td>230.0</td>\n",
       "      <td>15.0</td>\n",
       "      <td>345.00</td>\n",
       "      <td>850.0</td>\n",
       "      <td>2645.00</td>\n",
       "      <td>7</td>\n",
       "      <td>2013-01-01 12:00:00.0000000</td>\n",
       "    </tr>\n",
       "    <tr>\n",
       "      <th>1</th>\n",
       "      <td>2</td>\n",
       "      <td>2</td>\n",
       "      <td>50</td>\n",
       "      <td>Developer joke mug - old C developers never di...</td>\n",
       "      <td>7</td>\n",
       "      <td>9</td>\n",
       "      <td>13.0</td>\n",
       "      <td>15.0</td>\n",
       "      <td>17.55</td>\n",
       "      <td>76.5</td>\n",
       "      <td>134.55</td>\n",
       "      <td>7</td>\n",
       "      <td>2013-01-01 12:00:00.0000000</td>\n",
       "    </tr>\n",
       "    <tr>\n",
       "      <th>2</th>\n",
       "      <td>3</td>\n",
       "      <td>2</td>\n",
       "      <td>10</td>\n",
       "      <td>USB food flash drive - chocolate bar</td>\n",
       "      <td>7</td>\n",
       "      <td>9</td>\n",
       "      <td>32.0</td>\n",
       "      <td>15.0</td>\n",
       "      <td>43.20</td>\n",
       "      <td>180.0</td>\n",
       "      <td>331.20</td>\n",
       "      <td>7</td>\n",
       "      <td>2013-01-01 12:00:00.0000000</td>\n",
       "    </tr>\n",
       "    <tr>\n",
       "      <th>3</th>\n",
       "      <td>4</td>\n",
       "      <td>3</td>\n",
       "      <td>114</td>\n",
       "      <td>Superhero action jacket (Blue) XXL</td>\n",
       "      <td>7</td>\n",
       "      <td>3</td>\n",
       "      <td>30.0</td>\n",
       "      <td>15.0</td>\n",
       "      <td>13.50</td>\n",
       "      <td>24.0</td>\n",
       "      <td>103.50</td>\n",
       "      <td>7</td>\n",
       "      <td>2013-01-01 12:00:00.0000000</td>\n",
       "    </tr>\n",
       "    <tr>\n",
       "      <th>4</th>\n",
       "      <td>5</td>\n",
       "      <td>4</td>\n",
       "      <td>206</td>\n",
       "      <td>Permanent marker black 5mm nib (Black) 5mm</td>\n",
       "      <td>7</td>\n",
       "      <td>96</td>\n",
       "      <td>2.7</td>\n",
       "      <td>15.0</td>\n",
       "      <td>38.88</td>\n",
       "      <td>96.0</td>\n",
       "      <td>298.08</td>\n",
       "      <td>7</td>\n",
       "      <td>2013-01-01 12:00:00.0000000</td>\n",
       "    </tr>\n",
       "  </tbody>\n",
       "</table>\n",
       "</div>"
      ],
      "text/plain": [
       "   InvoiceLineID  InvoiceID  StockItemID  \\\n",
       "0              1          1           67   \n",
       "1              2          2           50   \n",
       "2              3          2           10   \n",
       "3              4          3          114   \n",
       "4              5          4          206   \n",
       "\n",
       "                                         Description  PackageTypeID  Quantity  \\\n",
       "0           Ride on toy sedan car (Black) 1/12 scale              7        10   \n",
       "1  Developer joke mug - old C developers never di...              7         9   \n",
       "2               USB food flash drive - chocolate bar              7         9   \n",
       "3                 Superhero action jacket (Blue) XXL              7         3   \n",
       "4         Permanent marker black 5mm nib (Black) 5mm              7        96   \n",
       "\n",
       "   UnitPrice  TaxRate  TaxAmount  LineProfit  ExtendedPrice  LastEditedBy  \\\n",
       "0      230.0     15.0     345.00       850.0        2645.00             7   \n",
       "1       13.0     15.0      17.55        76.5         134.55             7   \n",
       "2       32.0     15.0      43.20       180.0         331.20             7   \n",
       "3       30.0     15.0      13.50        24.0         103.50             7   \n",
       "4        2.7     15.0      38.88        96.0         298.08             7   \n",
       "\n",
       "                LastEditedWhen  \n",
       "0  2013-01-01 12:00:00.0000000  \n",
       "1  2013-01-01 12:00:00.0000000  \n",
       "2  2013-01-01 12:00:00.0000000  \n",
       "3  2013-01-01 12:00:00.0000000  \n",
       "4  2013-01-01 12:00:00.0000000  "
      ]
     },
     "execution_count": 61,
     "metadata": {},
     "output_type": "execute_result"
    }
   ],
   "source": [
    "df.head()"
   ]
  },
  {
   "cell_type": "markdown",
   "id": "f83092ae-7b1a-49b7-8644-26e519e33846",
   "metadata": {},
   "source": [
    "#### Describe the data set\n",
    "Use appropriate dataframe methods to describe the data in the dataframe."
   ]
  },
  {
   "cell_type": "code",
   "execution_count": 62,
   "id": "f3554ca1-a44c-4b0a-a077-4e4c7695f6b2",
   "metadata": {},
   "outputs": [
    {
     "data": {
      "text/html": [
       "<div>\n",
       "<style scoped>\n",
       "    .dataframe tbody tr th:only-of-type {\n",
       "        vertical-align: middle;\n",
       "    }\n",
       "\n",
       "    .dataframe tbody tr th {\n",
       "        vertical-align: top;\n",
       "    }\n",
       "\n",
       "    .dataframe thead th {\n",
       "        text-align: right;\n",
       "    }\n",
       "</style>\n",
       "<table border=\"1\" class=\"dataframe\">\n",
       "  <thead>\n",
       "    <tr style=\"text-align: right;\">\n",
       "      <th></th>\n",
       "      <th>InvoiceLineID</th>\n",
       "      <th>InvoiceID</th>\n",
       "      <th>StockItemID</th>\n",
       "      <th>PackageTypeID</th>\n",
       "      <th>Quantity</th>\n",
       "      <th>UnitPrice</th>\n",
       "      <th>TaxRate</th>\n",
       "      <th>TaxAmount</th>\n",
       "      <th>LineProfit</th>\n",
       "      <th>ExtendedPrice</th>\n",
       "      <th>LastEditedBy</th>\n",
       "    </tr>\n",
       "  </thead>\n",
       "  <tbody>\n",
       "    <tr>\n",
       "      <th>count</th>\n",
       "      <td>228265.000000</td>\n",
       "      <td>228265.000000</td>\n",
       "      <td>228265.000000</td>\n",
       "      <td>228265.000000</td>\n",
       "      <td>228265.000000</td>\n",
       "      <td>228265.000000</td>\n",
       "      <td>228265.000000</td>\n",
       "      <td>228265.000000</td>\n",
       "      <td>228265.000000</td>\n",
       "      <td>228265.000000</td>\n",
       "      <td>228265.000000</td>\n",
       "    </tr>\n",
       "    <tr>\n",
       "      <th>mean</th>\n",
       "      <td>114133.000000</td>\n",
       "      <td>35179.209686</td>\n",
       "      <td>110.181285</td>\n",
       "      <td>7.073765</td>\n",
       "      <td>39.211566</td>\n",
       "      <td>45.591689</td>\n",
       "      <td>14.977307</td>\n",
       "      <td>112.948101</td>\n",
       "      <td>375.568663</td>\n",
       "      <td>867.603178</td>\n",
       "      <td>10.798795</td>\n",
       "    </tr>\n",
       "    <tr>\n",
       "      <th>std</th>\n",
       "      <td>65894.573936</td>\n",
       "      <td>20337.208453</td>\n",
       "      <td>63.729035</td>\n",
       "      <td>0.644437</td>\n",
       "      <td>54.558829</td>\n",
       "      <td>139.862055</td>\n",
       "      <td>0.336081</td>\n",
       "      <td>217.512539</td>\n",
       "      <td>754.052045</td>\n",
       "      <td>1668.036182</td>\n",
       "      <td>5.510103</td>\n",
       "    </tr>\n",
       "    <tr>\n",
       "      <th>min</th>\n",
       "      <td>1.000000</td>\n",
       "      <td>1.000000</td>\n",
       "      <td>1.000000</td>\n",
       "      <td>1.000000</td>\n",
       "      <td>1.000000</td>\n",
       "      <td>0.660000</td>\n",
       "      <td>10.000000</td>\n",
       "      <td>0.380000</td>\n",
       "      <td>-645.000000</td>\n",
       "      <td>2.880000</td>\n",
       "      <td>2.000000</td>\n",
       "    </tr>\n",
       "    <tr>\n",
       "      <th>25%</th>\n",
       "      <td>57067.000000</td>\n",
       "      <td>17572.000000</td>\n",
       "      <td>54.000000</td>\n",
       "      <td>7.000000</td>\n",
       "      <td>5.000000</td>\n",
       "      <td>13.000000</td>\n",
       "      <td>15.000000</td>\n",
       "      <td>14.400000</td>\n",
       "      <td>51.000000</td>\n",
       "      <td>110.400000</td>\n",
       "      <td>6.000000</td>\n",
       "    </tr>\n",
       "    <tr>\n",
       "      <th>50%</th>\n",
       "      <td>114133.000000</td>\n",
       "      <td>35152.000000</td>\n",
       "      <td>111.000000</td>\n",
       "      <td>7.000000</td>\n",
       "      <td>10.000000</td>\n",
       "      <td>18.000000</td>\n",
       "      <td>15.000000</td>\n",
       "      <td>34.500000</td>\n",
       "      <td>120.000000</td>\n",
       "      <td>264.500000</td>\n",
       "      <td>11.000000</td>\n",
       "    </tr>\n",
       "    <tr>\n",
       "      <th>75%</th>\n",
       "      <td>171199.000000</td>\n",
       "      <td>52765.000000</td>\n",
       "      <td>165.000000</td>\n",
       "      <td>7.000000</td>\n",
       "      <td>60.000000</td>\n",
       "      <td>32.000000</td>\n",
       "      <td>15.000000</td>\n",
       "      <td>129.600000</td>\n",
       "      <td>390.000000</td>\n",
       "      <td>993.600000</td>\n",
       "      <td>16.000000</td>\n",
       "    </tr>\n",
       "    <tr>\n",
       "      <th>max</th>\n",
       "      <td>228265.000000</td>\n",
       "      <td>70510.000000</td>\n",
       "      <td>227.000000</td>\n",
       "      <td>10.000000</td>\n",
       "      <td>360.000000</td>\n",
       "      <td>1899.000000</td>\n",
       "      <td>15.000000</td>\n",
       "      <td>2848.500000</td>\n",
       "      <td>9200.000000</td>\n",
       "      <td>21838.500000</td>\n",
       "      <td>20.000000</td>\n",
       "    </tr>\n",
       "  </tbody>\n",
       "</table>\n",
       "</div>"
      ],
      "text/plain": [
       "       InvoiceLineID      InvoiceID    StockItemID  PackageTypeID  \\\n",
       "count  228265.000000  228265.000000  228265.000000  228265.000000   \n",
       "mean   114133.000000   35179.209686     110.181285       7.073765   \n",
       "std     65894.573936   20337.208453      63.729035       0.644437   \n",
       "min         1.000000       1.000000       1.000000       1.000000   \n",
       "25%     57067.000000   17572.000000      54.000000       7.000000   \n",
       "50%    114133.000000   35152.000000     111.000000       7.000000   \n",
       "75%    171199.000000   52765.000000     165.000000       7.000000   \n",
       "max    228265.000000   70510.000000     227.000000      10.000000   \n",
       "\n",
       "            Quantity      UnitPrice        TaxRate      TaxAmount  \\\n",
       "count  228265.000000  228265.000000  228265.000000  228265.000000   \n",
       "mean       39.211566      45.591689      14.977307     112.948101   \n",
       "std        54.558829     139.862055       0.336081     217.512539   \n",
       "min         1.000000       0.660000      10.000000       0.380000   \n",
       "25%         5.000000      13.000000      15.000000      14.400000   \n",
       "50%        10.000000      18.000000      15.000000      34.500000   \n",
       "75%        60.000000      32.000000      15.000000     129.600000   \n",
       "max       360.000000    1899.000000      15.000000    2848.500000   \n",
       "\n",
       "          LineProfit  ExtendedPrice   LastEditedBy  \n",
       "count  228265.000000  228265.000000  228265.000000  \n",
       "mean      375.568663     867.603178      10.798795  \n",
       "std       754.052045    1668.036182       5.510103  \n",
       "min      -645.000000       2.880000       2.000000  \n",
       "25%        51.000000     110.400000       6.000000  \n",
       "50%       120.000000     264.500000      11.000000  \n",
       "75%       390.000000     993.600000      16.000000  \n",
       "max      9200.000000   21838.500000      20.000000  "
      ]
     },
     "execution_count": 62,
     "metadata": {},
     "output_type": "execute_result"
    }
   ],
   "source": [
    "df.describe()"
   ]
  },
  {
   "cell_type": "markdown",
   "id": "6de59184-3ac2-4214-8b1e-215387f271ad",
   "metadata": {},
   "source": [
    "#### Dataframe information\n",
    "Use appropriate dataframe methods to get information about the data types and non-null counts for each column in the data set."
   ]
  },
  {
   "cell_type": "code",
   "execution_count": 63,
   "id": "33712304-490b-4915-a07a-7dfd9f28fb31",
   "metadata": {},
   "outputs": [
    {
     "name": "stdout",
     "output_type": "stream",
     "text": [
      "<class 'pandas.core.frame.DataFrame'>\n",
      "RangeIndex: 228265 entries, 0 to 228264\n",
      "Data columns (total 13 columns):\n",
      " #   Column          Non-Null Count   Dtype  \n",
      "---  ------          --------------   -----  \n",
      " 0   InvoiceLineID   228265 non-null  int64  \n",
      " 1   InvoiceID       228265 non-null  int64  \n",
      " 2   StockItemID     228265 non-null  int64  \n",
      " 3   Description     228265 non-null  object \n",
      " 4   PackageTypeID   228265 non-null  int64  \n",
      " 5   Quantity        228265 non-null  int64  \n",
      " 6   UnitPrice       228265 non-null  float64\n",
      " 7   TaxRate         228265 non-null  float64\n",
      " 8   TaxAmount       228265 non-null  float64\n",
      " 9   LineProfit      228265 non-null  float64\n",
      " 10  ExtendedPrice   228265 non-null  float64\n",
      " 11  LastEditedBy    228265 non-null  int64  \n",
      " 12  LastEditedWhen  228265 non-null  object \n",
      "dtypes: float64(5), int64(6), object(2)\n",
      "memory usage: 22.6+ MB\n"
     ]
    }
   ],
   "source": [
    "df.info()"
   ]
  },
  {
   "cell_type": "markdown",
   "id": "dffe0106-69eb-4a0a-af1e-9b3548c70d5d",
   "metadata": {},
   "source": [
    "#### Null value counts\n",
    "Use appropriate dataframe methods to get information about the number of null values in each column of the dataframe."
   ]
  },
  {
   "cell_type": "code",
   "execution_count": 64,
   "id": "c2b16736-c2ec-410e-8678-28e6645e571b",
   "metadata": {},
   "outputs": [
    {
     "data": {
      "text/plain": [
       "InvoiceLineID     0\n",
       "InvoiceID         0\n",
       "StockItemID       0\n",
       "Description       0\n",
       "PackageTypeID     0\n",
       "Quantity          0\n",
       "UnitPrice         0\n",
       "TaxRate           0\n",
       "TaxAmount         0\n",
       "LineProfit        0\n",
       "ExtendedPrice     0\n",
       "LastEditedBy      0\n",
       "LastEditedWhen    0\n",
       "dtype: int64"
      ]
     },
     "execution_count": 64,
     "metadata": {},
     "output_type": "execute_result"
    }
   ],
   "source": [
    "df.isna().sum()"
   ]
  },
  {
   "cell_type": "markdown",
   "id": "a2ae524c-1cd8-472b-8600-f83973e6fb6a",
   "metadata": {},
   "source": [
    "### Instructions\n",
    "Using your knowledge of Pandas and regular expressions, answer the questions below. Again, you may add as many cells as you would like to this file, but make sure that you show your work in each question. Also make sure that the code cells in your file can run in order from top to bottom.\n",
    "\n",
    "Add a comment to each question that gives an answer to the question.\n",
    "\n",
    "---\n",
    "##### Question 1: How many rows are there?\n",
    "Answer the question below."
   ]
  },
  {
   "cell_type": "code",
   "execution_count": 65,
   "id": "aad1780a-0510-4210-8eb5-b5a0273173a0",
   "metadata": {},
   "outputs": [
    {
     "data": {
      "text/plain": [
       "228265"
      ]
     },
     "execution_count": 65,
     "metadata": {},
     "output_type": "execute_result"
    }
   ],
   "source": [
    "df.shape[0]"
   ]
  },
  {
   "cell_type": "markdown",
   "id": "a489eb55-ec3a-48f1-ab0b-157984e03110",
   "metadata": {},
   "source": [
    "```\n",
    "There are 228,265 rows in the dataframe.\n",
    "```"
   ]
  },
  {
   "cell_type": "markdown",
   "id": "e210ba75-e27b-4d95-ba84-79d8e5c16062",
   "metadata": {},
   "source": [
    "--- \n",
    "##### Question 2: How many unique InvoiceLines are there?\n",
    "Answer the question below."
   ]
  },
  {
   "cell_type": "code",
   "execution_count": 66,
   "id": "01912f4a-7497-438e-8eff-8013b3e48433",
   "metadata": {},
   "outputs": [
    {
     "data": {
      "text/plain": [
       "228265"
      ]
     },
     "execution_count": 66,
     "metadata": {},
     "output_type": "execute_result"
    }
   ],
   "source": [
    "df['InvoiceLineID'].nunique()"
   ]
  },
  {
   "cell_type": "markdown",
   "id": "44478299-af18-48da-981e-2c3a28dbc5ba",
   "metadata": {},
   "source": [
    "```\n",
    "There are 228,265 unique `InvoiceLines`.\n",
    "```"
   ]
  },
  {
   "cell_type": "markdown",
   "id": "19c0af98-4327-40d0-bf70-5bc2464f7918",
   "metadata": {},
   "source": [
    "---\n",
    "##### Question 3: How many unique Invoices are there?\n",
    "Answer the question below."
   ]
  },
  {
   "cell_type": "code",
   "execution_count": 67,
   "id": "799896c1-0ae6-4b0d-913c-fbe3d82a03fc",
   "metadata": {},
   "outputs": [
    {
     "data": {
      "text/plain": [
       "70510"
      ]
     },
     "execution_count": 67,
     "metadata": {},
     "output_type": "execute_result"
    }
   ],
   "source": [
    "df['InvoiceID'].nunique()"
   ]
  },
  {
   "cell_type": "markdown",
   "id": "9929fb0c-2dc8-4500-a78a-a2f8622e9ef7",
   "metadata": {},
   "source": [
    "```\n",
    "There are 70,510 unique `InvoiceID`.\n",
    "```"
   ]
  },
  {
   "cell_type": "markdown",
   "id": "873204fc-0f1d-44ac-9fb4-ec5a24b90581",
   "metadata": {},
   "source": [
    "---\n",
    "##### Question 4: What is the average `LineProfit`?\n",
    "Answer the question below."
   ]
  },
  {
   "cell_type": "code",
   "execution_count": 68,
   "id": "59f39ad8-22ea-4f3a-a636-4185e9028a90",
   "metadata": {},
   "outputs": [
    {
     "data": {
      "text/plain": [
       "375.5686631765712"
      ]
     },
     "execution_count": 68,
     "metadata": {},
     "output_type": "execute_result"
    }
   ],
   "source": [
    "df['LineProfit'].mean()"
   ]
  },
  {
   "cell_type": "markdown",
   "id": "cf424204-f8e1-4834-8ac2-10d864a87263",
   "metadata": {},
   "source": [
    "```\n",
    "The average `LineProfit` is $375.57.\n",
    "```"
   ]
  },
  {
   "cell_type": "markdown",
   "id": "965480a3-2616-44db-970c-ab9e97cf1772",
   "metadata": {},
   "source": [
    "---\n",
    "##### Question 5: What is the median `LineProfit`?\n",
    "Answer the question below."
   ]
  },
  {
   "cell_type": "code",
   "execution_count": 69,
   "id": "310d6dc5-754a-4d34-b35f-89c47524dfdd",
   "metadata": {},
   "outputs": [
    {
     "data": {
      "text/plain": [
       "120.0"
      ]
     },
     "execution_count": 69,
     "metadata": {},
     "output_type": "execute_result"
    }
   ],
   "source": [
    "df['LineProfit'].median()"
   ]
  },
  {
   "cell_type": "markdown",
   "id": "ee11672e-0887-4022-b064-2b2d902ac7b2",
   "metadata": {},
   "source": [
    "```\n",
    "The median `LineProfit` is $120.00.\n",
    "```"
   ]
  },
  {
   "cell_type": "markdown",
   "id": "9b2f2435-392c-4368-b1e3-80d9ea07c8d9",
   "metadata": {},
   "source": [
    "---\n",
    "##### Question 6: Which product (`Description`) seems to have the highest `LineProfit`?\n",
    "Answer the question below."
   ]
  },
  {
   "cell_type": "code",
   "execution_count": 70,
   "id": "c40a8af6-bdc3-4f86-830b-a7eae9957767",
   "metadata": {},
   "outputs": [
    {
     "data": {
      "text/html": [
       "<div>\n",
       "<style scoped>\n",
       "    .dataframe tbody tr th:only-of-type {\n",
       "        vertical-align: middle;\n",
       "    }\n",
       "\n",
       "    .dataframe tbody tr th {\n",
       "        vertical-align: top;\n",
       "    }\n",
       "\n",
       "    .dataframe thead th {\n",
       "        text-align: right;\n",
       "    }\n",
       "</style>\n",
       "<table border=\"1\" class=\"dataframe\">\n",
       "  <thead>\n",
       "    <tr style=\"text-align: right;\">\n",
       "      <th></th>\n",
       "      <th>InvoiceLineID</th>\n",
       "      <th>InvoiceID</th>\n",
       "      <th>StockItemID</th>\n",
       "      <th>Description</th>\n",
       "      <th>PackageTypeID</th>\n",
       "      <th>Quantity</th>\n",
       "      <th>UnitPrice</th>\n",
       "      <th>TaxRate</th>\n",
       "      <th>TaxAmount</th>\n",
       "      <th>LineProfit</th>\n",
       "      <th>ExtendedPrice</th>\n",
       "      <th>LastEditedBy</th>\n",
       "      <th>LastEditedWhen</th>\n",
       "    </tr>\n",
       "  </thead>\n",
       "  <tbody>\n",
       "    <tr>\n",
       "      <th>102159</th>\n",
       "      <td>102160</td>\n",
       "      <td>31440</td>\n",
       "      <td>161</td>\n",
       "      <td>20 mm Double sided bubble wrap 50m</td>\n",
       "      <td>7</td>\n",
       "      <td>100</td>\n",
       "      <td>108.0</td>\n",
       "      <td>15.0</td>\n",
       "      <td>1620.0</td>\n",
       "      <td>9200.0</td>\n",
       "      <td>12420.0</td>\n",
       "      <td>5</td>\n",
       "      <td>2014-08-14 12:00:00.0000000</td>\n",
       "    </tr>\n",
       "    <tr>\n",
       "      <th>71590</th>\n",
       "      <td>71591</td>\n",
       "      <td>22038</td>\n",
       "      <td>161</td>\n",
       "      <td>20 mm Double sided bubble wrap 50m</td>\n",
       "      <td>7</td>\n",
       "      <td>100</td>\n",
       "      <td>108.0</td>\n",
       "      <td>15.0</td>\n",
       "      <td>1620.0</td>\n",
       "      <td>9200.0</td>\n",
       "      <td>12420.0</td>\n",
       "      <td>12</td>\n",
       "      <td>2014-03-03 12:00:00.0000000</td>\n",
       "    </tr>\n",
       "    <tr>\n",
       "      <th>127463</th>\n",
       "      <td>127464</td>\n",
       "      <td>39249</td>\n",
       "      <td>161</td>\n",
       "      <td>20 mm Double sided bubble wrap 50m</td>\n",
       "      <td>7</td>\n",
       "      <td>100</td>\n",
       "      <td>108.0</td>\n",
       "      <td>15.0</td>\n",
       "      <td>1620.0</td>\n",
       "      <td>9200.0</td>\n",
       "      <td>12420.0</td>\n",
       "      <td>6</td>\n",
       "      <td>2015-01-05 12:00:00.0000000</td>\n",
       "    </tr>\n",
       "    <tr>\n",
       "      <th>14949</th>\n",
       "      <td>14950</td>\n",
       "      <td>4596</td>\n",
       "      <td>161</td>\n",
       "      <td>20 mm Double sided bubble wrap 50m</td>\n",
       "      <td>7</td>\n",
       "      <td>100</td>\n",
       "      <td>108.0</td>\n",
       "      <td>15.0</td>\n",
       "      <td>1620.0</td>\n",
       "      <td>9200.0</td>\n",
       "      <td>12420.0</td>\n",
       "      <td>20</td>\n",
       "      <td>2013-04-04 12:00:00.0000000</td>\n",
       "    </tr>\n",
       "    <tr>\n",
       "      <th>159121</th>\n",
       "      <td>159122</td>\n",
       "      <td>49015</td>\n",
       "      <td>161</td>\n",
       "      <td>20 mm Double sided bubble wrap 50m</td>\n",
       "      <td>7</td>\n",
       "      <td>100</td>\n",
       "      <td>108.0</td>\n",
       "      <td>15.0</td>\n",
       "      <td>1620.0</td>\n",
       "      <td>9200.0</td>\n",
       "      <td>12420.0</td>\n",
       "      <td>16</td>\n",
       "      <td>2015-06-12 12:00:00.0000000</td>\n",
       "    </tr>\n",
       "  </tbody>\n",
       "</table>\n",
       "</div>"
      ],
      "text/plain": [
       "        InvoiceLineID  InvoiceID  StockItemID  \\\n",
       "102159         102160      31440          161   \n",
       "71590           71591      22038          161   \n",
       "127463         127464      39249          161   \n",
       "14949           14950       4596          161   \n",
       "159121         159122      49015          161   \n",
       "\n",
       "                               Description  PackageTypeID  Quantity  \\\n",
       "102159  20 mm Double sided bubble wrap 50m              7       100   \n",
       "71590   20 mm Double sided bubble wrap 50m              7       100   \n",
       "127463  20 mm Double sided bubble wrap 50m              7       100   \n",
       "14949   20 mm Double sided bubble wrap 50m              7       100   \n",
       "159121  20 mm Double sided bubble wrap 50m              7       100   \n",
       "\n",
       "        UnitPrice  TaxRate  TaxAmount  LineProfit  ExtendedPrice  \\\n",
       "102159      108.0     15.0     1620.0      9200.0        12420.0   \n",
       "71590       108.0     15.0     1620.0      9200.0        12420.0   \n",
       "127463      108.0     15.0     1620.0      9200.0        12420.0   \n",
       "14949       108.0     15.0     1620.0      9200.0        12420.0   \n",
       "159121      108.0     15.0     1620.0      9200.0        12420.0   \n",
       "\n",
       "        LastEditedBy               LastEditedWhen  \n",
       "102159             5  2014-08-14 12:00:00.0000000  \n",
       "71590             12  2014-03-03 12:00:00.0000000  \n",
       "127463             6  2015-01-05 12:00:00.0000000  \n",
       "14949             20  2013-04-04 12:00:00.0000000  \n",
       "159121            16  2015-06-12 12:00:00.0000000  "
      ]
     },
     "execution_count": 70,
     "metadata": {},
     "output_type": "execute_result"
    }
   ],
   "source": [
    "df.sort_values(by='LineProfit', ascending=False).head()"
   ]
  },
  {
   "cell_type": "markdown",
   "id": "45bb89bb-c92a-4d51-b1d0-f00576801da5",
   "metadata": {},
   "source": [
    "```\n",
    "20 mm Double sided bubble wrap 50m seems to have the highest `LineProfit`.\n",
    "```"
   ]
  },
  {
   "cell_type": "markdown",
   "id": "2e3a1cf7-3f44-4776-bdf3-1d546a7bc3ee",
   "metadata": {},
   "source": [
    "---\n",
    "##### Question 7: Which product (`Description`) is the highest selling product, by total `Quantity` sold?\n",
    "Answer the question below."
   ]
  },
  {
   "cell_type": "code",
   "execution_count": 71,
   "id": "06e441f0-5b2c-4552-a4bd-3e6f6da10e0f",
   "metadata": {},
   "outputs": [
    {
     "data": {
      "text/html": [
       "<div>\n",
       "<style scoped>\n",
       "    .dataframe tbody tr th:only-of-type {\n",
       "        vertical-align: middle;\n",
       "    }\n",
       "\n",
       "    .dataframe tbody tr th {\n",
       "        vertical-align: top;\n",
       "    }\n",
       "\n",
       "    .dataframe thead th {\n",
       "        text-align: right;\n",
       "    }\n",
       "</style>\n",
       "<table border=\"1\" class=\"dataframe\">\n",
       "  <thead>\n",
       "    <tr style=\"text-align: right;\">\n",
       "      <th></th>\n",
       "      <th></th>\n",
       "      <th>Quantity</th>\n",
       "    </tr>\n",
       "    <tr>\n",
       "      <th>StockItemID</th>\n",
       "      <th>Description</th>\n",
       "      <th></th>\n",
       "    </tr>\n",
       "  </thead>\n",
       "  <tbody>\n",
       "    <tr>\n",
       "      <th>191</th>\n",
       "      <th>Black and orange fragile despatch tape 48mmx75m</th>\n",
       "      <td>207324</td>\n",
       "    </tr>\n",
       "    <tr>\n",
       "      <th>192</th>\n",
       "      <th>Black and orange fragile despatch tape 48mmx100m</th>\n",
       "      <td>193680</td>\n",
       "    </tr>\n",
       "    <tr>\n",
       "      <th>189</th>\n",
       "      <th>Clear packaging tape 48mmx75m</th>\n",
       "      <td>158626</td>\n",
       "    </tr>\n",
       "    <tr>\n",
       "      <th>188</th>\n",
       "      <th>3 kg Courier post bag (White) 300x190x95mm</th>\n",
       "      <td>152375</td>\n",
       "    </tr>\n",
       "    <tr>\n",
       "      <th>185</th>\n",
       "      <th>Shipping carton (Brown) 356x356x279mm</th>\n",
       "      <td>152125</td>\n",
       "    </tr>\n",
       "    <tr>\n",
       "      <th>...</th>\n",
       "      <th>...</th>\n",
       "      <td>...</td>\n",
       "    </tr>\n",
       "    <tr>\n",
       "      <th>112</th>\n",
       "      <th>Superhero action jacket (Blue) L</th>\n",
       "      <td>5464</td>\n",
       "    </tr>\n",
       "    <tr>\n",
       "      <th>110</th>\n",
       "      <th>Superhero action jacket (Blue) S</th>\n",
       "      <td>5426</td>\n",
       "    </tr>\n",
       "    <tr>\n",
       "      <th>114</th>\n",
       "      <th>Superhero action jacket (Blue) XXL</th>\n",
       "      <td>5404</td>\n",
       "    </tr>\n",
       "    <tr>\n",
       "      <th>17</th>\n",
       "      <th>DBA joke mug - mind if I join you? (Black)</th>\n",
       "      <td>5402</td>\n",
       "    </tr>\n",
       "    <tr>\n",
       "      <th>113</th>\n",
       "      <th>Superhero action jacket (Blue) XL</th>\n",
       "      <td>5373</td>\n",
       "    </tr>\n",
       "  </tbody>\n",
       "</table>\n",
       "<p>227 rows × 1 columns</p>\n",
       "</div>"
      ],
      "text/plain": [
       "                                                              Quantity\n",
       "StockItemID Description                                               \n",
       "191         Black and orange fragile despatch tape 48mmx75m     207324\n",
       "192         Black and orange fragile despatch tape 48mmx100m    193680\n",
       "189         Clear packaging tape 48mmx75m                       158626\n",
       "188         3 kg Courier post bag (White) 300x190x95mm          152375\n",
       "185         Shipping carton (Brown) 356x356x279mm               152125\n",
       "...                                                                ...\n",
       "112         Superhero action jacket (Blue) L                      5464\n",
       "110         Superhero action jacket (Blue) S                      5426\n",
       "114         Superhero action jacket (Blue) XXL                    5404\n",
       "17          DBA joke mug - mind if I join you? (Black)            5402\n",
       "113         Superhero action jacket (Blue) XL                     5373\n",
       "\n",
       "[227 rows x 1 columns]"
      ]
     },
     "execution_count": 71,
     "metadata": {},
     "output_type": "execute_result"
    }
   ],
   "source": [
    "df.groupby(['StockItemID', 'Description']).agg({'Quantity': 'sum'}).sort_values(by='Quantity', ascending=False)"
   ]
  },
  {
   "cell_type": "markdown",
   "id": "1b756d97-882c-4d4f-a1ad-0b1765c2b83c",
   "metadata": {},
   "source": [
    "```\n",
    "Product with `StockItemID` 191, or \"Black and orange fragile despatch tape 48mmx75m\", is the highest selling product by total quantity.\n",
    "```"
   ]
  },
  {
   "cell_type": "markdown",
   "id": "4c7eaaac-a37f-4086-83bf-f4b2bc32bc8e",
   "metadata": {},
   "source": [
    "---\n",
    "##### Question 8: Which product (`Description`) is the worst selling product by total `Quantity` sold?\n",
    "Answer the question below."
   ]
  },
  {
   "cell_type": "code",
   "execution_count": 72,
   "id": "321c5736-6a6e-4fe4-82fd-127541bec891",
   "metadata": {},
   "outputs": [
    {
     "data": {
      "text/html": [
       "<div>\n",
       "<style scoped>\n",
       "    .dataframe tbody tr th:only-of-type {\n",
       "        vertical-align: middle;\n",
       "    }\n",
       "\n",
       "    .dataframe tbody tr th {\n",
       "        vertical-align: top;\n",
       "    }\n",
       "\n",
       "    .dataframe thead th {\n",
       "        text-align: right;\n",
       "    }\n",
       "</style>\n",
       "<table border=\"1\" class=\"dataframe\">\n",
       "  <thead>\n",
       "    <tr style=\"text-align: right;\">\n",
       "      <th></th>\n",
       "      <th></th>\n",
       "      <th>Quantity</th>\n",
       "    </tr>\n",
       "    <tr>\n",
       "      <th>StockItemID</th>\n",
       "      <th>Description</th>\n",
       "      <th></th>\n",
       "    </tr>\n",
       "  </thead>\n",
       "  <tbody>\n",
       "    <tr>\n",
       "      <th>113</th>\n",
       "      <th>Superhero action jacket (Blue) XL</th>\n",
       "      <td>5373</td>\n",
       "    </tr>\n",
       "    <tr>\n",
       "      <th>17</th>\n",
       "      <th>DBA joke mug - mind if I join you? (Black)</th>\n",
       "      <td>5402</td>\n",
       "    </tr>\n",
       "    <tr>\n",
       "      <th>114</th>\n",
       "      <th>Superhero action jacket (Blue) XXL</th>\n",
       "      <td>5404</td>\n",
       "    </tr>\n",
       "    <tr>\n",
       "      <th>110</th>\n",
       "      <th>Superhero action jacket (Blue) S</th>\n",
       "      <td>5426</td>\n",
       "    </tr>\n",
       "    <tr>\n",
       "      <th>112</th>\n",
       "      <th>Superhero action jacket (Blue) L</th>\n",
       "      <td>5464</td>\n",
       "    </tr>\n",
       "    <tr>\n",
       "      <th>...</th>\n",
       "      <th>...</th>\n",
       "      <td>...</td>\n",
       "    </tr>\n",
       "    <tr>\n",
       "      <th>185</th>\n",
       "      <th>Shipping carton (Brown) 356x356x279mm</th>\n",
       "      <td>152125</td>\n",
       "    </tr>\n",
       "    <tr>\n",
       "      <th>188</th>\n",
       "      <th>3 kg Courier post bag (White) 300x190x95mm</th>\n",
       "      <td>152375</td>\n",
       "    </tr>\n",
       "    <tr>\n",
       "      <th>189</th>\n",
       "      <th>Clear packaging tape 48mmx75m</th>\n",
       "      <td>158626</td>\n",
       "    </tr>\n",
       "    <tr>\n",
       "      <th>192</th>\n",
       "      <th>Black and orange fragile despatch tape 48mmx100m</th>\n",
       "      <td>193680</td>\n",
       "    </tr>\n",
       "    <tr>\n",
       "      <th>191</th>\n",
       "      <th>Black and orange fragile despatch tape 48mmx75m</th>\n",
       "      <td>207324</td>\n",
       "    </tr>\n",
       "  </tbody>\n",
       "</table>\n",
       "<p>227 rows × 1 columns</p>\n",
       "</div>"
      ],
      "text/plain": [
       "                                                              Quantity\n",
       "StockItemID Description                                               \n",
       "113         Superhero action jacket (Blue) XL                     5373\n",
       "17          DBA joke mug - mind if I join you? (Black)            5402\n",
       "114         Superhero action jacket (Blue) XXL                    5404\n",
       "110         Superhero action jacket (Blue) S                      5426\n",
       "112         Superhero action jacket (Blue) L                      5464\n",
       "...                                                                ...\n",
       "185         Shipping carton (Brown) 356x356x279mm               152125\n",
       "188         3 kg Courier post bag (White) 300x190x95mm          152375\n",
       "189         Clear packaging tape 48mmx75m                       158626\n",
       "192         Black and orange fragile despatch tape 48mmx100m    193680\n",
       "191         Black and orange fragile despatch tape 48mmx75m     207324\n",
       "\n",
       "[227 rows x 1 columns]"
      ]
     },
     "execution_count": 72,
     "metadata": {},
     "output_type": "execute_result"
    }
   ],
   "source": [
    "df.groupby(['StockItemID', 'Description']).agg({'Quantity': 'sum'}).sort_values(by='Quantity', ascending=True)"
   ]
  },
  {
   "cell_type": "markdown",
   "id": "82592b18-3eb4-4be5-8d7e-41811ebc0699",
   "metadata": {},
   "source": [
    "```\n",
    "The worst selling product by total quantity is product with `StockItemID` of 113, called the \"Superhero action jacket (Blue) XL\".\n",
    "```"
   ]
  },
  {
   "cell_type": "markdown",
   "id": "1070aa31-0370-4bf4-8ae7-892b02465833",
   "metadata": {},
   "source": [
    "---\n",
    "##### Question 9: Which product (`Description`) is the most frequently ordered (count) product?\n",
    "Answer the question below."
   ]
  },
  {
   "cell_type": "code",
   "execution_count": 73,
   "id": "ff359e93-58c4-4b47-afae-93b677a59def",
   "metadata": {},
   "outputs": [
    {
     "data": {
      "text/html": [
       "<div>\n",
       "<style scoped>\n",
       "    .dataframe tbody tr th:only-of-type {\n",
       "        vertical-align: middle;\n",
       "    }\n",
       "\n",
       "    .dataframe tbody tr th {\n",
       "        vertical-align: top;\n",
       "    }\n",
       "\n",
       "    .dataframe thead th {\n",
       "        text-align: right;\n",
       "    }\n",
       "</style>\n",
       "<table border=\"1\" class=\"dataframe\">\n",
       "  <thead>\n",
       "    <tr style=\"text-align: right;\">\n",
       "      <th></th>\n",
       "      <th></th>\n",
       "      <th>InvoiceID</th>\n",
       "    </tr>\n",
       "    <tr>\n",
       "      <th>StockItemID</th>\n",
       "      <th>Description</th>\n",
       "      <th></th>\n",
       "    </tr>\n",
       "  </thead>\n",
       "  <tbody>\n",
       "    <tr>\n",
       "      <th>120</th>\n",
       "      <th>Dinosaur battery-powered slippers (Green) L</th>\n",
       "      <td>1123</td>\n",
       "    </tr>\n",
       "    <tr>\n",
       "      <th>104</th>\n",
       "      <th>Alien officer hoodie (Black) 3XL</th>\n",
       "      <td>1123</td>\n",
       "    </tr>\n",
       "    <tr>\n",
       "      <th>167</th>\n",
       "      <th>10 mm Anti static bubble wrap (Blue) 50m</th>\n",
       "      <td>1119</td>\n",
       "    </tr>\n",
       "    <tr>\n",
       "      <th>13</th>\n",
       "      <th>USB food flash drive - shrimp cocktail</th>\n",
       "      <td>1117</td>\n",
       "    </tr>\n",
       "    <tr>\n",
       "      <th>88</th>\n",
       "      <th>\"The Gu\" red shirt XML tag t-shirt (White) 7XL</th>\n",
       "      <td>1110</td>\n",
       "    </tr>\n",
       "    <tr>\n",
       "      <th>...</th>\n",
       "      <th>...</th>\n",
       "      <td>...</td>\n",
       "    </tr>\n",
       "    <tr>\n",
       "      <th>221</th>\n",
       "      <th>Novelty chilli chocolates 500g</th>\n",
       "      <td>130</td>\n",
       "    </tr>\n",
       "    <tr>\n",
       "      <th>225</th>\n",
       "      <th>Chocolate sharks 250g</th>\n",
       "      <td>126</td>\n",
       "    </tr>\n",
       "    <tr>\n",
       "      <th>224</th>\n",
       "      <th>Chocolate frogs 250g</th>\n",
       "      <td>117</td>\n",
       "    </tr>\n",
       "    <tr>\n",
       "      <th>227</th>\n",
       "      <th>White chocolate moon rocks 250g</th>\n",
       "      <td>117</td>\n",
       "    </tr>\n",
       "    <tr>\n",
       "      <th>223</th>\n",
       "      <th>Chocolate echidnas 250g</th>\n",
       "      <td>115</td>\n",
       "    </tr>\n",
       "  </tbody>\n",
       "</table>\n",
       "<p>227 rows × 1 columns</p>\n",
       "</div>"
      ],
      "text/plain": [
       "                                                            InvoiceID\n",
       "StockItemID Description                                              \n",
       "120         Dinosaur battery-powered slippers (Green) L          1123\n",
       "104         Alien officer hoodie (Black) 3XL                     1123\n",
       "167         10 mm Anti static bubble wrap (Blue) 50m             1119\n",
       "13          USB food flash drive - shrimp cocktail               1117\n",
       "88          \"The Gu\" red shirt XML tag t-shirt (White) 7XL       1110\n",
       "...                                                               ...\n",
       "221         Novelty chilli chocolates 500g                        130\n",
       "225         Chocolate sharks 250g                                 126\n",
       "224         Chocolate frogs 250g                                  117\n",
       "227         White chocolate moon rocks 250g                       117\n",
       "223         Chocolate echidnas 250g                               115\n",
       "\n",
       "[227 rows x 1 columns]"
      ]
     },
     "execution_count": 73,
     "metadata": {},
     "output_type": "execute_result"
    }
   ],
   "source": [
    "df.groupby(['StockItemID', 'Description']).agg({'InvoiceID': 'count'}).sort_values(by='InvoiceID', ascending=False)"
   ]
  },
  {
   "cell_type": "markdown",
   "id": "69034b30-f516-43da-8a56-947328434146",
   "metadata": {},
   "source": [
    "```\n",
    "The most frequently ordered products are \"Dinosaur battery-powered slippers (Green) L\" and \"Alien officer hoodie (Black) 3XL\".\n",
    "```"
   ]
  },
  {
   "cell_type": "markdown",
   "id": "fae4c3b1-8a0c-400e-ab9d-223b5c138ae0",
   "metadata": {},
   "source": [
    "---\n",
    "##### Question 10: Which product (`Description`) is the least frequently ordered product?\n",
    "Answer the question below."
   ]
  },
  {
   "cell_type": "code",
   "execution_count": 74,
   "id": "3d1e95d3-f031-4fb2-9be5-ee71304f1baf",
   "metadata": {},
   "outputs": [
    {
     "data": {
      "text/html": [
       "<div>\n",
       "<style scoped>\n",
       "    .dataframe tbody tr th:only-of-type {\n",
       "        vertical-align: middle;\n",
       "    }\n",
       "\n",
       "    .dataframe tbody tr th {\n",
       "        vertical-align: top;\n",
       "    }\n",
       "\n",
       "    .dataframe thead th {\n",
       "        text-align: right;\n",
       "    }\n",
       "</style>\n",
       "<table border=\"1\" class=\"dataframe\">\n",
       "  <thead>\n",
       "    <tr style=\"text-align: right;\">\n",
       "      <th></th>\n",
       "      <th></th>\n",
       "      <th>InvoiceID</th>\n",
       "    </tr>\n",
       "    <tr>\n",
       "      <th>StockItemID</th>\n",
       "      <th>Description</th>\n",
       "      <th></th>\n",
       "    </tr>\n",
       "  </thead>\n",
       "  <tbody>\n",
       "    <tr>\n",
       "      <th>223</th>\n",
       "      <th>Chocolate echidnas 250g</th>\n",
       "      <td>115</td>\n",
       "    </tr>\n",
       "    <tr>\n",
       "      <th>227</th>\n",
       "      <th>White chocolate moon rocks 250g</th>\n",
       "      <td>117</td>\n",
       "    </tr>\n",
       "    <tr>\n",
       "      <th>224</th>\n",
       "      <th>Chocolate frogs 250g</th>\n",
       "      <td>117</td>\n",
       "    </tr>\n",
       "    <tr>\n",
       "      <th>225</th>\n",
       "      <th>Chocolate sharks 250g</th>\n",
       "      <td>126</td>\n",
       "    </tr>\n",
       "    <tr>\n",
       "      <th>221</th>\n",
       "      <th>Novelty chilli chocolates 500g</th>\n",
       "      <td>130</td>\n",
       "    </tr>\n",
       "    <tr>\n",
       "      <th>...</th>\n",
       "      <th>...</th>\n",
       "      <td>...</td>\n",
       "    </tr>\n",
       "    <tr>\n",
       "      <th>88</th>\n",
       "      <th>\"The Gu\" red shirt XML tag t-shirt (White) 7XL</th>\n",
       "      <td>1110</td>\n",
       "    </tr>\n",
       "    <tr>\n",
       "      <th>13</th>\n",
       "      <th>USB food flash drive - shrimp cocktail</th>\n",
       "      <td>1117</td>\n",
       "    </tr>\n",
       "    <tr>\n",
       "      <th>167</th>\n",
       "      <th>10 mm Anti static bubble wrap (Blue) 50m</th>\n",
       "      <td>1119</td>\n",
       "    </tr>\n",
       "    <tr>\n",
       "      <th>120</th>\n",
       "      <th>Dinosaur battery-powered slippers (Green) L</th>\n",
       "      <td>1123</td>\n",
       "    </tr>\n",
       "    <tr>\n",
       "      <th>104</th>\n",
       "      <th>Alien officer hoodie (Black) 3XL</th>\n",
       "      <td>1123</td>\n",
       "    </tr>\n",
       "  </tbody>\n",
       "</table>\n",
       "<p>227 rows × 1 columns</p>\n",
       "</div>"
      ],
      "text/plain": [
       "                                                            InvoiceID\n",
       "StockItemID Description                                              \n",
       "223         Chocolate echidnas 250g                               115\n",
       "227         White chocolate moon rocks 250g                       117\n",
       "224         Chocolate frogs 250g                                  117\n",
       "225         Chocolate sharks 250g                                 126\n",
       "221         Novelty chilli chocolates 500g                        130\n",
       "...                                                               ...\n",
       "88          \"The Gu\" red shirt XML tag t-shirt (White) 7XL       1110\n",
       "13          USB food flash drive - shrimp cocktail               1117\n",
       "167         10 mm Anti static bubble wrap (Blue) 50m             1119\n",
       "120         Dinosaur battery-powered slippers (Green) L          1123\n",
       "104         Alien officer hoodie (Black) 3XL                     1123\n",
       "\n",
       "[227 rows x 1 columns]"
      ]
     },
     "execution_count": 74,
     "metadata": {},
     "output_type": "execute_result"
    }
   ],
   "source": [
    "df.groupby(['StockItemID', 'Description']).agg({'InvoiceID': 'count'}).sort_values(by='InvoiceID', ascending=True)"
   ]
  },
  {
   "cell_type": "markdown",
   "id": "d3fdc9d3-0f3b-4910-88ea-a197e20c54de",
   "metadata": {},
   "source": [
    "```\n",
    "\"Chocolate echidnas 250g\" are the least frequently ordered product.\n",
    "```"
   ]
  },
  {
   "cell_type": "markdown",
   "id": "9648d604-0afb-42c6-937d-d3bebe3d7adc",
   "metadata": {},
   "source": [
    "---\n",
    "##### Question 11: Create a new column called `ProfitRatio`\n",
    "You can calculate the `ProfitRatio` by using the following formula:\n",
    "$$ ProfitRatio = \\frac{LineProfit}{UnitPrice*Quantity} $$"
   ]
  },
  {
   "cell_type": "code",
   "execution_count": 75,
   "id": "bff239b6-7f42-43fe-b341-43cab3eadd54",
   "metadata": {},
   "outputs": [],
   "source": [
    "df['ProfitRatio'] = df['LineProfit'] / (df['UnitPrice'] * df['Quantity'])"
   ]
  },
  {
   "cell_type": "markdown",
   "id": "c583c9e6-fc6e-4c7a-887a-82eb9270a1f8",
   "metadata": {},
   "source": [
    "```\n",
    "You don't need to write anything to answer this question.\n",
    "```"
   ]
  },
  {
   "cell_type": "markdown",
   "id": "2c70199b-158d-4c52-a19e-d2ac81fe57f9",
   "metadata": {},
   "source": [
    "---\n",
    "##### Question 12: Which product (`Description`) has the highest average `ProfitRatio`?\n",
    "Answer the question below."
   ]
  },
  {
   "cell_type": "code",
   "execution_count": 76,
   "id": "edff68ad-9051-4ff7-b8f9-43eaf8f22e32",
   "metadata": {},
   "outputs": [
    {
     "data": {
      "text/html": [
       "<div>\n",
       "<style scoped>\n",
       "    .dataframe tbody tr th:only-of-type {\n",
       "        vertical-align: middle;\n",
       "    }\n",
       "\n",
       "    .dataframe tbody tr th {\n",
       "        vertical-align: top;\n",
       "    }\n",
       "\n",
       "    .dataframe thead th {\n",
       "        text-align: right;\n",
       "    }\n",
       "</style>\n",
       "<table border=\"1\" class=\"dataframe\">\n",
       "  <thead>\n",
       "    <tr style=\"text-align: right;\">\n",
       "      <th></th>\n",
       "      <th></th>\n",
       "      <th>ProfitRatio</th>\n",
       "    </tr>\n",
       "    <tr>\n",
       "      <th>StockItemID</th>\n",
       "      <th>Description</th>\n",
       "      <th></th>\n",
       "    </tr>\n",
       "  </thead>\n",
       "  <tbody>\n",
       "    <tr>\n",
       "      <th>161</th>\n",
       "      <th>20 mm Double sided bubble wrap 50m</th>\n",
       "      <td>0.851852</td>\n",
       "    </tr>\n",
       "    <tr>\n",
       "      <th>118</th>\n",
       "      <th>Dinosaur battery-powered slippers (Green) S</th>\n",
       "      <td>0.750000</td>\n",
       "    </tr>\n",
       "    <tr>\n",
       "      <th>135</th>\n",
       "      <th>Animal with big feet slippers (Brown) M</th>\n",
       "      <td>0.750000</td>\n",
       "    </tr>\n",
       "    <tr>\n",
       "      <th>134</th>\n",
       "      <th>Animal with big feet slippers (Brown) S</th>\n",
       "      <td>0.750000</td>\n",
       "    </tr>\n",
       "    <tr>\n",
       "      <th>132</th>\n",
       "      <th>Furry gorilla with big eyes slippers (Black) L</th>\n",
       "      <td>0.750000</td>\n",
       "    </tr>\n",
       "    <tr>\n",
       "      <th>...</th>\n",
       "      <th>...</th>\n",
       "      <td>...</td>\n",
       "    </tr>\n",
       "    <tr>\n",
       "      <th>149</th>\n",
       "      <th>Halloween skull mask (Gray) XL</th>\n",
       "      <td>0.166667</td>\n",
       "    </tr>\n",
       "    <tr>\n",
       "      <th>142</th>\n",
       "      <th>Halloween zombie mask (Light Brown) S</th>\n",
       "      <td>-0.055556</td>\n",
       "    </tr>\n",
       "    <tr>\n",
       "      <th>143</th>\n",
       "      <th>Halloween zombie mask (Light Brown) M</th>\n",
       "      <td>-0.055556</td>\n",
       "    </tr>\n",
       "    <tr>\n",
       "      <th>144</th>\n",
       "      <th>Halloween zombie mask (Light Brown) L</th>\n",
       "      <td>-0.055556</td>\n",
       "    </tr>\n",
       "    <tr>\n",
       "      <th>145</th>\n",
       "      <th>Halloween zombie mask (Light Brown) XL</th>\n",
       "      <td>-0.055556</td>\n",
       "    </tr>\n",
       "  </tbody>\n",
       "</table>\n",
       "<p>227 rows × 1 columns</p>\n",
       "</div>"
      ],
      "text/plain": [
       "                                                            ProfitRatio\n",
       "StockItemID Description                                                \n",
       "161         20 mm Double sided bubble wrap 50m                 0.851852\n",
       "118         Dinosaur battery-powered slippers (Green) S        0.750000\n",
       "135         Animal with big feet slippers (Brown) M            0.750000\n",
       "134         Animal with big feet slippers (Brown) S            0.750000\n",
       "132         Furry gorilla with big eyes slippers (Black) L     0.750000\n",
       "...                                                                 ...\n",
       "149         Halloween skull mask (Gray) XL                     0.166667\n",
       "142         Halloween zombie mask (Light Brown) S             -0.055556\n",
       "143         Halloween zombie mask (Light Brown) M             -0.055556\n",
       "144         Halloween zombie mask (Light Brown) L             -0.055556\n",
       "145         Halloween zombie mask (Light Brown) XL            -0.055556\n",
       "\n",
       "[227 rows x 1 columns]"
      ]
     },
     "execution_count": 76,
     "metadata": {},
     "output_type": "execute_result"
    }
   ],
   "source": [
    "df.groupby(['StockItemID', 'Description']).agg({'ProfitRatio': 'mean'}).sort_values(by='ProfitRatio', ascending=False)"
   ]
  },
  {
   "cell_type": "markdown",
   "id": "18302433-a1db-4ad4-88e8-11a9961279d2",
   "metadata": {},
   "source": [
    "```\n",
    "The \"20 mm Double sided bubble wrap 50m\" has the highest `ProfitRatio`.\n",
    "```"
   ]
  },
  {
   "cell_type": "markdown",
   "id": "ce8b6fcf-cebb-46e9-a79d-f4ed4c605f02",
   "metadata": {},
   "source": [
    "---\n",
    "##### Question 13: Create a new column called `Year`\n",
    "You can find the year in the `LastEditedWhen` column."
   ]
  },
  {
   "cell_type": "code",
   "execution_count": 77,
   "id": "c8f2d9ee-4425-4d17-9e03-3b93983ca4a9",
   "metadata": {},
   "outputs": [],
   "source": [
    "df['Year'] = df['LastEditedWhen'].str[:4].astype('int16')"
   ]
  },
  {
   "cell_type": "markdown",
   "id": "1d0b8027-0252-4611-8c9c-1c24ff6e923d",
   "metadata": {},
   "source": [
    "```\n",
    "You don't need to write anything here to answer this question.\n",
    "```"
   ]
  },
  {
   "cell_type": "markdown",
   "id": "dbfca248-00cb-4e64-919d-9d48863b86da",
   "metadata": {},
   "source": [
    "---\n",
    "##### Question 14: Which year had the highest total `ExtendedPrice`?\n",
    "Answer the question below."
   ]
  },
  {
   "cell_type": "code",
   "execution_count": 78,
   "id": "ad0b237d-ea78-449c-b869-ca277c9d5185",
   "metadata": {},
   "outputs": [
    {
     "data": {
      "text/html": [
       "<div>\n",
       "<style scoped>\n",
       "    .dataframe tbody tr th:only-of-type {\n",
       "        vertical-align: middle;\n",
       "    }\n",
       "\n",
       "    .dataframe tbody tr th {\n",
       "        vertical-align: top;\n",
       "    }\n",
       "\n",
       "    .dataframe thead th {\n",
       "        text-align: right;\n",
       "    }\n",
       "</style>\n",
       "<table border=\"1\" class=\"dataframe\">\n",
       "  <thead>\n",
       "    <tr style=\"text-align: right;\">\n",
       "      <th></th>\n",
       "      <th>ExtendedPrice</th>\n",
       "    </tr>\n",
       "    <tr>\n",
       "      <th>Year</th>\n",
       "      <th></th>\n",
       "    </tr>\n",
       "  </thead>\n",
       "  <tbody>\n",
       "    <tr>\n",
       "      <th>2015</th>\n",
       "      <td>62090220.81</td>\n",
       "    </tr>\n",
       "    <tr>\n",
       "      <th>2014</th>\n",
       "      <td>57418916.89</td>\n",
       "    </tr>\n",
       "    <tr>\n",
       "      <th>2013</th>\n",
       "      <td>52563272.64</td>\n",
       "    </tr>\n",
       "    <tr>\n",
       "      <th>2016</th>\n",
       "      <td>25971029.11</td>\n",
       "    </tr>\n",
       "  </tbody>\n",
       "</table>\n",
       "</div>"
      ],
      "text/plain": [
       "      ExtendedPrice\n",
       "Year               \n",
       "2015    62090220.81\n",
       "2014    57418916.89\n",
       "2013    52563272.64\n",
       "2016    25971029.11"
      ]
     },
     "execution_count": 78,
     "metadata": {},
     "output_type": "execute_result"
    }
   ],
   "source": [
    "df.groupby('Year').agg({'ExtendedPrice':'sum'}).sort_values(by='ExtendedPrice', ascending=False)"
   ]
  },
  {
   "cell_type": "markdown",
   "id": "2a160f12-7399-45ee-ad69-1488fc50bb00",
   "metadata": {},
   "source": [
    "```\n",
    "The year with the highest total `ExtendedPrice` was 2015.\n",
    "```"
   ]
  },
  {
   "cell_type": "markdown",
   "id": "0581135b-6288-4b8b-b628-57bf5159336c",
   "metadata": {},
   "source": [
    "---\n",
    "##### Question 15: Create a new column called `Color`.\n",
    "You can use the regular expression `\\(([A-Z]\\w+)\\)` to extract the color from the `Description` column."
   ]
  },
  {
   "cell_type": "code",
   "execution_count": 79,
   "id": "8b7a8948-ef1a-4722-996d-eb9bb8d02299",
   "metadata": {},
   "outputs": [],
   "source": [
    "df['Color'] = df['Description'].str.extract(\"\\(([A-Z]\\w+)\\)\")"
   ]
  },
  {
   "cell_type": "markdown",
   "id": "455de11d-be87-4e03-9365-81b1f83f2b2e",
   "metadata": {},
   "source": [
    "```\n",
    "You don't need to write anything here to answer this question.\n",
    "```"
   ]
  },
  {
   "cell_type": "markdown",
   "id": "beee5c8d-819f-40f3-aa34-71b8e29e9f89",
   "metadata": {},
   "source": [
    "---\n",
    "##### Question 16: Which is the most highly sold (total `Quantity`) color among all products?\n",
    "Answer the question below."
   ]
  },
  {
   "cell_type": "code",
   "execution_count": 80,
   "id": "34b640b6-5a77-4d0f-aed4-667a873118d2",
   "metadata": {},
   "outputs": [
    {
     "data": {
      "text/html": [
       "<div>\n",
       "<style scoped>\n",
       "    .dataframe tbody tr th:only-of-type {\n",
       "        vertical-align: middle;\n",
       "    }\n",
       "\n",
       "    .dataframe tbody tr th {\n",
       "        vertical-align: top;\n",
       "    }\n",
       "\n",
       "    .dataframe thead th {\n",
       "        text-align: right;\n",
       "    }\n",
       "</style>\n",
       "<table border=\"1\" class=\"dataframe\">\n",
       "  <thead>\n",
       "    <tr style=\"text-align: right;\">\n",
       "      <th></th>\n",
       "      <th>Quantity</th>\n",
       "    </tr>\n",
       "    <tr>\n",
       "      <th>Color</th>\n",
       "      <th></th>\n",
       "    </tr>\n",
       "  </thead>\n",
       "  <tbody>\n",
       "    <tr>\n",
       "      <th>Brown</th>\n",
       "      <td>1435887</td>\n",
       "    </tr>\n",
       "    <tr>\n",
       "      <th>White</th>\n",
       "      <td>1401803</td>\n",
       "    </tr>\n",
       "    <tr>\n",
       "      <th>Black</th>\n",
       "      <td>1224921</td>\n",
       "    </tr>\n",
       "    <tr>\n",
       "      <th>Blue</th>\n",
       "      <td>741435</td>\n",
       "    </tr>\n",
       "    <tr>\n",
       "      <th>Gray</th>\n",
       "      <td>309847</td>\n",
       "    </tr>\n",
       "    <tr>\n",
       "      <th>Pink</th>\n",
       "      <td>290436</td>\n",
       "    </tr>\n",
       "    <tr>\n",
       "      <th>Red</th>\n",
       "      <td>121807</td>\n",
       "    </tr>\n",
       "    <tr>\n",
       "      <th>Yellow</th>\n",
       "      <td>68942</td>\n",
       "    </tr>\n",
       "    <tr>\n",
       "      <th>Green</th>\n",
       "      <td>65023</td>\n",
       "    </tr>\n",
       "  </tbody>\n",
       "</table>\n",
       "</div>"
      ],
      "text/plain": [
       "        Quantity\n",
       "Color           \n",
       "Brown    1435887\n",
       "White    1401803\n",
       "Black    1224921\n",
       "Blue      741435\n",
       "Gray      309847\n",
       "Pink      290436\n",
       "Red       121807\n",
       "Yellow     68942\n",
       "Green      65023"
      ]
     },
     "execution_count": 80,
     "metadata": {},
     "output_type": "execute_result"
    }
   ],
   "source": [
    "df.groupby('Color').agg({'Quantity':'sum'}).sort_values(by='Quantity', ascending=False)"
   ]
  },
  {
   "cell_type": "markdown",
   "id": "a062dd16-1214-4445-a936-c16a4ece271d",
   "metadata": {},
   "source": [
    "```\n",
    "The most highly sold color among all products is Brown.\n",
    "```"
   ]
  },
  {
   "cell_type": "markdown",
   "id": "0ed94715-93d0-4717-b78a-567b3f99d386",
   "metadata": {},
   "source": [
    "---\n",
    "##### Question 17: Create a filtered dataframe called `slippers_df` that includes rows with the word \"slipper\" in the `Description`\n",
    "Create the variable below."
   ]
  },
  {
   "cell_type": "code",
   "execution_count": 81,
   "id": "56fab05f-0afb-4047-8140-79d9cc9a3d87",
   "metadata": {},
   "outputs": [],
   "source": [
    "slippers_df = df.loc[df['Description'].str.contains('slipper')]"
   ]
  },
  {
   "cell_type": "markdown",
   "id": "bfe8e7d0-c4c5-4876-925a-bd5893cc085d",
   "metadata": {},
   "source": [
    "```\n",
    "You don't need to write anything here to answer this question.\n",
    "```"
   ]
  },
  {
   "cell_type": "markdown",
   "id": "52b3020b-c691-4ae0-87dc-a36cec5efb7f",
   "metadata": {},
   "source": [
    "---\n",
    "##### Question 18: Create a new column called `Size` for `slippers_df`\n",
    "You can use the regular expression `\\s([A-Z]+)$` to extract the size from the `Description` column.\n",
    "\n",
    "If you get a `SettingWithCopyWarning`, you can ignore it."
   ]
  },
  {
   "cell_type": "code",
   "execution_count": 82,
   "id": "2d24f0ad-338d-48e8-ada9-dc81b99b5d15",
   "metadata": {},
   "outputs": [
    {
     "name": "stderr",
     "output_type": "stream",
     "text": [
      "C:\\Users\\HaydenH\\AppData\\Local\\Temp\\ipykernel_14796\\3604956404.py:1: SettingWithCopyWarning: \n",
      "A value is trying to be set on a copy of a slice from a DataFrame.\n",
      "Try using .loc[row_indexer,col_indexer] = value instead\n",
      "\n",
      "See the caveats in the documentation: https://pandas.pydata.org/pandas-docs/stable/user_guide/indexing.html#returning-a-view-versus-a-copy\n",
      "  slippers_df['Size'] = slippers_df['Description'].str.extract(\"\\s([A-Z]+)$\")\n"
     ]
    }
   ],
   "source": [
    "slippers_df['Size'] = slippers_df['Description'].str.extract(\"\\s([A-Z]+)$\")"
   ]
  },
  {
   "cell_type": "markdown",
   "id": "80c8903f-4e82-49bc-9300-5a7feeb32fa2",
   "metadata": {},
   "source": [
    "```\n",
    "You don't need to write anything here to answer this question.\n",
    "```"
   ]
  },
  {
   "cell_type": "markdown",
   "id": "916b9e98-7461-447e-b33c-3d3b920271c7",
   "metadata": {},
   "source": [
    "---\n",
    "##### Question 19: What is the most popular size and color of slipper by total Quantity?\n",
    "Answer the question below."
   ]
  },
  {
   "cell_type": "code",
   "execution_count": 88,
   "id": "8ae10449-c8b3-4ba4-9f5b-6518ce2c4024",
   "metadata": {},
   "outputs": [
    {
     "data": {
      "text/html": [
       "<div>\n",
       "<style scoped>\n",
       "    .dataframe tbody tr th:only-of-type {\n",
       "        vertical-align: middle;\n",
       "    }\n",
       "\n",
       "    .dataframe tbody tr th {\n",
       "        vertical-align: top;\n",
       "    }\n",
       "\n",
       "    .dataframe thead th {\n",
       "        text-align: right;\n",
       "    }\n",
       "</style>\n",
       "<table border=\"1\" class=\"dataframe\">\n",
       "  <thead>\n",
       "    <tr style=\"text-align: right;\">\n",
       "      <th></th>\n",
       "      <th></th>\n",
       "      <th>Quantity</th>\n",
       "    </tr>\n",
       "    <tr>\n",
       "      <th>Color</th>\n",
       "      <th>Size</th>\n",
       "      <th></th>\n",
       "    </tr>\n",
       "  </thead>\n",
       "  <tbody>\n",
       "    <tr>\n",
       "      <th rowspan=\"4\" valign=\"top\">Green</th>\n",
       "      <th>L</th>\n",
       "      <td>12060</td>\n",
       "    </tr>\n",
       "    <tr>\n",
       "      <th>M</th>\n",
       "      <td>11973</td>\n",
       "    </tr>\n",
       "    <tr>\n",
       "      <th>XL</th>\n",
       "      <td>11839</td>\n",
       "    </tr>\n",
       "    <tr>\n",
       "      <th>S</th>\n",
       "      <td>11767</td>\n",
       "    </tr>\n",
       "    <tr>\n",
       "      <th>Brown</th>\n",
       "      <th>XL</th>\n",
       "      <td>6048</td>\n",
       "    </tr>\n",
       "    <tr>\n",
       "      <th rowspan=\"2\" valign=\"top\">Black</th>\n",
       "      <th>L</th>\n",
       "      <td>5943</td>\n",
       "    </tr>\n",
       "    <tr>\n",
       "      <th>S</th>\n",
       "      <td>5816</td>\n",
       "    </tr>\n",
       "    <tr>\n",
       "      <th>Gray</th>\n",
       "      <th>XL</th>\n",
       "      <td>5814</td>\n",
       "    </tr>\n",
       "    <tr>\n",
       "      <th>Black</th>\n",
       "      <th>M</th>\n",
       "      <td>5798</td>\n",
       "    </tr>\n",
       "    <tr>\n",
       "      <th>Brown</th>\n",
       "      <th>L</th>\n",
       "      <td>5785</td>\n",
       "    </tr>\n",
       "    <tr>\n",
       "      <th>Black</th>\n",
       "      <th>XL</th>\n",
       "      <td>5782</td>\n",
       "    </tr>\n",
       "    <tr>\n",
       "      <th>Gray</th>\n",
       "      <th>M</th>\n",
       "      <td>5702</td>\n",
       "    </tr>\n",
       "    <tr>\n",
       "      <th>Brown</th>\n",
       "      <th>S</th>\n",
       "      <td>5654</td>\n",
       "    </tr>\n",
       "    <tr>\n",
       "      <th>Gray</th>\n",
       "      <th>S</th>\n",
       "      <td>5648</td>\n",
       "    </tr>\n",
       "    <tr>\n",
       "      <th>Brown</th>\n",
       "      <th>M</th>\n",
       "      <td>5625</td>\n",
       "    </tr>\n",
       "    <tr>\n",
       "      <th>Gray</th>\n",
       "      <th>L</th>\n",
       "      <td>5607</td>\n",
       "    </tr>\n",
       "  </tbody>\n",
       "</table>\n",
       "</div>"
      ],
      "text/plain": [
       "            Quantity\n",
       "Color Size          \n",
       "Green L        12060\n",
       "      M        11973\n",
       "      XL       11839\n",
       "      S        11767\n",
       "Brown XL        6048\n",
       "Black L         5943\n",
       "      S         5816\n",
       "Gray  XL        5814\n",
       "Black M         5798\n",
       "Brown L         5785\n",
       "Black XL        5782\n",
       "Gray  M         5702\n",
       "Brown S         5654\n",
       "Gray  S         5648\n",
       "Brown M         5625\n",
       "Gray  L         5607"
      ]
     },
     "execution_count": 88,
     "metadata": {},
     "output_type": "execute_result"
    }
   ],
   "source": [
    "slippers_df.groupby(['Color', 'Size']).agg({'Quantity': 'sum'}).sort_values(by='Quantity', ascending=False)"
   ]
  },
  {
   "cell_type": "markdown",
   "id": "6633a23b-c0e3-45a0-8f60-0feccb64e3ba",
   "metadata": {},
   "source": [
    "```\n",
    "The most popular slippers are green ones in size L.\n",
    "```"
   ]
  },
  {
   "cell_type": "markdown",
   "id": "89dcb57e-0b1a-4081-86ef-0e0d98db5591",
   "metadata": {},
   "source": [
    "---\n",
    "##### Question 20: Which size of slippers has the lowest `ProfitRatio`?\n",
    "Answer the question below."
   ]
  },
  {
   "cell_type": "code",
   "execution_count": 91,
   "id": "87a12637-ab09-4480-8d73-e2d51485a36c",
   "metadata": {},
   "outputs": [
    {
     "data": {
      "text/html": [
       "<div>\n",
       "<style scoped>\n",
       "    .dataframe tbody tr th:only-of-type {\n",
       "        vertical-align: middle;\n",
       "    }\n",
       "\n",
       "    .dataframe tbody tr th {\n",
       "        vertical-align: top;\n",
       "    }\n",
       "\n",
       "    .dataframe thead th {\n",
       "        text-align: right;\n",
       "    }\n",
       "</style>\n",
       "<table border=\"1\" class=\"dataframe\">\n",
       "  <thead>\n",
       "    <tr style=\"text-align: right;\">\n",
       "      <th></th>\n",
       "      <th>ProfitRatio</th>\n",
       "    </tr>\n",
       "    <tr>\n",
       "      <th>Size</th>\n",
       "      <th></th>\n",
       "    </tr>\n",
       "  </thead>\n",
       "  <tbody>\n",
       "    <tr>\n",
       "      <th>XL</th>\n",
       "      <td>0.734375</td>\n",
       "    </tr>\n",
       "    <tr>\n",
       "      <th>L</th>\n",
       "      <td>0.750000</td>\n",
       "    </tr>\n",
       "    <tr>\n",
       "      <th>M</th>\n",
       "      <td>0.750000</td>\n",
       "    </tr>\n",
       "    <tr>\n",
       "      <th>S</th>\n",
       "      <td>0.750000</td>\n",
       "    </tr>\n",
       "  </tbody>\n",
       "</table>\n",
       "</div>"
      ],
      "text/plain": [
       "      ProfitRatio\n",
       "Size             \n",
       "XL       0.734375\n",
       "L        0.750000\n",
       "M        0.750000\n",
       "S        0.750000"
      ]
     },
     "execution_count": 91,
     "metadata": {},
     "output_type": "execute_result"
    }
   ],
   "source": [
    "slippers_df.groupby('Size').agg({'ProfitRatio':'mean'}).sort_values(by='ProfitRatio')"
   ]
  },
  {
   "cell_type": "markdown",
   "id": "add79b74-a79f-485e-8163-5e03084c17a2",
   "metadata": {},
   "source": [
    "```\n",
    "Slippers in size XL have the lowest profit ratio.\n",
    "```"
   ]
  }
 ],
 "metadata": {
  "kernelspec": {
   "display_name": "Python 3 (ipykernel)",
   "language": "python",
   "name": "python3"
  },
  "language_info": {
   "codemirror_mode": {
    "name": "ipython",
    "version": 3
   },
   "file_extension": ".py",
   "mimetype": "text/x-python",
   "name": "python",
   "nbconvert_exporter": "python",
   "pygments_lexer": "ipython3",
   "version": "3.10.2"
  }
 },
 "nbformat": 4,
 "nbformat_minor": 5
}
