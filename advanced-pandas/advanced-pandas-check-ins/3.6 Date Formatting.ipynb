{
 "cells": [
  {
   "cell_type": "markdown",
   "id": "07dcb44e-4e76-4454-bdc9-b6fe479eed62",
   "metadata": {},
   "source": [
    "# 3.6 Date Formatting\n",
    "\n",
    "Working with dates in Pandas can be slightly tricky at first, but is often essential in data analysis. Pandas often interprets date fields as strings, but by assigning the column a data type of *datetime*, they obtain access to additional methods that can improve analysis. For example, the analyst can extract the month number or number of days since a date, which can show the change of data over time.\n",
    "\n",
    "### About the data\n",
    "Since the *Titanic* data set does not contain date fields, it is not used in this notebook. Instead, this notebook contains data showing earthquake occurenecs in Greece."
   ]
  },
  {
   "cell_type": "code",
   "execution_count": 2,
   "id": "a0eacf34-e0a6-4f04-b025-51b543662363",
   "metadata": {},
   "outputs": [],
   "source": [
    "import pandas as pd\n",
    "df = pd.read_csv(\"./data/earthquakes.csv\")"
   ]
  },
  {
   "cell_type": "markdown",
   "id": "5829eb32-eddc-45c9-9f16-66e32eb0a982",
   "metadata": {},
   "source": [
    "Notice that there is a field \"DATETIME\" in this dataset. However, Pandas does not recognize this column as a datetime column but instead thinks that it's an `object` (string)."
   ]
  },
  {
   "cell_type": "code",
   "execution_count": 3,
   "id": "19e34850-9ea4-43b8-aed7-7110ff529a2e",
   "metadata": {},
   "outputs": [
    {
     "data": {
      "text/html": [
       "<div>\n",
       "<style scoped>\n",
       "    .dataframe tbody tr th:only-of-type {\n",
       "        vertical-align: middle;\n",
       "    }\n",
       "\n",
       "    .dataframe tbody tr th {\n",
       "        vertical-align: top;\n",
       "    }\n",
       "\n",
       "    .dataframe thead th {\n",
       "        text-align: right;\n",
       "    }\n",
       "</style>\n",
       "<table border=\"1\" class=\"dataframe\">\n",
       "  <thead>\n",
       "    <tr style=\"text-align: right;\">\n",
       "      <th></th>\n",
       "      <th>DATETIME</th>\n",
       "      <th>LAT</th>\n",
       "      <th>LONG</th>\n",
       "      <th>DEPTH</th>\n",
       "      <th>MAGNITUDE</th>\n",
       "    </tr>\n",
       "  </thead>\n",
       "  <tbody>\n",
       "    <tr>\n",
       "      <th>0</th>\n",
       "      <td>1/7/1965 10:22</td>\n",
       "      <td>36.50</td>\n",
       "      <td>26.50</td>\n",
       "      <td>10</td>\n",
       "      <td>5.3</td>\n",
       "    </tr>\n",
       "    <tr>\n",
       "      <th>1</th>\n",
       "      <td>1/10/1965 8:02</td>\n",
       "      <td>39.25</td>\n",
       "      <td>22.25</td>\n",
       "      <td>10</td>\n",
       "      <td>4.9</td>\n",
       "    </tr>\n",
       "    <tr>\n",
       "      <th>2</th>\n",
       "      <td>1/12/1965 17:26</td>\n",
       "      <td>37.00</td>\n",
       "      <td>22.00</td>\n",
       "      <td>10</td>\n",
       "      <td>4.0</td>\n",
       "    </tr>\n",
       "    <tr>\n",
       "      <th>3</th>\n",
       "      <td>1/15/1965 14:56</td>\n",
       "      <td>36.75</td>\n",
       "      <td>21.75</td>\n",
       "      <td>10</td>\n",
       "      <td>4.5</td>\n",
       "    </tr>\n",
       "    <tr>\n",
       "      <th>4</th>\n",
       "      <td>3/9/1965 19:16</td>\n",
       "      <td>39.00</td>\n",
       "      <td>24.00</td>\n",
       "      <td>10</td>\n",
       "      <td>4.2</td>\n",
       "    </tr>\n",
       "  </tbody>\n",
       "</table>\n",
       "</div>"
      ],
      "text/plain": [
       "          DATETIME    LAT   LONG  DEPTH  MAGNITUDE\n",
       "0   1/7/1965 10:22  36.50  26.50     10        5.3\n",
       "1   1/10/1965 8:02  39.25  22.25     10        4.9\n",
       "2  1/12/1965 17:26  37.00  22.00     10        4.0\n",
       "3  1/15/1965 14:56  36.75  21.75     10        4.5\n",
       "4   3/9/1965 19:16  39.00  24.00     10        4.2"
      ]
     },
     "execution_count": 3,
     "metadata": {},
     "output_type": "execute_result"
    }
   ],
   "source": [
    "df.head()"
   ]
  },
  {
   "cell_type": "markdown",
   "id": "e5e56959-e58b-4f30-ab2f-72484a962530",
   "metadata": {},
   "source": [
    "Pandas does not think that `DATETIME` is a date, but instead thinks it is a string (Pandas calls strings \"objects\"). We can check the data type by using the `.dtype` property on the dataframe."
   ]
  },
  {
   "cell_type": "code",
   "execution_count": 4,
   "id": "e973eb7f-ce2d-4b28-a343-1840f51a1add",
   "metadata": {},
   "outputs": [
    {
     "data": {
      "text/plain": [
       "DATETIME      object\n",
       "LAT          float64\n",
       "LONG         float64\n",
       "DEPTH          int64\n",
       "MAGNITUDE    float64\n",
       "dtype: object"
      ]
     },
     "execution_count": 4,
     "metadata": {},
     "output_type": "execute_result"
    }
   ],
   "source": [
    "df.dtypes"
   ]
  },
  {
   "cell_type": "markdown",
   "id": "32e5bb08-ef7a-45ff-8f15-dac35313b32d",
   "metadata": {},
   "source": [
    "The difference between the data type `object` and `datetime` is very important. Strings indicate that the data is textual and have their own methods for data analysis in Pandas. For example, we can find the length of a string, see if another string is contained in a string, and split up a string on a specific set of characters to create additional dimensions for the data set.\n",
    "\n",
    "Date times have their own set of methods. When a date is converted from a string into a datetime, it allows special Pandas datetime methods to be applied to it. These datetime methods allow aggregation by date to occur much more easily than would otherwise be possible, and makes it especially easy to analyze data where the date or time is important.\n",
    "\n",
    "For example, without converting the `DATETIME` column above into a `datetime` column, we could still probably use string methods to split the data up into columns that represent the year, month, day, hour, minute, and second. However, adding new columns could decrease processing efficiency for a large dataset and would require a lot more code to create. You would also have to convert each of those created columns to integer fields before grouping them together.\n",
    "\n",
    "The other option is to simply convert the column to data type `datetime`. Below we will explore how to do this."
   ]
  },
  {
   "cell_type": "markdown",
   "id": "ee61aa06-69f5-43a1-8305-d57b2699dd76",
   "metadata": {},
   "source": [
    "### Casting a column to a datetime type\n",
    "We can use the `to_datetime()` function to cast all of the values in a column to a datetime type. However, Pandas needs to know how each of the numbers in the column correspond to date parts. In other words, is it \"day/month/year\" or \"month/day/year\"?\n",
    "\n",
    "The `to_datetime()` funtion is a **Pandas function** (not a dataframe method) that can accept a Series object.\n",
    "\n",
    "We can pass in a [Python format code](https://docs.python.org/3/library/datetime.html#strftime-and-strptime-behavior) to tell Pandas how to interpret the date. The formatting codes aren't something you need to memorize, but you should keep them handy for future reference (remember that you can find them online and look them up when you need them). Each code represents a part of the date. For example, `%B` would indicate a full month name (ie. January) whereas `%Y` indicates a full year (ie. 2023).\n",
    "\n",
    "Many times, especially when using CSV and Excel files, Pandas is able to automatically interpret the datetime field and a Python format code isn't necessary. Thus, many times, you only need to pass in the Series that you want to convert to a datetime.\n",
    "\n",
    "In the code below, we call the Pandas function `to_datetime()` and pass in two arguments. The first one is a Series object that contains strings that we want to turn into dates, and the second is a string that contains Python format codes. The `%m` denotes a two digit month, the `%d` a two digit day of month, the `%Y` a four digit year, the `%H` a two digit hour, and the `%M` a two digit minute value.\n",
    "\n",
    "We then save the Series created by the `to_datetime()` function back to the `DATETIME` column."
   ]
  },
  {
   "cell_type": "code",
   "execution_count": 5,
   "id": "4befb425-5352-42d3-8d08-cfcb1200c735",
   "metadata": {},
   "outputs": [],
   "source": [
    "df['DATETIME'] = pd.to_datetime(df['DATETIME'], format=\"%m/%d/%Y %H:%M\")"
   ]
  },
  {
   "cell_type": "markdown",
   "id": "c3dd4eb9-881d-4090-90f0-0852b8331b3a",
   "metadata": {},
   "source": [
    "Now we can see that Pandas recognizes that the `DATETIME` column has a dtype of `datetime64`."
   ]
  },
  {
   "cell_type": "code",
   "execution_count": 6,
   "id": "ff6b95e0-ed2b-4b0e-8264-6665e14ec6bd",
   "metadata": {},
   "outputs": [
    {
     "data": {
      "text/plain": [
       "DATETIME     datetime64[ns]\n",
       "LAT                 float64\n",
       "LONG                float64\n",
       "DEPTH                 int64\n",
       "MAGNITUDE           float64\n",
       "dtype: object"
      ]
     },
     "execution_count": 6,
     "metadata": {},
     "output_type": "execute_result"
    }
   ],
   "source": [
    "df.dtypes"
   ]
  },
  {
   "cell_type": "markdown",
   "id": "164abcda-5dab-4580-a631-4a0248a9e51d",
   "metadata": {},
   "source": [
    "### Using datetime methods\n",
    "\n",
    "After creating or converting a column to a datetime type, you can use the `.dt` accessor object to get different properties of the Series object. For example, you could get the specific hour, day of week, minute, year, or day name. Note that the `.dt` accessor object uses both methods (which end in parentheses) and properties (which do not use parentheses). Note that these methods and properties can only be used on `Series` objects of `dtype=datetime`.\n",
    "\n",
    "To use the following methods and properties on a `Series` object, you must get a `Series` of `dtype=datetime`, use the accessor object `.dt`, and then use the desired method or property in the format `df['datetime_column'].dt.method()`.\n",
    "\n",
    "Each of the examples below shows the return value of the first row of the data set.\n",
    "\n",
    "| Method/Property | Description                                                                                                                                                                 |                                   Example                                   |   |   |\n",
    "|:---------------:|-----------------------------------------------------------------------------------------------------------------------------------------------------------------------------|-----------------------------------------------------------------------------|---|---|\n",
    "| `.second`       | Gets the second relative to the entire minute (ie. between 0 and 60)                                                                                                        | `df['DATETIME'].dt.second` # returns 0                                      |   |   |\n",
    "| `.minute`       | Gets the minute relative to the entire hour (ie. between 0 and 60)                                                                                                          | `df['DATETIME'].dt.minute` # returns 22                                     |   |   |\n",
    "| `.hour`         | Gets the hour relative to the entire day (ie. between 0 and 24)                                                                                                             | `df['DATETIME'].dt.hour` # returns 10                                       |   |   |\n",
    "| `.time`         | Gets only the time of the datetime in format hh:mm:ss (00:00:00)                                                                                                            | `df['DATETIME'].dt.time` # returns 10:22:00                                 |   |   |\n",
    "| `.day`          | Gets the day of the month (ie. from 1 to 31)                                                                                                                                | `df['DATETIME'].dt.day` # returns 7                                         |   |   |\n",
    "| `.day_of_year`  | Gets the day relative to the year (ie. from 1 to 365)                                                                                                                       | `df['DATETIME'].dt.day_of_year` # returns 7                                 |   |   |\n",
    "| `.day_of_week`  | Gets the day relative to the week (ie. from 1 to 7)                                                                                                                         | `df['DATETIME'].dt.day_of_week` # returns 3                                 |   |   |\n",
    "| `.day_name()`   | Returns the day of the week (ie. Monday, Tuesday)                                                                                                                           | `df['DATETIME'].dt.day_name()` # returns 'Thursday'                         |   |   |\n",
    "| `.month_name()` | Returns the month name (ie. January, February)                                                                                                                              | `df['DATETIME'].dt.month_name()` # returns 'January'                        |   |   |\n",
    "| `.normalize()`  | Changes the 'time' component of datetime fields to midnight (ie. 00:00:00). This is useful if time data is unnecessary and data needs to be grouped without regard to time. | `df['DATETIME'].dt.normalize()` # returns 1965-01-07 (doesn't include time) |   |   |"
   ]
  },
  {
   "cell_type": "markdown",
   "id": "3138fac1-84ab-4c6e-90e9-b2f290881864",
   "metadata": {},
   "source": [
    "For example, we can see the day of the month of each earthquake below."
   ]
  },
  {
   "cell_type": "code",
   "execution_count": 7,
   "id": "78d62c9b-f0d2-49d6-8f66-b83ebeec1265",
   "metadata": {},
   "outputs": [
    {
     "data": {
      "text/plain": [
       "0          7\n",
       "1         10\n",
       "2         12\n",
       "3         15\n",
       "4          9\n",
       "          ..\n",
       "251258    31\n",
       "251259    31\n",
       "251260    31\n",
       "251261    31\n",
       "251262    31\n",
       "Name: DATETIME, Length: 251263, dtype: int64"
      ]
     },
     "execution_count": 7,
     "metadata": {},
     "output_type": "execute_result"
    }
   ],
   "source": [
    "df['DATETIME'].dt.day"
   ]
  },
  {
   "cell_type": "markdown",
   "id": "6a52ed61-7445-4f72-84f1-de7823a70ba8",
   "metadata": {},
   "source": [
    "### Filtering a dataframe by date\n",
    "\n",
    "Much in the same way that normal filters are used, datetime fields can be used to filter data by year, month, day, day of week, or any other level of detail pertaining to datetime. We can get rows with dates occurring before, during, and after specific dates with the `<`, `==`, and `>` symbols just like in a regular `if` statement. However, because a `datetime` is not a `string`, we can't just pass in a string as the value to compare against:"
   ]
  },
  {
   "cell_type": "code",
   "execution_count": 8,
   "id": "20650497-5025-4d06-a2ce-3bda5b3181e7",
   "metadata": {},
   "outputs": [
    {
     "data": {
      "text/html": [
       "<div>\n",
       "<style scoped>\n",
       "    .dataframe tbody tr th:only-of-type {\n",
       "        vertical-align: middle;\n",
       "    }\n",
       "\n",
       "    .dataframe tbody tr th {\n",
       "        vertical-align: top;\n",
       "    }\n",
       "\n",
       "    .dataframe thead th {\n",
       "        text-align: right;\n",
       "    }\n",
       "</style>\n",
       "<table border=\"1\" class=\"dataframe\">\n",
       "  <thead>\n",
       "    <tr style=\"text-align: right;\">\n",
       "      <th></th>\n",
       "      <th>DATETIME</th>\n",
       "      <th>LAT</th>\n",
       "      <th>LONG</th>\n",
       "      <th>DEPTH</th>\n",
       "      <th>MAGNITUDE</th>\n",
       "    </tr>\n",
       "  </thead>\n",
       "  <tbody>\n",
       "  </tbody>\n",
       "</table>\n",
       "</div>"
      ],
      "text/plain": [
       "Empty DataFrame\n",
       "Columns: [DATETIME, LAT, LONG, DEPTH, MAGNITUDE]\n",
       "Index: []"
      ]
     },
     "execution_count": 8,
     "metadata": {},
     "output_type": "execute_result"
    }
   ],
   "source": [
    "filt = df['DATETIME'] == '1965-12-31'\n",
    "df.loc[ filt ] # No output because the 'DATETIME' column is type datetime and the comparison is just a string"
   ]
  },
  {
   "cell_type": "markdown",
   "id": "2a602d86-3ee0-4471-a464-2a6de1d46eff",
   "metadata": {},
   "source": [
    "To perform the comparison, we have to convert our string to a datetime. Datetimes are represented as strings when printed out but are actually different types on the inside and are thus incomparable.\n",
    "\n",
    "To convert a string to a datetime, we first need to import the `datetime` library from Python. This library allows us to convert strings to datetimes. There are many functions in the datetime library that we could use for datetime comparisons, but in this course, we will only import the `datetime()` function from the `datetime` library (yes, both library and function share the same name)."
   ]
  },
  {
   "cell_type": "code",
   "execution_count": 9,
   "id": "f971bca2-207e-4902-b4fd-29d637718361",
   "metadata": {},
   "outputs": [],
   "source": [
    "from datetime import datetime"
   ]
  },
  {
   "cell_type": "markdown",
   "id": "cda71410-b0fe-4a97-ac70-cda966490964",
   "metadata": {},
   "source": [
    "Using the `datetime()` function, we can convert strings to datetimes and use them in a filter. The `datetime()` function takes in many parameters depending on how precise the date needs to be, but the only three required parameters are year, month, and day. By passing in a year, a month, and a day to the `datetime()` function that we imported, we get a datetime object back that can be used to filter our dataframe.\n",
    "\n",
    "If only a year, month, and a day are provided, the hour, minute, and second values of the datetime default to 00:00:00."
   ]
  },
  {
   "cell_type": "code",
   "execution_count": 10,
   "id": "57cbd1a0-bf41-4d60-9657-433bb32f3ac4",
   "metadata": {},
   "outputs": [
    {
     "data": {
      "text/plain": [
       "datetime.datetime"
      ]
     },
     "execution_count": 10,
     "metadata": {},
     "output_type": "execute_result"
    }
   ],
   "source": [
    "date = datetime(1965, 12, 31)\n",
    "type(date)"
   ]
  },
  {
   "cell_type": "markdown",
   "id": "79c1c506-c46b-4c64-ae28-224f756e69c8",
   "metadata": {},
   "source": [
    "And when we print out the new datetime, we can see the year, month, and day followed by a couple of zeroes that represent the hour and minute (which we did not specify). Remember that although Python is showing us the datetime with letters, numbers, and symbols, the datetime is **not** a string. This means that we cannot even compare this datetime object to the string `\"datetime.datetime(1965, 12, 31, 0, 0)\"`. The datetime is simply represented as a string below so that we can understand it."
   ]
  },
  {
   "cell_type": "code",
   "execution_count": 11,
   "id": "715644e2-9863-4f3a-947f-8ec239fbb08e",
   "metadata": {},
   "outputs": [
    {
     "data": {
      "text/plain": [
       "datetime.datetime(1965, 12, 31, 0, 0)"
      ]
     },
     "execution_count": 11,
     "metadata": {},
     "output_type": "execute_result"
    }
   ],
   "source": [
    "date"
   ]
  },
  {
   "cell_type": "markdown",
   "id": "7533eb48-0eec-44a9-9d59-d080e32f2120",
   "metadata": {},
   "source": [
    "Now we can pass the newly created `date` variable to a filter. However, notice that the filter still doesn't work!"
   ]
  },
  {
   "cell_type": "code",
   "execution_count": 10,
   "id": "656e0228-1d54-4cb8-97fb-0321729323f8",
   "metadata": {},
   "outputs": [
    {
     "data": {
      "text/html": [
       "<div>\n",
       "<style scoped>\n",
       "    .dataframe tbody tr th:only-of-type {\n",
       "        vertical-align: middle;\n",
       "    }\n",
       "\n",
       "    .dataframe tbody tr th {\n",
       "        vertical-align: top;\n",
       "    }\n",
       "\n",
       "    .dataframe thead th {\n",
       "        text-align: right;\n",
       "    }\n",
       "</style>\n",
       "<table border=\"1\" class=\"dataframe\">\n",
       "  <thead>\n",
       "    <tr style=\"text-align: right;\">\n",
       "      <th></th>\n",
       "      <th>DATETIME</th>\n",
       "      <th>LAT</th>\n",
       "      <th>LONG</th>\n",
       "      <th>DEPTH</th>\n",
       "      <th>MAGNITUDE</th>\n",
       "    </tr>\n",
       "  </thead>\n",
       "  <tbody>\n",
       "  </tbody>\n",
       "</table>\n",
       "</div>"
      ],
      "text/plain": [
       "Empty DataFrame\n",
       "Columns: [DATETIME, LAT, LONG, DEPTH, MAGNITUDE]\n",
       "Index: []"
      ]
     },
     "execution_count": 10,
     "metadata": {},
     "output_type": "execute_result"
    }
   ],
   "source": [
    "filt = df['DATETIME'] == date\n",
    "df.loc[ filt ]"
   ]
  },
  {
   "cell_type": "markdown",
   "id": "eecf6c76-8b97-462a-9427-8e0aaaca0cfe",
   "metadata": {},
   "source": [
    "The filter above didn't work because the `datetime()` function defaults to a time of 00:00:00 when no time variables are provided. That means that the filter is only getting rows that occurred exactly on the date 12-31-1965 and at the time 00:00:00. That's a lot that was specified; no wonder nothing was returned!\n",
    "\n",
    "To get around this, we can use the `.normalize()` method that we saw in the table above to turn the times of all the dates in the `DATETIME` column into 00:00:00. Then, the filter works! Now we get all of the rows that occured on that date regardless of the time that they occurred."
   ]
  },
  {
   "cell_type": "code",
   "execution_count": 11,
   "id": "aaa6d3ea-4fb3-4168-949f-e3dbcc9fc947",
   "metadata": {
    "tags": []
   },
   "outputs": [
    {
     "data": {
      "text/html": [
       "<div>\n",
       "<style scoped>\n",
       "    .dataframe tbody tr th:only-of-type {\n",
       "        vertical-align: middle;\n",
       "    }\n",
       "\n",
       "    .dataframe tbody tr th {\n",
       "        vertical-align: top;\n",
       "    }\n",
       "\n",
       "    .dataframe thead th {\n",
       "        text-align: right;\n",
       "    }\n",
       "</style>\n",
       "<table border=\"1\" class=\"dataframe\">\n",
       "  <thead>\n",
       "    <tr style=\"text-align: right;\">\n",
       "      <th></th>\n",
       "      <th>DATETIME</th>\n",
       "      <th>LAT</th>\n",
       "      <th>LONG</th>\n",
       "      <th>DEPTH</th>\n",
       "      <th>MAGNITUDE</th>\n",
       "    </tr>\n",
       "  </thead>\n",
       "  <tbody>\n",
       "    <tr>\n",
       "      <th>67</th>\n",
       "      <td>1965-12-31 22:43:00</td>\n",
       "      <td>39.1</td>\n",
       "      <td>20.9</td>\n",
       "      <td>10</td>\n",
       "      <td>4.1</td>\n",
       "    </tr>\n",
       "  </tbody>\n",
       "</table>\n",
       "</div>"
      ],
      "text/plain": [
       "              DATETIME   LAT  LONG  DEPTH  MAGNITUDE\n",
       "67 1965-12-31 22:43:00  39.1  20.9     10        4.1"
      ]
     },
     "execution_count": 11,
     "metadata": {},
     "output_type": "execute_result"
    }
   ],
   "source": [
    "filt = df['DATETIME'].dt.normalize() == date\n",
    "df.loc[ filt ]"
   ]
  },
  {
   "cell_type": "markdown",
   "id": "05b6c4f5-b437-43f3-b254-f4728027cd5b",
   "metadata": {
    "tags": []
   },
   "source": [
    "### Finding the difference between dates\n",
    "\n",
    "Impressively, datetimes can be subtracted from each other using the standard subtraction `-` operator. Subtracting two datetimes will return the number of days between them as a `timedelta` object. The `timedelta` object only supports getting the difference in time in days, so if you want to get the difference between two dates in hours, you'll have to extract the difference in days and then multiply by 24 hours (per day).\n",
    "\n",
    "You can access the days from the `timedelta` as an integer by using the `.days` as a property of the `timedelta` in the format `timedelta.days`."
   ]
  },
  {
   "cell_type": "code",
   "execution_count": 12,
   "id": "2bb77436-a73f-4a55-9ae8-e4d2f0135b9d",
   "metadata": {},
   "outputs": [],
   "source": [
    "date_1 = datetime(2020, 2, 29)\n",
    "date_2 = datetime(2022, 5, 15)\n",
    "difference_between_dates = date_2 - date_1"
   ]
  },
  {
   "cell_type": "markdown",
   "id": "244b6061-7bff-4f0e-bab2-123c93abde0b",
   "metadata": {},
   "source": [
    "Notice below that printing out the `timedelta` in the variable `difference_between_dates` does not return a number, but rather returns a `timedelta` object. We can see in the parentheses that this object has a property `days` that equals 806."
   ]
  },
  {
   "cell_type": "code",
   "execution_count": 14,
   "id": "8d66c9c0-703c-43f3-a355-0e3ef60dbe9d",
   "metadata": {},
   "outputs": [
    {
     "data": {
      "text/plain": [
       "datetime.timedelta(days=806)"
      ]
     },
     "execution_count": 14,
     "metadata": {},
     "output_type": "execute_result"
    }
   ],
   "source": [
    "# Notice that printing out difference_between_dates does not return a number!\n",
    "difference_between_dates"
   ]
  },
  {
   "cell_type": "markdown",
   "id": "b3441dba-3b70-4ac3-a9be-ed83be934452",
   "metadata": {},
   "source": [
    "We can get the `days` property out of the `timedelta` object by adding on `.days` to the end of it."
   ]
  },
  {
   "cell_type": "code",
   "execution_count": 15,
   "id": "6c98503e-103a-4820-b6f2-097c853dc8cf",
   "metadata": {},
   "outputs": [
    {
     "data": {
      "text/plain": [
       "806"
      ]
     },
     "execution_count": 15,
     "metadata": {},
     "output_type": "execute_result"
    }
   ],
   "source": [
    "# We can get the number out of the timedelta by adding `.days`\n",
    "difference_between_dates.days"
   ]
  },
  {
   "cell_type": "markdown",
   "id": "35b53e1a-58c4-4180-9464-706352cf12db",
   "metadata": {},
   "source": [
    "We can then multiply by 24 to get the number of hours between these two dates, or even divide by 7 to get the number of weeks."
   ]
  },
  {
   "cell_type": "code",
   "execution_count": 17,
   "id": "bd98651f-d1d6-41b6-b947-bb8f1a0a2469",
   "metadata": {},
   "outputs": [
    {
     "data": {
      "text/plain": [
       "19344"
      ]
     },
     "execution_count": 17,
     "metadata": {},
     "output_type": "execute_result"
    }
   ],
   "source": [
    "# We can then convert this figure to hours by multiplying by 24\n",
    "difference_in_hours = difference_between_dates.days * 24\n",
    "difference_in_hours"
   ]
  },
  {
   "cell_type": "markdown",
   "id": "34573507-87ce-4395-918f-4d4eb32c3ab4",
   "metadata": {},
   "source": [
    "#### How is this useful?\n",
    "You can see that finding the difference between dates didn't use Pandas at all. However, we can use the ability to subtract dates on our dataframes. For example, we can select the first datetime in our dataset and the last datetime in our dataset and then subtract them to see how many days the dataset spans.\n",
    "\n",
    "Note that the `.max()` and `.min()` methods return the most recent and least recent dates from the `DATETIME` column, respectively."
   ]
  },
  {
   "cell_type": "code",
   "execution_count": 16,
   "id": "f5edbaf0-149f-4966-8326-8a5ed606cd8b",
   "metadata": {},
   "outputs": [
    {
     "data": {
      "text/plain": [
       "Timedelta('20812 days 13:14:00')"
      ]
     },
     "execution_count": 16,
     "metadata": {},
     "output_type": "execute_result"
    }
   ],
   "source": [
    "first_date = df['DATETIME'].min()\n",
    "last_date = df['DATETIME'].max()\n",
    "\n",
    "last_date - first_date"
   ]
  },
  {
   "cell_type": "markdown",
   "id": "8727d8fc-398d-4b7b-ab79-54f2460c585f",
   "metadata": {},
   "source": [
    "### Aggregating by datetime\n",
    "Time series data is any data that is collected through repeated measurements over time. For example, the stock exchange collects data every second about the price of stocks in the market. This repeated collection of the same data over time allows for insights to be gained regarding trends and forecasts of future observations.\n",
    "\n",
    "This \"Earthquakes in Greece\" data set probably isn't the best example of time series data because the data isn't recorded at specific intervals of time (every hour, for example), but rather is only recorded when an earthquake happens. However, we can still use it to show the principles of using time series data.\n",
    "\n",
    "Time series data allows us to aggregate across specific intervals of time. In this dataset, that means that we can look at the number of earthquakes per month, the highest magnitude earthquakes per week, and average magnitudes per year.\n",
    "\n",
    "To aggregate across dates, we could simply add a new column describing the unit of time that we want to aggregate by. In other words, if we want to see the biggest earthquake per year, we could do the following steps:\n",
    "1. Make a new column called \"YEAR\" that just contains the year of the \"DATETIME\" column.\n",
    "2. Group by \"YEAR\" and aggregate by the \"max\"."
   ]
  },
  {
   "cell_type": "code",
   "execution_count": 16,
   "id": "454cccba-e086-4840-a0ce-f8486135da0b",
   "metadata": {},
   "outputs": [],
   "source": [
    "# make a new column \"YEAR\" which is the year of the \"DATETIME\" column\n",
    "df['YEAR'] = df['DATETIME'].dt.year"
   ]
  },
  {
   "cell_type": "code",
   "execution_count": 17,
   "id": "bbfa8108-8362-4dbc-ad21-b5cd7c6781b8",
   "metadata": {},
   "outputs": [
    {
     "data": {
      "text/html": [
       "<div>\n",
       "<style scoped>\n",
       "    .dataframe tbody tr th:only-of-type {\n",
       "        vertical-align: middle;\n",
       "    }\n",
       "\n",
       "    .dataframe tbody tr th {\n",
       "        vertical-align: top;\n",
       "    }\n",
       "\n",
       "    .dataframe thead th {\n",
       "        text-align: right;\n",
       "    }\n",
       "</style>\n",
       "<table border=\"1\" class=\"dataframe\">\n",
       "  <thead>\n",
       "    <tr style=\"text-align: right;\">\n",
       "      <th></th>\n",
       "      <th>MAGNITUDE</th>\n",
       "    </tr>\n",
       "    <tr>\n",
       "      <th>YEAR</th>\n",
       "      <th></th>\n",
       "    </tr>\n",
       "  </thead>\n",
       "  <tbody>\n",
       "    <tr>\n",
       "      <th>1965</th>\n",
       "      <td>5.9</td>\n",
       "    </tr>\n",
       "    <tr>\n",
       "      <th>1966</th>\n",
       "      <td>6.0</td>\n",
       "    </tr>\n",
       "    <tr>\n",
       "      <th>1967</th>\n",
       "      <td>5.3</td>\n",
       "    </tr>\n",
       "    <tr>\n",
       "      <th>1968</th>\n",
       "      <td>6.7</td>\n",
       "    </tr>\n",
       "    <tr>\n",
       "      <th>1969</th>\n",
       "      <td>5.6</td>\n",
       "    </tr>\n",
       "  </tbody>\n",
       "</table>\n",
       "</div>"
      ],
      "text/plain": [
       "      MAGNITUDE\n",
       "YEAR           \n",
       "1965        5.9\n",
       "1966        6.0\n",
       "1967        5.3\n",
       "1968        6.7\n",
       "1969        5.6"
      ]
     },
     "execution_count": 17,
     "metadata": {},
     "output_type": "execute_result"
    }
   ],
   "source": [
    "# group by YEAR and aggregate MAGNITUDE by the maximum.\n",
    "df.groupby(\"YEAR\").agg({\"MAGNITUDE\": \"max\"}).head()"
   ]
  },
  {
   "cell_type": "markdown",
   "id": "534bdd1f-4828-47e6-b799-7167bd297eb5",
   "metadata": {},
   "source": [
    "This worked in this case. However, what if we also want to aggregate across months? and week number? and hours? We wouldn't be able to do this easily because the `.month` property just returns a month number *without* the year, meaning that all earthquakes that occurred in January **in any year** are grouped together."
   ]
  },
  {
   "cell_type": "code",
   "execution_count": 23,
   "id": "10789730-dc3e-475e-9f2e-9cd94ab7f3e1",
   "metadata": {},
   "outputs": [
    {
     "data": {
      "text/html": [
       "<div>\n",
       "<style scoped>\n",
       "    .dataframe tbody tr th:only-of-type {\n",
       "        vertical-align: middle;\n",
       "    }\n",
       "\n",
       "    .dataframe tbody tr th {\n",
       "        vertical-align: top;\n",
       "    }\n",
       "\n",
       "    .dataframe thead th {\n",
       "        text-align: right;\n",
       "    }\n",
       "</style>\n",
       "<table border=\"1\" class=\"dataframe\">\n",
       "  <thead>\n",
       "    <tr style=\"text-align: right;\">\n",
       "      <th></th>\n",
       "      <th>MAGNITUDE</th>\n",
       "    </tr>\n",
       "    <tr>\n",
       "      <th>MONTH</th>\n",
       "      <th></th>\n",
       "    </tr>\n",
       "  </thead>\n",
       "  <tbody>\n",
       "    <tr>\n",
       "      <th>1</th>\n",
       "      <td>6.4</td>\n",
       "    </tr>\n",
       "    <tr>\n",
       "      <th>2</th>\n",
       "      <td>6.7</td>\n",
       "    </tr>\n",
       "    <tr>\n",
       "      <th>3</th>\n",
       "      <td>6.0</td>\n",
       "    </tr>\n",
       "    <tr>\n",
       "      <th>4</th>\n",
       "      <td>6.2</td>\n",
       "    </tr>\n",
       "    <tr>\n",
       "      <th>5</th>\n",
       "      <td>6.3</td>\n",
       "    </tr>\n",
       "    <tr>\n",
       "      <th>6</th>\n",
       "      <td>6.5</td>\n",
       "    </tr>\n",
       "    <tr>\n",
       "      <th>7</th>\n",
       "      <td>6.2</td>\n",
       "    </tr>\n",
       "    <tr>\n",
       "      <th>8</th>\n",
       "      <td>6.6</td>\n",
       "    </tr>\n",
       "    <tr>\n",
       "      <th>9</th>\n",
       "      <td>6.0</td>\n",
       "    </tr>\n",
       "    <tr>\n",
       "      <th>10</th>\n",
       "      <td>6.7</td>\n",
       "    </tr>\n",
       "    <tr>\n",
       "      <th>11</th>\n",
       "      <td>6.0</td>\n",
       "    </tr>\n",
       "    <tr>\n",
       "      <th>12</th>\n",
       "      <td>6.3</td>\n",
       "    </tr>\n",
       "  </tbody>\n",
       "</table>\n",
       "</div>"
      ],
      "text/plain": [
       "       MAGNITUDE\n",
       "MONTH           \n",
       "1            6.4\n",
       "2            6.7\n",
       "3            6.0\n",
       "4            6.2\n",
       "5            6.3\n",
       "6            6.5\n",
       "7            6.2\n",
       "8            6.6\n",
       "9            6.0\n",
       "10           6.7\n",
       "11           6.0\n",
       "12           6.3"
      ]
     },
     "execution_count": 23,
     "metadata": {},
     "output_type": "execute_result"
    }
   ],
   "source": [
    "df['MONTH'] = df['DATETIME'].dt.month # make a new column \"MONTH\"\n",
    "df.groupby('MONTH').agg({'MAGNITUDE': 'max'})"
   ]
  },
  {
   "cell_type": "markdown",
   "id": "df9667c5-50cb-4c58-90e3-d98c6d7d929b",
   "metadata": {},
   "source": [
    "To fix this problem, we could group by both year and month. However, what if we then want to group by *day* as well? We'd have to make another column, and eventually we could have an extra 10 columns.\n",
    "\n",
    "One easier solution is to change the named index of the dataframe to the datetime column. That means that instead of each row having a named index of 1, 2, 3, etc... the column `DATETIME` will actually become the named index of each row!\n",
    "\n",
    "We can set the index of our dataframe by using the `.set_index()` method on the dataframe and passing in a column name to be used as the index. In the example below, I'm actually also creating a new dataframe `date_df` just in case I ever need the original dataframe again."
   ]
  },
  {
   "cell_type": "code",
   "execution_count": 24,
   "id": "32b980ff-9062-4628-b752-ba165dcb0169",
   "metadata": {},
   "outputs": [],
   "source": [
    "date_df = df.set_index('DATETIME')"
   ]
  },
  {
   "cell_type": "markdown",
   "id": "843633fe-82f0-4618-8ac8-5e5097257631",
   "metadata": {},
   "source": [
    "I can see that the index has changed by printing out the dataframe. Notice that the index (the leftmost column) has now been replaced with the `DATETIME` column, whose values are now **bolded**. Compare this to the original dataframe."
   ]
  },
  {
   "cell_type": "code",
   "execution_count": 28,
   "id": "3d29b14b-a495-4eb7-8446-9a57747054aa",
   "metadata": {},
   "outputs": [
    {
     "data": {
      "text/html": [
       "<div>\n",
       "<style scoped>\n",
       "    .dataframe tbody tr th:only-of-type {\n",
       "        vertical-align: middle;\n",
       "    }\n",
       "\n",
       "    .dataframe tbody tr th {\n",
       "        vertical-align: top;\n",
       "    }\n",
       "\n",
       "    .dataframe thead th {\n",
       "        text-align: right;\n",
       "    }\n",
       "</style>\n",
       "<table border=\"1\" class=\"dataframe\">\n",
       "  <thead>\n",
       "    <tr style=\"text-align: right;\">\n",
       "      <th></th>\n",
       "      <th>LAT</th>\n",
       "      <th>LONG</th>\n",
       "      <th>DEPTH</th>\n",
       "      <th>MAGNITUDE</th>\n",
       "      <th>YEAR</th>\n",
       "      <th>MONTH</th>\n",
       "    </tr>\n",
       "    <tr>\n",
       "      <th>DATETIME</th>\n",
       "      <th></th>\n",
       "      <th></th>\n",
       "      <th></th>\n",
       "      <th></th>\n",
       "      <th></th>\n",
       "      <th></th>\n",
       "    </tr>\n",
       "  </thead>\n",
       "  <tbody>\n",
       "    <tr>\n",
       "      <th>1965-01-07 10:22:00</th>\n",
       "      <td>36.50</td>\n",
       "      <td>26.50</td>\n",
       "      <td>10</td>\n",
       "      <td>5.3</td>\n",
       "      <td>1965</td>\n",
       "      <td>1</td>\n",
       "    </tr>\n",
       "    <tr>\n",
       "      <th>1965-01-10 08:02:00</th>\n",
       "      <td>39.25</td>\n",
       "      <td>22.25</td>\n",
       "      <td>10</td>\n",
       "      <td>4.9</td>\n",
       "      <td>1965</td>\n",
       "      <td>1</td>\n",
       "    </tr>\n",
       "    <tr>\n",
       "      <th>1965-01-12 17:26:00</th>\n",
       "      <td>37.00</td>\n",
       "      <td>22.00</td>\n",
       "      <td>10</td>\n",
       "      <td>4.0</td>\n",
       "      <td>1965</td>\n",
       "      <td>1</td>\n",
       "    </tr>\n",
       "    <tr>\n",
       "      <th>1965-01-15 14:56:00</th>\n",
       "      <td>36.75</td>\n",
       "      <td>21.75</td>\n",
       "      <td>10</td>\n",
       "      <td>4.5</td>\n",
       "      <td>1965</td>\n",
       "      <td>1</td>\n",
       "    </tr>\n",
       "    <tr>\n",
       "      <th>1965-03-09 19:16:00</th>\n",
       "      <td>39.00</td>\n",
       "      <td>24.00</td>\n",
       "      <td>10</td>\n",
       "      <td>4.2</td>\n",
       "      <td>1965</td>\n",
       "      <td>3</td>\n",
       "    </tr>\n",
       "  </tbody>\n",
       "</table>\n",
       "</div>"
      ],
      "text/plain": [
       "                       LAT   LONG  DEPTH  MAGNITUDE  YEAR  MONTH\n",
       "DATETIME                                                        \n",
       "1965-01-07 10:22:00  36.50  26.50     10        5.3  1965      1\n",
       "1965-01-10 08:02:00  39.25  22.25     10        4.9  1965      1\n",
       "1965-01-12 17:26:00  37.00  22.00     10        4.0  1965      1\n",
       "1965-01-15 14:56:00  36.75  21.75     10        4.5  1965      1\n",
       "1965-03-09 19:16:00  39.00  24.00     10        4.2  1965      3"
      ]
     },
     "execution_count": 28,
     "metadata": {},
     "output_type": "execute_result"
    }
   ],
   "source": [
    "date_df.head()"
   ]
  },
  {
   "cell_type": "markdown",
   "id": "30b13d4c-083c-4743-ae1c-92b665eb352d",
   "metadata": {},
   "source": [
    "Setting the index of the dataframe to a column with `dtype=datetime` means that we can use the `.resample()` method on on column that we want to aggregate across. This method allows us to do aggregate across years, months, days, or whatever specificity of time that we want to without having to make new columns! \n",
    "\n",
    "All we have to do is retrieve the column we want to aggregate, call the `.resample()` method while passing in a string that indicates the level to group by.\n",
    "\n",
    "For example, the code below aggregates the `MAGNITUDE` column across each month in the data set, returning its maximum value."
   ]
  },
  {
   "cell_type": "code",
   "execution_count": 29,
   "id": "a5a888ee-182e-442f-9d16-bd23b38a1662",
   "metadata": {},
   "outputs": [
    {
     "data": {
      "text/plain": [
       "DATETIME\n",
       "1965-01-31    5.3\n",
       "1965-02-28    NaN\n",
       "1965-03-31    5.1\n",
       "1965-04-30    4.6\n",
       "1965-05-31    4.0\n",
       "             ... \n",
       "2021-08-31    5.4\n",
       "2021-09-30    5.8\n",
       "2021-10-31    4.5\n",
       "2021-11-30    5.0\n",
       "2021-12-31    5.4\n",
       "Freq: M, Name: MAGNITUDE, Length: 684, dtype: float64"
      ]
     },
     "execution_count": 29,
     "metadata": {},
     "output_type": "execute_result"
    }
   ],
   "source": [
    "date_df['MAGNITUDE'].resample(\"M\").max()"
   ]
  },
  {
   "cell_type": "markdown",
   "id": "8423b3db-5f64-4248-897b-0fb431e6031e",
   "metadata": {},
   "source": [
    "In this notebook we learned how to convert columns to have a type of `datetime`. We also learned how to filter by datetime, how to subtract datetimes, and how to set the datetime field as the named row index in order to aggregate across time series more easily."
   ]
  }
 ],
 "metadata": {
  "kernelspec": {
   "display_name": "Python 3 (ipykernel)",
   "language": "python",
   "name": "python3"
  },
  "language_info": {
   "codemirror_mode": {
    "name": "ipython",
    "version": 3
   },
   "file_extension": ".py",
   "mimetype": "text/x-python",
   "name": "python",
   "nbconvert_exporter": "python",
   "pygments_lexer": "ipython3",
   "version": "3.10.2"
  }
 },
 "nbformat": 4,
 "nbformat_minor": 5
}
