{
 "cells": [
  {
   "cell_type": "markdown",
   "id": "3254d27d-f725-43bb-828e-e436b6ee8e82",
   "metadata": {},
   "source": [
    "# 3.2 Sorting Data\n",
    "\n",
    "Sorting data might be one of the easiest things to do in Pandas. You can simply use the `.sort_values()` method on a dataframe and pass in a list of columns to sort by with the `by` argument, or a single column name if you only want to sort by one."
   ]
  },
  {
   "cell_type": "code",
   "execution_count": null,
   "id": "98461e6b-8bd8-470a-9b7e-604cf1c28968",
   "metadata": {},
   "outputs": [],
   "source": [
    "import pandas as pd\n",
    "\n",
    "df = pd.read_csv('./data/titanic.csv')"
   ]
  },
  {
   "cell_type": "code",
   "execution_count": null,
   "id": "b5c4ef46-59e4-4299-a141-f3b5ebf6bbdc",
   "metadata": {},
   "outputs": [],
   "source": [
    "df.head()"
   ]
  },
  {
   "cell_type": "code",
   "execution_count": null,
   "id": "46be4577-b868-45fc-92d6-4b3e52a01638",
   "metadata": {},
   "outputs": [],
   "source": [
    "df.sort_values(by=['Name']).head()"
   ]
  },
  {
   "cell_type": "markdown",
   "id": "253e52b5-c17a-4d8d-83fb-3e9f0dc52dcd",
   "metadata": {},
   "source": [
    "You can also use the `ascending` argument to tell the dataframe if the sort order is ascending or descending."
   ]
  },
  {
   "cell_type": "code",
   "execution_count": null,
   "id": "7f113f69-1a92-4ee4-a654-f684c690651d",
   "metadata": {},
   "outputs": [],
   "source": [
    "df.sort_values(by=['Fare', 'Pclass'], ascending=False).head() # ascending=False is 'descending'"
   ]
  },
  {
   "cell_type": "markdown",
   "id": "6ea0adc6-9ac2-48f1-a7de-a70fff9212a6",
   "metadata": {},
   "source": [
    "You can also pass in a list of Boolean values to `ascending` to determine which columns to sort in ascending and descending order."
   ]
  },
  {
   "cell_type": "code",
   "execution_count": null,
   "id": "135881fe-20dc-459a-bf89-baf3163f5818",
   "metadata": {},
   "outputs": [],
   "source": [
    "df.sort_values(by=['Fare', 'Pclass'], ascending=[True, False]).head()"
   ]
  },
  {
   "cell_type": "markdown",
   "id": "d3b4efd6-51ed-496e-885a-a36a562fed88",
   "metadata": {},
   "source": [
    "Finally, a dataframe can be sorted by its row index numbers using the `.sort_index()` method."
   ]
  },
  {
   "cell_type": "code",
   "execution_count": null,
   "id": "8451b941-cf31-45f2-a3f1-04d871e3921a",
   "metadata": {},
   "outputs": [],
   "source": [
    "df.sort_index().head()"
   ]
  }
 ],
 "metadata": {
  "kernelspec": {
   "display_name": "Python 3 (ipykernel)",
   "language": "python",
   "name": "python3"
  },
  "language_info": {
   "codemirror_mode": {
    "name": "ipython",
    "version": 3
   },
   "file_extension": ".py",
   "mimetype": "text/x-python",
   "name": "python",
   "nbconvert_exporter": "python",
   "pygments_lexer": "ipython3",
   "version": "3.10.2"
  }
 },
 "nbformat": 4,
 "nbformat_minor": 5
}
