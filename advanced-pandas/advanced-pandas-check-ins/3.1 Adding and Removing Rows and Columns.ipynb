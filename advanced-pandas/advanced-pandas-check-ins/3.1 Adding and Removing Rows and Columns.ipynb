{
 "cells": [
  {
   "cell_type": "markdown",
   "id": "46fe9bd5-cd9b-4213-b192-33e82ba205e6",
   "metadata": {},
   "source": [
    "# 3.1 Adding and Removing Rows and Columns\n",
    "\n",
    "When working with dataframe, sometimes we need to add or remove columns from the database. Perhaps you need to perform an calculation using two columns and want to store that calculation in a new column, or have too many irrelevant columns and need to reduce the size. Pandas easily lets the programmer add and remove columns.\n",
    "\n",
    "Adding and removing rows is easy too. Let's look at how it's done."
   ]
  },
  {
   "cell_type": "code",
   "execution_count": null,
   "id": "5336dd72-d110-4f2a-b743-96372ec3aba6",
   "metadata": {},
   "outputs": [],
   "source": [
    "import pandas as pd\n",
    "\n",
    "df = pd.read_csv(\"./data/titanic.csv\")"
   ]
  },
  {
   "cell_type": "code",
   "execution_count": null,
   "id": "9cb674aa-cd62-40b6-ab1e-988248cf8b5c",
   "metadata": {},
   "outputs": [],
   "source": [
    "df.head()"
   ]
  },
  {
   "cell_type": "markdown",
   "id": "6038745c-e834-4319-9c6c-b9c98e07ccdc",
   "metadata": {
    "tags": []
   },
   "source": [
    "### Adding Columns\n",
    "Adding columns is as simple as accessing a new column in the existing dataframe and assigning it a Series object, giving it its column name in the process. The Series has to be the same length as the number of rows in the dataframe.\n",
    "\n",
    "Usually, the new column is computed using an existing column, or several columns."
   ]
  },
  {
   "cell_type": "code",
   "execution_count": null,
   "id": "b86c9cdd-9f34-4088-823a-863e60bfdb94",
   "metadata": {},
   "outputs": [],
   "source": [
    "df['FareRounded'] = round(df['Fare'], 2)"
   ]
  },
  {
   "cell_type": "code",
   "execution_count": null,
   "id": "e0d60290-30fb-4534-a791-4bd8372bb8ec",
   "metadata": {},
   "outputs": [],
   "source": [
    "df.head()"
   ]
  },
  {
   "cell_type": "markdown",
   "id": "e46ef18c-b0c4-483a-b85b-6f5244f382e3",
   "metadata": {},
   "source": [
    "You can even add more than one column at once by specifying a list of new columns and assigning them a dataframe with the same number of columns."
   ]
  },
  {
   "cell_type": "code",
   "execution_count": null,
   "id": "8297f4a9-685b-4e1a-8aed-5e91549f2590",
   "metadata": {},
   "outputs": [],
   "source": [
    "# The `.str.split()` method with expand=True splits a Series where each value is a list into one column per item in each list.\n",
    "df['Name'].str.split(\",\", expand=True)"
   ]
  },
  {
   "cell_type": "code",
   "execution_count": null,
   "id": "cba07a4c-19a9-47d8-b43c-fd189502a5ac",
   "metadata": {},
   "outputs": [],
   "source": [
    "# Add the two columns from the dataframe returned above to the current dataframe.\n",
    "df[['LastName', 'FirstMiddleName']] = df['Name'].str.split(\",\", expand=True)"
   ]
  },
  {
   "cell_type": "code",
   "execution_count": null,
   "id": "b412179f-9f50-47d1-aa1a-fb29d97d5b46",
   "metadata": {},
   "outputs": [],
   "source": [
    "df.head()"
   ]
  },
  {
   "cell_type": "markdown",
   "id": "bc982000-2efd-4dc0-998b-6c771669478f",
   "metadata": {},
   "source": [
    "### Removing columns\n",
    "\n",
    "If you want to get rid of a column, you can do so with the `.drop()` method. Note that this method does not change the original dataframe but instead returns a new dataframe. You can tell the method to modify the original dataframe by passing in `inplace=True`.\n",
    "\n",
    "You can drop a single column by passing in its name or multiple columns by passing in a list of column names. Note the need for the `columns` argument."
   ]
  },
  {
   "cell_type": "code",
   "execution_count": null,
   "id": "c15c3da3-1797-48dc-920a-04333a91f6df",
   "metadata": {},
   "outputs": [],
   "source": [
    "df.drop(columns='Cabin') # The column is dropped, but the original dataframe isn't changed.\n",
    "df.head()"
   ]
  },
  {
   "cell_type": "code",
   "execution_count": null,
   "id": "062eaab8-e6cf-4681-b1c9-14fd870eee97",
   "metadata": {},
   "outputs": [],
   "source": [
    "df.drop(columns=['Cabin', 'Ticket'], inplace=True) # Multiple columns are dropped from the original dataframe.\n",
    "df.head()"
   ]
  },
  {
   "cell_type": "markdown",
   "id": "1e26a03f-c730-4faa-b485-0a640d31ef2f",
   "metadata": {},
   "source": [
    "### Adding rows\n",
    "Adding rows isn't something you will typically do in Pandas, since data will likely be provided for you in the data file or database. Sometimes, however, you may have data coming from sources that need to be combined into a single dataframe.\n",
    "\n",
    "The `.concat()` function is a **Pandas function** (not a dataframe method) that takes in a list of dataframe or Series objects and puts them on top of each other. If you need to add a single row of data, you can just turn it into a dataframe.\n",
    "\n",
    "Pass in `ignore_index=True` to the `.concat()` function to give each row a unique index and not keep their original index."
   ]
  },
  {
   "cell_type": "code",
   "execution_count": null,
   "id": "a228d708-6963-4e3b-8ecd-0d3a4ff068f7",
   "metadata": {},
   "outputs": [],
   "source": [
    "new_titanic_passenger = { # Notice that not all fields have to be defined.\n",
    "    'PassengerId': [999],\n",
    "    'Survived': [1],\n",
    "    'Pclass':3,\n",
    "    'Name': ['Vespucci, Mr. Amerigo'],\n",
    "    'Sex': ['male'],\n",
    "    'Age': [57]\n",
    "}\n",
    "\n",
    "new_df = pd.DataFrame(new_titanic_passenger)\n",
    "\n",
    "df = pd.concat([df, new_df], ignore_index=True) # ignore_index makes the data reset the index \n",
    "                                                # numbers-- remove it to see what happens!\n",
    "df.tail()"
   ]
  },
  {
   "cell_type": "markdown",
   "id": "6779cc6b-9fbc-4751-9be6-74d7690ea918",
   "metadata": {},
   "source": [
    "### Removing Rows\n",
    "\n",
    "You can remove rows from a dataframe in the same way that you remove columns, with the `.drop()` method. This time, however, you will pass in a list of row indexes to the `indexes` argument."
   ]
  },
  {
   "cell_type": "code",
   "execution_count": null,
   "id": "02cfa181-3500-47b2-a77e-469752d9d190",
   "metadata": {},
   "outputs": [],
   "source": [
    "df.drop(index=891, inplace=False) # Dropping the recently added row, but not saving to original dataframe."
   ]
  },
  {
   "cell_type": "markdown",
   "id": "edb9bf3c-d735-47eb-9021-f6cdd67762bf",
   "metadata": {},
   "source": [
    "You can access the indexes of each row in a dataframe with the `.index` property. This is useful when dropping rows based on a condition or filter."
   ]
  },
  {
   "cell_type": "code",
   "execution_count": null,
   "id": "ff671410-275c-44d0-867c-bc35ed8215d5",
   "metadata": {
    "tags": []
   },
   "outputs": [],
   "source": [
    "filt = df['Pclass'] == 2\n",
    "df.drop(index=df[ filt ].index, inplace=True) # Overriding original dataframe\n",
    "df.tail()"
   ]
  }
 ],
 "metadata": {
  "kernelspec": {
   "display_name": "Python 3 (ipykernel)",
   "language": "python",
   "name": "python3"
  },
  "language_info": {
   "codemirror_mode": {
    "name": "ipython",
    "version": 3
   },
   "file_extension": ".py",
   "mimetype": "text/x-python",
   "name": "python",
   "nbconvert_exporter": "python",
   "pygments_lexer": "ipython3",
   "version": "3.10.2"
  }
 },
 "nbformat": 4,
 "nbformat_minor": 5
}
