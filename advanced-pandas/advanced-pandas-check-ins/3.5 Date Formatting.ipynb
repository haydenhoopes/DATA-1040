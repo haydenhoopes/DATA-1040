{
 "cells": [
  {
   "cell_type": "markdown",
   "id": "07dcb44e-4e76-4454-bdc9-b6fe479eed62",
   "metadata": {},
   "source": [
    "# 3.5 Date Formatting\n",
    "\n",
    "Working with dates in Pandas can be slightly tricky at first, but is often essential in data analysis. Pandas often interprets date fields as strings, but by assigning the column a data type of *datetime*, they obtain access to additional methods that can improve analysis. For example, the analyst can extract the month number or number of days since a date, which can show the change of data over time.\n",
    "\n",
    "### About the data\n",
    "Since the *Titanic* data set does not contain date fields, it is not used in this notebook. Instead, this notebook contains data showing earthquake occurenecs in Greece."
   ]
  },
  {
   "cell_type": "code",
   "execution_count": 2,
   "id": "a0eacf34-e0a6-4f04-b025-51b543662363",
   "metadata": {},
   "outputs": [],
   "source": [
    "import pandas as pd\n",
    "df = pd.read_csv(\"./data/earthquakes.csv\")"
   ]
  },
  {
   "cell_type": "markdown",
   "id": "5829eb32-eddc-45c9-9f16-66e32eb0a982",
   "metadata": {},
   "source": [
    "Notice that there is a field \"DATETIME\" in this dataset. However, Pandas does not recognize this column as a datetime column but instead thinks that it's an `object` (string)."
   ]
  },
  {
   "cell_type": "code",
   "execution_count": 3,
   "id": "19e34850-9ea4-43b8-aed7-7110ff529a2e",
   "metadata": {},
   "outputs": [
    {
     "data": {
      "text/html": [
       "<div>\n",
       "<style scoped>\n",
       "    .dataframe tbody tr th:only-of-type {\n",
       "        vertical-align: middle;\n",
       "    }\n",
       "\n",
       "    .dataframe tbody tr th {\n",
       "        vertical-align: top;\n",
       "    }\n",
       "\n",
       "    .dataframe thead th {\n",
       "        text-align: right;\n",
       "    }\n",
       "</style>\n",
       "<table border=\"1\" class=\"dataframe\">\n",
       "  <thead>\n",
       "    <tr style=\"text-align: right;\">\n",
       "      <th></th>\n",
       "      <th>DATETIME</th>\n",
       "      <th>LAT</th>\n",
       "      <th>LONG</th>\n",
       "      <th>DEPTH</th>\n",
       "      <th>MAGNITUDE</th>\n",
       "    </tr>\n",
       "  </thead>\n",
       "  <tbody>\n",
       "    <tr>\n",
       "      <th>0</th>\n",
       "      <td>1/7/1965 10:22</td>\n",
       "      <td>36.50</td>\n",
       "      <td>26.50</td>\n",
       "      <td>10</td>\n",
       "      <td>5.3</td>\n",
       "    </tr>\n",
       "    <tr>\n",
       "      <th>1</th>\n",
       "      <td>1/10/1965 8:02</td>\n",
       "      <td>39.25</td>\n",
       "      <td>22.25</td>\n",
       "      <td>10</td>\n",
       "      <td>4.9</td>\n",
       "    </tr>\n",
       "    <tr>\n",
       "      <th>2</th>\n",
       "      <td>1/12/1965 17:26</td>\n",
       "      <td>37.00</td>\n",
       "      <td>22.00</td>\n",
       "      <td>10</td>\n",
       "      <td>4.0</td>\n",
       "    </tr>\n",
       "    <tr>\n",
       "      <th>3</th>\n",
       "      <td>1/15/1965 14:56</td>\n",
       "      <td>36.75</td>\n",
       "      <td>21.75</td>\n",
       "      <td>10</td>\n",
       "      <td>4.5</td>\n",
       "    </tr>\n",
       "    <tr>\n",
       "      <th>4</th>\n",
       "      <td>3/9/1965 19:16</td>\n",
       "      <td>39.00</td>\n",
       "      <td>24.00</td>\n",
       "      <td>10</td>\n",
       "      <td>4.2</td>\n",
       "    </tr>\n",
       "  </tbody>\n",
       "</table>\n",
       "</div>"
      ],
      "text/plain": [
       "          DATETIME    LAT   LONG  DEPTH  MAGNITUDE\n",
       "0   1/7/1965 10:22  36.50  26.50     10        5.3\n",
       "1   1/10/1965 8:02  39.25  22.25     10        4.9\n",
       "2  1/12/1965 17:26  37.00  22.00     10        4.0\n",
       "3  1/15/1965 14:56  36.75  21.75     10        4.5\n",
       "4   3/9/1965 19:16  39.00  24.00     10        4.2"
      ]
     },
     "execution_count": 3,
     "metadata": {},
     "output_type": "execute_result"
    }
   ],
   "source": [
    "df.head()"
   ]
  },
  {
   "cell_type": "code",
   "execution_count": 4,
   "id": "e973eb7f-ce2d-4b28-a343-1840f51a1add",
   "metadata": {},
   "outputs": [
    {
     "data": {
      "text/plain": [
       "DATETIME      object\n",
       "LAT          float64\n",
       "LONG         float64\n",
       "DEPTH          int64\n",
       "MAGNITUDE    float64\n",
       "dtype: object"
      ]
     },
     "execution_count": 4,
     "metadata": {},
     "output_type": "execute_result"
    }
   ],
   "source": [
    "df.dtypes"
   ]
  },
  {
   "cell_type": "markdown",
   "id": "ee61aa06-69f5-43a1-8305-d57b2699dd76",
   "metadata": {},
   "source": [
    "### Casting a column to a datetime type\n",
    "We can use the `to_datetime()` function to cast all of the values in a column to a datetime type. However, Pandas needs to know how each of the numbers in the column correspond to date parts. In other words, is it \"day/month/year\" or \"month/day/year\"?\n",
    "\n",
    "The `to_datetime()` funtion is a **Pandas function** (not a dataframe method) that can accept a Series object.\n",
    "\n",
    "We can pass in a [Python format code](https://docs.python.org/3/library/datetime.html#strftime-and-strptime-behavior) to tell Pandas how to interpret the date. The formatting codes aren't something you need to memorize, but you should keep them handy for future reference. Each code represents a part of the date. For example, `%B` would indicate a full month name (ie. January) whereas `%Y` indicates a full year (ie. 2023)."
   ]
  },
  {
   "cell_type": "code",
   "execution_count": 5,
   "id": "4befb425-5352-42d3-8d08-cfcb1200c735",
   "metadata": {},
   "outputs": [],
   "source": [
    "df['DATETIME'] = pd.to_datetime(df['DATETIME'], format=\"%m/%d/%Y %H:%M\")"
   ]
  },
  {
   "cell_type": "code",
   "execution_count": 6,
   "id": "ff6b95e0-ed2b-4b0e-8264-6665e14ec6bd",
   "metadata": {},
   "outputs": [
    {
     "data": {
      "text/plain": [
       "DATETIME     datetime64[ns]\n",
       "LAT                 float64\n",
       "LONG                float64\n",
       "DEPTH                 int64\n",
       "MAGNITUDE           float64\n",
       "dtype: object"
      ]
     },
     "execution_count": 6,
     "metadata": {},
     "output_type": "execute_result"
    }
   ],
   "source": [
    "df.dtypes"
   ]
  },
  {
   "cell_type": "code",
   "execution_count": 7,
   "id": "ae6a19bc-3d81-467c-a624-245538baa149",
   "metadata": {},
   "outputs": [
    {
     "data": {
      "text/plain": [
       "0        1965-01-07 10:22:00\n",
       "1        1965-01-10 08:02:00\n",
       "2        1965-01-12 17:26:00\n",
       "3        1965-01-15 14:56:00\n",
       "4        1965-03-09 19:16:00\n",
       "                 ...        \n",
       "251258   2021-12-31 22:55:00\n",
       "251259   2021-12-31 23:03:00\n",
       "251260   2021-12-31 23:31:00\n",
       "251261   2021-12-31 23:36:00\n",
       "251262   2021-12-31 23:36:00\n",
       "Name: DATETIME, Length: 251263, dtype: datetime64[ns]"
      ]
     },
     "execution_count": 7,
     "metadata": {},
     "output_type": "execute_result"
    }
   ],
   "source": [
    "df['DATETIME']"
   ]
  },
  {
   "cell_type": "markdown",
   "id": "164abcda-5dab-4580-a631-4a0248a9e51d",
   "metadata": {},
   "source": [
    "### Using datetime methods"
   ]
  },
  {
   "cell_type": "code",
   "execution_count": null,
   "id": "78d62c9b-f0d2-49d6-8f66-b83ebeec1265",
   "metadata": {},
   "outputs": [],
   "source": []
  }
 ],
 "metadata": {
  "kernelspec": {
   "display_name": "Python 3 (ipykernel)",
   "language": "python",
   "name": "python3"
  },
  "language_info": {
   "codemirror_mode": {
    "name": "ipython",
    "version": 3
   },
   "file_extension": ".py",
   "mimetype": "text/x-python",
   "name": "python",
   "nbconvert_exporter": "python",
   "pygments_lexer": "ipython3",
   "version": "3.10.2"
  }
 },
 "nbformat": 4,
 "nbformat_minor": 5
}
