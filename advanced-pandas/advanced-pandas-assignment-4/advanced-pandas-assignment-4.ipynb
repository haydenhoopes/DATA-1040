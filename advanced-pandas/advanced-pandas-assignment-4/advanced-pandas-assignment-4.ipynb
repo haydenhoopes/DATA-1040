{
 "cells": [
  {
   "cell_type": "markdown",
   "id": "ada507fc-7090-4973-bbac-35bca7792092",
   "metadata": {},
   "source": [
    "# Advanced Pandas Assignment 4\n",
    "\n",
    "In this assignment, you will practice date formatting, joins, and exporting data from a Pandas dataframe.\n",
    "\n",
    "### Note about assignments\n",
    "You can add lines of code according to your preferences. As long as the code required by the assignment is found in this notebook under the corresponding task header (ie. the code and answers for task 1 are underneath the title \"Task 1\"), you will receive credit for it.\n",
    "\n",
    "## About the data\n",
    "The data used in this assignment is a table built from the Human Resources schema of the Adventure Works 2019 database. This data contains information about each time that Employee Pay History was changed (each line is a pay rate change). It also contains information about the employee and the department they were working in when they received the pay rate listed.\n",
    "\n",
    "The actual data is stored in a CSV file located inside the `data` folder. The file is called `pay_history.csv`. Another supplemental file called `shifts.csv` has also been provided in the `data` folder that will be used in some of the exercises below.\n",
    "\n",
    "## Instructions\n",
    "### Set up\n",
    "##### Import Pandas\n",
    "Import the Pandas library into Jupyter Lab.\n",
    "\n",
    "<p style=\"font-size:.75rem\">Expected output: None</p>"
   ]
  },
  {
   "cell_type": "code",
   "execution_count": null,
   "id": "01fa476f-ffe2-432a-a8bd-5e18d96177e9",
   "metadata": {},
   "outputs": [],
   "source": []
  },
  {
   "cell_type": "markdown",
   "id": "05cd4794-0c3f-42cd-8879-5e075d16a1b2",
   "metadata": {},
   "source": [
    "##### Disable column display limit\n",
    "Use the following code to disable the default limit for displaying columns. If you don't use this code, a data set with more than 20 columns will be truncated when displayed to take up less space.\n",
    "\n",
    "```python\n",
    "pd.options.display.max_columns = None\n",
    "```\n",
    "\n",
    "<p style=\"font-size:.75rem\">Expected output: None</p>"
   ]
  },
  {
   "cell_type": "code",
   "execution_count": null,
   "id": "4683c034-4cc4-4ebd-bd4b-54b854474a55",
   "metadata": {},
   "outputs": [],
   "source": []
  },
  {
   "cell_type": "markdown",
   "id": "db9c8157-546c-4c8c-86ea-ea00e8bf9d41",
   "metadata": {},
   "source": [
    "##### Create the dataframe\n",
    "Read the data from the `pay_history.csv` file into a dataframe called `df`.\n",
    "\n",
    "<p style=\"font-size:.75rem\">Expected output: None</p>"
   ]
  },
  {
   "cell_type": "code",
   "execution_count": null,
   "id": "0f9e3fc3-6f85-4e97-8f86-6b91f7bf89dd",
   "metadata": {},
   "outputs": [],
   "source": []
  },
  {
   "cell_type": "markdown",
   "id": "5d64b4b7-25fd-49f0-bb1d-ab92509284e7",
   "metadata": {},
   "source": [
    "##### Preview dataframe\n",
    "Print out the first 5 rows of the dataframe.\n",
    "\n",
    "<p style=\"font-size:.75rem\">Expected output: 5 rows with indexes 0-4.</p>"
   ]
  },
  {
   "cell_type": "code",
   "execution_count": null,
   "id": "5ecc6e4c-5445-4ce4-9082-020562637fbd",
   "metadata": {},
   "outputs": [],
   "source": []
  },
  {
   "cell_type": "markdown",
   "id": "59934a6a-57d8-4d51-b142-f438d9330812",
   "metadata": {
    "tags": []
   },
   "source": [
    "### Questions\n",
    "---\n",
    "#### Task 1: Age when hired (part 1)\n",
    "Your organization, Adventure Works, is looking to create a marketing campaign for finding new talent to hire on at the company. They would like to target a specific age group when running the campaign and thus need to know some information about how old each current employee was when they were hired on at the company. In this task, you will use subtraction of the `BirthDate` and `HireDate` fields to determine how many years old the average employee was when they were hired.\n",
    "\n",
    "First, print out information about each of the columns in the dataframe.\n",
    "\n",
    "<p style=\"font-size:.75rem\">Expected output: Informational dataframe</p>"
   ]
  },
  {
   "cell_type": "code",
   "execution_count": null,
   "id": "713b92c9-ff86-495a-85e9-cc6d04732015",
   "metadata": {},
   "outputs": [],
   "source": []
  },
  {
   "cell_type": "markdown",
   "id": "797fcc30-d9bd-4eb9-8533-19172f4ab39d",
   "metadata": {},
   "source": [
    "Looking at the results of the information printed above, what are the default data types for the `BirthDate` and `HireDate` columns? What data type should these columns be converted to that make the most sense?"
   ]
  },
  {
   "cell_type": "markdown",
   "id": "268a405f-8b43-4dad-9f85-6e63c11a3cec",
   "metadata": {},
   "source": [
    "```\n",
    "Your answer here.\n",
    "```"
   ]
  },
  {
   "cell_type": "markdown",
   "id": "fb5489f2-e4cd-439b-95c5-d9f36ed1dfb5",
   "metadata": {},
   "source": [
    "Using the corresponding Pandas function, cast the column `BirthDate` into data type `datetime` and print it out. Make sure that when the datatype of the column is printed out you see `dtype: datetime64[ns]`. Print out something that shows that the data type of this column was changed.\n",
    "\n",
    "You shouldn't need to pass in a Python format string to convert this column to a datetime.\n",
    "\n",
    "<p style=\"font-size:.75rem\">Expected output: Something that shows that the `BirthDate` column was converted to data type `datetime`</p>"
   ]
  },
  {
   "cell_type": "code",
   "execution_count": null,
   "id": "d443458a-15f9-4be3-8355-01415562a850",
   "metadata": {},
   "outputs": [],
   "source": []
  },
  {
   "cell_type": "code",
   "execution_count": null,
   "id": "58ae430d-a00e-4ec6-9f31-cc53ed5ce8ff",
   "metadata": {},
   "outputs": [],
   "source": []
  },
  {
   "cell_type": "markdown",
   "id": "a2431471-78c7-464b-b6b1-905c0b64ca7d",
   "metadata": {},
   "source": [
    "Using code similar to the code that you wrote above, cast the `HireDate` column to data type `datetime` and save it back to the original dataframe as the column `HireDate`. Then, print out something that shows that the data type of both the `HireDate` and `BirthDate` columns were changed to `datetime64[ns]`.\n",
    "\n",
    "<p style=\"font-size:.75rem\">Expected output: Something that shows that the `HireDate` and `BirthDate` columns were converted to data type `datetime`</p>"
   ]
  },
  {
   "cell_type": "code",
   "execution_count": null,
   "id": "b179c968-67dd-4d9f-8c1b-ab7f42af4417",
   "metadata": {},
   "outputs": [],
   "source": []
  },
  {
   "cell_type": "markdown",
   "id": "105b2347-e883-4011-a749-78ad56e6373f",
   "metadata": {},
   "source": [
    "---\n",
    "#### Task 2: Age when hired (part 2)\n",
    "Using the subtraction operator, create a Series of `timedelta` objects that show how many days between the employees' hire date and birth date. Subtract birth date from hire date.\n",
    "\n",
    "<p style=\"font-size:.75rem\">Expected output: Series of dtype timedelta64[ns] whose first value is 18972 and last value is 12079 days.</p>"
   ]
  },
  {
   "cell_type": "code",
   "execution_count": null,
   "id": "15ed664b-6686-494f-b363-b83f85d0c6e1",
   "metadata": {
    "tags": []
   },
   "outputs": [],
   "source": []
  },
  {
   "cell_type": "markdown",
   "id": "6df72a9a-723e-4a0b-94cd-cdbd846feb2f",
   "metadata": {
    "tags": []
   },
   "source": [
    "After subtracting the `BirthDate` column from the `HireDate` column, what is the data type of the Series that is returned?"
   ]
  },
  {
   "cell_type": "markdown",
   "id": "b8bce6c5-8387-4fec-a35e-487dab70215d",
   "metadata": {},
   "source": [
    "```\n",
    "Your answer here.\n",
    "```"
   ]
  },
  {
   "cell_type": "markdown",
   "id": "f032e328-7e7d-4d1d-aeab-49b2e1a48083",
   "metadata": {},
   "source": [
    "Using the Series created above, create a new column called `YearsOldAtHireDate` that contains information about how old each employee was when hired. You can do this by extracting the number of days from the `timedelta` objects and then converting them to years by dividing by 365.25. Print out the dataframe to show that the new column `YearsOldAtHireDate` was added correctly.\n",
    "\n",
    "<p style=\"font-size:.75rem\">Expected output: Dataframe rows showing that the column `YearsOldAtHireDate` was added correctly</p>"
   ]
  },
  {
   "cell_type": "code",
   "execution_count": null,
   "id": "a45dea6b-37c5-4c07-a12d-69f22cd76d06",
   "metadata": {},
   "outputs": [],
   "source": []
  },
  {
   "cell_type": "markdown",
   "id": "e7cedfce-ea5f-435b-8ef8-3249b06be64c",
   "metadata": {},
   "source": [
    "---\n",
    "#### Task 3: Age when hired (part 3)\n",
    "Determine how old the average employee was when they were hired in years."
   ]
  },
  {
   "cell_type": "code",
   "execution_count": null,
   "id": "caf5f08b-2587-428b-889f-94d29b2be545",
   "metadata": {},
   "outputs": [],
   "source": []
  },
  {
   "cell_type": "markdown",
   "id": "407aba32-3a5a-4b93-8dcf-3a0e3ddbe327",
   "metadata": {},
   "source": [
    "Answer the question, \"How old was the average employee when they were hired?\" below."
   ]
  },
  {
   "cell_type": "markdown",
   "id": "3a55b114-802b-4329-a434-23a450a03222",
   "metadata": {},
   "source": [
    "```\n",
    "Your answer here.\n",
    "```"
   ]
  },
  {
   "cell_type": "markdown",
   "id": "dfe75de5-5757-4937-80a5-cb44b2682869",
   "metadata": {},
   "source": [
    "---\n",
    "#### Task 4: Find shift leaders\n",
    "There has recently been some disorganization among the employees working in the Production department. Employees whose `ShiftID` is 2 have been complaining for a while about problems going on during their shift with production equipment, and nobody seems to know who the manager of that shift is.\n",
    "\n",
    "The database administrator provided you with a CSV file called \"shifts.csv\" that contains information about each shift.\n",
    "\n",
    "Import the file `shifts.csv` from the `data` directory into a Pandas dataframe called `shifts_df`. Then, merge the dataframe `shifts_df` to the dataframe `df` using the `ShiftID` column of both. Save the new dataframe with the joined data as `df`. Show the rows of the shift leaders by filtering this new dataframe to show only rows where `EmployeeID` is equal to `EmployeeShiftLeader`.\n",
    "\n",
    "<p style=\"font-size:.75rem\">Expected output: 3 rows for EmployeeID 46, 70, and 39</p>"
   ]
  },
  {
   "cell_type": "code",
   "execution_count": null,
   "id": "46a7d55c-c83e-4ddf-b347-a137c6564c73",
   "metadata": {},
   "outputs": [],
   "source": []
  },
  {
   "cell_type": "markdown",
   "id": "c8bedc3c-363a-42bd-a30e-09bd3caad7f8",
   "metadata": {},
   "source": [
    "What is the name of the shift leader for shift number 2? What department do they work in? You can look in the `LoginID` field for the employee's first name."
   ]
  },
  {
   "cell_type": "markdown",
   "id": "9f91f67d-9f11-4e01-bae7-063c97ebf84d",
   "metadata": {},
   "source": [
    "```\n",
    "Your answer here.\n",
    "```"
   ]
  },
  {
   "cell_type": "markdown",
   "id": "d7c9243e-ac66-4da8-80e8-a91e5b171c02",
   "metadata": {},
   "source": [
    "---\n",
    "#### Task 5: Export the data\n",
    "Export the dataframe `df` as a CSV file called `pay_history_modified.csv`. Do not include the dataframe index in the CSV file.\n",
    "\n",
    "Make sure that this expored CSV file is included in your final submission.\n",
    "\n",
    "<p style=\"font-size:.75rem\">Expected output: None</p>"
   ]
  },
  {
   "cell_type": "code",
   "execution_count": null,
   "id": "5b069605-660f-4aa7-a63f-211ccd4bd1f8",
   "metadata": {},
   "outputs": [],
   "source": []
  },
  {
   "cell_type": "markdown",
   "id": "5e27f7a4-cd5c-4d49-b12a-93193d0902cb",
   "metadata": {},
   "source": [
    "---\n",
    "### Submission\n",
    "\n",
    "Submit this file as you normally would, by zipping this `.ipynb` file and the `data` folder into a zip folder. However, also zip up your `pay_history_modified.csv` file into this zip folder. Submit this zip folder to Canvas."
   ]
  }
 ],
 "metadata": {
  "kernelspec": {
   "display_name": "Python 3 (ipykernel)",
   "language": "python",
   "name": "python3"
  },
  "language_info": {
   "codemirror_mode": {
    "name": "ipython",
    "version": 3
   },
   "file_extension": ".py",
   "mimetype": "text/x-python",
   "name": "python",
   "nbconvert_exporter": "python",
   "pygments_lexer": "ipython3",
   "version": "3.10.2"
  }
 },
 "nbformat": 4,
 "nbformat_minor": 5
}
