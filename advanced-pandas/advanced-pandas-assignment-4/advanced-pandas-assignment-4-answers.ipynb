{
 "cells": [
  {
   "cell_type": "markdown",
   "id": "ada507fc-7090-4973-bbac-35bca7792092",
   "metadata": {},
   "source": [
    "# Advanced Pandas Assignment 4\n",
    "\n",
    "In this assignment, you will practice date formatting, joins, and exporting data from a Pandas dataframe.\n",
    "\n",
    "### Note about assignments\n",
    "You can add lines of code according to your preferences. As long as the code required by the assignment is found in this notebook under the corresponding question header (ie. the answer to question 1 is underneath the title \"Question 1\"), you will receive credit for it.\n",
    "\n",
    "## About the data\n",
    "The data used in this assignment is a table built from the Human Resources schema of the Adventure Works 2019 database. This data contains information about each time that Employee Pay History was changed (each line is a pay rate change). It also contains information about the employee and the department they were working in when they received the pay rate listed.\n",
    "\n",
    "The actual data is stored in a CSV file located inside the `data` folder. The file is called `pay_history.csv`. Another supplemental file called `shifts.csv` has also been provided in the `data` folder that will be used in some of the exercises below.\n",
    "\n",
    "## Instructions\n",
    "### Set up\n",
    "##### Import Pandas\n",
    "Import the Pandas library into Jupyter Lab."
   ]
  },
  {
   "cell_type": "code",
   "execution_count": null,
   "id": "01fa476f-ffe2-432a-a8bd-5e18d96177e9",
   "metadata": {},
   "outputs": [],
   "source": [
    "import pandas as pd"
   ]
  },
  {
   "cell_type": "markdown",
   "id": "05cd4794-0c3f-42cd-8879-5e075d16a1b2",
   "metadata": {},
   "source": [
    "##### Disable column display limit\n",
    "Use the following code to disable the default limit for displaying columns. If you don't use this code, a data set with more than 20 columns will be truncated when displayed to take up less space.\n",
    "\n",
    "```python\n",
    "pd.options.display.max_columns = None\n",
    "```"
   ]
  },
  {
   "cell_type": "code",
   "execution_count": null,
   "id": "4683c034-4cc4-4ebd-bd4b-54b854474a55",
   "metadata": {},
   "outputs": [],
   "source": [
    "pd.options.display.max_columns = None"
   ]
  },
  {
   "cell_type": "markdown",
   "id": "db9c8157-546c-4c8c-86ea-ea00e8bf9d41",
   "metadata": {},
   "source": [
    "##### Create the dataframe\n",
    "Use the `read_csv()` function from Pandas to read the data from the `pay_history.csv` file into a dataframe called `df`."
   ]
  },
  {
   "cell_type": "code",
   "execution_count": null,
   "id": "0f9e3fc3-6f85-4e97-8f86-6b91f7bf89dd",
   "metadata": {},
   "outputs": [],
   "source": [
    "df = pd.read_csv(\"./data/pay_history.csv\")"
   ]
  },
  {
   "cell_type": "markdown",
   "id": "5d64b4b7-25fd-49f0-bb1d-ab92509284e7",
   "metadata": {},
   "source": [
    "##### Preview dataframe\n",
    "Use the `.head()` method to print out the first 5 rows of the dataframe."
   ]
  },
  {
   "cell_type": "code",
   "execution_count": null,
   "id": "5ecc6e4c-5445-4ce4-9082-020562637fbd",
   "metadata": {},
   "outputs": [],
   "source": [
    "df.head()"
   ]
  },
  {
   "cell_type": "markdown",
   "id": "59934a6a-57d8-4d51-b142-f438d9330812",
   "metadata": {
    "tags": []
   },
   "source": [
    "### Questions\n",
    "#### Age when hired\n",
    "Your organization, Adventure Works, is looking to create a promotion for finding new talent to hire on at the company. They would like to target a specific age group when running the promotion, and need to know some information about how old each current employee was when they were hired on at the company. In this problem, you will create datetime fields for the `BirthDate` and `HireDate` fields and use subtraction to determine how many years old the average employee was when they were hired."
   ]
  },
  {
   "cell_type": "markdown",
   "id": "fff9a23f-c806-4274-9059-afddca917af8",
   "metadata": {},
   "source": [
    "##### Question 1: Print the data types\n",
    "Use the `.info()` method to print out the data types for each column in the dataframe."
   ]
  },
  {
   "cell_type": "code",
   "execution_count": null,
   "id": "713b92c9-ff86-495a-85e9-cc6d04732015",
   "metadata": {},
   "outputs": [],
   "source": [
    "df.info()"
   ]
  },
  {
   "cell_type": "markdown",
   "id": "797fcc30-d9bd-4eb9-8533-19172f4ab39d",
   "metadata": {},
   "source": [
    "##### Question 2: Data types for `BirthDate` and `HireDate`\n",
    "Looking at the results of the `.info()` method above, what are the default data types for the `BirthDate` and `HireDate` columns? What data type should these columns be converted to that make the most sense?"
   ]
  },
  {
   "cell_type": "markdown",
   "id": "268a405f-8b43-4dad-9f85-6e63c11a3cec",
   "metadata": {},
   "source": [
    "```\n",
    "The `BirthDate` and `HireDate` columns have a default data type of `object`, which is a string type. The columns should be converted to data type `datetime`.\n",
    "```"
   ]
  },
  {
   "cell_type": "markdown",
   "id": "fb5489f2-e4cd-439b-95c5-d9f36ed1dfb5",
   "metadata": {},
   "source": [
    "##### Question 3: Cast the `BirthDate` column to `datetime`\n",
    "Using the Pandas function `to_datetime()`, cast the `BirthDate` column into data type `datetime` and print it out. Make sure that at the bottom of the Series that gets printed out you see `dtype: datetime64[ns]`.\n",
    "\n",
    "You shouldn't need to pass in a Python format string to convert this column to a datetime."
   ]
  },
  {
   "cell_type": "code",
   "execution_count": null,
   "id": "d443458a-15f9-4be3-8355-01415562a850",
   "metadata": {},
   "outputs": [],
   "source": [
    "pd.to_datetime(df['BirthDate'])"
   ]
  },
  {
   "cell_type": "markdown",
   "id": "7c54cc3b-b0f4-4cd2-849e-5c17770d03d3",
   "metadata": {},
   "source": [
    "##### Question 4: Save the `BirthDate` column\n",
    "Using the code from above, save the newly converted `BirthDate` column back to the original dataframe as the column `BirthDate`."
   ]
  },
  {
   "cell_type": "code",
   "execution_count": null,
   "id": "58ae430d-a00e-4ec6-9f31-cc53ed5ce8ff",
   "metadata": {},
   "outputs": [],
   "source": [
    "df['BirthDate'] = pd.to_datetime(df['BirthDate'])"
   ]
  },
  {
   "cell_type": "markdown",
   "id": "e997722b-85d5-48be-a2c4-a659b93e4175",
   "metadata": {},
   "source": [
    "##### Question 5: Print out the dataframe info\n",
    "Using the `.info()` method, print out the dataframe information again. Make sure that the data type for the `BirthDate` column is now `datetime` (`datetime64[ns]` is the same thing)."
   ]
  },
  {
   "cell_type": "code",
   "execution_count": null,
   "id": "4075bbf5-761b-46c8-a9d5-0bb2cfb3da45",
   "metadata": {},
   "outputs": [],
   "source": [
    "df.info()"
   ]
  },
  {
   "cell_type": "markdown",
   "id": "a2431471-78c7-464b-b6b1-905c0b64ca7d",
   "metadata": {},
   "source": [
    "##### Question 6: Save the `HireDate` column\n",
    "Using code similar to the code that you wrote above, cast the `HireDate` column to data type `datetime` and save it back to the original dataframe as the column `HireDate`."
   ]
  },
  {
   "cell_type": "code",
   "execution_count": null,
   "id": "d7ba002a-1ddc-4fbe-b208-05b2640f091a",
   "metadata": {},
   "outputs": [],
   "source": [
    "df['HireDate'] = pd.to_datetime(df['HireDate'])"
   ]
  },
  {
   "cell_type": "markdown",
   "id": "d8274f7a-8bca-48cc-9ce6-693c9e16ee5e",
   "metadata": {},
   "source": [
    "##### Question 7: Print out the dataframe info again\n",
    "Using the `.info()` method, print out the dataframe information again. Make sure that the data type for both `BirthDate` and `HireDate` is now `datetime`."
   ]
  },
  {
   "cell_type": "code",
   "execution_count": null,
   "id": "b179c968-67dd-4d9f-8c1b-ab7f42af4417",
   "metadata": {},
   "outputs": [],
   "source": [
    "df.info()"
   ]
  },
  {
   "cell_type": "markdown",
   "id": "105b2347-e883-4011-a749-78ad56e6373f",
   "metadata": {},
   "source": [
    "##### Question 8: Subtract dates\n",
    "Using the subtraction operator, create a Series of `timedelta` objects that show how many days between the employees' hire date and birth date. Subtract birth date from hire date."
   ]
  },
  {
   "cell_type": "code",
   "execution_count": null,
   "id": "15ed664b-6686-494f-b363-b83f85d0c6e1",
   "metadata": {
    "tags": []
   },
   "outputs": [],
   "source": [
    "df['HireDate'] - df['BirthDate']"
   ]
  },
  {
   "cell_type": "markdown",
   "id": "6df72a9a-723e-4a0b-94cd-cdbd846feb2f",
   "metadata": {
    "tags": []
   },
   "source": [
    "##### Question 9: What data type is returned?\n",
    "After subtracting the `BirthDate` column from the `HireDate` column, what is the data type of the Series that is returned?"
   ]
  },
  {
   "cell_type": "markdown",
   "id": "b8bce6c5-8387-4fec-a35e-487dab70215d",
   "metadata": {},
   "source": [
    "```\n",
    "The data type of the Series is `timedelta`.\n",
    "```"
   ]
  },
  {
   "cell_type": "markdown",
   "id": "f032e328-7e7d-4d1d-aeab-49b2e1a48083",
   "metadata": {},
   "source": [
    "##### Question 10: Save calculation as `DaysOldAtHireDate`.\n",
    "Using the calculation from above, create a new column called `DaysOldAtHireDate` that contains `timedelta` objects in each row."
   ]
  },
  {
   "cell_type": "code",
   "execution_count": null,
   "id": "a45dea6b-37c5-4c07-a12d-69f22cd76d06",
   "metadata": {},
   "outputs": [],
   "source": [
    "df['DaysOldAtHireDate'] = df['HireDate'] - df['BirthDate']"
   ]
  },
  {
   "cell_type": "markdown",
   "id": "83896453-79dc-4eaf-a72b-b3c40d1c94a0",
   "metadata": {},
   "source": [
    "##### Question 11: Extract the days\n",
    "Using the `.dt.days` property, extract the number of days between each employee's hire date and birth date using the new `DaysOldAtHireDate` column. Print out this Series of integers."
   ]
  },
  {
   "cell_type": "code",
   "execution_count": null,
   "id": "04dc9031-80e6-4560-92de-6547778d8a49",
   "metadata": {},
   "outputs": [],
   "source": [
    "df['DaysOldAtHireDate'].dt.days"
   ]
  },
  {
   "cell_type": "markdown",
   "id": "fb9b04b2-5b6f-45c2-be5f-7da8364b11ce",
   "metadata": {},
   "source": [
    "##### Question 12: Convert days to years\n",
    "Using the code from above, convert the number of days old that each employee was when hired to years. You can do this by dividing the number of days by 365.25, which will approximate how old in years each employee is."
   ]
  },
  {
   "cell_type": "code",
   "execution_count": null,
   "id": "9c44ff17-4a2c-469e-9eda-c77a97ec35f2",
   "metadata": {},
   "outputs": [],
   "source": [
    "df['DaysOldAtHireDate'].dt.days / 365.25"
   ]
  },
  {
   "cell_type": "markdown",
   "id": "3d0c042d-76a7-40f2-b2e9-ebd4f45c09a3",
   "metadata": {},
   "source": [
    "##### Question 13: Save new column `YearsOldAtHireDate`\n",
    "Using the calculation from above, create a new column in the dataframe `YearsOldAtHireDate` that contains float values that reflect how many years old each employee was when hired."
   ]
  },
  {
   "cell_type": "code",
   "execution_count": null,
   "id": "292518bd-e9f1-4b60-8d64-8fcf675fc7ad",
   "metadata": {},
   "outputs": [],
   "source": [
    "df['YearsOldAtHireDate'] = df['DaysOldAtHireDate'].dt.days / 365.25"
   ]
  },
  {
   "cell_type": "markdown",
   "id": "e7cedfce-ea5f-435b-8ef8-3249b06be64c",
   "metadata": {},
   "source": [
    "##### Question 14: Find the average age when hired\n",
    "Use the `.mean()` method on the `YearsOldAtHireDate` column to determine how old the average employee was when they were hired."
   ]
  },
  {
   "cell_type": "code",
   "execution_count": null,
   "id": "caf5f08b-2587-428b-889f-94d29b2be545",
   "metadata": {},
   "outputs": [],
   "source": [
    "df['YearsOldAtHireDate'].mean()"
   ]
  },
  {
   "cell_type": "markdown",
   "id": "407aba32-3a5a-4b93-8dcf-3a0e3ddbe327",
   "metadata": {},
   "source": [
    "##### Question 15: How old was the average employee when they were hired?\n",
    "Answer the question, \"How old was the average employee when they were hired?\" below."
   ]
  },
  {
   "cell_type": "markdown",
   "id": "3a55b114-802b-4329-a434-23a450a03222",
   "metadata": {},
   "source": [
    "```\n",
    "The average employee was 30.93 years old.\n",
    "```"
   ]
  },
  {
   "cell_type": "markdown",
   "id": "dfe75de5-5757-4937-80a5-cb44b2682869",
   "metadata": {},
   "source": [
    "#### Find shift leaders\n",
    "There has recently been some disorganization among the employees working in the Production department. Employees whose `ShiftID` is 2 have been complaining for a while about problems going on during their shift with production equipment, and nobody seems to know who the manager of that shift is.\n",
    "\n",
    "The database administrator provided you with a CSV file called \"shifts.csv\" that contains information about each shift.\n",
    "\n",
    "##### Question 16: Import the shifts CSV\n",
    "Using the `read_csv()` function from Pandas, import the file `shifts.csv` from the `data` directory into a Pandas dataframe called `shifts_df`."
   ]
  },
  {
   "cell_type": "code",
   "execution_count": null,
   "id": "7b8f9e6c-a90f-4600-a6c3-087483638e3d",
   "metadata": {},
   "outputs": [],
   "source": [
    "shifts_df = pd.read_csv(\"./data/shifts.csv\")"
   ]
  },
  {
   "cell_type": "markdown",
   "id": "6fa9bdea-dc7a-4c41-ae9d-c642bf98f7f5",
   "metadata": {},
   "source": [
    "##### Question 17: Print out the top 5 rows\n",
    "Using the `.head()` method, print out the top 5 rows of the `shifts_df` dataframe."
   ]
  },
  {
   "cell_type": "code",
   "execution_count": null,
   "id": "5ab48bf1-e158-45de-844b-5ced8274a221",
   "metadata": {},
   "outputs": [],
   "source": [
    "shifts_df.head()"
   ]
  },
  {
   "cell_type": "markdown",
   "id": "84502292-f0f8-4d3b-9e63-4c2545635930",
   "metadata": {},
   "source": [
    "##### Question 18: Join the `shifts_df` dataframe to the `df` dataframe\n",
    "Using the `.merge()` method, join the `shifts_df` dataframe to the `df` dataframe using the `ShiftID` column on both dataframes. Save this new dataframe with the joined data as `df`. Print out the first five rows of `df` using the `.head()` method when finished."
   ]
  },
  {
   "cell_type": "code",
   "execution_count": null,
   "id": "146e7412-b65c-4357-8dbc-3199a7fc00ed",
   "metadata": {},
   "outputs": [],
   "source": [
    "df = df.merge(shifts_df, left_on=\"ShiftID\", right_on=\"ShiftID\")\n",
    "df.head()"
   ]
  },
  {
   "cell_type": "markdown",
   "id": "74bb69d8-578c-4528-ae64-2e9c0491df1c",
   "metadata": {},
   "source": [
    "##### Question 19: Get shift leaders\n",
    "Knowing that the `EmployeeID` column of `df` matches up with the `EmployeeShiftLeader` column that was just joined on to `df`, create a filter that returns rows of the dataframe where `EmployeeID` is equal to `EmployeeShiftLeader`."
   ]
  },
  {
   "cell_type": "code",
   "execution_count": null,
   "id": "46a7d55c-c83e-4ddf-b347-a137c6564c73",
   "metadata": {},
   "outputs": [],
   "source": [
    "df.loc[ df['EmployeeID'] == df['EmployeeShiftLeader']]"
   ]
  },
  {
   "cell_type": "markdown",
   "id": "c8bedc3c-363a-42bd-a30e-09bd3caad7f8",
   "metadata": {},
   "source": [
    "##### Question 20: Info about the shift leaders\n",
    "Answer the following question below:\n",
    "\n",
    "What is the name of the shift leader for shift number 2? What department do they work in? You can look in the `LoginID` field for the first name."
   ]
  },
  {
   "cell_type": "markdown",
   "id": "9f91f67d-9f11-4e01-bae7-063c97ebf84d",
   "metadata": {},
   "source": [
    "```\n",
    "David is the leader of shift 2 and works in the Production department.\n",
    "```"
   ]
  },
  {
   "cell_type": "markdown",
   "id": "d7c9243e-ac66-4da8-80e8-a91e5b171c02",
   "metadata": {},
   "source": [
    "#### Export the data\n",
    "##### Question 21: Export to CSV\n",
    "Using the `.to_csv()` method, export the dataframe `df` as a CSV file called `pay_history_modified.csv`. Do not include the dataframe index in the CSV file (you can do this by passing in a parameter `index=False` to the method)."
   ]
  },
  {
   "cell_type": "code",
   "execution_count": null,
   "id": "5b069605-660f-4aa7-a63f-211ccd4bd1f8",
   "metadata": {},
   "outputs": [],
   "source": [
    "df.to_csv('pay_history_modified.csv', index=False)"
   ]
  }
 ],
 "metadata": {
  "kernelspec": {
   "display_name": "Python 3 (ipykernel)",
   "language": "python",
   "name": "python3"
  },
  "language_info": {
   "codemirror_mode": {
    "name": "ipython",
    "version": 3
   },
   "file_extension": ".py",
   "mimetype": "text/x-python",
   "name": "python",
   "nbconvert_exporter": "python",
   "pygments_lexer": "ipython3",
   "version": "3.10.2"
  }
 },
 "nbformat": 4,
 "nbformat_minor": 5
}
