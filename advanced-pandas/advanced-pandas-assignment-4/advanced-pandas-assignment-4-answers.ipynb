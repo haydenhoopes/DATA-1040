{
 "cells": [
  {
   "cell_type": "markdown",
   "id": "ada507fc-7090-4973-bbac-35bca7792092",
   "metadata": {},
   "source": [
    "# Advanced Pandas Assignment 4\n",
    "\n",
    "In this assignment, you will practice date formatting, joins, and exporting data from a Pandas dataframe.\n",
    "\n",
    "### Note about assignments\n",
    "You can add lines of code according to your preferences. As long as the code required by the assignment is found in this notebook under the corresponding question header (ie. the answer to question 1 is underneath the title \"Question 1\"), you will receive credit for it.\n",
    "\n",
    "## About the data\n",
    "The data used in this assignment is a table built from the Human Resources schema of the Adventure Works 2019 database. This data contains information about each time that Employee Pay History was changed (each line is a pay rate change). It also contains information about the employee and the department they were working in when they received the pay rate listed.\n",
    "\n",
    "The actual data is stored in a CSV file located inside the `data` folder. The file is called `pay_history.csv`. Another supplemental file called `shifts.csv` has also been provided in the `data` folder that will be used in some of the exercises below.\n",
    "\n",
    "## Instructions\n",
    "### Set up\n",
    "##### Import Pandas\n",
    "Import the Pandas library into Jupyter Lab.\n",
    "\n",
    "<p style=\"font-size:.75rem\">Expected output: None</p>"
   ]
  },
  {
   "cell_type": "code",
   "execution_count": 1,
   "id": "01fa476f-ffe2-432a-a8bd-5e18d96177e9",
   "metadata": {},
   "outputs": [],
   "source": [
    "import pandas as pd"
   ]
  },
  {
   "cell_type": "markdown",
   "id": "05cd4794-0c3f-42cd-8879-5e075d16a1b2",
   "metadata": {},
   "source": [
    "##### Disable column display limit\n",
    "Use the following code to disable the default limit for displaying columns. If you don't use this code, a data set with more than 20 columns will be truncated when displayed to take up less space.\n",
    "\n",
    "```python\n",
    "pd.options.display.max_columns = None\n",
    "```\n",
    "\n",
    "<p style=\"font-size:.75rem\">Expected output: None</p>"
   ]
  },
  {
   "cell_type": "code",
   "execution_count": 2,
   "id": "4683c034-4cc4-4ebd-bd4b-54b854474a55",
   "metadata": {},
   "outputs": [],
   "source": [
    "pd.options.display.max_columns = None"
   ]
  },
  {
   "cell_type": "markdown",
   "id": "db9c8157-546c-4c8c-86ea-ea00e8bf9d41",
   "metadata": {},
   "source": [
    "##### Create the dataframe\n",
    "Use the `read_csv()` function from Pandas to read the data from the `pay_history.csv` file into a dataframe called `df`.\n",
    "\n",
    "<p style=\"font-size:.75rem\">Expected output: None</p>"
   ]
  },
  {
   "cell_type": "code",
   "execution_count": 3,
   "id": "0f9e3fc3-6f85-4e97-8f86-6b91f7bf89dd",
   "metadata": {},
   "outputs": [],
   "source": [
    "df = pd.read_csv(\"./data/pay_history.csv\")"
   ]
  },
  {
   "cell_type": "markdown",
   "id": "5d64b4b7-25fd-49f0-bb1d-ab92509284e7",
   "metadata": {},
   "source": [
    "##### Preview dataframe\n",
    "Use the `.head()` method to print out the first 5 rows of the dataframe.\n",
    "\n",
    "<p style=\"font-size:.75rem\">Expected output: 5 rows with indexes 0-4.</p>"
   ]
  },
  {
   "cell_type": "code",
   "execution_count": 4,
   "id": "5ecc6e4c-5445-4ce4-9082-020562637fbd",
   "metadata": {},
   "outputs": [
    {
     "data": {
      "text/html": [
       "<div>\n",
       "<style scoped>\n",
       "    .dataframe tbody tr th:only-of-type {\n",
       "        vertical-align: middle;\n",
       "    }\n",
       "\n",
       "    .dataframe tbody tr th {\n",
       "        vertical-align: top;\n",
       "    }\n",
       "\n",
       "    .dataframe thead th {\n",
       "        text-align: right;\n",
       "    }\n",
       "</style>\n",
       "<table border=\"1\" class=\"dataframe\">\n",
       "  <thead>\n",
       "    <tr style=\"text-align: right;\">\n",
       "      <th></th>\n",
       "      <th>EmployeeID</th>\n",
       "      <th>DepartmentID</th>\n",
       "      <th>RateChangeDate</th>\n",
       "      <th>Rate</th>\n",
       "      <th>PayFrequency</th>\n",
       "      <th>LoginID</th>\n",
       "      <th>OrganizationLevel</th>\n",
       "      <th>JobTitle</th>\n",
       "      <th>BirthDate</th>\n",
       "      <th>MaritalStatus</th>\n",
       "      <th>Gender</th>\n",
       "      <th>HireDate</th>\n",
       "      <th>SalariedFlag</th>\n",
       "      <th>VacationHours</th>\n",
       "      <th>SickLeaveHours</th>\n",
       "      <th>CurrentFlag</th>\n",
       "      <th>ShiftID</th>\n",
       "      <th>StartDate</th>\n",
       "      <th>EndDate</th>\n",
       "      <th>ModifiedDate</th>\n",
       "      <th>DepartmentName</th>\n",
       "      <th>Sub-Department</th>\n",
       "    </tr>\n",
       "  </thead>\n",
       "  <tbody>\n",
       "    <tr>\n",
       "      <th>0</th>\n",
       "      <td>40</td>\n",
       "      <td>7</td>\n",
       "      <td>00:00.0</td>\n",
       "      <td>25.00</td>\n",
       "      <td>2</td>\n",
       "      <td>adventure-works\\jolynn0</td>\n",
       "      <td>3.0</td>\n",
       "      <td>Production Supervisor - WC60</td>\n",
       "      <td>1/13/1965</td>\n",
       "      <td>S</td>\n",
       "      <td>F</td>\n",
       "      <td>12/23/2016</td>\n",
       "      <td>0</td>\n",
       "      <td>82</td>\n",
       "      <td>61</td>\n",
       "      <td>1</td>\n",
       "      <td>3</td>\n",
       "      <td>12/23/2016</td>\n",
       "      <td>NaN</td>\n",
       "      <td>00:00.0</td>\n",
       "      <td>Production</td>\n",
       "      <td>Manufacturing</td>\n",
       "    </tr>\n",
       "    <tr>\n",
       "      <th>1</th>\n",
       "      <td>41</td>\n",
       "      <td>7</td>\n",
       "      <td>00:00.0</td>\n",
       "      <td>12.45</td>\n",
       "      <td>1</td>\n",
       "      <td>adventure-works\\bryan0</td>\n",
       "      <td>4.0</td>\n",
       "      <td>Production Technician - WC60</td>\n",
       "      <td>8/25/1982</td>\n",
       "      <td>S</td>\n",
       "      <td>M</td>\n",
       "      <td>1/19/2018</td>\n",
       "      <td>0</td>\n",
       "      <td>35</td>\n",
       "      <td>37</td>\n",
       "      <td>1</td>\n",
       "      <td>3</td>\n",
       "      <td>1/19/2018</td>\n",
       "      <td>NaN</td>\n",
       "      <td>00:00.0</td>\n",
       "      <td>Production</td>\n",
       "      <td>Manufacturing</td>\n",
       "    </tr>\n",
       "    <tr>\n",
       "      <th>2</th>\n",
       "      <td>42</td>\n",
       "      <td>7</td>\n",
       "      <td>00:00.0</td>\n",
       "      <td>12.45</td>\n",
       "      <td>1</td>\n",
       "      <td>adventure-works\\james0</td>\n",
       "      <td>4.0</td>\n",
       "      <td>Production Technician - WC60</td>\n",
       "      <td>7/23/1993</td>\n",
       "      <td>M</td>\n",
       "      <td>M</td>\n",
       "      <td>12/25/2017</td>\n",
       "      <td>0</td>\n",
       "      <td>39</td>\n",
       "      <td>39</td>\n",
       "      <td>1</td>\n",
       "      <td>3</td>\n",
       "      <td>12/25/2017</td>\n",
       "      <td>NaN</td>\n",
       "      <td>00:00.0</td>\n",
       "      <td>Production</td>\n",
       "      <td>Manufacturing</td>\n",
       "    </tr>\n",
       "    <tr>\n",
       "      <th>3</th>\n",
       "      <td>43</td>\n",
       "      <td>7</td>\n",
       "      <td>00:00.0</td>\n",
       "      <td>12.45</td>\n",
       "      <td>1</td>\n",
       "      <td>adventure-works\\nancy0</td>\n",
       "      <td>4.0</td>\n",
       "      <td>Production Technician - WC60</td>\n",
       "      <td>11/17/1997</td>\n",
       "      <td>M</td>\n",
       "      <td>F</td>\n",
       "      <td>12/31/2017</td>\n",
       "      <td>0</td>\n",
       "      <td>34</td>\n",
       "      <td>37</td>\n",
       "      <td>1</td>\n",
       "      <td>3</td>\n",
       "      <td>12/31/2017</td>\n",
       "      <td>NaN</td>\n",
       "      <td>00:00.0</td>\n",
       "      <td>Production</td>\n",
       "      <td>Manufacturing</td>\n",
       "    </tr>\n",
       "    <tr>\n",
       "      <th>4</th>\n",
       "      <td>44</td>\n",
       "      <td>7</td>\n",
       "      <td>00:00.0</td>\n",
       "      <td>12.45</td>\n",
       "      <td>1</td>\n",
       "      <td>adventure-works\\simon0</td>\n",
       "      <td>4.0</td>\n",
       "      <td>Production Technician - WC60</td>\n",
       "      <td>5/15/1999</td>\n",
       "      <td>S</td>\n",
       "      <td>M</td>\n",
       "      <td>12/6/2017</td>\n",
       "      <td>0</td>\n",
       "      <td>38</td>\n",
       "      <td>39</td>\n",
       "      <td>1</td>\n",
       "      <td>3</td>\n",
       "      <td>12/6/2017</td>\n",
       "      <td>NaN</td>\n",
       "      <td>00:00.0</td>\n",
       "      <td>Production</td>\n",
       "      <td>Manufacturing</td>\n",
       "    </tr>\n",
       "  </tbody>\n",
       "</table>\n",
       "</div>"
      ],
      "text/plain": [
       "   EmployeeID  DepartmentID RateChangeDate   Rate  PayFrequency  \\\n",
       "0          40             7        00:00.0  25.00             2   \n",
       "1          41             7        00:00.0  12.45             1   \n",
       "2          42             7        00:00.0  12.45             1   \n",
       "3          43             7        00:00.0  12.45             1   \n",
       "4          44             7        00:00.0  12.45             1   \n",
       "\n",
       "                   LoginID  OrganizationLevel                      JobTitle  \\\n",
       "0  adventure-works\\jolynn0                3.0  Production Supervisor - WC60   \n",
       "1   adventure-works\\bryan0                4.0  Production Technician - WC60   \n",
       "2   adventure-works\\james0                4.0  Production Technician - WC60   \n",
       "3   adventure-works\\nancy0                4.0  Production Technician - WC60   \n",
       "4   adventure-works\\simon0                4.0  Production Technician - WC60   \n",
       "\n",
       "    BirthDate MaritalStatus Gender    HireDate  SalariedFlag  VacationHours  \\\n",
       "0   1/13/1965             S      F  12/23/2016             0             82   \n",
       "1   8/25/1982             S      M   1/19/2018             0             35   \n",
       "2   7/23/1993             M      M  12/25/2017             0             39   \n",
       "3  11/17/1997             M      F  12/31/2017             0             34   \n",
       "4   5/15/1999             S      M   12/6/2017             0             38   \n",
       "\n",
       "   SickLeaveHours  CurrentFlag  ShiftID   StartDate EndDate ModifiedDate  \\\n",
       "0              61            1        3  12/23/2016     NaN      00:00.0   \n",
       "1              37            1        3   1/19/2018     NaN      00:00.0   \n",
       "2              39            1        3  12/25/2017     NaN      00:00.0   \n",
       "3              37            1        3  12/31/2017     NaN      00:00.0   \n",
       "4              39            1        3   12/6/2017     NaN      00:00.0   \n",
       "\n",
       "  DepartmentName Sub-Department  \n",
       "0     Production  Manufacturing  \n",
       "1     Production  Manufacturing  \n",
       "2     Production  Manufacturing  \n",
       "3     Production  Manufacturing  \n",
       "4     Production  Manufacturing  "
      ]
     },
     "execution_count": 4,
     "metadata": {},
     "output_type": "execute_result"
    }
   ],
   "source": [
    "df.head()"
   ]
  },
  {
   "cell_type": "markdown",
   "id": "59934a6a-57d8-4d51-b142-f438d9330812",
   "metadata": {
    "tags": []
   },
   "source": [
    "### Questions\n",
    "#### Age when hired\n",
    "Your organization, Adventure Works, is looking to create a promotion for finding new talent to hire on at the company. They would like to target a specific age group when running the promotion, and need to know some information about how old each current employee was when they were hired on at the company. In this problem, you will create datetime fields for the `BirthDate` and `HireDate` fields and use subtraction to determine how many years old the average employee was when they were hired."
   ]
  },
  {
   "cell_type": "markdown",
   "id": "fff9a23f-c806-4274-9059-afddca917af8",
   "metadata": {},
   "source": [
    "##### Question 1: Print the data types\n",
    "Use the `.info()` method to print out the data types for each column in the dataframe.\n",
    "\n",
    "<p style=\"font-size:.75rem\">Expected output: Informational dataframe showing that BirthDate and HireDate have dtype of object.</p>"
   ]
  },
  {
   "cell_type": "code",
   "execution_count": 5,
   "id": "713b92c9-ff86-495a-85e9-cc6d04732015",
   "metadata": {},
   "outputs": [
    {
     "name": "stdout",
     "output_type": "stream",
     "text": [
      "<class 'pandas.core.frame.DataFrame'>\n",
      "RangeIndex: 304 entries, 0 to 303\n",
      "Data columns (total 22 columns):\n",
      " #   Column             Non-Null Count  Dtype  \n",
      "---  ------             --------------  -----  \n",
      " 0   EmployeeID         304 non-null    int64  \n",
      " 1   DepartmentID       304 non-null    int64  \n",
      " 2   RateChangeDate     304 non-null    object \n",
      " 3   Rate               304 non-null    float64\n",
      " 4   PayFrequency       304 non-null    int64  \n",
      " 5   LoginID            304 non-null    object \n",
      " 6   OrganizationLevel  303 non-null    float64\n",
      " 7   JobTitle           304 non-null    object \n",
      " 8   BirthDate          304 non-null    object \n",
      " 9   MaritalStatus      304 non-null    object \n",
      " 10  Gender             304 non-null    object \n",
      " 11  HireDate           304 non-null    object \n",
      " 12  SalariedFlag       304 non-null    int64  \n",
      " 13  VacationHours      304 non-null    int64  \n",
      " 14  SickLeaveHours     304 non-null    int64  \n",
      " 15  CurrentFlag        304 non-null    int64  \n",
      " 16  ShiftID            304 non-null    int64  \n",
      " 17  StartDate          304 non-null    object \n",
      " 18  EndDate            7 non-null      object \n",
      " 19  ModifiedDate       304 non-null    object \n",
      " 20  DepartmentName     304 non-null    object \n",
      " 21  Sub-Department     304 non-null    object \n",
      "dtypes: float64(2), int64(8), object(12)\n",
      "memory usage: 52.4+ KB\n"
     ]
    }
   ],
   "source": [
    "df.info()"
   ]
  },
  {
   "cell_type": "markdown",
   "id": "797fcc30-d9bd-4eb9-8533-19172f4ab39d",
   "metadata": {},
   "source": [
    "##### Question 2: Data types for `BirthDate` and `HireDate`\n",
    "Looking at the results of the `.info()` method above, what are the default data types for the `BirthDate` and `HireDate` columns? What data type should these columns be converted to that make the most sense?\n",
    "\n",
    "<p style=\"font-size:.75rem\">Expected output: None</p>"
   ]
  },
  {
   "cell_type": "markdown",
   "id": "268a405f-8b43-4dad-9f85-6e63c11a3cec",
   "metadata": {},
   "source": [
    "```\n",
    "The `BirthDate` and `HireDate` columns have a default data type of `object`, which is a string type. The columns should be converted to data type `datetime`.\n",
    "```"
   ]
  },
  {
   "cell_type": "markdown",
   "id": "fb5489f2-e4cd-439b-95c5-d9f36ed1dfb5",
   "metadata": {},
   "source": [
    "##### Question 3: Cast the `BirthDate` column to `datetime`\n",
    "Using the Pandas function `to_datetime()`, cast the `BirthDate` column into data type `datetime` and print it out. Make sure that at the bottom of the Series that gets printed out you see `dtype: datetime64[ns]`.\n",
    "\n",
    "You shouldn't need to pass in a Python format string to convert this column to a datetime.\n",
    "\n",
    "<p style=\"font-size:.75rem\">Expected output: Series of dtype datetime64[ns]</p>"
   ]
  },
  {
   "cell_type": "code",
   "execution_count": 6,
   "id": "d443458a-15f9-4be3-8355-01415562a850",
   "metadata": {},
   "outputs": [
    {
     "data": {
      "text/plain": [
       "0     1965-01-13\n",
       "1     1982-08-25\n",
       "2     1993-07-23\n",
       "3     1997-11-17\n",
       "4     1999-05-15\n",
       "         ...    \n",
       "299   1994-05-02\n",
       "300   1978-01-27\n",
       "301   1985-01-03\n",
       "302   1985-01-03\n",
       "303   1985-01-03\n",
       "Name: BirthDate, Length: 304, dtype: datetime64[ns]"
      ]
     },
     "execution_count": 6,
     "metadata": {},
     "output_type": "execute_result"
    }
   ],
   "source": [
    "pd.to_datetime(df['BirthDate'])"
   ]
  },
  {
   "cell_type": "markdown",
   "id": "7c54cc3b-b0f4-4cd2-849e-5c17770d03d3",
   "metadata": {},
   "source": [
    "##### Question 4: Save the `BirthDate` column\n",
    "Using the code from above, save the newly converted `BirthDate` column back to the original dataframe as the column `BirthDate`.\n",
    "\n",
    "<p style=\"font-size:.75rem\">Expected output: None</p>"
   ]
  },
  {
   "cell_type": "code",
   "execution_count": 7,
   "id": "58ae430d-a00e-4ec6-9f31-cc53ed5ce8ff",
   "metadata": {},
   "outputs": [],
   "source": [
    "df['BirthDate'] = pd.to_datetime(df['BirthDate'])"
   ]
  },
  {
   "cell_type": "markdown",
   "id": "e997722b-85d5-48be-a2c4-a659b93e4175",
   "metadata": {},
   "source": [
    "##### Question 5: Print out the dataframe info\n",
    "Using the `.info()` method, print out the dataframe information again. Make sure that the data type for the `BirthDate` column is now `datetime` (`datetime64[ns]` is the same thing).\n",
    "\n",
    "<p style=\"font-size:.75rem\">Expected output: Informational dataframe now showing that BirthDate column has dtype of datetime64[ns]</p>"
   ]
  },
  {
   "cell_type": "code",
   "execution_count": 8,
   "id": "4075bbf5-761b-46c8-a9d5-0bb2cfb3da45",
   "metadata": {},
   "outputs": [
    {
     "name": "stdout",
     "output_type": "stream",
     "text": [
      "<class 'pandas.core.frame.DataFrame'>\n",
      "RangeIndex: 304 entries, 0 to 303\n",
      "Data columns (total 22 columns):\n",
      " #   Column             Non-Null Count  Dtype         \n",
      "---  ------             --------------  -----         \n",
      " 0   EmployeeID         304 non-null    int64         \n",
      " 1   DepartmentID       304 non-null    int64         \n",
      " 2   RateChangeDate     304 non-null    object        \n",
      " 3   Rate               304 non-null    float64       \n",
      " 4   PayFrequency       304 non-null    int64         \n",
      " 5   LoginID            304 non-null    object        \n",
      " 6   OrganizationLevel  303 non-null    float64       \n",
      " 7   JobTitle           304 non-null    object        \n",
      " 8   BirthDate          304 non-null    datetime64[ns]\n",
      " 9   MaritalStatus      304 non-null    object        \n",
      " 10  Gender             304 non-null    object        \n",
      " 11  HireDate           304 non-null    object        \n",
      " 12  SalariedFlag       304 non-null    int64         \n",
      " 13  VacationHours      304 non-null    int64         \n",
      " 14  SickLeaveHours     304 non-null    int64         \n",
      " 15  CurrentFlag        304 non-null    int64         \n",
      " 16  ShiftID            304 non-null    int64         \n",
      " 17  StartDate          304 non-null    object        \n",
      " 18  EndDate            7 non-null      object        \n",
      " 19  ModifiedDate       304 non-null    object        \n",
      " 20  DepartmentName     304 non-null    object        \n",
      " 21  Sub-Department     304 non-null    object        \n",
      "dtypes: datetime64[ns](1), float64(2), int64(8), object(11)\n",
      "memory usage: 52.4+ KB\n"
     ]
    }
   ],
   "source": [
    "df.info()"
   ]
  },
  {
   "cell_type": "markdown",
   "id": "a2431471-78c7-464b-b6b1-905c0b64ca7d",
   "metadata": {},
   "source": [
    "##### Question 6: Save the `HireDate` column\n",
    "Using code similar to the code that you wrote above, cast the `HireDate` column to data type `datetime` and save it back to the original dataframe as the column `HireDate`.\n",
    "\n",
    "<p style=\"font-size:.75rem\">Expected output: None</p>"
   ]
  },
  {
   "cell_type": "code",
   "execution_count": 9,
   "id": "d7ba002a-1ddc-4fbe-b208-05b2640f091a",
   "metadata": {},
   "outputs": [],
   "source": [
    "df['HireDate'] = pd.to_datetime(df['HireDate'])"
   ]
  },
  {
   "cell_type": "markdown",
   "id": "d8274f7a-8bca-48cc-9ce6-693c9e16ee5e",
   "metadata": {},
   "source": [
    "##### Question 7: Print out the dataframe info again\n",
    "Using the `.info()` method, print out the dataframe information again. Make sure that the data type for both `BirthDate` and `HireDate` is now `datetime`.\n",
    "\n",
    "<p style=\"font-size:.75rem\">Expected output: Informational dataframe showing that BirthDate and HireDate columns have dtype of datetime64[ns].</p>"
   ]
  },
  {
   "cell_type": "code",
   "execution_count": 10,
   "id": "b179c968-67dd-4d9f-8c1b-ab7f42af4417",
   "metadata": {},
   "outputs": [
    {
     "name": "stdout",
     "output_type": "stream",
     "text": [
      "<class 'pandas.core.frame.DataFrame'>\n",
      "RangeIndex: 304 entries, 0 to 303\n",
      "Data columns (total 22 columns):\n",
      " #   Column             Non-Null Count  Dtype         \n",
      "---  ------             --------------  -----         \n",
      " 0   EmployeeID         304 non-null    int64         \n",
      " 1   DepartmentID       304 non-null    int64         \n",
      " 2   RateChangeDate     304 non-null    object        \n",
      " 3   Rate               304 non-null    float64       \n",
      " 4   PayFrequency       304 non-null    int64         \n",
      " 5   LoginID            304 non-null    object        \n",
      " 6   OrganizationLevel  303 non-null    float64       \n",
      " 7   JobTitle           304 non-null    object        \n",
      " 8   BirthDate          304 non-null    datetime64[ns]\n",
      " 9   MaritalStatus      304 non-null    object        \n",
      " 10  Gender             304 non-null    object        \n",
      " 11  HireDate           304 non-null    datetime64[ns]\n",
      " 12  SalariedFlag       304 non-null    int64         \n",
      " 13  VacationHours      304 non-null    int64         \n",
      " 14  SickLeaveHours     304 non-null    int64         \n",
      " 15  CurrentFlag        304 non-null    int64         \n",
      " 16  ShiftID            304 non-null    int64         \n",
      " 17  StartDate          304 non-null    object        \n",
      " 18  EndDate            7 non-null      object        \n",
      " 19  ModifiedDate       304 non-null    object        \n",
      " 20  DepartmentName     304 non-null    object        \n",
      " 21  Sub-Department     304 non-null    object        \n",
      "dtypes: datetime64[ns](2), float64(2), int64(8), object(10)\n",
      "memory usage: 52.4+ KB\n"
     ]
    }
   ],
   "source": [
    "df.info()"
   ]
  },
  {
   "cell_type": "markdown",
   "id": "105b2347-e883-4011-a749-78ad56e6373f",
   "metadata": {},
   "source": [
    "##### Question 8: Subtract dates\n",
    "Using the subtraction operator, create a Series of `timedelta` objects that show how many days between the employees' hire date and birth date. Subtract birth date from hire date.\n",
    "\n",
    "<p style=\"font-size:.75rem\">Expected output: Series of dtype timedelta64[ns] whose first value is 18972 and last value is 12079 days.</p>"
   ]
  },
  {
   "cell_type": "code",
   "execution_count": 11,
   "id": "15ed664b-6686-494f-b363-b83f85d0c6e1",
   "metadata": {
    "tags": []
   },
   "outputs": [
    {
     "data": {
      "text/plain": [
       "0     18972 days\n",
       "1     12931 days\n",
       "2      8921 days\n",
       "3      7349 days\n",
       "4      6780 days\n",
       "         ...    \n",
       "299    8699 days\n",
       "300   14595 days\n",
       "301   12079 days\n",
       "302   12079 days\n",
       "303   12079 days\n",
       "Length: 304, dtype: timedelta64[ns]"
      ]
     },
     "execution_count": 11,
     "metadata": {},
     "output_type": "execute_result"
    }
   ],
   "source": [
    "df['HireDate'] - df['BirthDate']"
   ]
  },
  {
   "cell_type": "markdown",
   "id": "6df72a9a-723e-4a0b-94cd-cdbd846feb2f",
   "metadata": {
    "tags": []
   },
   "source": [
    "##### Question 9: What data type is returned?\n",
    "After subtracting the `BirthDate` column from the `HireDate` column, what is the data type of the Series that is returned?\n",
    "\n",
    "<p style=\"font-size:.75rem\">Expected output: None</p>"
   ]
  },
  {
   "cell_type": "markdown",
   "id": "b8bce6c5-8387-4fec-a35e-487dab70215d",
   "metadata": {},
   "source": [
    "```\n",
    "The data type of the Series is `timedelta`.\n",
    "```"
   ]
  },
  {
   "cell_type": "markdown",
   "id": "f032e328-7e7d-4d1d-aeab-49b2e1a48083",
   "metadata": {},
   "source": [
    "##### Question 10: Save calculation as `DaysOldAtHireDate`.\n",
    "Using the calculation from above, create a new column called `DaysOldAtHireDate` that contains `timedelta` objects in each row.\n",
    "\n",
    "<p style=\"font-size:.75rem\">Expected output: None</p>"
   ]
  },
  {
   "cell_type": "code",
   "execution_count": 12,
   "id": "a45dea6b-37c5-4c07-a12d-69f22cd76d06",
   "metadata": {},
   "outputs": [],
   "source": [
    "df['DaysOldAtHireDate'] = df['HireDate'] - df['BirthDate']"
   ]
  },
  {
   "cell_type": "markdown",
   "id": "83896453-79dc-4eaf-a72b-b3c40d1c94a0",
   "metadata": {},
   "source": [
    "##### Question 11: Extract the days\n",
    "Using the `.dt.days` property, extract the number of days between each employee's hire date and birth date using the new `DaysOldAtHireDate` column. Print out this Series of integers.\n",
    "\n",
    "<p style=\"font-size:.75rem\">Expected output: Series of dtype int64 whose first value is 18972 and last value is 12079.</p>"
   ]
  },
  {
   "cell_type": "code",
   "execution_count": 13,
   "id": "04dc9031-80e6-4560-92de-6547778d8a49",
   "metadata": {},
   "outputs": [
    {
     "data": {
      "text/plain": [
       "0      18972\n",
       "1      12931\n",
       "2       8921\n",
       "3       7349\n",
       "4       6780\n",
       "       ...  \n",
       "299     8699\n",
       "300    14595\n",
       "301    12079\n",
       "302    12079\n",
       "303    12079\n",
       "Name: DaysOldAtHireDate, Length: 304, dtype: int64"
      ]
     },
     "execution_count": 13,
     "metadata": {},
     "output_type": "execute_result"
    }
   ],
   "source": [
    "df['DaysOldAtHireDate'].dt.days"
   ]
  },
  {
   "cell_type": "markdown",
   "id": "fb9b04b2-5b6f-45c2-be5f-7da8364b11ce",
   "metadata": {},
   "source": [
    "##### Question 12: Convert days to years\n",
    "Using the code from above, convert the number of days old that each employee was when hired to years. You can do this by dividing the number of days by 365.25, which will approximate how old in years each employee is.\n",
    "\n",
    "<p style=\"font-size:.75rem\">Expected output: Series of dtype float64 whose first value is 51.942505 and whose last value is 33.070500.</p>"
   ]
  },
  {
   "cell_type": "code",
   "execution_count": 14,
   "id": "9c44ff17-4a2c-469e-9eda-c77a97ec35f2",
   "metadata": {},
   "outputs": [
    {
     "data": {
      "text/plain": [
       "0      51.942505\n",
       "1      35.403149\n",
       "2      24.424367\n",
       "3      20.120465\n",
       "4      18.562628\n",
       "         ...    \n",
       "299    23.816564\n",
       "300    39.958932\n",
       "301    33.070500\n",
       "302    33.070500\n",
       "303    33.070500\n",
       "Name: DaysOldAtHireDate, Length: 304, dtype: float64"
      ]
     },
     "execution_count": 14,
     "metadata": {},
     "output_type": "execute_result"
    }
   ],
   "source": [
    "df['DaysOldAtHireDate'].dt.days / 365.25"
   ]
  },
  {
   "cell_type": "markdown",
   "id": "3d0c042d-76a7-40f2-b2e9-ebd4f45c09a3",
   "metadata": {},
   "source": [
    "##### Question 13: Save new column `YearsOldAtHireDate`\n",
    "Using the calculation from above, create a new column in the dataframe `YearsOldAtHireDate` that contains float values that reflect how many years old each employee was when hired.\n",
    "\n",
    "<p style=\"font-size:.75rem\">Expected output: None</p>"
   ]
  },
  {
   "cell_type": "code",
   "execution_count": 15,
   "id": "292518bd-e9f1-4b60-8d64-8fcf675fc7ad",
   "metadata": {},
   "outputs": [],
   "source": [
    "df['YearsOldAtHireDate'] = df['DaysOldAtHireDate'].dt.days / 365.25"
   ]
  },
  {
   "cell_type": "markdown",
   "id": "e7cedfce-ea5f-435b-8ef8-3249b06be64c",
   "metadata": {},
   "source": [
    "##### Question 14: Find the average age when hired\n",
    "Use the `.mean()` method on the `YearsOldAtHireDate` column to determine how old the average employee was when they were hired.\n",
    "\n",
    "<p style=\"font-size:.75rem\">Expected output: 30.932985698332075</p>"
   ]
  },
  {
   "cell_type": "code",
   "execution_count": 16,
   "id": "caf5f08b-2587-428b-889f-94d29b2be545",
   "metadata": {},
   "outputs": [
    {
     "data": {
      "text/plain": [
       "30.932985698332075"
      ]
     },
     "execution_count": 16,
     "metadata": {},
     "output_type": "execute_result"
    }
   ],
   "source": [
    "df['YearsOldAtHireDate'].mean()"
   ]
  },
  {
   "cell_type": "markdown",
   "id": "407aba32-3a5a-4b93-8dcf-3a0e3ddbe327",
   "metadata": {},
   "source": [
    "##### Question 15: How old was the average employee when they were hired?\n",
    "Answer the question, \"How old was the average employee when they were hired?\" below.\n",
    "\n",
    "<p style=\"font-size:.75rem\">Expected output: None</p>"
   ]
  },
  {
   "cell_type": "markdown",
   "id": "3a55b114-802b-4329-a434-23a450a03222",
   "metadata": {},
   "source": [
    "```\n",
    "The average employee was 30.93 years old.\n",
    "```"
   ]
  },
  {
   "cell_type": "markdown",
   "id": "dfe75de5-5757-4937-80a5-cb44b2682869",
   "metadata": {},
   "source": [
    "#### Find shift leaders\n",
    "There has recently been some disorganization among the employees working in the Production department. Employees whose `ShiftID` is 2 have been complaining for a while about problems going on during their shift with production equipment, and nobody seems to know who the manager of that shift is.\n",
    "\n",
    "The database administrator provided you with a CSV file called \"shifts.csv\" that contains information about each shift.\n",
    "\n",
    "##### Question 16: Import the shifts CSV\n",
    "Using the `read_csv()` function from Pandas, import the file `shifts.csv` from the `data` directory into a Pandas dataframe called `shifts_df`.\n",
    "\n",
    "<p style=\"font-size:.75rem\">Expected output: None</p>"
   ]
  },
  {
   "cell_type": "code",
   "execution_count": 17,
   "id": "7b8f9e6c-a90f-4600-a6c3-087483638e3d",
   "metadata": {},
   "outputs": [],
   "source": [
    "shifts_df = pd.read_csv(\"./data/shifts.csv\")"
   ]
  },
  {
   "cell_type": "markdown",
   "id": "6fa9bdea-dc7a-4c41-ae9d-c642bf98f7f5",
   "metadata": {},
   "source": [
    "##### Question 17: Print out the top 5 rows\n",
    "Using the `.head()` method, print out the top 5 rows of the `shifts_df` dataframe.\n",
    "\n",
    "<p style=\"font-size:.75rem\">Expected output: 3 rows where the EmployeeShiftLeader column has values 39, 70, and 46.</p>"
   ]
  },
  {
   "cell_type": "code",
   "execution_count": 18,
   "id": "5ab48bf1-e158-45de-844b-5ced8274a221",
   "metadata": {},
   "outputs": [
    {
     "data": {
      "text/html": [
       "<div>\n",
       "<style scoped>\n",
       "    .dataframe tbody tr th:only-of-type {\n",
       "        vertical-align: middle;\n",
       "    }\n",
       "\n",
       "    .dataframe tbody tr th {\n",
       "        vertical-align: top;\n",
       "    }\n",
       "\n",
       "    .dataframe thead th {\n",
       "        text-align: right;\n",
       "    }\n",
       "</style>\n",
       "<table border=\"1\" class=\"dataframe\">\n",
       "  <thead>\n",
       "    <tr style=\"text-align: right;\">\n",
       "      <th></th>\n",
       "      <th>ShiftID</th>\n",
       "      <th>ShiftStartTime</th>\n",
       "      <th>ShiftEndTime</th>\n",
       "      <th>EmployeeShiftLeader</th>\n",
       "    </tr>\n",
       "  </thead>\n",
       "  <tbody>\n",
       "    <tr>\n",
       "      <th>0</th>\n",
       "      <td>1</td>\n",
       "      <td>8:00:00 AM</td>\n",
       "      <td>4:00:00 PM</td>\n",
       "      <td>39</td>\n",
       "    </tr>\n",
       "    <tr>\n",
       "      <th>1</th>\n",
       "      <td>2</td>\n",
       "      <td>4:00:00 PM</td>\n",
       "      <td>12:00:00 AM</td>\n",
       "      <td>70</td>\n",
       "    </tr>\n",
       "    <tr>\n",
       "      <th>2</th>\n",
       "      <td>3</td>\n",
       "      <td>12:00:00 AM</td>\n",
       "      <td>8:00:00 AM</td>\n",
       "      <td>46</td>\n",
       "    </tr>\n",
       "  </tbody>\n",
       "</table>\n",
       "</div>"
      ],
      "text/plain": [
       "   ShiftID ShiftStartTime ShiftEndTime  EmployeeShiftLeader\n",
       "0        1     8:00:00 AM   4:00:00 PM                   39\n",
       "1        2     4:00:00 PM  12:00:00 AM                   70\n",
       "2        3    12:00:00 AM   8:00:00 AM                   46"
      ]
     },
     "execution_count": 18,
     "metadata": {},
     "output_type": "execute_result"
    }
   ],
   "source": [
    "shifts_df.head()"
   ]
  },
  {
   "cell_type": "markdown",
   "id": "84502292-f0f8-4d3b-9e63-4c2545635930",
   "metadata": {},
   "source": [
    "##### Question 18: Join the `shifts_df` dataframe to the `df` dataframe\n",
    "Using the `.merge()` method, join the `shifts_df` dataframe to the `df` dataframe using the `ShiftID` column on both dataframes. Save this new dataframe with the joined data as `df`. Print out the first five rows of `df` using the `.head()` method when finished.\n",
    "\n",
    "<p style=\"font-size:.75rem\">Expected output: 5 rows starting whose EmployeeIDs are 40-44.</p>"
   ]
  },
  {
   "cell_type": "code",
   "execution_count": 23,
   "id": "146e7412-b65c-4357-8dbc-3199a7fc00ed",
   "metadata": {},
   "outputs": [
    {
     "data": {
      "text/html": [
       "<div>\n",
       "<style scoped>\n",
       "    .dataframe tbody tr th:only-of-type {\n",
       "        vertical-align: middle;\n",
       "    }\n",
       "\n",
       "    .dataframe tbody tr th {\n",
       "        vertical-align: top;\n",
       "    }\n",
       "\n",
       "    .dataframe thead th {\n",
       "        text-align: right;\n",
       "    }\n",
       "</style>\n",
       "<table border=\"1\" class=\"dataframe\">\n",
       "  <thead>\n",
       "    <tr style=\"text-align: right;\">\n",
       "      <th></th>\n",
       "      <th>EmployeeID</th>\n",
       "      <th>DepartmentID</th>\n",
       "      <th>RateChangeDate</th>\n",
       "      <th>Rate</th>\n",
       "      <th>PayFrequency</th>\n",
       "      <th>LoginID</th>\n",
       "      <th>OrganizationLevel</th>\n",
       "      <th>JobTitle</th>\n",
       "      <th>BirthDate</th>\n",
       "      <th>MaritalStatus</th>\n",
       "      <th>Gender</th>\n",
       "      <th>HireDate</th>\n",
       "      <th>SalariedFlag</th>\n",
       "      <th>VacationHours</th>\n",
       "      <th>SickLeaveHours</th>\n",
       "      <th>CurrentFlag</th>\n",
       "      <th>ShiftID</th>\n",
       "      <th>StartDate</th>\n",
       "      <th>EndDate</th>\n",
       "      <th>ModifiedDate</th>\n",
       "      <th>DepartmentName</th>\n",
       "      <th>Sub-Department</th>\n",
       "      <th>DaysOldAtHireDate</th>\n",
       "      <th>YearsOldAtHireDate</th>\n",
       "      <th>ShiftStartTime_x</th>\n",
       "      <th>ShiftEndTime_x</th>\n",
       "      <th>EmployeeShiftLeader_x</th>\n",
       "      <th>ShiftStartTime_y</th>\n",
       "      <th>ShiftEndTime_y</th>\n",
       "      <th>EmployeeShiftLeader_y</th>\n",
       "      <th>ShiftStartTime</th>\n",
       "      <th>ShiftEndTime</th>\n",
       "      <th>EmployeeShiftLeader</th>\n",
       "    </tr>\n",
       "  </thead>\n",
       "  <tbody>\n",
       "    <tr>\n",
       "      <th>0</th>\n",
       "      <td>40</td>\n",
       "      <td>7</td>\n",
       "      <td>00:00.0</td>\n",
       "      <td>25.00</td>\n",
       "      <td>2</td>\n",
       "      <td>adventure-works\\jolynn0</td>\n",
       "      <td>3.0</td>\n",
       "      <td>Production Supervisor - WC60</td>\n",
       "      <td>1965-01-13</td>\n",
       "      <td>S</td>\n",
       "      <td>F</td>\n",
       "      <td>2016-12-23</td>\n",
       "      <td>0</td>\n",
       "      <td>82</td>\n",
       "      <td>61</td>\n",
       "      <td>1</td>\n",
       "      <td>3</td>\n",
       "      <td>12/23/2016</td>\n",
       "      <td>NaN</td>\n",
       "      <td>00:00.0</td>\n",
       "      <td>Production</td>\n",
       "      <td>Manufacturing</td>\n",
       "      <td>18972 days</td>\n",
       "      <td>51.942505</td>\n",
       "      <td>12:00:00 AM</td>\n",
       "      <td>8:00:00 AM</td>\n",
       "      <td>46</td>\n",
       "      <td>12:00:00 AM</td>\n",
       "      <td>8:00:00 AM</td>\n",
       "      <td>46</td>\n",
       "      <td>12:00:00 AM</td>\n",
       "      <td>8:00:00 AM</td>\n",
       "      <td>46</td>\n",
       "    </tr>\n",
       "    <tr>\n",
       "      <th>1</th>\n",
       "      <td>41</td>\n",
       "      <td>7</td>\n",
       "      <td>00:00.0</td>\n",
       "      <td>12.45</td>\n",
       "      <td>1</td>\n",
       "      <td>adventure-works\\bryan0</td>\n",
       "      <td>4.0</td>\n",
       "      <td>Production Technician - WC60</td>\n",
       "      <td>1982-08-25</td>\n",
       "      <td>S</td>\n",
       "      <td>M</td>\n",
       "      <td>2018-01-19</td>\n",
       "      <td>0</td>\n",
       "      <td>35</td>\n",
       "      <td>37</td>\n",
       "      <td>1</td>\n",
       "      <td>3</td>\n",
       "      <td>1/19/2018</td>\n",
       "      <td>NaN</td>\n",
       "      <td>00:00.0</td>\n",
       "      <td>Production</td>\n",
       "      <td>Manufacturing</td>\n",
       "      <td>12931 days</td>\n",
       "      <td>35.403149</td>\n",
       "      <td>12:00:00 AM</td>\n",
       "      <td>8:00:00 AM</td>\n",
       "      <td>46</td>\n",
       "      <td>12:00:00 AM</td>\n",
       "      <td>8:00:00 AM</td>\n",
       "      <td>46</td>\n",
       "      <td>12:00:00 AM</td>\n",
       "      <td>8:00:00 AM</td>\n",
       "      <td>46</td>\n",
       "    </tr>\n",
       "    <tr>\n",
       "      <th>2</th>\n",
       "      <td>42</td>\n",
       "      <td>7</td>\n",
       "      <td>00:00.0</td>\n",
       "      <td>12.45</td>\n",
       "      <td>1</td>\n",
       "      <td>adventure-works\\james0</td>\n",
       "      <td>4.0</td>\n",
       "      <td>Production Technician - WC60</td>\n",
       "      <td>1993-07-23</td>\n",
       "      <td>M</td>\n",
       "      <td>M</td>\n",
       "      <td>2017-12-25</td>\n",
       "      <td>0</td>\n",
       "      <td>39</td>\n",
       "      <td>39</td>\n",
       "      <td>1</td>\n",
       "      <td>3</td>\n",
       "      <td>12/25/2017</td>\n",
       "      <td>NaN</td>\n",
       "      <td>00:00.0</td>\n",
       "      <td>Production</td>\n",
       "      <td>Manufacturing</td>\n",
       "      <td>8921 days</td>\n",
       "      <td>24.424367</td>\n",
       "      <td>12:00:00 AM</td>\n",
       "      <td>8:00:00 AM</td>\n",
       "      <td>46</td>\n",
       "      <td>12:00:00 AM</td>\n",
       "      <td>8:00:00 AM</td>\n",
       "      <td>46</td>\n",
       "      <td>12:00:00 AM</td>\n",
       "      <td>8:00:00 AM</td>\n",
       "      <td>46</td>\n",
       "    </tr>\n",
       "    <tr>\n",
       "      <th>3</th>\n",
       "      <td>43</td>\n",
       "      <td>7</td>\n",
       "      <td>00:00.0</td>\n",
       "      <td>12.45</td>\n",
       "      <td>1</td>\n",
       "      <td>adventure-works\\nancy0</td>\n",
       "      <td>4.0</td>\n",
       "      <td>Production Technician - WC60</td>\n",
       "      <td>1997-11-17</td>\n",
       "      <td>M</td>\n",
       "      <td>F</td>\n",
       "      <td>2017-12-31</td>\n",
       "      <td>0</td>\n",
       "      <td>34</td>\n",
       "      <td>37</td>\n",
       "      <td>1</td>\n",
       "      <td>3</td>\n",
       "      <td>12/31/2017</td>\n",
       "      <td>NaN</td>\n",
       "      <td>00:00.0</td>\n",
       "      <td>Production</td>\n",
       "      <td>Manufacturing</td>\n",
       "      <td>7349 days</td>\n",
       "      <td>20.120465</td>\n",
       "      <td>12:00:00 AM</td>\n",
       "      <td>8:00:00 AM</td>\n",
       "      <td>46</td>\n",
       "      <td>12:00:00 AM</td>\n",
       "      <td>8:00:00 AM</td>\n",
       "      <td>46</td>\n",
       "      <td>12:00:00 AM</td>\n",
       "      <td>8:00:00 AM</td>\n",
       "      <td>46</td>\n",
       "    </tr>\n",
       "    <tr>\n",
       "      <th>4</th>\n",
       "      <td>44</td>\n",
       "      <td>7</td>\n",
       "      <td>00:00.0</td>\n",
       "      <td>12.45</td>\n",
       "      <td>1</td>\n",
       "      <td>adventure-works\\simon0</td>\n",
       "      <td>4.0</td>\n",
       "      <td>Production Technician - WC60</td>\n",
       "      <td>1999-05-15</td>\n",
       "      <td>S</td>\n",
       "      <td>M</td>\n",
       "      <td>2017-12-06</td>\n",
       "      <td>0</td>\n",
       "      <td>38</td>\n",
       "      <td>39</td>\n",
       "      <td>1</td>\n",
       "      <td>3</td>\n",
       "      <td>12/6/2017</td>\n",
       "      <td>NaN</td>\n",
       "      <td>00:00.0</td>\n",
       "      <td>Production</td>\n",
       "      <td>Manufacturing</td>\n",
       "      <td>6780 days</td>\n",
       "      <td>18.562628</td>\n",
       "      <td>12:00:00 AM</td>\n",
       "      <td>8:00:00 AM</td>\n",
       "      <td>46</td>\n",
       "      <td>12:00:00 AM</td>\n",
       "      <td>8:00:00 AM</td>\n",
       "      <td>46</td>\n",
       "      <td>12:00:00 AM</td>\n",
       "      <td>8:00:00 AM</td>\n",
       "      <td>46</td>\n",
       "    </tr>\n",
       "  </tbody>\n",
       "</table>\n",
       "</div>"
      ],
      "text/plain": [
       "   EmployeeID  DepartmentID RateChangeDate   Rate  PayFrequency  \\\n",
       "0          40             7        00:00.0  25.00             2   \n",
       "1          41             7        00:00.0  12.45             1   \n",
       "2          42             7        00:00.0  12.45             1   \n",
       "3          43             7        00:00.0  12.45             1   \n",
       "4          44             7        00:00.0  12.45             1   \n",
       "\n",
       "                   LoginID  OrganizationLevel                      JobTitle  \\\n",
       "0  adventure-works\\jolynn0                3.0  Production Supervisor - WC60   \n",
       "1   adventure-works\\bryan0                4.0  Production Technician - WC60   \n",
       "2   adventure-works\\james0                4.0  Production Technician - WC60   \n",
       "3   adventure-works\\nancy0                4.0  Production Technician - WC60   \n",
       "4   adventure-works\\simon0                4.0  Production Technician - WC60   \n",
       "\n",
       "   BirthDate MaritalStatus Gender   HireDate  SalariedFlag  VacationHours  \\\n",
       "0 1965-01-13             S      F 2016-12-23             0             82   \n",
       "1 1982-08-25             S      M 2018-01-19             0             35   \n",
       "2 1993-07-23             M      M 2017-12-25             0             39   \n",
       "3 1997-11-17             M      F 2017-12-31             0             34   \n",
       "4 1999-05-15             S      M 2017-12-06             0             38   \n",
       "\n",
       "   SickLeaveHours  CurrentFlag  ShiftID   StartDate EndDate ModifiedDate  \\\n",
       "0              61            1        3  12/23/2016     NaN      00:00.0   \n",
       "1              37            1        3   1/19/2018     NaN      00:00.0   \n",
       "2              39            1        3  12/25/2017     NaN      00:00.0   \n",
       "3              37            1        3  12/31/2017     NaN      00:00.0   \n",
       "4              39            1        3   12/6/2017     NaN      00:00.0   \n",
       "\n",
       "  DepartmentName Sub-Department DaysOldAtHireDate  YearsOldAtHireDate  \\\n",
       "0     Production  Manufacturing        18972 days           51.942505   \n",
       "1     Production  Manufacturing        12931 days           35.403149   \n",
       "2     Production  Manufacturing         8921 days           24.424367   \n",
       "3     Production  Manufacturing         7349 days           20.120465   \n",
       "4     Production  Manufacturing         6780 days           18.562628   \n",
       "\n",
       "  ShiftStartTime_x ShiftEndTime_x  EmployeeShiftLeader_x ShiftStartTime_y  \\\n",
       "0      12:00:00 AM     8:00:00 AM                     46      12:00:00 AM   \n",
       "1      12:00:00 AM     8:00:00 AM                     46      12:00:00 AM   \n",
       "2      12:00:00 AM     8:00:00 AM                     46      12:00:00 AM   \n",
       "3      12:00:00 AM     8:00:00 AM                     46      12:00:00 AM   \n",
       "4      12:00:00 AM     8:00:00 AM                     46      12:00:00 AM   \n",
       "\n",
       "  ShiftEndTime_y  EmployeeShiftLeader_y ShiftStartTime ShiftEndTime  \\\n",
       "0     8:00:00 AM                     46    12:00:00 AM   8:00:00 AM   \n",
       "1     8:00:00 AM                     46    12:00:00 AM   8:00:00 AM   \n",
       "2     8:00:00 AM                     46    12:00:00 AM   8:00:00 AM   \n",
       "3     8:00:00 AM                     46    12:00:00 AM   8:00:00 AM   \n",
       "4     8:00:00 AM                     46    12:00:00 AM   8:00:00 AM   \n",
       "\n",
       "   EmployeeShiftLeader  \n",
       "0                   46  \n",
       "1                   46  \n",
       "2                   46  \n",
       "3                   46  \n",
       "4                   46  "
      ]
     },
     "execution_count": 23,
     "metadata": {},
     "output_type": "execute_result"
    }
   ],
   "source": [
    "df = df.merge(shifts_df, left_on=\"ShiftID\", right_on=\"ShiftID\")\n",
    "df.head()"
   ]
  },
  {
   "cell_type": "markdown",
   "id": "74bb69d8-578c-4528-ae64-2e9c0491df1c",
   "metadata": {},
   "source": [
    "##### Question 19: Get shift leaders\n",
    "Knowing that the `EmployeeID` column of `df` matches up with the `EmployeeShiftLeader` column that was just joined on to `df`, create a filter that returns rows of the dataframe where `EmployeeID` is equal to `EmployeeShiftLeader`.\n",
    "\n",
    "<p style=\"font-size:.75rem\">Expected output: 3 rows for EmployeeID 46, 70, and 39.</p>"
   ]
  },
  {
   "cell_type": "code",
   "execution_count": 20,
   "id": "46a7d55c-c83e-4ddf-b347-a137c6564c73",
   "metadata": {},
   "outputs": [
    {
     "data": {
      "text/html": [
       "<div>\n",
       "<style scoped>\n",
       "    .dataframe tbody tr th:only-of-type {\n",
       "        vertical-align: middle;\n",
       "    }\n",
       "\n",
       "    .dataframe tbody tr th {\n",
       "        vertical-align: top;\n",
       "    }\n",
       "\n",
       "    .dataframe thead th {\n",
       "        text-align: right;\n",
       "    }\n",
       "</style>\n",
       "<table border=\"1\" class=\"dataframe\">\n",
       "  <thead>\n",
       "    <tr style=\"text-align: right;\">\n",
       "      <th></th>\n",
       "      <th>EmployeeID</th>\n",
       "      <th>DepartmentID</th>\n",
       "      <th>RateChangeDate</th>\n",
       "      <th>Rate</th>\n",
       "      <th>PayFrequency</th>\n",
       "      <th>LoginID</th>\n",
       "      <th>OrganizationLevel</th>\n",
       "      <th>JobTitle</th>\n",
       "      <th>BirthDate</th>\n",
       "      <th>MaritalStatus</th>\n",
       "      <th>Gender</th>\n",
       "      <th>HireDate</th>\n",
       "      <th>SalariedFlag</th>\n",
       "      <th>VacationHours</th>\n",
       "      <th>SickLeaveHours</th>\n",
       "      <th>CurrentFlag</th>\n",
       "      <th>ShiftID</th>\n",
       "      <th>StartDate</th>\n",
       "      <th>EndDate</th>\n",
       "      <th>ModifiedDate</th>\n",
       "      <th>DepartmentName</th>\n",
       "      <th>Sub-Department</th>\n",
       "      <th>DaysOldAtHireDate</th>\n",
       "      <th>YearsOldAtHireDate</th>\n",
       "      <th>ShiftStartTime</th>\n",
       "      <th>ShiftEndTime</th>\n",
       "      <th>EmployeeShiftLeader</th>\n",
       "    </tr>\n",
       "  </thead>\n",
       "  <tbody>\n",
       "    <tr>\n",
       "      <th>6</th>\n",
       "      <td>46</td>\n",
       "      <td>7</td>\n",
       "      <td>00:00.0</td>\n",
       "      <td>12.45</td>\n",
       "      <td>1</td>\n",
       "      <td>adventure-works\\eugene1</td>\n",
       "      <td>4.0</td>\n",
       "      <td>Production Technician - WC60</td>\n",
       "      <td>1985-02-07</td>\n",
       "      <td>S</td>\n",
       "      <td>M</td>\n",
       "      <td>2018-02-06</td>\n",
       "      <td>0</td>\n",
       "      <td>36</td>\n",
       "      <td>38</td>\n",
       "      <td>1</td>\n",
       "      <td>3</td>\n",
       "      <td>2/6/2018</td>\n",
       "      <td>NaN</td>\n",
       "      <td>00:00.0</td>\n",
       "      <td>Production</td>\n",
       "      <td>Manufacturing</td>\n",
       "      <td>12052 days</td>\n",
       "      <td>32.996578</td>\n",
       "      <td>12:00:00 AM</td>\n",
       "      <td>8:00:00 AM</td>\n",
       "      <td>46</td>\n",
       "    </tr>\n",
       "    <tr>\n",
       "      <th>60</th>\n",
       "      <td>70</td>\n",
       "      <td>7</td>\n",
       "      <td>00:00.0</td>\n",
       "      <td>12.45</td>\n",
       "      <td>1</td>\n",
       "      <td>adventure-works\\david2</td>\n",
       "      <td>4.0</td>\n",
       "      <td>Production Technician - WC60</td>\n",
       "      <td>1993-12-27</td>\n",
       "      <td>M</td>\n",
       "      <td>M</td>\n",
       "      <td>2017-12-13</td>\n",
       "      <td>0</td>\n",
       "      <td>33</td>\n",
       "      <td>36</td>\n",
       "      <td>1</td>\n",
       "      <td>2</td>\n",
       "      <td>12/13/2017</td>\n",
       "      <td>NaN</td>\n",
       "      <td>00:00.0</td>\n",
       "      <td>Production</td>\n",
       "      <td>Manufacturing</td>\n",
       "      <td>8752 days</td>\n",
       "      <td>23.961670</td>\n",
       "      <td>4:00:00 PM</td>\n",
       "      <td>12:00:00 AM</td>\n",
       "      <td>70</td>\n",
       "    </tr>\n",
       "    <tr>\n",
       "      <th>187</th>\n",
       "      <td>39</td>\n",
       "      <td>7</td>\n",
       "      <td>00:00.0</td>\n",
       "      <td>12.45</td>\n",
       "      <td>1</td>\n",
       "      <td>adventure-works\\ed0</td>\n",
       "      <td>4.0</td>\n",
       "      <td>Production Technician - WC60</td>\n",
       "      <td>1980-09-08</td>\n",
       "      <td>S</td>\n",
       "      <td>M</td>\n",
       "      <td>2019-02-03</td>\n",
       "      <td>0</td>\n",
       "      <td>25</td>\n",
       "      <td>32</td>\n",
       "      <td>1</td>\n",
       "      <td>1</td>\n",
       "      <td>2/3/2019</td>\n",
       "      <td>NaN</td>\n",
       "      <td>00:00.0</td>\n",
       "      <td>Production</td>\n",
       "      <td>Manufacturing</td>\n",
       "      <td>14027 days</td>\n",
       "      <td>38.403833</td>\n",
       "      <td>8:00:00 AM</td>\n",
       "      <td>4:00:00 PM</td>\n",
       "      <td>39</td>\n",
       "    </tr>\n",
       "  </tbody>\n",
       "</table>\n",
       "</div>"
      ],
      "text/plain": [
       "     EmployeeID  DepartmentID RateChangeDate   Rate  PayFrequency  \\\n",
       "6            46             7        00:00.0  12.45             1   \n",
       "60           70             7        00:00.0  12.45             1   \n",
       "187          39             7        00:00.0  12.45             1   \n",
       "\n",
       "                     LoginID  OrganizationLevel                      JobTitle  \\\n",
       "6    adventure-works\\eugene1                4.0  Production Technician - WC60   \n",
       "60    adventure-works\\david2                4.0  Production Technician - WC60   \n",
       "187      adventure-works\\ed0                4.0  Production Technician - WC60   \n",
       "\n",
       "     BirthDate MaritalStatus Gender   HireDate  SalariedFlag  VacationHours  \\\n",
       "6   1985-02-07             S      M 2018-02-06             0             36   \n",
       "60  1993-12-27             M      M 2017-12-13             0             33   \n",
       "187 1980-09-08             S      M 2019-02-03             0             25   \n",
       "\n",
       "     SickLeaveHours  CurrentFlag  ShiftID   StartDate EndDate ModifiedDate  \\\n",
       "6                38            1        3    2/6/2018     NaN      00:00.0   \n",
       "60               36            1        2  12/13/2017     NaN      00:00.0   \n",
       "187              32            1        1    2/3/2019     NaN      00:00.0   \n",
       "\n",
       "    DepartmentName Sub-Department DaysOldAtHireDate  YearsOldAtHireDate  \\\n",
       "6       Production  Manufacturing        12052 days           32.996578   \n",
       "60      Production  Manufacturing         8752 days           23.961670   \n",
       "187     Production  Manufacturing        14027 days           38.403833   \n",
       "\n",
       "    ShiftStartTime ShiftEndTime  EmployeeShiftLeader  \n",
       "6      12:00:00 AM   8:00:00 AM                   46  \n",
       "60      4:00:00 PM  12:00:00 AM                   70  \n",
       "187     8:00:00 AM   4:00:00 PM                   39  "
      ]
     },
     "execution_count": 20,
     "metadata": {},
     "output_type": "execute_result"
    }
   ],
   "source": [
    "df.loc[ df['EmployeeID'] == df['EmployeeShiftLeader']]"
   ]
  },
  {
   "cell_type": "markdown",
   "id": "c8bedc3c-363a-42bd-a30e-09bd3caad7f8",
   "metadata": {},
   "source": [
    "##### Question 20: Info about the shift leaders\n",
    "Answer the following question below:\n",
    "\n",
    "What is the name of the shift leader for shift number 2? What department do they work in? You can look in the `LoginID` field for the first name.\n",
    "\n",
    "<p style=\"font-size:.75rem\">Expected output: None</p>"
   ]
  },
  {
   "cell_type": "markdown",
   "id": "9f91f67d-9f11-4e01-bae7-063c97ebf84d",
   "metadata": {},
   "source": [
    "```\n",
    "David is the leader of shift 2 and works in the Production department.\n",
    "```"
   ]
  },
  {
   "cell_type": "markdown",
   "id": "d7c9243e-ac66-4da8-80e8-a91e5b171c02",
   "metadata": {},
   "source": [
    "#### Export the data\n",
    "##### Question 21: Export to CSV\n",
    "Using the `.to_csv()` method, export the dataframe `df` as a CSV file called `pay_history_modified.csv`. Do not include the dataframe index in the CSV file (you can do this by passing in a parameter `index=False` to the method).\n",
    "\n",
    "<p style=\"font-size:.75rem\">Expected output: None</p>"
   ]
  },
  {
   "cell_type": "code",
   "execution_count": 21,
   "id": "5b069605-660f-4aa7-a63f-211ccd4bd1f8",
   "metadata": {},
   "outputs": [],
   "source": [
    "df.to_csv('pay_history_modified.csv', index=False)"
   ]
  },
  {
   "cell_type": "markdown",
   "id": "54c40b15-b0d2-4187-9dd6-1f5837f255b9",
   "metadata": {},
   "source": [
    "### Submission\n",
    "\n",
    "Submit this file as you normally would, by zipping this `.ipynb` file and the `data` folder into a zip folder. However, also zip up your `pay_history_modified.csv` file into this zip folder. Submit this zip folder to Canvas."
   ]
  }
 ],
 "metadata": {
  "kernelspec": {
   "display_name": "Python 3 (ipykernel)",
   "language": "python",
   "name": "python3"
  },
  "language_info": {
   "codemirror_mode": {
    "name": "ipython",
    "version": 3
   },
   "file_extension": ".py",
   "mimetype": "text/x-python",
   "name": "python",
   "nbconvert_exporter": "python",
   "pygments_lexer": "ipython3",
   "version": "3.10.2"
  }
 },
 "nbformat": 4,
 "nbformat_minor": 5
}
