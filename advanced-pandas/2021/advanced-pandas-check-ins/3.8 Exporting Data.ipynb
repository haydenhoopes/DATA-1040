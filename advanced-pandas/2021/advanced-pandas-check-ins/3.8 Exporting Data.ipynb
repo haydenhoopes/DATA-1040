{
 "cells": [
  {
   "cell_type": "markdown",
   "id": "d08d567e-f17e-4951-bfec-f13269ed87b6",
   "metadata": {},
   "source": [
    "# 3.8 Exporting Data\n",
    "\n",
    "You may have been thinking during this whole course, \"What's the point of cleaning my data in Pandas? I import the data, I explore the data, I clean it... and then what? How can I use Pandas to get the data in a format that I can use in my visualization software and reports?\"\n",
    "\n",
    "Pandas dataframes can be exported in many formats. In fact, exporting dataframes is probably the easiest part of using Pandas. Each dataframe comes pre-built with many different methods for exporting tables in different formats.\n",
    "\n",
    "| Method                                    | Description                                                                                                                      |\n",
    "|-------------------------------------------|----------------------------------------------------------------------------------------------------------------------------------|\n",
    "| `.to_csv(filename)`                       | Takes a filename and saves the dataframe as a CSV file with that filename.                                                       |\n",
    "| `.to_sql(tablename, database_connection)` | Works with SQLAlchemy (a database connection from a Python library) to save the dataframe directly to a table in a SQL database. |\n",
    "| `.to_dict()`                              | Turns the table into a Python dictionary.                                                                                        |\n",
    "| `.to_excel(filename)`                     | Takes a filename and saves the dataframe as an Excel file with that filename.                                                    |\n",
    "| `.to_json(filename)`                      | Takes a filename and saves the dataframe as a JavaScript Object Notation (JSON) file with that filename.                         |\n",
    "| `.to_html()`                              | Returns the dataframe as HTML, which can be copied and pasted into web pages.                                                    |\n",
    "| `.to_latex()`                             | Returns the dataframe as LaTeX, which can be copied and pasted into a LaTeX document.                                            |\n",
    "| `.to_clipboard()`                         | Copies the dataframe to the system clipboard, meaning that it can be pasted into an Excel document or Google Sheets.             |\n",
    "| `.to_markdown()`                          | Returns the dataframe as Markdown, which can be copied into Markdown files or Jupyter Notebooks.                                 |\n",
    "\n",
    "Note that exporting data is relatively easy, but there are many optional parameters that allow you to specify which rows are headers, if the columns are comma-separated or tab-separated, etc. The abundance of optional parameters means that we won't be able to cover all of them in this notebook, so you will have to look them up (Google) if your data isn't being exported in the way you want it to be.\n",
    "\n",
    "### About the data\n",
    "​\n",
    "The data used in this notebook shows information about passengers on the *Titanic* cruiseliner, a ship which set out from Southampton, U.K. to sail across the Atlantic ocean and which tragically sank upon collision with an iceberg. The dataset contains information about each passenger's passenger class, name, sex, age, siblings, parents/children, ticket number, ticket fare, cabin number, and the embarked location. It also contains information about each passenger's survival status. This data set is extremely popular among data scientists and will facilitate demonstrations of Pandas concepts.\n",
    "\n",
    "To begin, we will import Pandas and the data into a dataframe."
   ]
  },
  {
   "cell_type": "code",
   "execution_count": 1,
   "id": "cd7fc2b1-38d1-4a2b-8d89-bcfc3e3ca9cd",
   "metadata": {},
   "outputs": [],
   "source": [
    "import pandas as pd\n",
    "df = pd.read_csv(\"./data/titanic.csv\")"
   ]
  },
  {
   "cell_type": "markdown",
   "id": "8928d3fb-5987-49b3-8ea0-019966262ff8",
   "metadata": {},
   "source": [
    "In this example, we won't modify the data at all. Instead, we will simply practice exporting it. However, please note that any dataframe object can be exported using these methods. That means that you could filter a dataframe, remove/add columns, join data, and then export the dataframe created in Pandas.\n",
    "\n",
    "By default, for example, the `.to_csv()` method exports the dataframe as a CSV file. Look for it in the same directory as this notebook file, after running the cell below!"
   ]
  },
  {
   "cell_type": "code",
   "execution_count": 10,
   "id": "042ac747-1747-4f10-973f-25599f7da9eb",
   "metadata": {},
   "outputs": [],
   "source": [
    "df.to_csv(\"my_dataframe.csv\")"
   ]
  },
  {
   "cell_type": "markdown",
   "id": "4c1ec4f7-d1a1-4f50-8a87-9ecbfbc5822c",
   "metadata": {},
   "source": [
    "Navigate to this CSV file and open it up in Microsoft Excel or Google Sheets. Notice that the index of the dataframe got created as its own column (and doesn't have a column name). Perhaps we don't need this column. We can optionally not write it into the CSV file by passing in the argument `index=False` (it is `True` by default)."
   ]
  },
  {
   "cell_type": "code",
   "execution_count": 11,
   "id": "dc446ae9-67f2-45e0-b216-eddf7f07b918",
   "metadata": {},
   "outputs": [],
   "source": [
    "df.to_csv(\"my_dataframe_without_index.csv\", index=False)"
   ]
  },
  {
   "cell_type": "markdown",
   "id": "ba82099b-00c0-44ae-b217-193ce1d907cf",
   "metadata": {},
   "source": [
    "The `.to_csv()` method is the most commonly used method for exporting data from Pandas. If you need data in a different format, you'll have to do some research to see if Pandas has a method for exporting it."
   ]
  }
 ],
 "metadata": {
  "kernelspec": {
   "display_name": "Python 3 (ipykernel)",
   "language": "python",
   "name": "python3"
  },
  "language_info": {
   "codemirror_mode": {
    "name": "ipython",
    "version": 3
   },
   "file_extension": ".py",
   "mimetype": "text/x-python",
   "name": "python",
   "nbconvert_exporter": "python",
   "pygments_lexer": "ipython3",
   "version": "3.10.2"
  }
 },
 "nbformat": 4,
 "nbformat_minor": 5
}
