{
 "cells": [
  {
   "cell_type": "markdown",
   "id": "ada507fc-7090-4973-bbac-35bca7792092",
   "metadata": {},
   "source": [
    "# Advanced Pandas Assignment 3\n",
    "\n",
    "In this assignment, you will practice cleaning \"dirty\" data.\n",
    "\n",
    "### Note about assignments\n",
    "You can add lines of code according to your preferences. As long as the code required by the assignment is found in this notebook under the corresponding task header (ie. the code and answers for task 1 are underneath the title \"Task 1\"), you will receive credit for it.\n",
    "\n",
    "## About the data\n",
    "The data used in this assignment is a table built from the Human Resources schema of the Adventure Works 2019 database. This data contains information about each time that Employee Pay History was changed (each line is a pay rate change). It also contains information about the employee and the department they were working in when they received the pay rate listed.\n",
    "\n",
    "This data is similar to data used in previous assignments but has been \"dirtied\" in order to make this assignment possible. \n",
    "\n",
    "The actual data is stored in a CSV file located inside the `data` folder. The file is called `pay_history.csv`.\n",
    "\n",
    "## Instructions\n",
    "### Set up\n",
    "##### Import Pandas\n",
    "Import the Pandas library into Jupyter Lab.\n",
    "\n",
    "<p style=\"font-size:.75rem\">Expected output: None</p>"
   ]
  },
  {
   "cell_type": "code",
   "execution_count": null,
   "id": "01fa476f-ffe2-432a-a8bd-5e18d96177e9",
   "metadata": {},
   "outputs": [],
   "source": []
  },
  {
   "cell_type": "markdown",
   "id": "05cd4794-0c3f-42cd-8879-5e075d16a1b2",
   "metadata": {},
   "source": [
    "##### Disable column display limit\n",
    "Use the following code to disable the default limit for displaying columns. If you don't use this code, a data set with more than 20 columns will be truncated when displayed to take up less space.\n",
    "\n",
    "```python\n",
    "pd.options.display.max_columns = None\n",
    "```\n",
    "\n",
    "<p style=\"font-size:.75rem\">Expected output: None</p>"
   ]
  },
  {
   "cell_type": "code",
   "execution_count": null,
   "id": "4683c034-4cc4-4ebd-bd4b-54b854474a55",
   "metadata": {},
   "outputs": [],
   "source": []
  },
  {
   "cell_type": "markdown",
   "id": "db9c8157-546c-4c8c-86ea-ea00e8bf9d41",
   "metadata": {},
   "source": [
    "##### Create the dataframe\n",
    "Read the data from the `pay_history.csv` file into a dataframe called `df`.\n",
    "\n",
    "<p style=\"font-size:.75rem\">Expected output: None</p>"
   ]
  },
  {
   "cell_type": "code",
   "execution_count": null,
   "id": "0f9e3fc3-6f85-4e97-8f86-6b91f7bf89dd",
   "metadata": {},
   "outputs": [],
   "source": []
  },
  {
   "cell_type": "markdown",
   "id": "5d64b4b7-25fd-49f0-bb1d-ab92509284e7",
   "metadata": {},
   "source": [
    "##### Preview dataframe\n",
    "Print out the first 5 rows of the dataframe.\n",
    "\n",
    "<p style=\"font-size:.75rem\">Expected output: 5 rows, indexes 0-4</p>"
   ]
  },
  {
   "cell_type": "code",
   "execution_count": null,
   "id": "5ecc6e4c-5445-4ce4-9082-020562637fbd",
   "metadata": {},
   "outputs": [],
   "source": []
  },
  {
   "cell_type": "markdown",
   "id": "2a9c3c54-0d37-4332-93c6-ef169e6c759a",
   "metadata": {},
   "source": [
    "##### Describe dataframe\n",
    "Get information about the numerical data in the dataframe."
   ]
  },
  {
   "cell_type": "code",
   "execution_count": null,
   "id": "e4742b7b-9269-4c2f-8f62-5c769dd3868b",
   "metadata": {},
   "outputs": [],
   "source": []
  },
  {
   "cell_type": "markdown",
   "id": "a38ca2b0-6643-44f8-a782-ae89e4a63846",
   "metadata": {},
   "source": [
    "##### Information about dataframe\n",
    "Get information about the columns in the dataframe."
   ]
  },
  {
   "cell_type": "code",
   "execution_count": null,
   "id": "019b0812-9a09-4642-b7bc-a87f4add84b5",
   "metadata": {},
   "outputs": [],
   "source": []
  },
  {
   "cell_type": "markdown",
   "id": "08c03f79-28e9-46cd-9ac6-924a2323071a",
   "metadata": {},
   "source": [
    "### Questions\n",
    "The data you were given to analyze looks perfectly normal at first glance. However, knowing that humans are imperfect at inputting data, you decide to do a quick glance over the data to make sure that nothing strange is happening. If there are mistakes in the data, you are determined to fix them in such a way that they don't affect the analysis.\n",
    "\n",
    "---\n",
    "\n",
    "#### Task 1: Find Null Values\n",
    "\n",
    "Determine which columns have null values. List the columns that have null values below.\n",
    "\n",
    "<p style=\"font-size:.75rem\">Expected output: None</p>"
   ]
  },
  {
   "cell_type": "code",
   "execution_count": null,
   "id": "9ebdd05a-b853-4a31-9089-4044218dccdf",
   "metadata": {},
   "outputs": [],
   "source": []
  },
  {
   "cell_type": "markdown",
   "id": "ebe08da8-24e4-4527-ab0a-a61f10f26ca4",
   "metadata": {},
   "source": [
    "List the columns that have null values below."
   ]
  },
  {
   "cell_type": "markdown",
   "id": "629b1cf7-7350-4c22-bf84-3a11605c448c",
   "metadata": {},
   "source": [
    "```\n",
    "Your answer here.\n",
    "```"
   ]
  },
  {
   "cell_type": "markdown",
   "id": "83e75f29-b522-422d-9bdf-1d81beede64f",
   "metadata": {},
   "source": [
    "---\n",
    "#### Task 2: Rate - Imputation (part 1)\n",
    "\n",
    "Because there are only two missing values in the `Rate` column, let's try to impute them. Get the average rate of the data set and assign it to the missing `Rate` values in the dataframe. Then, show that there are no longer null values in the `Rate` column.\n",
    "\n",
    "Note: Before modifying the null values, make sure to take note of their indexes (either on a piece of paper or by using Pandas). This will be important in the next question.\n",
    "\n",
    "<p style=\"font-size:.75rem\">Expected output: Something that shows that there are no longer null values in the `Rate` column</p>"
   ]
  },
  {
   "cell_type": "code",
   "execution_count": null,
   "id": "3bc25b73-ac69-4c32-8181-36595714f0ce",
   "metadata": {},
   "outputs": [],
   "source": []
  },
  {
   "cell_type": "markdown",
   "id": "b971d8ea-5273-437e-beac-227754ec0e95",
   "metadata": {
    "tags": []
   },
   "source": [
    "---\n",
    "#### Task 3: Rate - Imputation (part 2)\n",
    "\n",
    "Now we can see that the overall average `Rate` was successfully imputed into the null values for each `Rate`. However, is this `Rate` an accurate reflection of what the `Rate` likely actually is for both employees? **What could be done to estimate the rate more accurately?** Answer this question below."
   ]
  },
  {
   "cell_type": "markdown",
   "id": "7cbe32df-02a4-4528-a450-3a42d11d46cf",
   "metadata": {},
   "source": [
    "```\n",
    "Your answer here.\n",
    "```"
   ]
  },
  {
   "cell_type": "markdown",
   "id": "0b745333-1dfd-4b1f-9124-723b9598c417",
   "metadata": {},
   "source": [
    "Change the rates that were previously null to a value that more accurately reflects what the `Rate` probably is. You can do this by finding the median `Rate` among the `JobTitle` for both employees. Then, show that these rows (whose `Rate` was previously null) have a new `Rate` that more accurately reflects what other employees with the same `JobTitle` earn.\n",
    "\n",
    "<p style=\"font-size:.75rem\">Expected output: A dataframe or two that shows that the `Rate` of both employees whose `Rate` was previously null is now similar to the `Rate` of other employees with the same `JobTitle`</p>"
   ]
  },
  {
   "cell_type": "code",
   "execution_count": null,
   "id": "66c86d1a-ef24-48b8-bb49-3ebbe6721dad",
   "metadata": {},
   "outputs": [],
   "source": []
  },
  {
   "cell_type": "markdown",
   "id": "3bf1249f-27f0-45d9-85ac-96916cbad80b",
   "metadata": {
    "tags": []
   },
   "source": [
    "---\n",
    "#### Task 4: SalariedFlag - Drop Column\n",
    "The columns `SalariedFlag` and `EndDate` seem to have many null values. In a way, it makes sense that there might be null values in the `EndDate` column, since the database designers may have designed the system so that it doesn't record any value until an employee actually stops working at Adventure Works. However, the `SalariedFlag` field is a little more suspicious.\n",
    "\n",
    "Most likely, we will end up dropping the `SalariedFlag` column because there are so many null values. However, let's make sure to look at it first to make sure that we *can't* impute it (ie. if we can see that all of the recorded values are the same, we might be able to justify imputation in specific situations).\n",
    "\n",
    "First, check the value counts of each unique value in the `SalariedFlag` column. What do you notice when counting the distinct values in this column? Is there any way to justify imputation?"
   ]
  },
  {
   "cell_type": "markdown",
   "id": "45082a7d-ea4f-463d-ac0d-a1f429f5fc2b",
   "metadata": {},
   "source": [
    "```\n",
    "Your answer here.\n",
    "```"
   ]
  },
  {
   "cell_type": "markdown",
   "id": "c36a5d5c-07d6-4851-b57f-81cf55f61a25",
   "metadata": {},
   "source": [
    "Next, drop the `SalariedFlag` column and show that the column has been dropped."
   ]
  },
  {
   "cell_type": "code",
   "execution_count": null,
   "id": "92711696-8ee6-43ed-a8a8-e7bc81d6f667",
   "metadata": {},
   "outputs": [],
   "source": []
  },
  {
   "cell_type": "markdown",
   "id": "77f8617d-a31d-48a7-bc33-2648e7ea5f8b",
   "metadata": {
    "tags": []
   },
   "source": [
    "---\n",
    "#### Task 5: Check inconsistent format\n",
    "To make sure that each of our columns has data in a consistent format, we should check to make sure that each column has the data type that we expect. If all of the quantitative fields are either `int64` or `float64`, you can move on to the categorical fields and get a count of each unique value to make sure each row has an expected value.\n",
    "\n",
    "First, output information about the dataframe columns and their datatypes.\n",
    "\n",
    "<p style=\"font-size:.75rem\">Expected output: Informational dataframe</p>"
   ]
  },
  {
   "cell_type": "code",
   "execution_count": null,
   "id": "5c8e5f0e-4472-44b8-acec-d40e509e732d",
   "metadata": {},
   "outputs": [],
   "source": []
  },
  {
   "cell_type": "markdown",
   "id": "8b5b1ccc-54df-4dd3-8ed4-7a95f15c1556",
   "metadata": {},
   "source": [
    "Looking at this information and knowing some things about the data, do any of the columns' data types surprise you? Which column(s) surprise you and why? (yes, there should be at least one)"
   ]
  },
  {
   "cell_type": "markdown",
   "id": "8063e527-c4f1-46cc-9380-8ffd266460ca",
   "metadata": {},
   "source": [
    "```\n",
    "Your answer here.\n",
    "```"
   ]
  },
  {
   "cell_type": "markdown",
   "id": "87e1cf04-6c75-4688-941a-ebfc0805eb9f",
   "metadata": {},
   "source": [
    "To be sure that there are issues with the `CurrentFlag` column, print out the count of unique values in the column.\n",
    "\n",
    "<p style=\"font-size:.75rem\">Expected output: Value count of CurrentFlag column is returned. 1 = 299 and yes = 5.</p>"
   ]
  },
  {
   "cell_type": "code",
   "execution_count": null,
   "id": "fc8970bf-bfd6-4e7c-b0d8-7b1766d6dd72",
   "metadata": {},
   "outputs": [],
   "source": []
  },
  {
   "cell_type": "markdown",
   "id": "39de0a9e-ff5b-4dbc-9c42-0b0164e833c2",
   "metadata": {},
   "source": [
    "What values do you see in the `CurrentFlag` column?"
   ]
  },
  {
   "cell_type": "markdown",
   "id": "f5e6040f-65da-480e-9491-14b5c9680785",
   "metadata": {},
   "source": [
    "```\n",
    "Your answer here.\n",
    "```"
   ]
  },
  {
   "cell_type": "markdown",
   "id": "98eea7aa-b77a-4900-bbc2-90e978c394a1",
   "metadata": {},
   "source": [
    "Replace all occurences of `\"yes\"` in the `CurrentFlag` column with **the integer** `1`. Then, print out the counts of the unique values in the column again. You should see the number `1` listed twice with different unique counts.\n",
    "\n",
    "<p style=\"font-size:.75rem\">Expected output: Value count of CurrentFlag column is returned with 1 = 299 and 1 = 5</p>"
   ]
  },
  {
   "cell_type": "code",
   "execution_count": null,
   "id": "986bd7c0-6ad4-44eb-a6f0-50f3064befba",
   "metadata": {},
   "outputs": [],
   "source": []
  },
  {
   "cell_type": "markdown",
   "id": "e23135a9-b71e-40ac-afbb-c254a9b4e3d9",
   "metadata": {},
   "source": [
    "Why do you think `1` was shown twice?"
   ]
  },
  {
   "cell_type": "markdown",
   "id": "fc7e999f-2055-4e89-a351-8d26410a8166",
   "metadata": {},
   "source": [
    "```\n",
    "Your answer here.\n",
    "```"
   ]
  },
  {
   "cell_type": "markdown",
   "id": "31776de4-4d86-4451-a6d7-58c411cdd369",
   "metadata": {},
   "source": [
    "---\n",
    "#### Task 6: Fix not matching data type\n",
    "It looks like because the column `CurrentFlag` started out with strings inside of it, most of its values are still of data type `object`. Change the entire `CurrentFlag` column so that it has a data type of `int8`. Then, output the dataframe information again to show that the column has a data type of `int8`.\n",
    "\n",
    "<p style=\"font-size:.75rem\">Expected output: Informational dataframe</p>"
   ]
  },
  {
   "cell_type": "code",
   "execution_count": null,
   "id": "d0fee2a5-57ac-4f4c-9a12-1895dc3a9a71",
   "metadata": {},
   "outputs": [],
   "source": []
  },
  {
   "cell_type": "markdown",
   "id": "e4d2f1c7-96f2-4d43-98ec-2b0ce6cb5b3e",
   "metadata": {},
   "source": [
    "---\n",
    "#### Task 7: Find Extreme Values\n",
    "You have already fixed some columns with null values and incorrect values. Now, check the data set for extreme/incorrect values.\n",
    "\n",
    "Print out a description of the numerical fields in the dataframe.\n",
    "\n",
    "<p style=\"font-size:.75rem\">Expected output: Descriptive dataframe is displayed.</p>"
   ]
  },
  {
   "cell_type": "code",
   "execution_count": null,
   "id": "ea070bda-2c66-4fe5-ad22-512ed7d0c69f",
   "metadata": {},
   "outputs": [],
   "source": []
  },
  {
   "cell_type": "markdown",
   "id": "e45f4235-e8c9-4183-b4ff-27f9b1e0ad49",
   "metadata": {},
   "source": [
    "Observe the information described above. What do you notice about the summary statistics that might indicate inaccurate data? You should see at least two columns with potential problems. Look closely at the min and maximum values for each column."
   ]
  },
  {
   "cell_type": "markdown",
   "id": "cc873464-4384-4190-96dc-9d05f5152a44",
   "metadata": {},
   "source": [
    "```\n",
    "Your answer here.\n",
    "```"
   ]
  },
  {
   "cell_type": "markdown",
   "id": "8af911b9-1c66-486b-a07b-5ef0941f2f56",
   "metadata": {},
   "source": [
    "---\n",
    "#### Task 8: Fix Rate\n",
    "Knowing that the `Rate` column has at least one negative number, create a filtered dataframe that contains rows where `Rate` is less than or equal to 0.\n",
    "\n",
    "<p style=\"font-size:.75rem\">Expected output: 1 row of index 286. It's Rate is -72.12.</p>"
   ]
  },
  {
   "cell_type": "code",
   "execution_count": null,
   "id": "0f773f38-9d5b-4a68-9a50-75471d638233",
   "metadata": {},
   "outputs": [],
   "source": []
  },
  {
   "cell_type": "markdown",
   "id": "d333b351-702f-4a4c-91b7-56ee8e5907de",
   "metadata": {},
   "source": [
    "Looking at the row(s) returned, what do you think should be done? Can the true `Rate` of the rows with negative values be imputed, or should they be dropped?"
   ]
  },
  {
   "cell_type": "markdown",
   "id": "fde5386c-9c19-4faa-858d-26f8d0746fb0",
   "metadata": {},
   "source": [
    "```\n",
    "Your answer here.\n",
    "```"
   ]
  },
  {
   "cell_type": "markdown",
   "id": "991f384e-1dc8-4b00-b9d4-b4530f9aaea8",
   "metadata": {},
   "source": [
    "Filter the dataframe and change the negative rates to positive rates."
   ]
  },
  {
   "cell_type": "code",
   "execution_count": null,
   "id": "11a05cfd-bc1e-4500-9ac9-3afef8adf681",
   "metadata": {},
   "outputs": [],
   "source": []
  },
  {
   "cell_type": "markdown",
   "id": "35e4a2b1-c4dc-4fa9-8ce6-c6e428b3f66d",
   "metadata": {},
   "source": [
    "##### Question 41: Print out the dataframe description again\n",
    "Use the `.describe()` method to print out the dataframe description again. Make sure that the minimum rate is greater than 1.\n",
    "\n",
    "<p style=\"font-size:.75rem\">Expected output: The min Rate is now 6.5.</p>"
   ]
  },
  {
   "cell_type": "code",
   "execution_count": null,
   "id": "8470b6c4-54b1-4a87-bc30-482295aefe80",
   "metadata": {},
   "outputs": [],
   "source": []
  },
  {
   "cell_type": "markdown",
   "id": "57960054-eed8-405b-8881-f5198beebacb",
   "metadata": {},
   "source": [
    "---\n",
    "#### Task 9: Check VacationHours\n",
    "The maximum value in the `VacationHours` is 290. That might be correct, but it also might be out of the ordinary. Let's do some work to determine whether it is an outlier or not, and fix it accordingly.\n",
    "\n",
    "First, print out the rows of the dataframe with the highest number of `VacationHours`.\n",
    "\n",
    "<p style=\"font-size:.75rem\">Expected output: Some dataframe rows sorted by `VacationHours` descending</p>"
   ]
  },
  {
   "cell_type": "code",
   "execution_count": null,
   "id": "d5c2ef27-5e29-4feb-8daa-7ff817198202",
   "metadata": {},
   "outputs": [],
   "source": []
  },
  {
   "cell_type": "markdown",
   "id": "4104afe8-9390-449c-a1f6-c18a0c6e03e4",
   "metadata": {},
   "source": [
    "Does 290 seem to be an appropriate value in the `VacationHours` column? Why or why not?"
   ]
  },
  {
   "cell_type": "markdown",
   "id": "a420df5d-09a6-43d2-b289-3f4c5a2d33e1",
   "metadata": {},
   "source": [
    "```\n",
    "Your answer here.\n",
    "```"
   ]
  },
  {
   "cell_type": "markdown",
   "id": "ead8dfb0-fbe4-4139-a329-9e150462b2b6",
   "metadata": {},
   "source": [
    "---\n",
    "#### Task 10: Check if outlier\n",
    "\n",
    "Before anything else, let's test to see whether `290` is really an outlier for the `VacationHours` column. To begin, import the NumPy library. Then, apply the function `isOutlier()` to the `VacationHours` column to determine which rows are outliers. Save this Series as a new column in the dataframe called `isOutlierVacationHours`. Finally, print out the dataframe **sorted by `VacationHours` descending** to show that this column has been added correctly.\n",
    "\n",
    "<p style=\"font-size:.75rem\">Expected output: Dataframe rows that show the new column `isOutlierVacationHours`, which contains True/False values (mostly False)</p>"
   ]
  },
  {
   "cell_type": "code",
   "execution_count": 1,
   "id": "c52a28a0-c184-45aa-be45-f4c050ccfd33",
   "metadata": {},
   "outputs": [],
   "source": [
    "import numpy as np\n",
    "\n",
    "def isOutlier(hours):\n",
    "    # Get 25th percentile\n",
    "    first_quartile = np.quantile(df['VacationHours'], 0.25)\n",
    "    # Get 75th percentile\n",
    "    third_quartile = np.quantile(df['VacationHours'], 0.75)\n",
    "    # Get inner quartile range\n",
    "    iqr = third_quartile - first_quartile\n",
    "    # Calculate upper fence\n",
    "    upper_fence = third_quartile + (1.5 * iqr)\n",
    "    \n",
    "    if hours > upper_fence:\n",
    "        return True\n",
    "    else:\n",
    "        return False"
   ]
  },
  {
   "cell_type": "markdown",
   "id": "0f79d3c6-3132-4776-ad41-589dedc7a4fc",
   "metadata": {},
   "source": [
    "According the the column `isOutlierVacationHours` that you just made, is `290` an outlier in the `VacationHours` column? If so, what do you think could be done to fix this value?"
   ]
  },
  {
   "cell_type": "markdown",
   "id": "057a1d08-97c3-4844-a575-1884cd619da8",
   "metadata": {},
   "source": [
    "```\n",
    "Your answer here.\n",
    "```"
   ]
  },
  {
   "cell_type": "markdown",
   "id": "ff8a9da4-0dbb-45a0-a015-7500ab8e978e",
   "metadata": {},
   "source": [
    "---\n",
    "#### Task 11: Fix `VacationHours` outlier\n",
    "As seen above, the row with total `VacationHours` has a `JobTitle` of \"Sales Representative\". Use a filter to get back rows of employees whose `JobTitle` is also \"Sales Representative\". Then, grab the median `VacationHours` for employees with that `JobTitle`. Assign the median `VacationHours` for \"Sales Representative\" to the employee with `VacationHours` of `290`. Finally, print out a numerical description of the dataframe again to show that the maximum `VacationHours` is now 99."
   ]
  },
  {
   "cell_type": "code",
   "execution_count": null,
   "id": "1b56e118-dff5-480b-ad84-473033c96425",
   "metadata": {},
   "outputs": [],
   "source": []
  },
  {
   "cell_type": "markdown",
   "id": "93bd670a-f9f5-4508-b4ac-4d31a9ce14ff",
   "metadata": {},
   "source": [
    "---\n",
    "#### Final Thoughts\n",
    "In case you were curious, the value of the row with an outlier in `VacationHours` was originally `29` instead of `290`. That means that the error was most likely caused by a human who accidentally entered in an extra `0` on the end of the actual number. In any case, the median vacation hours among Sales Representatives turned out to be fairly close to this (`33`). Without looking more closely at the spread of the data, it's difficult to say whether or not this approximation is \"good\" or \"bad\". There are many ways to improve this data prediction and get a number even closer to `29`, but when in doubt, it might be best to avoid skewing your data by simply dropping the rows with outliers (if you have enough rows of data)."
   ]
  }
 ],
 "metadata": {
  "kernelspec": {
   "display_name": "Python 3 (ipykernel)",
   "language": "python",
   "name": "python3"
  },
  "language_info": {
   "codemirror_mode": {
    "name": "ipython",
    "version": 3
   },
   "file_extension": ".py",
   "mimetype": "text/x-python",
   "name": "python",
   "nbconvert_exporter": "python",
   "pygments_lexer": "ipython3",
   "version": "3.10.6"
  }
 },
 "nbformat": 4,
 "nbformat_minor": 5
}
