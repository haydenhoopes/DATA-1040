{
 "cells": [
  {
   "cell_type": "markdown",
   "id": "ada507fc-7090-4973-bbac-35bca7792092",
   "metadata": {},
   "source": [
    "# Advanced Pandas Assignment 2\n",
    "\n",
    "In this assignment, you will practice grouping and aggregating data inside of Pandas dataframes. You will also practice using string operations on string data.\n",
    "\n",
    "### Note about assignments\n",
    "You can add lines of code according to your preferences. As long as the code required by the assignment is found in this notebook under the corresponding task header (ie. the code and answers for task 1 are underneath the title \"Task 1\"), you will receive credit for it.\n",
    "\n",
    "## About the data\n",
    "The data used in this assignment is a table built from the Human Resources schema of the Adventure Works 2019 database. This data contains information about each time that Employee Pay History was changed (each line is a pay rate change). It also contains information about the employee and the department they were working in when they received the pay rate listed. \n",
    "\n",
    "The actual data is stored in a CSV file located inside the `data` folder. The file is called `pay_history.csv`.\n",
    "\n",
    "## Instructions\n",
    "\n",
    "Write code to complete the tasks below.\n",
    "\n",
    "### Set up\n",
    "##### Import Pandas\n",
    "Import the Pandas library into Jupyter Lab.\n",
    "\n",
    "<p style=\"font-size:.75rem\">Expected output: None</p>"
   ]
  },
  {
   "cell_type": "code",
   "execution_count": null,
   "id": "0145276f-82cb-4bd2-9642-ad8f440753e9",
   "metadata": {},
   "outputs": [],
   "source": []
  },
  {
   "cell_type": "markdown",
   "id": "05cd4794-0c3f-42cd-8879-5e075d16a1b2",
   "metadata": {},
   "source": [
    "##### Disable column display limit\n",
    "Use the following code to disable the default limit for displaying columns. If you don't use this code, a data set with more than 20 columns will be truncated when displayed to take up less space.\n",
    "\n",
    "```python\n",
    "pd.options.display.max_columns = None\n",
    "```\n",
    "\n",
    "<p style=\"font-size:.75rem\">Expected output: None</p>"
   ]
  },
  {
   "cell_type": "code",
   "execution_count": null,
   "id": "aaa7925f-84b7-4246-afe8-777c5b7da39f",
   "metadata": {},
   "outputs": [],
   "source": []
  },
  {
   "cell_type": "markdown",
   "id": "db9c8157-546c-4c8c-86ea-ea00e8bf9d41",
   "metadata": {},
   "source": [
    "##### Create the dataframe\n",
    "Read the data from the `pay_history.csv` file into a dataframe called `df`.\n",
    "\n",
    "<p style=\"font-size:.75rem\">Expected output: None</p>"
   ]
  },
  {
   "cell_type": "code",
   "execution_count": null,
   "id": "8d1a6ecd-9afb-44c9-8603-051488680df9",
   "metadata": {},
   "outputs": [],
   "source": []
  },
  {
   "cell_type": "markdown",
   "id": "5d64b4b7-25fd-49f0-bb1d-ab92509284e7",
   "metadata": {},
   "source": [
    "##### Preview dataframe\n",
    "Print out the first 5 rows of the dataframe.\n",
    "\n",
    "<p style=\"font-size:.75rem\">Expected output: 5 rows, indexes 0-4</p>"
   ]
  },
  {
   "cell_type": "code",
   "execution_count": null,
   "id": "be9fa603-7bc2-47a9-ba91-cb75d323e138",
   "metadata": {},
   "outputs": [],
   "source": []
  },
  {
   "cell_type": "markdown",
   "id": "59b44b7c-f753-4a25-b2ee-b96822c432ee",
   "metadata": {},
   "source": [
    "### Questions\n",
    "---\n",
    "#### Task 1: Top Paid Employee\n",
    "\n",
    "Write code to filter the dataframe to show only employees who have the highest `Rate` of all employees. Print out this filtered dataframe and then answer the question below.\n",
    "\n",
    "<p style=\"font-size:.75rem\">Expected output: Dataframe with one row</p>"
   ]
  },
  {
   "cell_type": "code",
   "execution_count": null,
   "id": "71a7af17-7b5a-4f69-9b97-126f8fd38255",
   "metadata": {},
   "outputs": [],
   "source": []
  },
  {
   "cell_type": "markdown",
   "id": "fd715e79-4626-47d7-9f73-4dc975568979",
   "metadata": {},
   "source": [
    "##### What is the Job Title and Organization Level of the top paid employee?\n",
    "\n",
    "<p style=\"font-size:.75rem\">Expected output: None</p>"
   ]
  },
  {
   "cell_type": "markdown",
   "id": "86616ac6-f2ee-4fc9-9e6c-02438b90a754",
   "metadata": {},
   "source": [
    "```\n",
    "Your answer here.\n",
    "```"
   ]
  },
  {
   "cell_type": "markdown",
   "id": "17a9027e-fd15-48f7-a9c5-c7e78c71d2df",
   "metadata": {
    "tags": []
   },
   "source": [
    "---\n",
    "#### Task 2: Top Paid Employee by Organization Level\n",
    "\n",
    "Write code to examine the maximum, average, median, and minimum `Rate` for each `OrganizationLevel`. Then, answer the question below.\n",
    "\n",
    "<p style=\"font-size:.75rem\">Expected output: Aggregated dataframe</p>"
   ]
  },
  {
   "cell_type": "code",
   "execution_count": null,
   "id": "7c2e5f91-2732-4c28-8ec7-68bfb57e9689",
   "metadata": {},
   "outputs": [],
   "source": []
  },
  {
   "cell_type": "markdown",
   "id": "27cfbb53-8e85-4c7f-b21a-fa5845b8fc1d",
   "metadata": {},
   "source": [
    "##### What do you notice?\n",
    "Observe the rankings of maximum and average rates of pay. What do you notice about the differences between these rankings? What might the rankings be different?\n",
    "\n",
    "<p style=\"font-size:.75rem\">Expected output: None</p>"
   ]
  },
  {
   "cell_type": "markdown",
   "id": "75d23eb9-c73f-4d2a-b6f7-71cb26e3ae8d",
   "metadata": {},
   "source": [
    "```\n",
    "Your answer here.\n",
    "```"
   ]
  },
  {
   "cell_type": "markdown",
   "id": "aaa0776e-08f8-4f80-b889-85aa7d7e3f52",
   "metadata": {},
   "source": [
    "---\n",
    "#### Task 3: Hire Date\n",
    "Print out information about the dataframe to answer the written question below. Then, using the column `HireDate`, create three new columns called `HireDay`, `HireMonth`, and `HireYear` that contain these date parts. Print out the resulting dataframe.\n",
    "\n",
    "<p style=\"font-size:.75rem\">Expected output: Dataframe with three new columns `HireDay`, `HireMonth`, and `HireYear`</p>"
   ]
  },
  {
   "cell_type": "markdown",
   "id": "e6761d7c-1554-4176-9ce3-172382785917",
   "metadata": {
    "tags": []
   },
   "source": [
    "##### What is the data type of `HireDate`?\n",
    "What is the data type of `HireDate`? What does that mean?\n",
    "\n",
    "<p style=\"font-size:.75rem\">Expected output: None</p>"
   ]
  },
  {
   "cell_type": "markdown",
   "id": "f4907913-f9a3-489b-996d-b77baf172dac",
   "metadata": {},
   "source": [
    "```\n",
    "Your answer here.\n",
    "```"
   ]
  },
  {
   "cell_type": "code",
   "execution_count": null,
   "id": "3ff5ce12-ad5b-46cd-8924-15474ec87e3f",
   "metadata": {},
   "outputs": [],
   "source": []
  },
  {
   "cell_type": "markdown",
   "id": "edaae6b0-77d4-44fb-b686-67783aac2198",
   "metadata": {},
   "source": [
    "---\n",
    "#### Task 4: Hiring rates\n",
    "Using the column you just created `HireYear`, count up how many employees were hired in each year. Get both a normal count (including employees who simply changed positions) and a distinct count (not including position changes in a single year). Use the `EmployeeID` field.\n",
    "\n",
    "<p style=\"font-size:.75rem\">Expected output: Aggregated dataframe</p>"
   ]
  },
  {
   "cell_type": "markdown",
   "id": "31f7054e-52d5-415d-874d-6b26e56c9a58",
   "metadata": {},
   "source": [
    "##### Best growth year\n",
    "Which year saw the most growth in terms of number of employees? What does this make you think about the organization?"
   ]
  },
  {
   "cell_type": "markdown",
   "id": "06f361ed-357a-4604-b3ef-58555cef2576",
   "metadata": {},
   "source": [
    "```\n",
    "Your answer here.\n",
    "```"
   ]
  },
  {
   "cell_type": "markdown",
   "id": "e3bc914a-6efe-401f-befd-5f215307baa7",
   "metadata": {},
   "source": [
    "---\n",
    "#### Task 5: Assistant vacation days expectation\n",
    "Anna knows you from your past life and is seeking employement at Adventure Works as an assistant. She doesn't know what or who she would be an assistant to, but she wants you to help her get the inside scoop on how many vacation days she might get if hired.\n",
    "\n",
    "Get the count, average, and median vacation days for employees with the word 'Assistant' in their `JobTitle`, grouped by `Sub-Department`.\n",
    "\n",
    "<p style=\"font-size:.75rem\">Expected output: Aggregated dataframe with count, average, and median `VacationDays` for assistants</p>"
   ]
  },
  {
   "cell_type": "code",
   "execution_count": null,
   "id": "3a710050-e46a-48a2-9d80-be16587a0df8",
   "metadata": {},
   "outputs": [],
   "source": []
  },
  {
   "cell_type": "markdown",
   "id": "ab359d9e-1373-4493-9f35-418214f98f5f",
   "metadata": {},
   "source": [
    "---\n",
    "#### Task 6: Add aggregation for `SickLeaveHours` and `Rate`\n",
    "Add to the code above to include aggregations across `Sub-Department` using `SickLeaveHours` and `Rate`. Get the mean and median of `SickLeaveHours` and `Rate` across `Sub-Department`.\n",
    "\n",
    "Then, answer the question below.\n",
    "\n",
    "<p style=\"font-size:.75rem\">Expected output: Aggregation table that includes values from above in addition to mean and median SickLeaveHours and Rate.</p>"
   ]
  },
  {
   "cell_type": "code",
   "execution_count": null,
   "id": "594d6bd9-2471-48f1-ad11-b423dd6a7ef0",
   "metadata": {},
   "outputs": [],
   "source": []
  },
  {
   "cell_type": "markdown",
   "id": "f1c09490-dcde-472a-84b8-dd9dc9bcba30",
   "metadata": {},
   "source": [
    "##### Best sub-department?\n",
    "Looking at the aggregated table above, which of the sub-departments gives assistants the most vacation hours? Which one gives the most sick leave hours? Which one pays the most (use the median)?\n",
    "\n",
    "<p style=\"font-size:.75rem\">Expected output: None</p>"
   ]
  },
  {
   "cell_type": "markdown",
   "id": "53d32f3c-749b-487c-8575-4545909109a0",
   "metadata": {},
   "source": [
    "```\n",
    "Best for vacation hours: ?\n",
    "Best for sick leave hours: ?\n",
    "Best for pay: ?\n",
    "```"
   ]
  },
  {
   "cell_type": "markdown",
   "id": "7660386a-df72-425f-8a41-5ec403deab02",
   "metadata": {},
   "source": [
    "---"
   ]
  }
 ],
 "metadata": {
  "kernelspec": {
   "display_name": "Python 3 (ipykernel)",
   "language": "python",
   "name": "python3"
  },
  "language_info": {
   "codemirror_mode": {
    "name": "ipython",
    "version": 3
   },
   "file_extension": ".py",
   "mimetype": "text/x-python",
   "name": "python",
   "nbconvert_exporter": "python",
   "pygments_lexer": "ipython3",
   "version": "3.10.2"
  }
 },
 "nbformat": 4,
 "nbformat_minor": 5
}
