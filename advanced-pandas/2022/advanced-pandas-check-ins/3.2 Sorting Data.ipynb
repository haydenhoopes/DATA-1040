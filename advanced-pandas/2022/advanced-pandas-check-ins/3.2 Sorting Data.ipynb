{
 "cells": [
  {
   "cell_type": "markdown",
   "id": "3254d27d-f725-43bb-828e-e436b6ee8e82",
   "metadata": {},
   "source": [
    "# 3.2 Sorting Data\n",
    "\n",
    "Many times, dataframes need to be resorted so that they can be better understood, especially during the exploration process. In SQL, we can use the ORDER BY clause to sort the results of a query. In Pandas, we can use the `.sort_values()` method.\n",
    "\n",
    "### About the data\n",
    "​\n",
    "The data used in this notebook shows information about passengers on the *Titanic* cruiseliner, a ship which set out from Southampton, U.K. to sail across the Atlantic ocean and which tragically sank upon collision with an iceberg. The dataset contains information about each passenger's passenger class, name, sex, age, siblings, parents/children, ticket number, ticket fare, cabin number, and the embarked location. It also contains information about each passenger's survival status. This data set is extremely popular among data scientists and will facilitate demonstrations of Pandas concepts.\n",
    "\n",
    "To begin, we will import pandas and read the data into a dataframe."
   ]
  },
  {
   "cell_type": "code",
   "execution_count": null,
   "id": "98461e6b-8bd8-470a-9b7e-604cf1c28968",
   "metadata": {},
   "outputs": [],
   "source": [
    "import pandas as pd\n",
    "\n",
    "df = pd.read_csv('./data/titanic.csv')\n",
    "df.head()"
   ]
  },
  {
   "cell_type": "markdown",
   "id": "f0cdd8b0-2ef7-4d32-961a-ec01330f4586",
   "metadata": {},
   "source": [
    "Sorting data might be one of the easiest things to do in Pandas. You can simply use the `.sort_values()` method on a dataframe and pass in a column name to sort by to the `by` argument."
   ]
  },
  {
   "cell_type": "code",
   "execution_count": null,
   "id": "46be4577-b868-45fc-92d6-4b3e52a01638",
   "metadata": {},
   "outputs": [],
   "source": [
    "df.sort_values(by='Pclass')"
   ]
  },
  {
   "cell_type": "markdown",
   "id": "d07eda50-3ca2-4af5-b467-ac03f8cd2c70",
   "metadata": {},
   "source": [
    "You can also pass in a list of columns to sort by to the `by` argument."
   ]
  },
  {
   "cell_type": "code",
   "execution_count": null,
   "id": "169feb1a-945e-454b-97be-e7d2f4535af5",
   "metadata": {},
   "outputs": [],
   "source": [
    "df.sort_values(by=['Pclass', 'Name'])"
   ]
  },
  {
   "cell_type": "markdown",
   "id": "253e52b5-c17a-4d8d-83fb-3e9f0dc52dcd",
   "metadata": {},
   "source": [
    "The `.sort_values()` method also allows you to use the `ascending` argument to tell the dataframe if the sort order is ascending or descending. The `.sort_values()` method returns rows in ascending order by default, so if the `ascending` argument is not passed in, the order will automatically be ascending."
   ]
  },
  {
   "cell_type": "code",
   "execution_count": null,
   "id": "7f113f69-1a92-4ee4-a654-f684c690651d",
   "metadata": {},
   "outputs": [],
   "source": [
    "df.sort_values(by=['Pclass', 'Name'], ascending=False) # ascending=False means 'descending'"
   ]
  },
  {
   "cell_type": "markdown",
   "id": "6ea0adc6-9ac2-48f1-a7de-a70fff9212a6",
   "metadata": {},
   "source": [
    "You can also pass in a list of Boolean values to `ascending` to determine which columns to sort in ascending and descending order."
   ]
  },
  {
   "cell_type": "code",
   "execution_count": null,
   "id": "135881fe-20dc-459a-bf89-baf3163f5818",
   "metadata": {},
   "outputs": [],
   "source": [
    "df.sort_values(by=['Pclass', 'Name'], ascending=[True, False])"
   ]
  },
  {
   "cell_type": "markdown",
   "id": "d3b4efd6-51ed-496e-885a-a36a562fed88",
   "metadata": {},
   "source": [
    "Finally, a dataframe can be sorted by its named row index using the `.sort_index()` method. Because we haven't changed the named row index, this should give the same result as the default dataframe. You don't have to pass any arguments into the parentheses."
   ]
  },
  {
   "cell_type": "code",
   "execution_count": null,
   "id": "8451b941-cf31-45f2-a3f1-04d871e3921a",
   "metadata": {},
   "outputs": [],
   "source": [
    "df.sort_index()"
   ]
  }
 ],
 "metadata": {
  "kernelspec": {
   "display_name": "Python 3 (ipykernel)",
   "language": "python",
   "name": "python3"
  },
  "language_info": {
   "codemirror_mode": {
    "name": "ipython",
    "version": 3
   },
   "file_extension": ".py",
   "mimetype": "text/x-python",
   "name": "python",
   "nbconvert_exporter": "python",
   "pygments_lexer": "ipython3",
   "version": "3.10.2"
  }
 },
 "nbformat": 4,
 "nbformat_minor": 5
}
