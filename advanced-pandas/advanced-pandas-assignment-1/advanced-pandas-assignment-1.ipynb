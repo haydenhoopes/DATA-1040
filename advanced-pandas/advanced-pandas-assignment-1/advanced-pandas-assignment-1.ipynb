{
 "cells": [
  {
   "cell_type": "markdown",
   "id": "60a93709-6119-4ccb-95aa-8699a8d35a25",
   "metadata": {},
   "source": [
    "# Advanced Pandas Assignment 1\n",
    "\n",
    "In this assignment, you will practice adding and removing rows and columns from Pandas dataframes. In addition, you will practice sorting dataframes.\n",
    "\n",
    "Specifically, you will perform the following exercises:\n",
    "1. Add and remove columns\n",
    "2. Add and remove rows\n",
    "3. Sort dataframes\n",
    "\n",
    "### Note about assignments\n",
    "You can add lines of code according to your preferences. As long as the code required by the assignment is found in this notebook under the corresponding question header (ie. the answer to question 1 is underneath the title \"Question 1\"), you will receive credit for it.\n",
    "\n",
    "## About the data\n",
    "The data used in this assignment is a table built from the Human Resources schema of the Adventure Works 2019 database. This data contains information about each time that Employee Pay History was changed (each line is a pay rate change). It also contains information about the employee and the department they were working in when they received the pay rate listed.\n",
    "\n",
    "The actual data is stored in a CSV file located inside the `data` folder. The file is called `pay_history.csv`.\n",
    "\n",
    "## Instructions\n",
    "### Set up\n",
    "##### Import Pandas\n",
    "Import the Pandas library into Jupyter Lab."
   ]
  },
  {
   "cell_type": "code",
   "execution_count": null,
   "id": "12f5cd27-c781-4f15-86a4-861be75b00e0",
   "metadata": {},
   "outputs": [],
   "source": []
  },
  {
   "cell_type": "markdown",
   "id": "bdb1691c-aec5-40ed-9287-0948b4d1456f",
   "metadata": {},
   "source": [
    "##### Disable column display limit\n",
    "Use the following code to disable the default limit for displaying columns. If you don't use this code, a data set with more than 20 columns will be truncated when displayed to take up less space.\n",
    "\n",
    "```\n",
    "pd.options.display.max_columns = None\n",
    "```"
   ]
  },
  {
   "cell_type": "code",
   "execution_count": null,
   "id": "9751fcdb-1c0f-498d-bcfa-bbcd0c5e5e6d",
   "metadata": {},
   "outputs": [],
   "source": []
  },
  {
   "cell_type": "markdown",
   "id": "185fd61f-4f50-4637-a08a-fe537baafb14",
   "metadata": {},
   "source": [
    "##### Create the dataframe\n",
    "Use the `read_csv()` function from Pandas to read the data from the `pay_history.csv` file into a dataframe called `df`."
   ]
  },
  {
   "cell_type": "code",
   "execution_count": null,
   "id": "fde16e75-2de5-47eb-bbc8-14fd64100129",
   "metadata": {},
   "outputs": [],
   "source": []
  },
  {
   "cell_type": "markdown",
   "id": "ea9c1b0c-a061-423e-8519-a129a0ec7b80",
   "metadata": {},
   "source": [
    "##### Preview dataframe\n",
    "Use the `.head()` method to print out the first 5 rows of the dataframe."
   ]
  },
  {
   "cell_type": "code",
   "execution_count": null,
   "id": "82a93b03-673b-4e9e-851a-ee920ffe6d07",
   "metadata": {},
   "outputs": [],
   "source": []
  },
  {
   "cell_type": "markdown",
   "id": "04065bc8-2ee5-4193-8aaf-a410df532571",
   "metadata": {},
   "source": [
    "### Questions\n",
    "#### Rate\n",
    "##### Question 1: Print out the `Rate` column of the dataframe.\n",
    "\n",
    "The CEO of Adventure Works wants to simplify how employees are paid by simply rounding their rate of pay to two digits. Print out the `Rate` column of the dataframe to show how the rates are currently listed."
   ]
  },
  {
   "cell_type": "code",
   "execution_count": null,
   "id": "2e992831-c444-45d6-a400-ddbaf7747448",
   "metadata": {},
   "outputs": [],
   "source": []
  },
  {
   "cell_type": "markdown",
   "id": "d94ed727-a975-450e-9008-2200015f13d8",
   "metadata": {},
   "source": [
    "##### Question 2: Use the `round()` function \n",
    "\n",
    "Next, use the `round()` function to round the values in the column `Rate` to 2 decimal places. Print out the Series that this creates."
   ]
  },
  {
   "cell_type": "code",
   "execution_count": null,
   "id": "c9dd2a5d-8bf0-49b0-8bb3-7edf5784404e",
   "metadata": {},
   "outputs": [],
   "source": []
  },
  {
   "cell_type": "markdown",
   "id": "b0550ea4-dc21-4cb3-b90a-5678964b96b6",
   "metadata": {},
   "source": [
    "##### Question 3: Save this Series of rounded rates \n",
    "Save this Series of rounded rates as a new column in the dataframe called `RoundedRate`."
   ]
  },
  {
   "cell_type": "code",
   "execution_count": null,
   "id": "c00e0821-bfbe-4c87-acb1-f14f166da087",
   "metadata": {},
   "outputs": [],
   "source": []
  },
  {
   "cell_type": "markdown",
   "id": "8b54d0a7-0150-4a5e-afa2-265d63680b3f",
   "metadata": {},
   "source": [
    "##### Question 4: Print out the dataframe. \n",
    "Print out the new dataframe. Make sure that you can see the new column you created, `RoundedRate`. "
   ]
  },
  {
   "cell_type": "code",
   "execution_count": null,
   "id": "e10d1f73-4210-4f46-927b-894e9059928a",
   "metadata": {},
   "outputs": [],
   "source": []
  },
  {
   "cell_type": "markdown",
   "id": "a67cf784-3bb8-4f4f-ad8b-160956076e7c",
   "metadata": {},
   "source": [
    "##### Question 5: Remove the column `RoundedRate`\n",
    "After seeing two different columns with the employees' rates, the CEO has decided to only have one rate column. Use the `.drop()` method and the `columns` argument to remove the `RoundedRate` column from the dataframe."
   ]
  },
  {
   "cell_type": "code",
   "execution_count": null,
   "id": "2099dd60-0b51-490d-add2-8933b1e172f5",
   "metadata": {},
   "outputs": [],
   "source": []
  },
  {
   "cell_type": "markdown",
   "id": "fee484ef-168e-4dba-9307-4d83c8fbfb5f",
   "metadata": {},
   "source": [
    "##### Question 6: Replace the `Rate` column\n",
    "The CEO of Adventure Works changed his mind again and wants to see the column `Rate` rounded to two decimal places, but he still wants the column to be called `Rate`. Use the `round()` function to replace the column `Rate` with new rates that are rounded to two decimal places."
   ]
  },
  {
   "cell_type": "code",
   "execution_count": null,
   "id": "b075a2b3-2589-4f8b-8ae7-335a1568a2d8",
   "metadata": {},
   "outputs": [],
   "source": []
  },
  {
   "cell_type": "markdown",
   "id": "e5a42ed9-4734-4772-9b98-cdbbfc3863fd",
   "metadata": {},
   "source": [
    "##### Question 7: Print out the dataframe\n",
    "Print out the new dataframe. Make sure that the column `Rate` has numbers rounded to two decimal places."
   ]
  },
  {
   "cell_type": "code",
   "execution_count": null,
   "id": "9a378131-c826-4a9e-8406-26823e412d14",
   "metadata": {},
   "outputs": [],
   "source": []
  },
  {
   "cell_type": "markdown",
   "id": "3bb12a61-cc0d-44a3-b3ba-83723089d8bd",
   "metadata": {},
   "source": [
    "#### Sick days\n",
    "The boss wants to know how many days of sick leave each employee gets. Currently, the data shows the number of *hours* each employee gets.\n",
    "\n",
    "##### Question 8: Print out the `SickLeaveHours` column.\n",
    "Print out the `SickLeaveHours` column of the dataframe."
   ]
  },
  {
   "cell_type": "code",
   "execution_count": null,
   "id": "ab9c573c-f453-45d1-9518-ecd6b665f2eb",
   "metadata": {},
   "outputs": [],
   "source": []
  },
  {
   "cell_type": "markdown",
   "id": "d488f023-6782-45ee-b3bd-d0de90bb39c3",
   "metadata": {},
   "source": [
    "##### Question 9: Convert `SickLeaveHours` to days\n",
    "Use division to convert the values in the `SickLeaveHours` column to days. You can convert hours to days by dividing by 24 (since there are 24 hours in a day). Show the resulting Series."
   ]
  },
  {
   "cell_type": "code",
   "execution_count": null,
   "id": "0da33ce0-918d-415e-81c1-232551b5c21a",
   "metadata": {},
   "outputs": [],
   "source": []
  },
  {
   "cell_type": "markdown",
   "id": "e0c214cc-4aad-40df-badf-04674f94b469",
   "metadata": {},
   "source": [
    "##### Question 10: Save `SickLeaveDays` to dataframe.\n",
    "Using the Series created above, make a new column in the dataframe called `SickLeaveDays` that contains information about the number of sick days each employee has."
   ]
  },
  {
   "cell_type": "code",
   "execution_count": null,
   "id": "f38c5231-262f-47b4-9be3-dc10f934a3d6",
   "metadata": {},
   "outputs": [],
   "source": []
  },
  {
   "cell_type": "markdown",
   "id": "e6312b05-e8ae-492c-ba60-e159effb8398",
   "metadata": {},
   "source": [
    "##### Question 11: Print out the dataframe.\n",
    "Print out the new dataframe. Make sure that there is a column `SickLeaveDays` that contains the number of sick days each employee has."
   ]
  },
  {
   "cell_type": "code",
   "execution_count": null,
   "id": "c4489fbd-80ac-4445-96e3-0bfad655e5f3",
   "metadata": {},
   "outputs": [],
   "source": []
  },
  {
   "cell_type": "markdown",
   "id": "ea3e5842-277e-4505-91ed-01d838bd4490",
   "metadata": {},
   "source": [
    "##### Question 12: Something fishy with the `SickLeaveDays` column.\n",
    "Something doesn't look quite right... Some employees only get `0.83333` days of sick leave. That's not even an entire day! What do you think happened?\n",
    "\n",
    "```\n",
    "    Your answer here.\n",
    "```"
   ]
  },
  {
   "cell_type": "markdown",
   "id": "b142007b-030c-4c02-9189-c55446d838e7",
   "metadata": {},
   "source": [
    "##### Question 13: Fix the `SickLeaveDays` column.\n",
    "Re-create the column `SickLeaveDays` by dividing the `SickLeaveHours` column by 8 instead of 24. This should override the existing column `SickLeaveDays`."
   ]
  },
  {
   "cell_type": "code",
   "execution_count": null,
   "id": "d440988e-0f2c-4587-b626-ad38dd4b547b",
   "metadata": {},
   "outputs": [],
   "source": []
  },
  {
   "cell_type": "markdown",
   "id": "70854b86-0503-4264-aa28-3906b42af5a1",
   "metadata": {},
   "source": [
    "##### Question 14: Remove the column `SickLeaveHours`\n",
    "Now that we have the column `SickLeaveDays`, the column `SickLeaveHours` isn't useful to our analysis. Use the `.drop()` method and the `columns` argument to drop it."
   ]
  },
  {
   "cell_type": "code",
   "execution_count": null,
   "id": "e19539e9-6783-4163-8503-43f1f48b6b5e",
   "metadata": {},
   "outputs": [],
   "source": []
  },
  {
   "cell_type": "markdown",
   "id": "ae2dd3e9-319a-44e2-b64f-7f1745526277",
   "metadata": {},
   "source": [
    "##### Question 15: Print out the resulting dataframe.\n",
    "Use the `.head()` method to print out the resulting dataframe. Make sure that the column `SickLeaveHours` doesn't exist anymore."
   ]
  },
  {
   "cell_type": "code",
   "execution_count": null,
   "id": "92395c58-fca3-4a75-93e5-8e034a76e324",
   "metadata": {},
   "outputs": [],
   "source": []
  },
  {
   "cell_type": "markdown",
   "id": "3d176664-b99f-4f5e-9f56-9d70f542a7a6",
   "metadata": {},
   "source": [
    "#### Vacation Days\n",
    "Do the same thing with the `VacationHours` column that you did with `SickHours`.\n",
    "\n",
    "##### Question 16: Create a column called `VacationDays`\n",
    "Create a column called `VacationDays` that contains information about the number of vacation days that each employee has. You can find this number by taking the `VacationHours` column and dividing it by 8 (8 hours in a work day)."
   ]
  },
  {
   "cell_type": "code",
   "execution_count": null,
   "id": "a679256b-373b-482a-810a-504de8733b71",
   "metadata": {
    "tags": []
   },
   "outputs": [],
   "source": []
  },
  {
   "cell_type": "markdown",
   "id": "a10b963d-801d-4bb2-ab97-90ab7c038e35",
   "metadata": {},
   "source": [
    "##### Question 17: Remove the column `VacationHours`\n",
    "Use the `.drop()` method and the `columns` argument to remove the column `VacationHours` from the dataframe."
   ]
  },
  {
   "cell_type": "code",
   "execution_count": null,
   "id": "8178096c-2038-4974-b8af-c0549d541633",
   "metadata": {},
   "outputs": [],
   "source": []
  },
  {
   "cell_type": "markdown",
   "id": "18fe3415-4046-4950-b791-8c80f71b2b59",
   "metadata": {},
   "source": [
    "##### Question 18: Print out the dataframe.\n",
    "Print out the dataframe to make sure that the `VacationHours` column no longer exists and that the `VacationDays` column does exist and has the right data."
   ]
  },
  {
   "cell_type": "markdown",
   "id": "a847304a-20ba-45fd-b97b-7f7260c6f96c",
   "metadata": {},
   "source": [
    "#### Adding the new hire\n",
    "Congratulations! The CEO noticed how well you were able to add and remove columns using Pandas and decided to hire an actual panda as a new employee. Now it's your job to get his information added to the data set as a new row.\n",
    "\n",
    "##### Question 19: Create a dictionary that represents a new employee\n",
    "The new employee gave you some of its information that will be added to the data set, but its up to you to fill in the rest. Go ahead and fill in the rest of this dictionary with made-up information about the employee.\n",
    "\n",
    "This dictionary will eventually be converted to a dataframe and concatenated to the original dataframe, so make sure to create it in a format that can easily be converted to a dataframe! (In other words, make sure that the values for each key are inside a list!)"
   ]
  },
  {
   "cell_type": "code",
   "execution_count": null,
   "id": "17d06f07-8839-41f9-963b-2b09b2915427",
   "metadata": {},
   "outputs": [],
   "source": [
    "panda = {\n",
    "    'EmployeeID': [291],\n",
    "    'DepartmentID': [4],\n",
    "    'RateChangeDate': ['00:00.0'],\n",
    "    'Rate': ?,\n",
    "    'PayFrequency': [2],\n",
    "    'LoginID': ['adventure-works\\panda'],\n",
    "    'OrganizationLevel': [3],\n",
    "    'JobTitle': ?,\n",
    "    'BirthDate': ['1/1/2021'],\n",
    "    'MaritalStatus': ['S'],\n",
    "    'Gender': ['F'],\n",
    "    'HireDate': ['6/12/2022'],\n",
    "    'SalariedFlag': [0],\n",
    "    'CurrentFlag': [1],\n",
    "    'ShiftID': [1],\n",
    "    'StartDate': ['7/4/2022'],\n",
    "    'EndDate': [None],\n",
    "    'ModifiedDate': ['00:00.0'],\n",
    "    'DepartmentName': ['Engineering'],\n",
    "    'Sub-Department': ['Research and Development'],\n",
    "    'SickLeaveDays': [0],\n",
    "    'VacationDays': ?\n",
    "}"
   ]
  },
  {
   "cell_type": "markdown",
   "id": "cd71c16c-2ef1-4e73-95f3-ecf837ed4fee",
   "metadata": {
    "tags": []
   },
   "source": [
    "##### Question 20: Turn the new employee into a dataframe\n",
    "The dictionary that you just created needs to be turned into a dataframe before you can add it to the original dataframe. Turn it into a dataframe by using the Pandas `DataFrame()` function. Make sure to save it to a variable so that you can reference it later."
   ]
  },
  {
   "cell_type": "code",
   "execution_count": null,
   "id": "f79128c6-0b0b-4d5b-96ba-a09434d4391b",
   "metadata": {},
   "outputs": [],
   "source": []
  },
  {
   "cell_type": "markdown",
   "id": "fd222194-801f-444d-911f-3adbf209b320",
   "metadata": {},
   "source": [
    "##### Quesiton 21: Add the new employee to the original dataframe\n",
    "Use the `concat()` function to concatenate (combine) the new employee to the original dataframe. Remember that the first argument of the `concat()` function is a **list** of dataframes to combine together, and a new dataframe is returned.\n",
    "\n",
    "Use `ignore_index=True` and save the resulting dataframe to the variable `df`, overriding the original dataframe with updated data."
   ]
  },
  {
   "cell_type": "code",
   "execution_count": null,
   "id": "6f869801-55c5-497c-88a8-a6019ed31c16",
   "metadata": {},
   "outputs": [],
   "source": []
  },
  {
   "cell_type": "markdown",
   "id": "e9da0b8f-b1d1-4e56-9e0a-8a49759fa088",
   "metadata": {},
   "source": [
    "##### Question 22: Print out the dataframe\n",
    "Use the `.tail()` or `.head()` method to make sure that the panda was correctly added to the table of employees."
   ]
  },
  {
   "cell_type": "code",
   "execution_count": null,
   "id": "e70947ad-9f5f-4ceb-93f0-901d0b6cae63",
   "metadata": {},
   "outputs": [],
   "source": []
  },
  {
   "cell_type": "markdown",
   "id": "042a6221-33b0-4c8a-a251-7f9f32e0cafa",
   "metadata": {},
   "source": [
    "#### Removing Sharon\n",
    "It is common knowledge at Adventure Works that Sharon's mortal enemy is the panda. For this reason, Sharon decided that she does not want her name associated with analyses that include employee data. Because of this, you will need to remove Sharon from the data set.\n",
    "\n",
    "##### Question 23: Find the row with Sharon's information\n",
    "Sharon works in the Engineering deparment. Use filtering methods to filter the dataframe and get back employees in the Engineering department."
   ]
  },
  {
   "cell_type": "code",
   "execution_count": null,
   "id": "8a5ec3c1-31f0-46b3-8db1-5a464abf6968",
   "metadata": {},
   "outputs": [],
   "source": []
  },
  {
   "cell_type": "markdown",
   "id": "7369ab36-f94d-4b0a-bc43-19a7188dcc63",
   "metadata": {},
   "source": [
    "##### Question 24: Locate the row index number for Sharon\n",
    "Sharon is an employee in the Engineering department. Take note of the row her information is on. What is the row index number containing Sharon's information?\n",
    "\n",
    "```\n",
    "Your answer here\n",
    "```"
   ]
  },
  {
   "cell_type": "markdown",
   "id": "d35d30f2-9c13-4a2e-9fd5-0f1efc68bfb8",
   "metadata": {},
   "source": [
    "##### Question 25: Drop Sharon\n",
    "Use the `.drop()` method and Sharon's row index number to drop Sharon from the dataframe. Remember to pass in the row index number into the argument `index=`. Make sure that this code updates the original dataframe."
   ]
  },
  {
   "cell_type": "code",
   "execution_count": null,
   "id": "a089c5d9-fe60-4d20-940b-7284720a2251",
   "metadata": {},
   "outputs": [],
   "source": []
  },
  {
   "cell_type": "markdown",
   "id": "029726be-aa49-46c7-8fad-d831dd5f9bc9",
   "metadata": {},
   "source": [
    "##### Question 26: Print out the dataframe\n",
    "Print out the Engineering department again to make sure that Sharon's information was correctly removed."
   ]
  },
  {
   "cell_type": "code",
   "execution_count": null,
   "id": "3f6d3a12-f18a-4681-b3e1-d950cc8ad6fe",
   "metadata": {},
   "outputs": [],
   "source": []
  },
  {
   "cell_type": "markdown",
   "id": "837d82ca-53bb-4b24-afd7-17dcb28f9520",
   "metadata": {},
   "source": [
    "#### Removing organization level 4\n",
    "The dataframe you are working with is going to be used for analysis of employees working in levels other than organization level 4. Because of this, you will need to remove all records in the dataframe where employees worked in organization level 4.\n",
    "\n",
    "##### Question 27: Find rows where `OrganizationLevel` is 4\n",
    "Use a filter or the `.loc` property to get a filtered dataframe where `OrganizationLevel` **is** 4."
   ]
  },
  {
   "cell_type": "code",
   "execution_count": null,
   "id": "c3e5eb42-1274-4500-93c9-e1c8dacf5aea",
   "metadata": {},
   "outputs": [],
   "source": []
  },
  {
   "cell_type": "markdown",
   "id": "30a06816-9170-487b-b54f-25d7b8fbbb86",
   "metadata": {},
   "source": [
    "##### Question 28: Get the indexes where `OrganizationLevel` is 4\n",
    "Get a list of indexes where `OrganizationLevel` is 4. To do this, simply take the code you used above and use the property `.index` on it."
   ]
  },
  {
   "cell_type": "code",
   "execution_count": null,
   "id": "3431613f-eb3e-421d-8d49-02adbaa03573",
   "metadata": {},
   "outputs": [],
   "source": []
  },
  {
   "cell_type": "markdown",
   "id": "1c3c0700-774b-481f-a4e8-53299d0b741b",
   "metadata": {},
   "source": [
    "##### Question 29: Save the indexes to a variable\n",
    "Take the code from above and save the list of indexes to a variable called `level_4_indexes`."
   ]
  },
  {
   "cell_type": "code",
   "execution_count": null,
   "id": "949a57b9-f95b-4f7c-bfc1-0bdc9ab41ffa",
   "metadata": {},
   "outputs": [],
   "source": []
  },
  {
   "cell_type": "markdown",
   "id": "3826c081-a6ab-423a-b3f9-66d751ff6199",
   "metadata": {},
   "source": [
    "##### Question 30: Drop the records with shift number 1\n",
    "Use the `.drop()` method to drop the records with organization level 4. Remember that the indexes of people who have organization level 4 are already stored in a variable `level_4_indexes`. You can pass this variable to the `.drop()` method using `index=level_4_indexes`. Make sure to override the original dataframe."
   ]
  },
  {
   "cell_type": "code",
   "execution_count": null,
   "id": "8697e6fd-fe38-4e24-b410-46627fbd5bb3",
   "metadata": {},
   "outputs": [],
   "source": []
  },
  {
   "cell_type": "markdown",
   "id": "2417075f-c4b8-4473-99ae-e6cf8fa9e731",
   "metadata": {},
   "source": [
    "##### Question 31: Print out the dataframe\n",
    "Print out the resulting dataframe using the `.head()` method to make sure that no employees with `ShiftID` of 1 still exist in the dataframe. If you don't see any in the top five rows, you did this correctly."
   ]
  },
  {
   "cell_type": "code",
   "execution_count": null,
   "id": "58200ce6-290a-466b-b005-9c48e649acc6",
   "metadata": {},
   "outputs": [],
   "source": []
  },
  {
   "cell_type": "markdown",
   "id": "d9a1099b-8130-4a67-93e1-0ba38b6b5031",
   "metadata": {},
   "source": [
    "#### Sorting the dataframe\n",
    "The CEO wants to make sure that none of the employees have a higher rate of pay than he does. Sort the dataframe by `Rate` using the `.sort_values()` method.\n",
    "\n",
    "##### Question 32: Sort the dataframe by `Rate`\n",
    "Sort the dataframe by the `Rate` column. You can do this by using the `.sort_values()` method. Do not pass in any other arguments to the `.sort_values()` method."
   ]
  },
  {
   "cell_type": "code",
   "execution_count": null,
   "id": "8cfbfacb-b916-4f24-96db-8f76aea14957",
   "metadata": {},
   "outputs": [],
   "source": []
  },
  {
   "cell_type": "markdown",
   "id": "9677caf7-dd8a-44cf-a5e0-62b6905b748b",
   "metadata": {},
   "source": [
    "##### Question 33: Sort by `Rate` descending\n",
    "Use the same code as above but pass in the correct arguments to sort the dataframe by `Rate` descending."
   ]
  },
  {
   "cell_type": "code",
   "execution_count": null,
   "id": "d38a2e40-7baf-4eab-ade2-8857a5bd9569",
   "metadata": {},
   "outputs": [],
   "source": []
  },
  {
   "cell_type": "markdown",
   "id": "4748fefd-118d-445a-8037-95f049914c65",
   "metadata": {},
   "source": [
    "##### Question 34: Sort by `Rate` ascending and `LoginID` descending\n",
    "Use appropriate arguments to sort the dataframe again by the `Rate` column in ascending order and the `LoginID` column in descending order."
   ]
  },
  {
   "cell_type": "code",
   "execution_count": null,
   "id": "9bc634bc-87fd-4707-9b32-bb2ac8a301bb",
   "metadata": {},
   "outputs": [],
   "source": []
  },
  {
   "cell_type": "markdown",
   "id": "bc0c9fcf-bb57-4436-b088-b78946cd1955",
   "metadata": {},
   "source": [
    "##### Question 35: Save the sorted dataframe\n",
    "Use the code written above to save the newly sorted dataframe to the variable `df`. This new dataframe will override the old dataframe."
   ]
  },
  {
   "cell_type": "code",
   "execution_count": null,
   "id": "94430a79-789a-4c17-b773-243613a575f0",
   "metadata": {},
   "outputs": [],
   "source": []
  },
  {
   "cell_type": "markdown",
   "id": "6c59da6e-b733-4e81-b049-a3d7005ae6fb",
   "metadata": {
    "tags": []
   },
   "source": [
    "##### Question 36: Reset the indexes\n",
    "Use the `.sort_index()` method to reset the rows back to their previous order. Make sure to save it to a new variable `df`. This should override the existing dataframe."
   ]
  },
  {
   "cell_type": "code",
   "execution_count": null,
   "id": "5ca00d0c-1d99-4339-90c6-93430b8d8323",
   "metadata": {},
   "outputs": [],
   "source": []
  },
  {
   "cell_type": "markdown",
   "id": "d6b3a57c-ce29-4231-bcc5-20a8d66e137c",
   "metadata": {},
   "source": [
    "##### Question 37: Print out the final dataframe\n",
    "Use the `.head()` method to print out the first five rows of the dataframe. Make sure that the rows are ordered by their index."
   ]
  },
  {
   "cell_type": "code",
   "execution_count": null,
   "id": "10aa6ede-5dd3-4f25-835a-2747a68c2509",
   "metadata": {},
   "outputs": [],
   "source": []
  }
 ],
 "metadata": {
  "kernelspec": {
   "display_name": "Python 3 (ipykernel)",
   "language": "python",
   "name": "python3"
  },
  "language_info": {
   "codemirror_mode": {
    "name": "ipython",
    "version": 3
   },
   "file_extension": ".py",
   "mimetype": "text/x-python",
   "name": "python",
   "nbconvert_exporter": "python",
   "pygments_lexer": "ipython3",
   "version": "3.10.2"
  }
 },
 "nbformat": 4,
 "nbformat_minor": 5
}
