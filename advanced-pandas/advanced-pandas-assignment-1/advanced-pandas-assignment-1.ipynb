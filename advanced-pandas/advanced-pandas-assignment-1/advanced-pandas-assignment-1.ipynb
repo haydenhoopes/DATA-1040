{
 "cells": [
  {
   "cell_type": "markdown",
   "id": "60a93709-6119-4ccb-95aa-8699a8d35a25",
   "metadata": {},
   "source": [
    "# Advanced Pandas Assignment 1\n",
    "\n",
    "In this assignment, you will practice adding and removing rows and columns from Pandas dataframes. In addition, you will practice sorting dataframes.\n",
    "\n",
    "Specifically, you will perform the following exercises:\n",
    "1. Add and remove columns\n",
    "2. Add and remove rows\n",
    "3. Sort dataframes\n",
    "\n",
    "### Note about assignments\n",
    "You can add lines of code according to your preferences. As long as the code required by the assignment is found in this notebook under the corresponding task header (ie. the code and answers for task 1 are underneath the title \"Task 1\"), you will receive credit for it.\n",
    "\n",
    "## About the data\n",
    "The data used in this assignment is a table built from the Human Resources schema of the Adventure Works 2019 database. This data contains information about each time that Employee Pay History was changed (each line is a pay rate change). It also contains information about the employee and the department they were working in when they received the pay rate listed.\n",
    "\n",
    "The actual data is stored in a CSV file located inside the `data` folder. The file is called `pay_history.csv`.\n",
    "\n",
    "## Instructions\n",
    "\n",
    "Write code to complete the tasks below.\n",
    "\n",
    "### Set up\n",
    "##### Import Pandas\n",
    "Import the Pandas library into Jupyter Lab.\n",
    "\n",
    "<p style=\"font-size:.75rem\">Expected output: None</p>"
   ]
  },
  {
   "cell_type": "code",
   "execution_count": null,
   "id": "12f5cd27-c781-4f15-86a4-861be75b00e0",
   "metadata": {},
   "outputs": [],
   "source": []
  },
  {
   "cell_type": "markdown",
   "id": "bdb1691c-aec5-40ed-9287-0948b4d1456f",
   "metadata": {},
   "source": [
    "##### Disable column display limit\n",
    "Use the following code to disable the default limit for displaying columns. If you don't use this code, a data set with more than 20 columns will be truncated when displayed to take up less space.\n",
    "\n",
    "```python\n",
    "pd.options.display.max_columns = None\n",
    "```\n",
    "\n",
    "<p style=\"font-size:.75rem\">Expected output: None</p>"
   ]
  },
  {
   "cell_type": "code",
   "execution_count": null,
   "id": "9751fcdb-1c0f-498d-bcfa-bbcd0c5e5e6d",
   "metadata": {},
   "outputs": [],
   "source": []
  },
  {
   "cell_type": "markdown",
   "id": "185fd61f-4f50-4637-a08a-fe537baafb14",
   "metadata": {},
   "source": [
    "##### Create the dataframe\n",
    "Read the data from the `pay_history.csv` file into a dataframe called `df`.\n",
    "\n",
    "<p style=\"font-size:.75rem\">Expected output: None</p>"
   ]
  },
  {
   "cell_type": "code",
   "execution_count": null,
   "id": "fde16e75-2de5-47eb-bbc8-14fd64100129",
   "metadata": {},
   "outputs": [],
   "source": []
  },
  {
   "cell_type": "markdown",
   "id": "ea9c1b0c-a061-423e-8519-a129a0ec7b80",
   "metadata": {},
   "source": [
    "##### Preview dataframe\n",
    "Print out the first 5 rows of the dataframe.\n",
    "\n",
    "<p style=\"font-size:.75rem\">Expected output: 5 rows, indexes 0-4</p>"
   ]
  },
  {
   "cell_type": "code",
   "execution_count": null,
   "id": "82a93b03-673b-4e9e-851a-ee920ffe6d07",
   "metadata": {},
   "outputs": [],
   "source": []
  },
  {
   "cell_type": "markdown",
   "id": "04065bc8-2ee5-4193-8aaf-a410df532571",
   "metadata": {},
   "source": [
    "### Questions\n",
    "#### Task 1: Rate\n",
    "\n",
    "The CEO of Adventure Works wants to simplify how employees are paid by simply rounding their rate of pay to two digits. \n",
    "\n",
    "Create a new column called `RoundedRate` that contains the values of the `Rate` column rounded to two decimal places. Replace the `Rate` column with the values in the new `RoundedRate` column. Then, remove the `RoundedRate` column from the dataframe. Finally, print out the dataframe.\n",
    "\n",
    "<p style=\"font-size:.75rem\">Expected output: Dataframe with `RoundedRate` column and without `Rate` column</p>"
   ]
  },
  {
   "cell_type": "code",
   "execution_count": null,
   "id": "2e992831-c444-45d6-a400-ddbaf7747448",
   "metadata": {},
   "outputs": [],
   "source": []
  },
  {
   "cell_type": "markdown",
   "id": "3bb12a61-cc0d-44a3-b3ba-83723089d8bd",
   "metadata": {},
   "source": [
    "#### Task 2: Sick days (part 1)\n",
    "The boss wants to know how many days of sick leave each employee gets. Currently, the data shows the number of *hours* each employee gets.\n",
    "\n",
    "Create a new column called `SickLeaveDays` by dividing the `SickLeaveHours` column by **24**. Then, print out the resulting dataframe.\n",
    "\n",
    "<p style=\"font-size:.75rem\">Dataframe with column `SickLeaveDays`, which is `SickLeaveHours` divided by 24</p>"
   ]
  },
  {
   "cell_type": "code",
   "execution_count": null,
   "id": "c4489fbd-80ac-4445-96e3-0bfad655e5f3",
   "metadata": {},
   "outputs": [],
   "source": []
  },
  {
   "cell_type": "markdown",
   "id": "3ad16add-cbc4-46ef-a44e-f2407d881117",
   "metadata": {},
   "source": [
    "#### Task 3: Sick days (part 2)\n",
    "\n",
    "Something doesn't look quite right... Some employees only get `0.83333` days of sick leave. That's not even an entire day! What do you think happened?\n",
    "\n",
    "<p style=\"font-size:.75rem\">Expected output: None</p>"
   ]
  },
  {
   "cell_type": "markdown",
   "id": "ac419973-5915-475f-a264-439e93265f16",
   "metadata": {},
   "source": [
    "```\n",
    "Your answer here.\n",
    "```"
   ]
  },
  {
   "cell_type": "markdown",
   "id": "b142007b-030c-4c02-9189-c55446d838e7",
   "metadata": {},
   "source": [
    "#### Task 4: Sick days (part 3)\n",
    "\n",
    "Re-create the column `SickLeaveDays` by dividing the `SickLeaveHours` column by 8 instead of 24. This should override the existing column `SickLeaveDays`. Then, remove the column `SickLeaveHours` and print out the resulting dataframe.\n",
    "\n",
    "<p style=\"font-size:.75rem\">Expected output: Dataframe with column `SickLeaveDays`, which is `SickLeaveHours` divided by 24. The dataframe does not have the column `SickLeaveHours`</p>"
   ]
  },
  {
   "cell_type": "code",
   "execution_count": null,
   "id": "d440988e-0f2c-4587-b626-ad38dd4b547b",
   "metadata": {},
   "outputs": [],
   "source": []
  },
  {
   "cell_type": "code",
   "execution_count": null,
   "id": "e19539e9-6783-4163-8503-43f1f48b6b5e",
   "metadata": {},
   "outputs": [],
   "source": []
  },
  {
   "cell_type": "markdown",
   "id": "3d176664-b99f-4f5e-9f56-9d70f542a7a6",
   "metadata": {},
   "source": [
    "#### Task 5: Vacation Days\n",
    "Do the same thing with the `VacationHours` column that you did with `SickHours`. Remove the column `VacationHours` and print out the resulting dataframe.\n",
    "\n",
    "<p style=\"font-size:.75rem\">Expected output: Dataframe with column `VacationDays` and without column `VacationHours`</p>"
   ]
  },
  {
   "cell_type": "code",
   "execution_count": null,
   "id": "2042d266-4bbf-470a-93bf-59dd3626ce35",
   "metadata": {},
   "outputs": [],
   "source": []
  },
  {
   "cell_type": "markdown",
   "id": "a847304a-20ba-45fd-b97b-7f7260c6f96c",
   "metadata": {},
   "source": [
    "#### Task 6: Adding the new hire\n",
    "Congratulations! The CEO noticed how well you were able to add and remove columns using Pandas and decided to hire an actual panda as a new employee. Now it's your job to get his information added to the data set as a new row.\n",
    "\n",
    "The new employee gave you some of its information that will be added to the data set, but its up to you to fill in the rest. Go ahead and fill in the rest of this dictionary with made-up information about the employee.\n",
    "\n",
    "This dictionary will then be converted to a dataframe and concatenated to the original dataframe, so make sure to create it in a format that can easily be converted to a dataframe! (In other words, make sure that the values for each key are inside a list!)\n",
    "\n",
    "After creating the dictionary, turn the employee into a dataframe. Then, use appropriate methods to combine the original dataframe and the new dataframe into a single dataframe called `df`. Then, print out the dataframe in such a way that the new employee (the panda) can be seen.\n",
    "\n",
    "<p style=\"font-size:.75rem\">Expected output: Dataframe which shows a new employee with `LoginID` \"adventure-works\\panda\"</p>"
   ]
  },
  {
   "cell_type": "code",
   "execution_count": null,
   "id": "17d06f07-8839-41f9-963b-2b09b2915427",
   "metadata": {},
   "outputs": [],
   "source": [
    "panda = {\n",
    "    'EmployeeID': [291],\n",
    "    'DepartmentID': [4],\n",
    "    'RateChangeDate': ['00:00.0'],\n",
    "    'Rate': ?,\n",
    "    'PayFrequency': [2],\n",
    "    'LoginID': ['adventure-works\\panda'],\n",
    "    'OrganizationLevel': [3],\n",
    "    'JobTitle': ?,\n",
    "    'BirthDate': ['1/1/2021'],\n",
    "    'MaritalStatus': ['S'],\n",
    "    'Gender': ['F'],\n",
    "    'HireDate': ['6/12/2022'],\n",
    "    'SalariedFlag': [0],\n",
    "    'CurrentFlag': [1],\n",
    "    'ShiftID': [1],\n",
    "    'StartDate': ['7/4/2022'],\n",
    "    'EndDate': [None],\n",
    "    'ModifiedDate': ['00:00.0'],\n",
    "    'DepartmentName': ['Engineering'],\n",
    "    'Sub-Department': ['Research and Development'],\n",
    "    'SickLeaveDays': [0],\n",
    "    'VacationDays': ?\n",
    "}"
   ]
  },
  {
   "cell_type": "markdown",
   "id": "042a6221-33b0-4c8a-a251-7f9f32e0cafa",
   "metadata": {},
   "source": [
    "#### Task 7: Removing Sharon\n",
    "It is common knowledge at Adventure Works that Sharon and pandas **do not get along**. For this reason, Sharon decided that she does not want her name associated with analyses that include the new employee (who is a panda). Because of this, you will need to remove Sharon from the data set.\n",
    "\n",
    "Find the row in the dataframe where `LoginID` is \"adventure-works\\sharon0\" and remove it. Then, print out the dataframe in such a way that shows that Sharon was successfully deleted from the data set.\n",
    "\n",
    "<p style=\"font-size:.75rem\">Dataframe that shows that Sharon is no longer in the data set</p>"
   ]
  },
  {
   "cell_type": "code",
   "execution_count": null,
   "id": "8a5ec3c1-31f0-46b3-8db1-5a464abf6968",
   "metadata": {},
   "outputs": [],
   "source": []
  },
  {
   "cell_type": "markdown",
   "id": "837d82ca-53bb-4b24-afd7-17dcb28f9520",
   "metadata": {},
   "source": [
    "#### Task 8: Removing organization level 4\n",
    "The dataframe you are working with is going to be used for analysis of employees working in levels other than organization level 4. Because of this, you will need to remove all records in the dataframe where employees worked in organization level 4.\n",
    "\n",
    "Remove all rows with `OrganizationLevel` 4. Then, print out the dataframe in such a way that shows that all employees in `OrganizationLevel` 4 were successfully removed.\n",
    "\n",
    "<p style=\"font-size:.75rem\">Dataframe which shows that `OrganizationLevel` 4 was successfully removed</p>"
   ]
  },
  {
   "cell_type": "code",
   "execution_count": null,
   "id": "58200ce6-290a-466b-b005-9c48e649acc6",
   "metadata": {},
   "outputs": [],
   "source": []
  },
  {
   "cell_type": "markdown",
   "id": "d9a1099b-8130-4a67-93e1-0ba38b6b5031",
   "metadata": {},
   "source": [
    "#### Task 9: Sorting the dataframe\n",
    "The CEO wants to make sure that none of the employees have a higher rate of pay than he does. He wants to compare the `Rate` of employees in several ways. Print out the dataframe multiple times in the following ways:\n",
    "\n",
    "- Sorted by `Rate` descending\n",
    "- Sorted by `Rate` ascending and `LoginID` descending\n",
    "- Sorted by index\n",
    "\n",
    "<p style=\"font-size:.75rem\">Expected output: Dataframe printed out three times in the ways listed above</p>"
   ]
  },
  {
   "cell_type": "code",
   "execution_count": null,
   "id": "10aa6ede-5dd3-4f25-835a-2747a68c2509",
   "metadata": {},
   "outputs": [],
   "source": []
  }
 ],
 "metadata": {
  "kernelspec": {
   "display_name": "Python 3 (ipykernel)",
   "language": "python",
   "name": "python3"
  },
  "language_info": {
   "codemirror_mode": {
    "name": "ipython",
    "version": 3
   },
   "file_extension": ".py",
   "mimetype": "text/x-python",
   "name": "python",
   "nbconvert_exporter": "python",
   "pygments_lexer": "ipython3",
   "version": "3.10.6"
  }
 },
 "nbformat": 4,
 "nbformat_minor": 5
}
