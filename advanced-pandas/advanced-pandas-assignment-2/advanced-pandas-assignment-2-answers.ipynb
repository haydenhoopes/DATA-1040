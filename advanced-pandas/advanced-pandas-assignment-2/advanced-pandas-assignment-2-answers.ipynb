{
 "cells": [
  {
   "cell_type": "markdown",
   "id": "ada507fc-7090-4973-bbac-35bca7792092",
   "metadata": {},
   "source": [
    "# Advanced Pandas Assignment 2\n",
    "\n",
    "In this assignment, you will practice grouping and aggregating data inside of Pandas dataframes. You will also practice using string operations on string data.\n",
    "\n",
    "### Note about assignments\n",
    "You can add lines of code according to your preferences. As long as the code required by the assignment is found in this notebook under the corresponding question header (ie. the answer to question 1 is underneath the title \"Question 1\"), you will receive credit for it.\n",
    "\n",
    "## About the data\n",
    "The data used in this assignment is a table built from the Human Resources schema of the Adventure Works 2019 database. This data contains information about each time that Employee Pay History was changed (each line is a pay rate change). It also contains information about the employee and the department they were working in when they received the pay rate listed. \n",
    "\n",
    "The actual data is stored in a CSV file located inside the `data` folder. The file is called `pay_history.csv`.\n",
    "\n",
    "## Instructions\n",
    "### Set up\n",
    "##### Import Pandas\n",
    "Import the Pandas library into Jupyter Lab."
   ]
  },
  {
   "cell_type": "code",
   "execution_count": null,
   "id": "0145276f-82cb-4bd2-9642-ad8f440753e9",
   "metadata": {},
   "outputs": [],
   "source": []
  },
  {
   "cell_type": "markdown",
   "id": "05cd4794-0c3f-42cd-8879-5e075d16a1b2",
   "metadata": {},
   "source": [
    "##### Disable column display limit\n",
    "Use the following code to disable the default limit for displaying columns. If you don't use this code, a data set with more than 20 columns will be truncated when displayed to take up less space.\n",
    "\n",
    "```\n",
    "pd.options.display.max_columns = None\n",
    "```"
   ]
  },
  {
   "cell_type": "code",
   "execution_count": null,
   "id": "aaa7925f-84b7-4246-afe8-777c5b7da39f",
   "metadata": {},
   "outputs": [],
   "source": []
  },
  {
   "cell_type": "markdown",
   "id": "db9c8157-546c-4c8c-86ea-ea00e8bf9d41",
   "metadata": {},
   "source": [
    "##### Create the dataframe\n",
    "Use the `read_csv()` function from Pandas to read the data from the `pay_history.csv` file into a dataframe called `df`."
   ]
  },
  {
   "cell_type": "code",
   "execution_count": null,
   "id": "8d1a6ecd-9afb-44c9-8603-051488680df9",
   "metadata": {},
   "outputs": [],
   "source": []
  },
  {
   "cell_type": "markdown",
   "id": "5d64b4b7-25fd-49f0-bb1d-ab92509284e7",
   "metadata": {},
   "source": [
    "##### Preview dataframe\n",
    "Use the `.head()` method to print out the first 5 rows of the dataframe."
   ]
  },
  {
   "cell_type": "code",
   "execution_count": null,
   "id": "be9fa603-7bc2-47a9-ba91-cb75d323e138",
   "metadata": {},
   "outputs": [],
   "source": []
  },
  {
   "cell_type": "markdown",
   "id": "59b44b7c-f753-4a25-b2ee-b96822c432ee",
   "metadata": {},
   "source": [
    "### Questions\n",
    "#### Top Paid Employee\n",
    "##### Question 1: Get the `Rate` column\n",
    "Print out the `Rate` column from the dataframe."
   ]
  },
  {
   "cell_type": "code",
   "execution_count": null,
   "id": "550f69f9-f82f-4d89-90ac-6eca4e7f1e18",
   "metadata": {},
   "outputs": [],
   "source": []
  },
  {
   "cell_type": "markdown",
   "id": "084f1738-1760-4f38-80d3-e031180b1831",
   "metadata": {},
   "source": [
    "##### Question 2: Get the top `Rate` among all employees\n",
    "Use the `.max()` method on the `Rate` column to find the top pay rate among all employees. Print it out."
   ]
  },
  {
   "cell_type": "code",
   "execution_count": null,
   "id": "2f6930e2-1d6a-48cc-8d06-70f6e246e950",
   "metadata": {},
   "outputs": [],
   "source": []
  },
  {
   "cell_type": "markdown",
   "id": "c24250cb-4547-47c8-af4b-93c1aa0ccb48",
   "metadata": {},
   "source": [
    "##### Question 3: Save max rate as a variable\n",
    "The data returned by the previous code returns a single number. Copy the code you wrote above and save the result to a variable called `max_rate`."
   ]
  },
  {
   "cell_type": "code",
   "execution_count": null,
   "id": "ec2a1ba3-20f7-470d-97e9-51d5d308597d",
   "metadata": {},
   "outputs": [],
   "source": []
  },
  {
   "cell_type": "markdown",
   "id": "59c8df4f-bcc7-4de4-b5d2-f18deed91cfc",
   "metadata": {},
   "source": [
    "##### Question 4: Get record for employee(s) who have the top rate\n",
    "Create a filter that finds records in the dataframe who have a rate equal to `max_rate`. Save the filter to a variable called `filt`."
   ]
  },
  {
   "cell_type": "code",
   "execution_count": null,
   "id": "6cb32864-9f3f-4a7b-b44e-40e1f5d0ec44",
   "metadata": {},
   "outputs": [],
   "source": []
  },
  {
   "cell_type": "markdown",
   "id": "6c970497-1a33-46e0-81a0-38bd0ac92002",
   "metadata": {},
   "source": [
    "##### Question 5: Get the top paid employees' records\n",
    "Use the `filt` variable to get back rows in the dataframe with information about the top earning employee."
   ]
  },
  {
   "cell_type": "code",
   "execution_count": null,
   "id": "71a7af17-7b5a-4f69-9b97-126f8fd38255",
   "metadata": {},
   "outputs": [],
   "source": []
  },
  {
   "cell_type": "markdown",
   "id": "3ea63a9b-4ff1-4582-8c8c-fd2867899e79",
   "metadata": {},
   "source": [
    "##### Question 6: What is the Job Title and Organization Level of the top paid employee?\n",
    "```\n",
    "Job Title: Cheif Executive Officer\n",
    "Organization Level: NaN\n",
    "```"
   ]
  },
  {
   "cell_type": "markdown",
   "id": "17a9027e-fd15-48f7-a9c5-c7e78c71d2df",
   "metadata": {},
   "source": [
    "#### Top Paid Employee by Organization Level\n",
    "##### Question 7: Group by `OrganizationLevel`\n",
    "Use the `.groupby()` method to create a `GroupBy` object. Group by the column `OrganizationLevel`."
   ]
  },
  {
   "cell_type": "code",
   "execution_count": null,
   "id": "ee5b261a-4807-418a-9d6a-a7b54b8fef30",
   "metadata": {},
   "outputs": [],
   "source": []
  },
  {
   "cell_type": "markdown",
   "id": "cc5fc620-3f3c-40e8-a327-68aaef7541bb",
   "metadata": {},
   "source": [
    "##### Question 8: Use the `.agg()` method\n",
    "Use the `.agg()` method on the code you typed above to find the maximum rate in each organization level. Print out the resulting dataframe.\n",
    "\n",
    "Remember that the `.agg()` method takes a dictionary where keys represent the columns to aggregate on and the value represents *how* to aggregate them."
   ]
  },
  {
   "cell_type": "code",
   "execution_count": null,
   "id": "3d7235bc-8bb7-4d85-9ca6-c2830b01caee",
   "metadata": {},
   "outputs": [],
   "source": []
  },
  {
   "cell_type": "markdown",
   "id": "2c044c19-b3a0-46c0-985e-5c256ef0d999",
   "metadata": {},
   "source": [
    "##### Question 9: Rank the maximum rates\n",
    "Looking at the aggregation performed above, rank the maximum pay rates across organization levels."
   ]
  },
  {
   "cell_type": "markdown",
   "id": "a9d0ee83-a056-43a7-8d3b-17a91a607d44",
   "metadata": {},
   "source": [
    "```\n",
    "Highest paid: ?\n",
    "2nd highest paid: ?\n",
    "3rd highest paid: ?\n",
    "Lowest paid: ?\n",
    "```"
   ]
  },
  {
   "cell_type": "markdown",
   "id": "0ff9e9c1-1146-4199-a304-eb6c23e0c845",
   "metadata": {},
   "source": [
    "##### Question 10: Aggregate by max and average `Rate`\n",
    "Add to the code above and find both the maximum and average pay rates across each organization level. Print out the resulting dataframe."
   ]
  },
  {
   "cell_type": "code",
   "execution_count": null,
   "id": "6fa9c8e0-f211-471f-9d25-14cddde1b863",
   "metadata": {},
   "outputs": [],
   "source": []
  },
  {
   "cell_type": "markdown",
   "id": "b62f4bd1-6173-4207-8a23-7487ba5c8f49",
   "metadata": {},
   "source": [
    "##### Question 11: Rank the average pay rates\n",
    "Looking at the aggregation performed above, rank the average pay rates across organization levels."
   ]
  },
  {
   "cell_type": "markdown",
   "id": "ee66a721-76a2-4977-bf3e-59de2c6cb1cc",
   "metadata": {},
   "source": [
    "```\n",
    "Highest paid: ?\n",
    "2nd highest paid: ?\n",
    "3rd highest paid: ?\n",
    "Lowest paid: ?\n",
    "```"
   ]
  },
  {
   "cell_type": "markdown",
   "id": "27cfbb53-8e85-4c7f-b21a-fa5845b8fc1d",
   "metadata": {},
   "source": [
    "##### Question 12: What do you notice?\n",
    "Observe the rankings of maximum and average rates of pay. What do you notice about the differences between these rankings? Why might the rankings be different? There is no correct answer, but you should try to think of something that could be further explored."
   ]
  },
  {
   "cell_type": "markdown",
   "id": "75d23eb9-c73f-4d2a-b6f7-71cb26e3ae8d",
   "metadata": {},
   "source": [
    "```\n",
    "Your answer here.\n",
    "```"
   ]
  },
  {
   "cell_type": "markdown",
   "id": "aaa0776e-08f8-4f80-b889-85aa7d7e3f52",
   "metadata": {},
   "source": [
    "#### Hire Date\n",
    "##### Question 13: Print out the dataframe\n",
    "Use the `.head()` method to print out the first five rows of the dataframe."
   ]
  },
  {
   "cell_type": "code",
   "execution_count": null,
   "id": "3ff5ce12-ad5b-46cd-8924-15474ec87e3f",
   "metadata": {},
   "outputs": [],
   "source": []
  },
  {
   "cell_type": "markdown",
   "id": "9cc32bad-f394-4c21-bd6b-69f8f1429abd",
   "metadata": {},
   "source": [
    "##### Question 14: Get data types\n",
    "Use the `.info()` method to get the data types for each column in the dataframe."
   ]
  },
  {
   "cell_type": "code",
   "execution_count": null,
   "id": "20ba6c45-74df-4da0-8df2-9057d98f5677",
   "metadata": {},
   "outputs": [],
   "source": []
  },
  {
   "cell_type": "markdown",
   "id": "e6761d7c-1554-4176-9ce3-172382785917",
   "metadata": {},
   "source": [
    "##### Question 15: Data type of `HireDate`\n",
    "Notice the data types outputted from the `.info()` method. What is the data type of `HireDate`? What does that mean?"
   ]
  },
  {
   "cell_type": "markdown",
   "id": "f4907913-f9a3-489b-996d-b77baf172dac",
   "metadata": {},
   "source": [
    "```\n",
    "Your answer here.\n",
    "```"
   ]
  },
  {
   "cell_type": "markdown",
   "id": "3a7526fd-df83-4c05-a837-389ed5d0bc10",
   "metadata": {},
   "source": [
    "##### Question 16: Split the `HireDate` column\n",
    "Using the `.str` accessor object and the `.split()` method, get a Series of values in `HireDate` that are split by the forward slash `/` symbol."
   ]
  },
  {
   "cell_type": "code",
   "execution_count": null,
   "id": "8e6aaac7-c70e-4e19-a568-531bf7e746b8",
   "metadata": {},
   "outputs": [],
   "source": []
  },
  {
   "cell_type": "markdown",
   "id": "d013e088-9fcb-496d-8c3e-d97a86610eed",
   "metadata": {},
   "source": [
    "##### Question 17: Observe split results\n",
    "Observe the results of splitting the `HireDate` column by the forward slash `/` symbol. How many items does each list have? What might they represent?"
   ]
  },
  {
   "cell_type": "markdown",
   "id": "9643b924-3efa-477a-977f-60f0ee1bb325",
   "metadata": {},
   "source": [
    "```\n",
    "Your answer here.\n",
    "```"
   ]
  },
  {
   "cell_type": "markdown",
   "id": "a7fd5bb4-3fdc-4ab7-813b-3e76115decef",
   "metadata": {},
   "source": [
    "##### Question 18: Get the last value from each list\n",
    "Use the `.str` accessor object on the code you wrote previously to get the second/last value out of the split list. Print out the resulting Series."
   ]
  },
  {
   "cell_type": "code",
   "execution_count": null,
   "id": "9f5e39c7-3043-40f6-8d7f-e959ce91637e",
   "metadata": {},
   "outputs": [],
   "source": []
  },
  {
   "cell_type": "markdown",
   "id": "4be3ebc3-a724-4c5d-befe-2d01643143da",
   "metadata": {},
   "source": [
    "##### Question 19: Create column `HireYear`\n",
    "Using the code you wrote above, create a new column in the dataframe called `HireYear`."
   ]
  },
  {
   "cell_type": "code",
   "execution_count": null,
   "id": "c2426fb7-38c0-46fe-89e0-114badea75de",
   "metadata": {},
   "outputs": [],
   "source": []
  },
  {
   "cell_type": "markdown",
   "id": "6b1864ec-aa68-4de9-bfc9-09b0cdfbcfa1",
   "metadata": {},
   "source": [
    "##### Question 20: Print out the resulting dataframe\n",
    "Print out the resulting dataframe. Make sure it has a column called `HireYear` that contains four-digit years."
   ]
  },
  {
   "cell_type": "code",
   "execution_count": null,
   "id": "80ac4bfc-65a4-4429-b7f6-6d119a2b861e",
   "metadata": {},
   "outputs": [],
   "source": []
  },
  {
   "cell_type": "markdown",
   "id": "edaae6b0-77d4-44fb-b686-67783aac2198",
   "metadata": {},
   "source": [
    "#### Hiring rates\n",
    "Using the column you just created `HireYear`, you will count up how many employees were hired in each year.\n",
    "\n",
    "##### Question 21: Group by `HireYear`\n",
    "Create a `GroupBy` object where rows are grouped by the year they were hired. Print it out, but don't save it to a variable."
   ]
  },
  {
   "cell_type": "code",
   "execution_count": null,
   "id": "60298098-27c8-4b0d-8f5f-91ea7aeffeb8",
   "metadata": {},
   "outputs": [],
   "source": []
  },
  {
   "cell_type": "markdown",
   "id": "ee7fa5d1-1b3f-46e0-bfa8-748fca3ec1db",
   "metadata": {},
   "source": [
    "##### Question 22: Aggregate by counting\n",
    "Use the `.agg()` method to figure out how many employees were hired in each year. Count each `EmployeeID` using `count`."
   ]
  },
  {
   "cell_type": "code",
   "execution_count": null,
   "id": "acd62876-5ba7-4128-a301-676ec0569f86",
   "metadata": {},
   "outputs": [],
   "source": []
  },
  {
   "cell_type": "markdown",
   "id": "36b193c3-53e3-425d-b2b6-c569bd5d10d5",
   "metadata": {},
   "source": [
    "##### Question 23: Aggregating by counting unique\n",
    "Wait! You just realized that this dataset contains data for each pay rate change for all employees. Because employees can appear several times in the data set, you might actually be counting each employee several times.\n",
    "\n",
    "Change the group by code above to use `nunique` instead of `count`."
   ]
  },
  {
   "cell_type": "code",
   "execution_count": null,
   "id": "1a316da8-1a5d-418a-971d-b8a54efe49a6",
   "metadata": {},
   "outputs": [],
   "source": []
  },
  {
   "cell_type": "markdown",
   "id": "31f7054e-52d5-415d-874d-6b26e56c9a58",
   "metadata": {},
   "source": [
    "##### Question 24: Best growth year\n",
    "Which year saw the most growth in terms of number of employees? What does this make you think about the organization?"
   ]
  },
  {
   "cell_type": "markdown",
   "id": "06f361ed-357a-4604-b3ef-58555cef2576",
   "metadata": {},
   "source": [
    "```\n",
    "Your answer here.\n",
    "```"
   ]
  },
  {
   "cell_type": "markdown",
   "id": "e3bc914a-6efe-401f-befd-5f215307baa7",
   "metadata": {},
   "source": [
    "#### Assistant vacation days expectation\n",
    "Anna knows you from your past life and is seeking employement at Adventure Works as an assistant. She doesn't know what or who she would be an assistant to, but she wants you to help her get the inside scoop on how many vacation days she might get if hired.\n",
    "\n",
    "##### Question 25: Get rows with 'Assistant' in the `JobTitle`\n",
    "Using the `.str` accessor object and the `.contains()` method, get a Series of boolean (True/False) values that indicate which rows contain the word \"Assistant\" in the column `JobTitle`. Note that `.contains()` is case sensitive. (all rows will likely all seem to say \"False\")"
   ]
  },
  {
   "cell_type": "code",
   "execution_count": null,
   "id": "2077a3ab-ace5-43e9-a585-782c50bb19fc",
   "metadata": {},
   "outputs": [],
   "source": []
  },
  {
   "cell_type": "markdown",
   "id": "5e45a3db-8687-4266-af11-9b5d68f0067a",
   "metadata": {},
   "source": [
    "##### Question 26: Save to variable\n",
    "Save the code you wrote above to a variable called `assistant_filter`."
   ]
  },
  {
   "cell_type": "code",
   "execution_count": null,
   "id": "35680703-740f-44e4-99ca-8d5f64dd27c5",
   "metadata": {},
   "outputs": [],
   "source": []
  },
  {
   "cell_type": "markdown",
   "id": "85c11612-cf0b-47ca-9752-9898180af80f",
   "metadata": {},
   "source": [
    "##### Question 27: Get rows with assistants\n",
    "Pass the variable `assistant_filter` in to the dataframe in the same way that you would a normal filter. Make sure that rows are returned that have a `JobTitle` with the word \"Assistant\" in it."
   ]
  },
  {
   "cell_type": "code",
   "execution_count": null,
   "id": "25de98fb-9c2e-41d2-ba8d-c5deb7c359ab",
   "metadata": {},
   "outputs": [],
   "source": []
  },
  {
   "cell_type": "markdown",
   "id": "b9ab63e8-fc51-4643-8e44-d9d481c1ba0f",
   "metadata": {},
   "source": [
    "##### Question 28: Save the filtered dataframe\n",
    "Using the code above, save the filtered dataframe to a new variable called `assistant_df`."
   ]
  },
  {
   "cell_type": "code",
   "execution_count": null,
   "id": "82e29392-a239-48d1-bd0c-e8a924f3ccb6",
   "metadata": {},
   "outputs": [],
   "source": []
  },
  {
   "cell_type": "markdown",
   "id": "25e21125-1ddb-461c-8a9c-bbcc783f6e9d",
   "metadata": {},
   "source": [
    "##### Question 29: Find the average vacation days\n",
    "Use the `.mean()` method on the `VacationHours` column of the `assistant_df` dataframe to find the average number of vacation hours for assistants."
   ]
  },
  {
   "cell_type": "code",
   "execution_count": null,
   "id": "ab56b099-972f-4f7b-ab3c-0706099ef6f9",
   "metadata": {},
   "outputs": [],
   "source": []
  },
  {
   "cell_type": "markdown",
   "id": "cfefa14b-2050-4fd1-89e7-8583c50b8859",
   "metadata": {},
   "source": [
    "##### Question 30: Group by `Sub-Department`\n",
    "Create a `GroupBy` object by grouping the rows in `assistant_df` by the column `Sub-Department`."
   ]
  },
  {
   "cell_type": "code",
   "execution_count": null,
   "id": "9d599e9d-7de2-4e43-967b-d97f2b51befe",
   "metadata": {},
   "outputs": [],
   "source": []
  },
  {
   "cell_type": "markdown",
   "id": "4cd87eff-f555-4dd6-a599-713aae252054",
   "metadata": {},
   "source": [
    "##### Question 31: Aggregate across Sub-Departments\n",
    "Use the `.agg()` method to aggregate across `Sub-Department` using `VacationHours`. Get the count, mean, and median."
   ]
  },
  {
   "cell_type": "code",
   "execution_count": null,
   "id": "3a710050-e46a-48a2-9d80-be16587a0df8",
   "metadata": {},
   "outputs": [],
   "source": []
  },
  {
   "cell_type": "markdown",
   "id": "ab359d9e-1373-4493-9f35-418214f98f5f",
   "metadata": {},
   "source": [
    "##### Question 32: Add aggregation for `SickLeaveHours`\n",
    "Add to the code above to include aggregatios across `Sub-Department` using `SickLeaveHours`. Get the mean and median of `SickLeaveHours`."
   ]
  },
  {
   "cell_type": "code",
   "execution_count": null,
   "id": "e524047c-8e3a-4171-bd77-f1fdb8bdd651",
   "metadata": {},
   "outputs": [],
   "source": []
  },
  {
   "cell_type": "markdown",
   "id": "5117ded1-6861-42e4-a506-35ae63891982",
   "metadata": {},
   "source": [
    "##### Question 33: Add aggregation for `Rate`\n",
    "Add to the code above to include aggregations across `Sub-Department` using `Rate`. Get the mean and median of `Rate`."
   ]
  },
  {
   "cell_type": "code",
   "execution_count": null,
   "id": "594d6bd9-2471-48f1-ad11-b423dd6a7ef0",
   "metadata": {},
   "outputs": [],
   "source": []
  },
  {
   "cell_type": "markdown",
   "id": "f1c09490-dcde-472a-84b8-dd9dc9bcba30",
   "metadata": {},
   "source": [
    "##### Question 34: Best sub-department\n",
    "Looking at the aggregated table above, which of the sub-departments gives assistants the most vacation hours? Which one gives the most sick leave hours? Which one pays the most (use the median)?"
   ]
  },
  {
   "cell_type": "markdown",
   "id": "53d32f3c-749b-487c-8575-4545909109a0",
   "metadata": {},
   "source": [
    "```\n",
    "Best for vacation hours: ?\n",
    "Best for sick leave hours: ?\n",
    "Best for pay: ?\n",
    "```"
   ]
  }
 ],
 "metadata": {
  "kernelspec": {
   "display_name": "Python 3 (ipykernel)",
   "language": "python",
   "name": "python3"
  },
  "language_info": {
   "codemirror_mode": {
    "name": "ipython",
    "version": 3
   },
   "file_extension": ".py",
   "mimetype": "text/x-python",
   "name": "python",
   "nbconvert_exporter": "python",
   "pygments_lexer": "ipython3",
   "version": "3.10.2"
  }
 },
 "nbformat": 4,
 "nbformat_minor": 5
}
