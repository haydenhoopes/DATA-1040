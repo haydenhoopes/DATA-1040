{
 "cells": [
  {
   "cell_type": "markdown",
   "id": "2b0bfbd1-d33f-4a78-ac8a-31537c1c35a7",
   "metadata": {
    "tags": []
   },
   "source": [
    "# 3.5 Cleaning Data"
   ]
  },
  {
   "cell_type": "code",
   "execution_count": 127,
   "id": "ba31e164-ce9c-484c-bc09-e8f2dd6805f0",
   "metadata": {
    "tags": []
   },
   "outputs": [
    {
     "name": "stderr",
     "output_type": "stream",
     "text": [
      "C:\\Users\\HaydenH\\AppData\\Local\\Temp\\ipykernel_7612\\3245726006.py:2: DtypeWarning: Columns (6) have mixed types. Specify dtype option on import or set low_memory=False.\n",
      "  df = pd.read_csv('dirty_senator_tweets.csv')\n"
     ]
    }
   ],
   "source": [
    "import pandas as pd\n",
    "df = pd.read_csv('dirty_senator_tweets.csv')"
   ]
  },
  {
   "cell_type": "code",
   "execution_count": 46,
   "id": "5809abe1-13a5-4b4e-9bf2-bbe8cc6f6bdc",
   "metadata": {
    "tags": []
   },
   "outputs": [
    {
     "data": {
      "text/html": [
       "<div>\n",
       "<style scoped>\n",
       "    .dataframe tbody tr th:only-of-type {\n",
       "        vertical-align: middle;\n",
       "    }\n",
       "\n",
       "    .dataframe tbody tr th {\n",
       "        vertical-align: top;\n",
       "    }\n",
       "\n",
       "    .dataframe thead th {\n",
       "        text-align: right;\n",
       "    }\n",
       "</style>\n",
       "<table border=\"1\" class=\"dataframe\">\n",
       "  <thead>\n",
       "    <tr style=\"text-align: right;\">\n",
       "      <th></th>\n",
       "      <th>Unnamed: 0</th>\n",
       "      <th>created_at</th>\n",
       "      <th>text</th>\n",
       "      <th>url</th>\n",
       "      <th>replies</th>\n",
       "      <th>retweets</th>\n",
       "      <th>favorites</th>\n",
       "      <th>views</th>\n",
       "      <th>user</th>\n",
       "      <th>bioguide_id</th>\n",
       "      <th>party</th>\n",
       "      <th>state</th>\n",
       "    </tr>\n",
       "  </thead>\n",
       "  <tbody>\n",
       "    <tr>\n",
       "      <th>0</th>\n",
       "      <td>0</td>\n",
       "      <td>10/19/2017 21:47</td>\n",
       "      <td>We released bipartisan healthcare bill today &amp;...</td>\n",
       "      <td>https://twitter.com/amyklobuchar/status/921130...</td>\n",
       "      <td>21</td>\n",
       "      <td>129</td>\n",
       "      <td>533</td>\n",
       "      <td>NaN</td>\n",
       "      <td>amyklobuchar</td>\n",
       "      <td>K000367</td>\n",
       "      <td>D</td>\n",
       "      <td>MN</td>\n",
       "    </tr>\n",
       "    <tr>\n",
       "      <th>1</th>\n",
       "      <td>1</td>\n",
       "      <td>10/19/2017 18:48</td>\n",
       "      <td>I spoke with @Morning_Joe team abt #HonestAds ...</td>\n",
       "      <td>https://twitter.com/amyklobuchar/status/921085...</td>\n",
       "      <td>8</td>\n",
       "      <td>46</td>\n",
       "      <td>150</td>\n",
       "      <td>NaN</td>\n",
       "      <td>amyklobuchar</td>\n",
       "      <td>K000367</td>\n",
       "      <td>D</td>\n",
       "      <td>MN</td>\n",
       "    </tr>\n",
       "    <tr>\n",
       "      <th>2</th>\n",
       "      <td>2</td>\n",
       "      <td>10/19/2017 18:14</td>\n",
       "      <td>Lots of interest in my bill with Senators Warn...</td>\n",
       "      <td>https://twitter.com/amyklobuchar/status/921077...</td>\n",
       "      <td>36</td>\n",
       "      <td>227</td>\n",
       "      <td>932</td>\n",
       "      <td>NaN</td>\n",
       "      <td>amyklobuchar</td>\n",
       "      <td>K000367</td>\n",
       "      <td>D</td>\n",
       "      <td>MN</td>\n",
       "    </tr>\n",
       "    <tr>\n",
       "      <th>3</th>\n",
       "      <td>3</td>\n",
       "      <td>10/19/2017 18:04</td>\n",
       "      <td>Today's the day @MarkWarner, @SenJohnMcCain &amp;a...</td>\n",
       "      <td>https://twitter.com/amyklobuchar/status/921074...</td>\n",
       "      <td>17</td>\n",
       "      <td>167</td>\n",
       "      <td>550</td>\n",
       "      <td>NaN</td>\n",
       "      <td>amyklobuchar</td>\n",
       "      <td>K000367</td>\n",
       "      <td>D</td>\n",
       "      <td>MN</td>\n",
       "    </tr>\n",
       "    <tr>\n",
       "      <th>4</th>\n",
       "      <td>4</td>\n",
       "      <td>10/19/2017 16:33</td>\n",
       "      <td>.@MarkWarner, @SenJohnMcCain &amp;amp; I put toget...</td>\n",
       "      <td>https://twitter.com/amyklobuchar/status/921051...</td>\n",
       "      <td>31</td>\n",
       "      <td>279</td>\n",
       "      <td>893</td>\n",
       "      <td>NaN</td>\n",
       "      <td>amyklobuchar</td>\n",
       "      <td>K000367</td>\n",
       "      <td>D</td>\n",
       "      <td>MN</td>\n",
       "    </tr>\n",
       "  </tbody>\n",
       "</table>\n",
       "</div>"
      ],
      "text/plain": [
       "   Unnamed: 0        created_at  \\\n",
       "0           0  10/19/2017 21:47   \n",
       "1           1  10/19/2017 18:48   \n",
       "2           2  10/19/2017 18:14   \n",
       "3           3  10/19/2017 18:04   \n",
       "4           4  10/19/2017 16:33   \n",
       "\n",
       "                                                text  \\\n",
       "0  We released bipartisan healthcare bill today &...   \n",
       "1  I spoke with @Morning_Joe team abt #HonestAds ...   \n",
       "2  Lots of interest in my bill with Senators Warn...   \n",
       "3  Today's the day @MarkWarner, @SenJohnMcCain &a...   \n",
       "4  .@MarkWarner, @SenJohnMcCain &amp; I put toget...   \n",
       "\n",
       "                                                 url  replies  retweets  \\\n",
       "0  https://twitter.com/amyklobuchar/status/921130...       21       129   \n",
       "1  https://twitter.com/amyklobuchar/status/921085...        8        46   \n",
       "2  https://twitter.com/amyklobuchar/status/921077...       36       227   \n",
       "3  https://twitter.com/amyklobuchar/status/921074...       17       167   \n",
       "4  https://twitter.com/amyklobuchar/status/921051...       31       279   \n",
       "\n",
       "  favorites  views          user bioguide_id party state  \n",
       "0       533    NaN  amyklobuchar     K000367     D    MN  \n",
       "1       150    NaN  amyklobuchar     K000367     D    MN  \n",
       "2       932    NaN  amyklobuchar     K000367     D    MN  \n",
       "3       550    NaN  amyklobuchar     K000367     D    MN  \n",
       "4       893    NaN  amyklobuchar     K000367     D    MN  "
      ]
     },
     "execution_count": 46,
     "metadata": {},
     "output_type": "execute_result"
    }
   ],
   "source": [
    "df.head()"
   ]
  },
  {
   "cell_type": "markdown",
   "id": "cd155ec7-a7e6-48b8-a361-0e4ce14d97d5",
   "metadata": {},
   "source": [
    "### Null values"
   ]
  },
  {
   "cell_type": "code",
   "execution_count": 35,
   "id": "b662687f-1929-4677-9753-17395028e654",
   "metadata": {
    "collapsed": true,
    "jupyter": {
     "outputs_hidden": true,
     "source_hidden": true
    },
    "tags": []
   },
   "outputs": [
    {
     "data": {
      "text/plain": [
       "Unnamed: 0          0\n",
       "created_at     203336\n",
       "text                0\n",
       "url                 0\n",
       "replies             0\n",
       "retweets            0\n",
       "favorites           0\n",
       "views          288596\n",
       "user                0\n",
       "bioguide_id         0\n",
       "party               0\n",
       "state               0\n",
       "null_state          0\n",
       "dtype: int64"
      ]
     },
     "execution_count": 35,
     "metadata": {},
     "output_type": "execute_result"
    }
   ],
   "source": [
    "df.isna().sum()"
   ]
  },
  {
   "cell_type": "code",
   "execution_count": 8,
   "id": "99af7de7-d8cf-47f2-b492-4762fc17092e",
   "metadata": {
    "collapsed": true,
    "jupyter": {
     "outputs_hidden": true,
     "source_hidden": true
    },
    "tags": []
   },
   "outputs": [
    {
     "data": {
      "text/html": [
       "<div>\n",
       "<style scoped>\n",
       "    .dataframe tbody tr th:only-of-type {\n",
       "        vertical-align: middle;\n",
       "    }\n",
       "\n",
       "    .dataframe tbody tr th {\n",
       "        vertical-align: top;\n",
       "    }\n",
       "\n",
       "    .dataframe thead th {\n",
       "        text-align: right;\n",
       "    }\n",
       "</style>\n",
       "<table border=\"1\" class=\"dataframe\">\n",
       "  <thead>\n",
       "    <tr style=\"text-align: right;\">\n",
       "      <th></th>\n",
       "      <th>Unnamed: 0</th>\n",
       "      <th>created_at</th>\n",
       "      <th>text</th>\n",
       "      <th>url</th>\n",
       "      <th>replies</th>\n",
       "      <th>retweets</th>\n",
       "      <th>favorites</th>\n",
       "      <th>views</th>\n",
       "      <th>user</th>\n",
       "      <th>bioguide_id</th>\n",
       "      <th>party</th>\n",
       "      <th>state</th>\n",
       "    </tr>\n",
       "  </thead>\n",
       "  <tbody>\n",
       "    <tr>\n",
       "      <th>19145</th>\n",
       "      <td>19145</td>\n",
       "      <td>NaN</td>\n",
       "      <td>Inhofe introduces Senate's first permanent fix...</td>\n",
       "      <td>https://twitter.com/InhofePress/status/2307763...</td>\n",
       "      <td>0</td>\n",
       "      <td>2</td>\n",
       "      <td>0</td>\n",
       "      <td>250.0</td>\n",
       "      <td>InhofePress</td>\n",
       "      <td>I000024</td>\n",
       "      <td>R</td>\n",
       "      <td>OK</td>\n",
       "    </tr>\n",
       "    <tr>\n",
       "      <th>38148</th>\n",
       "      <td>38148</td>\n",
       "      <td>NaN</td>\n",
       "      <td>Remembering those officers killed in the line ...</td>\n",
       "      <td>https://twitter.com/MarkWarner/status/86428427...</td>\n",
       "      <td>14</td>\n",
       "      <td>46</td>\n",
       "      <td>235</td>\n",
       "      <td>15159.0</td>\n",
       "      <td>MarkWarner</td>\n",
       "      <td>W000805</td>\n",
       "      <td>D</td>\n",
       "      <td>VA</td>\n",
       "    </tr>\n",
       "    <tr>\n",
       "      <th>43335</th>\n",
       "      <td>43335</td>\n",
       "      <td>NaN</td>\n",
       "      <td>This level of surveillance absolutely should c...</td>\n",
       "      <td>https://twitter.com/MartinHeinrich/status/7758...</td>\n",
       "      <td>1</td>\n",
       "      <td>44</td>\n",
       "      <td>14</td>\n",
       "      <td>866.0</td>\n",
       "      <td>MartinHeinrich</td>\n",
       "      <td>H001046</td>\n",
       "      <td>D</td>\n",
       "      <td>NM</td>\n",
       "    </tr>\n",
       "    <tr>\n",
       "      <th>54009</th>\n",
       "      <td>54009</td>\n",
       "      <td>NaN</td>\n",
       "      <td>Congratulations, graduates! https://t.co/cODhr...</td>\n",
       "      <td>https://twitter.com/MikeCrapo/status/861932614...</td>\n",
       "      <td>2</td>\n",
       "      <td>2</td>\n",
       "      <td>6</td>\n",
       "      <td>274.0</td>\n",
       "      <td>MikeCrapo</td>\n",
       "      <td>C000880</td>\n",
       "      <td>R</td>\n",
       "      <td>ID</td>\n",
       "    </tr>\n",
       "    <tr>\n",
       "      <th>70902</th>\n",
       "      <td>70902</td>\n",
       "      <td>2/22/2016 22:00</td>\n",
       "      <td>Tune in to the @SenateFloor now. I'll be readi...</td>\n",
       "      <td>https://twitter.com/Sen_JoeManchin/status/7018...</td>\n",
       "      <td>2</td>\n",
       "      <td>1</td>\n",
       "      <td>1</td>\n",
       "      <td>252.0</td>\n",
       "      <td>Sen_JoeManchin</td>\n",
       "      <td>M001183</td>\n",
       "      <td>D</td>\n",
       "      <td>WV</td>\n",
       "    </tr>\n",
       "    <tr>\n",
       "      <th>72745</th>\n",
       "      <td>72745</td>\n",
       "      <td>NaN</td>\n",
       "      <td>Today we've introduced the Chemical Safety &amp;am...</td>\n",
       "      <td>https://twitter.com/Sen_JoeManchin/status/4281...</td>\n",
       "      <td>5</td>\n",
       "      <td>9</td>\n",
       "      <td>3</td>\n",
       "      <td>385.0</td>\n",
       "      <td>Sen_JoeManchin</td>\n",
       "      <td>M001183</td>\n",
       "      <td>D</td>\n",
       "      <td>WV</td>\n",
       "    </tr>\n",
       "    <tr>\n",
       "      <th>75353</th>\n",
       "      <td>75353</td>\n",
       "      <td>2/10/2015 20:31</td>\n",
       "      <td>@GOPHELP Chairman Alexander asks Dr. Anne Schu...</td>\n",
       "      <td>https://twitter.com/SenAlexander/status/565246...</td>\n",
       "      <td>1</td>\n",
       "      <td>1</td>\n",
       "      <td>0</td>\n",
       "      <td>250.0</td>\n",
       "      <td>SenAlexander</td>\n",
       "      <td>A000360</td>\n",
       "      <td>R</td>\n",
       "      <td>TN</td>\n",
       "    </tr>\n",
       "    <tr>\n",
       "      <th>106327</th>\n",
       "      <td>106327</td>\n",
       "      <td>9/11/2015 21:03</td>\n",
       "      <td>ICYMI: Take a look at my latest op-ed on last ...</td>\n",
       "      <td>https://twitter.com/SenatorFischer/status/6424...</td>\n",
       "      <td>1</td>\n",
       "      <td>1</td>\n",
       "      <td>0</td>\n",
       "      <td>250.0</td>\n",
       "      <td>SenatorFischer</td>\n",
       "      <td>F000463</td>\n",
       "      <td>R</td>\n",
       "      <td>NE</td>\n",
       "    </tr>\n",
       "    <tr>\n",
       "      <th>121198</th>\n",
       "      <td>121198</td>\n",
       "      <td>6/29/2017 23:49</td>\n",
       "      <td>RT @Patbagley: They're like movie villains fro...</td>\n",
       "      <td>https://twitter.com/SenatorLeahy/status/880573...</td>\n",
       "      <td>13</td>\n",
       "      <td>62</td>\n",
       "      <td>142</td>\n",
       "      <td>14702.0</td>\n",
       "      <td>SenatorLeahy</td>\n",
       "      <td>L000174</td>\n",
       "      <td>D</td>\n",
       "      <td>VT</td>\n",
       "    </tr>\n",
       "    <tr>\n",
       "      <th>129386</th>\n",
       "      <td>129386</td>\n",
       "      <td>NaN</td>\n",
       "      <td>Sunrise over the Missouri River. Photo by Shay...</td>\n",
       "      <td>https://twitter.com/SenatorRounds/status/59529...</td>\n",
       "      <td>1</td>\n",
       "      <td>7</td>\n",
       "      <td>11</td>\n",
       "      <td>327.0</td>\n",
       "      <td>SenatorRounds</td>\n",
       "      <td>R000605</td>\n",
       "      <td>R</td>\n",
       "      <td>SD</td>\n",
       "    </tr>\n",
       "    <tr>\n",
       "      <th>136026</th>\n",
       "      <td>136026</td>\n",
       "      <td>4/2/2015 21:57</td>\n",
       "      <td>If we can make school more affordable for nurs...</td>\n",
       "      <td>https://twitter.com/SenatorTester/status/58375...</td>\n",
       "      <td>1</td>\n",
       "      <td>4</td>\n",
       "      <td>2</td>\n",
       "      <td>258.0</td>\n",
       "      <td>SenatorTester</td>\n",
       "      <td>T000464</td>\n",
       "      <td>D</td>\n",
       "      <td>MT</td>\n",
       "    </tr>\n",
       "    <tr>\n",
       "      <th>150734</th>\n",
       "      <td>150734</td>\n",
       "      <td>NaN</td>\n",
       "      <td>Standing w/#OldLyme 1st Selectwoman Bonnie Ree...</td>\n",
       "      <td>https://twitter.com/SenBlumenthal/status/81206...</td>\n",
       "      <td>1</td>\n",
       "      <td>2</td>\n",
       "      <td>11</td>\n",
       "      <td>272.0</td>\n",
       "      <td>SenBlumenthal</td>\n",
       "      <td>B001277</td>\n",
       "      <td>D</td>\n",
       "      <td>CT</td>\n",
       "    </tr>\n",
       "    <tr>\n",
       "      <th>156080</th>\n",
       "      <td>156080</td>\n",
       "      <td>2/23/2017 20:41</td>\n",
       "      <td>Appreciate @thornäó»s support of the #EndSlave...</td>\n",
       "      <td>https://twitter.com/SenBobCorker/status/834865...</td>\n",
       "      <td>30</td>\n",
       "      <td>225</td>\n",
       "      <td>472</td>\n",
       "      <td>318625.0</td>\n",
       "      <td>SenBobCorker</td>\n",
       "      <td>C001071</td>\n",
       "      <td>R</td>\n",
       "      <td>TN</td>\n",
       "    </tr>\n",
       "    <tr>\n",
       "      <th>169792</th>\n",
       "      <td>169792</td>\n",
       "      <td>NaN</td>\n",
       "      <td>Great news for Pueblo and all Colorado:\\r\\r'Pu...</td>\n",
       "      <td>https://twitter.com/SenCoryGardner/status/6249...</td>\n",
       "      <td>1</td>\n",
       "      <td>7</td>\n",
       "      <td>5</td>\n",
       "      <td>285.0</td>\n",
       "      <td>SenCoryGardner</td>\n",
       "      <td>G000562</td>\n",
       "      <td>R</td>\n",
       "      <td>CO</td>\n",
       "    </tr>\n",
       "    <tr>\n",
       "      <th>177564</th>\n",
       "      <td>177564</td>\n",
       "      <td>NaN</td>\n",
       "      <td>Congrats to the @cityofhenderson's Regional Le...</td>\n",
       "      <td>https://twitter.com/SenDeanHeller/status/71744...</td>\n",
       "      <td>0</td>\n",
       "      <td>1</td>\n",
       "      <td>2</td>\n",
       "      <td>250.0</td>\n",
       "      <td>SenDeanHeller</td>\n",
       "      <td>H001041</td>\n",
       "      <td>R</td>\n",
       "      <td>NV</td>\n",
       "    </tr>\n",
       "    <tr>\n",
       "      <th>185693</th>\n",
       "      <td>185693</td>\n",
       "      <td>NaN</td>\n",
       "      <td>RT @JerryBrownGov: To everyone impacted by the...</td>\n",
       "      <td>https://twitter.com/SenFeinstein/status/919331...</td>\n",
       "      <td>196</td>\n",
       "      <td>689</td>\n",
       "      <td>2360</td>\n",
       "      <td>318704.0</td>\n",
       "      <td>SenFeinstein</td>\n",
       "      <td>F000062</td>\n",
       "      <td>D</td>\n",
       "      <td>CA</td>\n",
       "    </tr>\n",
       "    <tr>\n",
       "      <th>188262</th>\n",
       "      <td>188262</td>\n",
       "      <td>NaN</td>\n",
       "      <td>The wage gap persists when women perform the s...</td>\n",
       "      <td>https://twitter.com/SenFeinstein/status/719962...</td>\n",
       "      <td>5</td>\n",
       "      <td>20</td>\n",
       "      <td>35</td>\n",
       "      <td>3750.0</td>\n",
       "      <td>SenFeinstein</td>\n",
       "      <td>F000062</td>\n",
       "      <td>D</td>\n",
       "      <td>CA</td>\n",
       "    </tr>\n",
       "    <tr>\n",
       "      <th>194074</th>\n",
       "      <td>194074</td>\n",
       "      <td>NaN</td>\n",
       "      <td>We must support blight removal efforts that im...</td>\n",
       "      <td>https://twitter.com/SenGaryPeters/status/67934...</td>\n",
       "      <td>0</td>\n",
       "      <td>1</td>\n",
       "      <td>2</td>\n",
       "      <td>250.0</td>\n",
       "      <td>SenGaryPeters</td>\n",
       "      <td>P000595</td>\n",
       "      <td>D</td>\n",
       "      <td>MI</td>\n",
       "    </tr>\n",
       "    <tr>\n",
       "      <th>284117</th>\n",
       "      <td>284117</td>\n",
       "      <td>NaN</td>\n",
       "      <td>I'm celebrating #NationalParkWeek with a throw...</td>\n",
       "      <td>https://twitter.com/SteveDaines/status/7222091...</td>\n",
       "      <td>1</td>\n",
       "      <td>3</td>\n",
       "      <td>16</td>\n",
       "      <td>298.0</td>\n",
       "      <td>SteveDaines</td>\n",
       "      <td>D000618</td>\n",
       "      <td>R</td>\n",
       "      <td>MT</td>\n",
       "    </tr>\n",
       "  </tbody>\n",
       "</table>\n",
       "</div>"
      ],
      "text/plain": [
       "        Unnamed: 0       created_at  \\\n",
       "19145        19145              NaN   \n",
       "38148        38148              NaN   \n",
       "43335        43335              NaN   \n",
       "54009        54009              NaN   \n",
       "70902        70902  2/22/2016 22:00   \n",
       "72745        72745              NaN   \n",
       "75353        75353  2/10/2015 20:31   \n",
       "106327      106327  9/11/2015 21:03   \n",
       "121198      121198  6/29/2017 23:49   \n",
       "129386      129386              NaN   \n",
       "136026      136026   4/2/2015 21:57   \n",
       "150734      150734              NaN   \n",
       "156080      156080  2/23/2017 20:41   \n",
       "169792      169792              NaN   \n",
       "177564      177564              NaN   \n",
       "185693      185693              NaN   \n",
       "188262      188262              NaN   \n",
       "194074      194074              NaN   \n",
       "284117      284117              NaN   \n",
       "\n",
       "                                                     text  \\\n",
       "19145   Inhofe introduces Senate's first permanent fix...   \n",
       "38148   Remembering those officers killed in the line ...   \n",
       "43335   This level of surveillance absolutely should c...   \n",
       "54009   Congratulations, graduates! https://t.co/cODhr...   \n",
       "70902   Tune in to the @SenateFloor now. I'll be readi...   \n",
       "72745   Today we've introduced the Chemical Safety &am...   \n",
       "75353   @GOPHELP Chairman Alexander asks Dr. Anne Schu...   \n",
       "106327  ICYMI: Take a look at my latest op-ed on last ...   \n",
       "121198  RT @Patbagley: They're like movie villains fro...   \n",
       "129386  Sunrise over the Missouri River. Photo by Shay...   \n",
       "136026  If we can make school more affordable for nurs...   \n",
       "150734  Standing w/#OldLyme 1st Selectwoman Bonnie Ree...   \n",
       "156080  Appreciate @thornäó»s support of the #EndSlave...   \n",
       "169792  Great news for Pueblo and all Colorado:\\r\\r'Pu...   \n",
       "177564  Congrats to the @cityofhenderson's Regional Le...   \n",
       "185693  RT @JerryBrownGov: To everyone impacted by the...   \n",
       "188262  The wage gap persists when women perform the s...   \n",
       "194074  We must support blight removal efforts that im...   \n",
       "284117  I'm celebrating #NationalParkWeek with a throw...   \n",
       "\n",
       "                                                      url  replies  retweets  \\\n",
       "19145   https://twitter.com/InhofePress/status/2307763...        0         2   \n",
       "38148   https://twitter.com/MarkWarner/status/86428427...       14        46   \n",
       "43335   https://twitter.com/MartinHeinrich/status/7758...        1        44   \n",
       "54009   https://twitter.com/MikeCrapo/status/861932614...        2         2   \n",
       "70902   https://twitter.com/Sen_JoeManchin/status/7018...        2         1   \n",
       "72745   https://twitter.com/Sen_JoeManchin/status/4281...        5         9   \n",
       "75353   https://twitter.com/SenAlexander/status/565246...        1         1   \n",
       "106327  https://twitter.com/SenatorFischer/status/6424...        1         1   \n",
       "121198  https://twitter.com/SenatorLeahy/status/880573...       13        62   \n",
       "129386  https://twitter.com/SenatorRounds/status/59529...        1         7   \n",
       "136026  https://twitter.com/SenatorTester/status/58375...        1         4   \n",
       "150734  https://twitter.com/SenBlumenthal/status/81206...        1         2   \n",
       "156080  https://twitter.com/SenBobCorker/status/834865...       30       225   \n",
       "169792  https://twitter.com/SenCoryGardner/status/6249...        1         7   \n",
       "177564  https://twitter.com/SenDeanHeller/status/71744...        0         1   \n",
       "185693  https://twitter.com/SenFeinstein/status/919331...      196       689   \n",
       "188262  https://twitter.com/SenFeinstein/status/719962...        5        20   \n",
       "194074  https://twitter.com/SenGaryPeters/status/67934...        0         1   \n",
       "284117  https://twitter.com/SteveDaines/status/7222091...        1         3   \n",
       "\n",
       "       favorites     views            user bioguide_id party state  \n",
       "19145          0     250.0     InhofePress     I000024     R    OK  \n",
       "38148        235   15159.0      MarkWarner     W000805     D    VA  \n",
       "43335         14     866.0  MartinHeinrich     H001046     D    NM  \n",
       "54009          6     274.0       MikeCrapo     C000880     R    ID  \n",
       "70902          1     252.0  Sen_JoeManchin     M001183     D    WV  \n",
       "72745          3     385.0  Sen_JoeManchin     M001183     D    WV  \n",
       "75353          0     250.0    SenAlexander     A000360     R    TN  \n",
       "106327         0     250.0  SenatorFischer     F000463     R    NE  \n",
       "121198       142   14702.0    SenatorLeahy     L000174     D    VT  \n",
       "129386        11     327.0   SenatorRounds     R000605     R    SD  \n",
       "136026         2     258.0   SenatorTester     T000464     D    MT  \n",
       "150734        11     272.0   SenBlumenthal     B001277     D    CT  \n",
       "156080       472  318625.0    SenBobCorker     C001071     R    TN  \n",
       "169792         5     285.0  SenCoryGardner     G000562     R    CO  \n",
       "177564         2     250.0   SenDeanHeller     H001041     R    NV  \n",
       "185693      2360  318704.0    SenFeinstein     F000062     D    CA  \n",
       "188262        35    3750.0    SenFeinstein     F000062     D    CA  \n",
       "194074         2     250.0   SenGaryPeters     P000595     D    MI  \n",
       "284117        16     298.0     SteveDaines     D000618     R    MT  "
      ]
     },
     "execution_count": 8,
     "metadata": {},
     "output_type": "execute_result"
    }
   ],
   "source": [
    "df.loc[ ~(df['views'].isna()) ]"
   ]
  },
  {
   "cell_type": "markdown",
   "id": "5301d7c2-ae3b-426f-992c-b193f000517e",
   "metadata": {},
   "source": [
    "##### Drop column"
   ]
  },
  {
   "cell_type": "code",
   "execution_count": 10,
   "id": "66f819ea-c19a-43e2-ab5f-609540cf338c",
   "metadata": {
    "collapsed": true,
    "jupyter": {
     "outputs_hidden": true,
     "source_hidden": true
    }
   },
   "outputs": [],
   "source": [
    "df.drop(columns='views', inplace=True)"
   ]
  },
  {
   "cell_type": "markdown",
   "id": "63eab96c-089b-4c1f-b300-409099934371",
   "metadata": {
    "tags": []
   },
   "source": [
    "##### Drop null rows"
   ]
  },
  {
   "cell_type": "code",
   "execution_count": 14,
   "id": "f8c641f5-5ec2-430c-939e-9b604c007c0f",
   "metadata": {
    "collapsed": true,
    "jupyter": {
     "outputs_hidden": true,
     "source_hidden": true
    }
   },
   "outputs": [],
   "source": [
    "df.dropna(how='any', subset=['created_at'], inplace=True)"
   ]
  },
  {
   "cell_type": "markdown",
   "id": "44654e62-ec30-4064-9242-d2c0e616a45b",
   "metadata": {},
   "source": [
    "##### Impute missing states"
   ]
  },
  {
   "cell_type": "markdown",
   "id": "71819080-6326-44a4-8709-ae97a12fa5d7",
   "metadata": {},
   "source": [
    "##### Imputation"
   ]
  },
  {
   "cell_type": "code",
   "execution_count": null,
   "id": "7b6d4bdc-badd-4c5d-a5e5-0fb0d24cf85d",
   "metadata": {
    "collapsed": true,
    "jupyter": {
     "outputs_hidden": true,
     "source_hidden": true
    }
   },
   "outputs": [],
   "source": []
  },
  {
   "cell_type": "code",
   "execution_count": null,
   "id": "b5fd5728-01c2-49e4-9460-02b8a9780bd1",
   "metadata": {
    "collapsed": true,
    "jupyter": {
     "outputs_hidden": true,
     "source_hidden": true
    }
   },
   "outputs": [],
   "source": []
  },
  {
   "cell_type": "code",
   "execution_count": null,
   "id": "f743232c-2aeb-4a66-a74f-81b0cd459dc8",
   "metadata": {
    "collapsed": true,
    "jupyter": {
     "outputs_hidden": true,
     "source_hidden": true
    }
   },
   "outputs": [],
   "source": []
  },
  {
   "cell_type": "code",
   "execution_count": 34,
   "id": "fa42c0d3-ac39-404c-8376-4a1615c12e13",
   "metadata": {
    "collapsed": true,
    "jupyter": {
     "outputs_hidden": true,
     "source_hidden": true
    }
   },
   "outputs": [
    {
     "data": {
      "text/html": [
       "<div>\n",
       "<style scoped>\n",
       "    .dataframe tbody tr th:only-of-type {\n",
       "        vertical-align: middle;\n",
       "    }\n",
       "\n",
       "    .dataframe tbody tr th {\n",
       "        vertical-align: top;\n",
       "    }\n",
       "\n",
       "    .dataframe thead th {\n",
       "        text-align: right;\n",
       "    }\n",
       "</style>\n",
       "<table border=\"1\" class=\"dataframe\">\n",
       "  <thead>\n",
       "    <tr style=\"text-align: right;\">\n",
       "      <th></th>\n",
       "      <th>Unnamed: 0</th>\n",
       "      <th>created_at</th>\n",
       "      <th>text</th>\n",
       "      <th>url</th>\n",
       "      <th>replies</th>\n",
       "      <th>retweets</th>\n",
       "      <th>favorites</th>\n",
       "      <th>views</th>\n",
       "      <th>user</th>\n",
       "      <th>bioguide_id</th>\n",
       "      <th>party</th>\n",
       "      <th>state</th>\n",
       "      <th>null_state</th>\n",
       "    </tr>\n",
       "  </thead>\n",
       "  <tbody>\n",
       "  </tbody>\n",
       "</table>\n",
       "</div>"
      ],
      "text/plain": [
       "Empty DataFrame\n",
       "Columns: [Unnamed: 0, created_at, text, url, replies, retweets, favorites, views, user, bioguide_id, party, state, null_state]\n",
       "Index: []"
      ]
     },
     "execution_count": 34,
     "metadata": {},
     "output_type": "execute_result"
    }
   ],
   "source": [
    "df.loc[ df['state'].isna() ]"
   ]
  },
  {
   "cell_type": "code",
   "execution_count": 30,
   "id": "8061279b-00c6-4b61-84d5-58c4fdfcb6f9",
   "metadata": {
    "jupyter": {
     "source_hidden": true
    },
    "tags": []
   },
   "outputs": [],
   "source": [
    "df['null_state'] = df['state'].isna()"
   ]
  },
  {
   "cell_type": "code",
   "execution_count": 32,
   "id": "45ddf12c-09ba-473f-b75c-ce31f8c66e28",
   "metadata": {
    "collapsed": true,
    "jupyter": {
     "outputs_hidden": true,
     "source_hidden": true
    },
    "tags": []
   },
   "outputs": [],
   "source": [
    "def fix_null_states(row):\n",
    "    if row['null_state']:\n",
    "        return df.loc[ df['user'] == row['user']]['state'].mode()[0]\n",
    "    else:\n",
    "        return row['state']"
   ]
  },
  {
   "cell_type": "code",
   "execution_count": 23,
   "id": "bd28c883-6e97-45d7-8cc2-c9371d66a392",
   "metadata": {
    "collapsed": true,
    "jupyter": {
     "outputs_hidden": true,
     "source_hidden": true
    },
    "tags": []
   },
   "outputs": [
    {
     "data": {
      "text/plain": [
       "227756    UT\n",
       "227757    UT\n",
       "227758    UT\n",
       "227759    UT\n",
       "227760    UT\n",
       "          ..\n",
       "230955    UT\n",
       "230956    UT\n",
       "230957    UT\n",
       "230958    UT\n",
       "230959    UT\n",
       "Name: state, Length: 3204, dtype: object"
      ]
     },
     "execution_count": 23,
     "metadata": {},
     "output_type": "execute_result"
    }
   ],
   "source": [
    "filt = df['user'] == 'senorrinhatch'\n",
    "df.loc[filt, 'state']"
   ]
  },
  {
   "cell_type": "code",
   "execution_count": 33,
   "id": "ef0ff58a-a358-41e9-8256-76cea948983c",
   "metadata": {
    "collapsed": true,
    "jupyter": {
     "outputs_hidden": true,
     "source_hidden": true
    },
    "tags": []
   },
   "outputs": [],
   "source": [
    "df['state'] = df.apply(fix_null_states, axis=1)"
   ]
  },
  {
   "cell_type": "code",
   "execution_count": 38,
   "id": "79ae806b-a81c-458d-9ed4-4a0a00eef3d5",
   "metadata": {
    "collapsed": true,
    "jupyter": {
     "outputs_hidden": true,
     "source_hidden": true
    },
    "tags": []
   },
   "outputs": [
    {
     "data": {
      "text/plain": [
       "NH    3241\n",
       "Name: state, dtype: int64"
      ]
     },
     "execution_count": 38,
     "metadata": {},
     "output_type": "execute_result"
    }
   ],
   "source": [
    "df.loc[ df['user'] == 'SenatorHassan', 'state'].value_counts()"
   ]
  },
  {
   "cell_type": "markdown",
   "id": "cc2c37fc-cf62-493a-b09f-a672d755ea06",
   "metadata": {},
   "source": [
    "### Data Type Doesn't Match"
   ]
  },
  {
   "cell_type": "code",
   "execution_count": 51,
   "id": "64cb89c8-897d-434b-ba1a-7e46f5d68ebf",
   "metadata": {
    "collapsed": true,
    "jupyter": {
     "outputs_hidden": true,
     "source_hidden": true
    },
    "tags": []
   },
   "outputs": [
    {
     "data": {
      "text/plain": [
       "Unnamed: 0       int64\n",
       "created_at      object\n",
       "text            object\n",
       "url             object\n",
       "replies          int64\n",
       "retweets         int64\n",
       "favorites       object\n",
       "views          float64\n",
       "user            object\n",
       "bioguide_id     object\n",
       "party           object\n",
       "state           object\n",
       "dtype: object"
      ]
     },
     "execution_count": 51,
     "metadata": {},
     "output_type": "execute_result"
    }
   ],
   "source": [
    "df.dtypes"
   ]
  },
  {
   "cell_type": "code",
   "execution_count": 52,
   "id": "e3b5d412-3ac8-4945-b9a7-ee10ea03bb4c",
   "metadata": {
    "collapsed": true,
    "jupyter": {
     "outputs_hidden": true,
     "source_hidden": true
    },
    "tags": []
   },
   "outputs": [
    {
     "ename": "ValueError",
     "evalue": "invalid literal for int() with base 10: 'T'",
     "output_type": "error",
     "traceback": [
      "\u001b[1;31m---------------------------------------------------------------------------\u001b[0m",
      "\u001b[1;31mValueError\u001b[0m                                Traceback (most recent call last)",
      "Input \u001b[1;32mIn [52]\u001b[0m, in \u001b[0;36m<module>\u001b[1;34m\u001b[0m\n\u001b[1;32m----> 1\u001b[0m \u001b[43mdf\u001b[49m\u001b[43m[\u001b[49m\u001b[38;5;124;43m'\u001b[39;49m\u001b[38;5;124;43mfavorites\u001b[39;49m\u001b[38;5;124;43m'\u001b[39;49m\u001b[43m]\u001b[49m\u001b[38;5;241;43m.\u001b[39;49m\u001b[43mastype\u001b[49m\u001b[43m(\u001b[49m\u001b[38;5;124;43m'\u001b[39;49m\u001b[38;5;124;43mint64\u001b[39;49m\u001b[38;5;124;43m'\u001b[39;49m\u001b[43m)\u001b[49m\n",
      "File \u001b[1;32m~\\AppData\\Local\\Programs\\Python\\Python310\\lib\\site-packages\\pandas\\core\\generic.py:5920\u001b[0m, in \u001b[0;36mNDFrame.astype\u001b[1;34m(self, dtype, copy, errors)\u001b[0m\n\u001b[0;32m   5913\u001b[0m     results \u001b[38;5;241m=\u001b[39m [\n\u001b[0;32m   5914\u001b[0m         \u001b[38;5;28mself\u001b[39m\u001b[38;5;241m.\u001b[39miloc[:, i]\u001b[38;5;241m.\u001b[39mastype(dtype, copy\u001b[38;5;241m=\u001b[39mcopy)\n\u001b[0;32m   5915\u001b[0m         \u001b[38;5;28;01mfor\u001b[39;00m i \u001b[38;5;129;01min\u001b[39;00m \u001b[38;5;28mrange\u001b[39m(\u001b[38;5;28mlen\u001b[39m(\u001b[38;5;28mself\u001b[39m\u001b[38;5;241m.\u001b[39mcolumns))\n\u001b[0;32m   5916\u001b[0m     ]\n\u001b[0;32m   5918\u001b[0m \u001b[38;5;28;01melse\u001b[39;00m:\n\u001b[0;32m   5919\u001b[0m     \u001b[38;5;66;03m# else, only a single dtype is given\u001b[39;00m\n\u001b[1;32m-> 5920\u001b[0m     new_data \u001b[38;5;241m=\u001b[39m \u001b[38;5;28;43mself\u001b[39;49m\u001b[38;5;241;43m.\u001b[39;49m\u001b[43m_mgr\u001b[49m\u001b[38;5;241;43m.\u001b[39;49m\u001b[43mastype\u001b[49m\u001b[43m(\u001b[49m\u001b[43mdtype\u001b[49m\u001b[38;5;241;43m=\u001b[39;49m\u001b[43mdtype\u001b[49m\u001b[43m,\u001b[49m\u001b[43m \u001b[49m\u001b[43mcopy\u001b[49m\u001b[38;5;241;43m=\u001b[39;49m\u001b[43mcopy\u001b[49m\u001b[43m,\u001b[49m\u001b[43m \u001b[49m\u001b[43merrors\u001b[49m\u001b[38;5;241;43m=\u001b[39;49m\u001b[43merrors\u001b[49m\u001b[43m)\u001b[49m\n\u001b[0;32m   5921\u001b[0m     \u001b[38;5;28;01mreturn\u001b[39;00m \u001b[38;5;28mself\u001b[39m\u001b[38;5;241m.\u001b[39m_constructor(new_data)\u001b[38;5;241m.\u001b[39m__finalize__(\u001b[38;5;28mself\u001b[39m, method\u001b[38;5;241m=\u001b[39m\u001b[38;5;124m\"\u001b[39m\u001b[38;5;124mastype\u001b[39m\u001b[38;5;124m\"\u001b[39m)\n\u001b[0;32m   5923\u001b[0m \u001b[38;5;66;03m# GH 33113: handle empty frame or series\u001b[39;00m\n",
      "File \u001b[1;32m~\\AppData\\Local\\Programs\\Python\\Python310\\lib\\site-packages\\pandas\\core\\internals\\managers.py:419\u001b[0m, in \u001b[0;36mBaseBlockManager.astype\u001b[1;34m(self, dtype, copy, errors)\u001b[0m\n\u001b[0;32m    418\u001b[0m \u001b[38;5;28;01mdef\u001b[39;00m \u001b[38;5;21mastype\u001b[39m(\u001b[38;5;28mself\u001b[39m: T, dtype, copy: \u001b[38;5;28mbool\u001b[39m \u001b[38;5;241m=\u001b[39m \u001b[38;5;28;01mFalse\u001b[39;00m, errors: \u001b[38;5;28mstr\u001b[39m \u001b[38;5;241m=\u001b[39m \u001b[38;5;124m\"\u001b[39m\u001b[38;5;124mraise\u001b[39m\u001b[38;5;124m\"\u001b[39m) \u001b[38;5;241m-\u001b[39m\u001b[38;5;241m>\u001b[39m T:\n\u001b[1;32m--> 419\u001b[0m     \u001b[38;5;28;01mreturn\u001b[39;00m \u001b[38;5;28;43mself\u001b[39;49m\u001b[38;5;241;43m.\u001b[39;49m\u001b[43mapply\u001b[49m\u001b[43m(\u001b[49m\u001b[38;5;124;43m\"\u001b[39;49m\u001b[38;5;124;43mastype\u001b[39;49m\u001b[38;5;124;43m\"\u001b[39;49m\u001b[43m,\u001b[49m\u001b[43m \u001b[49m\u001b[43mdtype\u001b[49m\u001b[38;5;241;43m=\u001b[39;49m\u001b[43mdtype\u001b[49m\u001b[43m,\u001b[49m\u001b[43m \u001b[49m\u001b[43mcopy\u001b[49m\u001b[38;5;241;43m=\u001b[39;49m\u001b[43mcopy\u001b[49m\u001b[43m,\u001b[49m\u001b[43m \u001b[49m\u001b[43merrors\u001b[49m\u001b[38;5;241;43m=\u001b[39;49m\u001b[43merrors\u001b[49m\u001b[43m)\u001b[49m\n",
      "File \u001b[1;32m~\\AppData\\Local\\Programs\\Python\\Python310\\lib\\site-packages\\pandas\\core\\internals\\managers.py:304\u001b[0m, in \u001b[0;36mBaseBlockManager.apply\u001b[1;34m(self, f, align_keys, ignore_failures, **kwargs)\u001b[0m\n\u001b[0;32m    302\u001b[0m         applied \u001b[38;5;241m=\u001b[39m b\u001b[38;5;241m.\u001b[39mapply(f, \u001b[38;5;241m*\u001b[39m\u001b[38;5;241m*\u001b[39mkwargs)\n\u001b[0;32m    303\u001b[0m     \u001b[38;5;28;01melse\u001b[39;00m:\n\u001b[1;32m--> 304\u001b[0m         applied \u001b[38;5;241m=\u001b[39m \u001b[38;5;28mgetattr\u001b[39m(b, f)(\u001b[38;5;241m*\u001b[39m\u001b[38;5;241m*\u001b[39mkwargs)\n\u001b[0;32m    305\u001b[0m \u001b[38;5;28;01mexcept\u001b[39;00m (\u001b[38;5;167;01mTypeError\u001b[39;00m, \u001b[38;5;167;01mNotImplementedError\u001b[39;00m):\n\u001b[0;32m    306\u001b[0m     \u001b[38;5;28;01mif\u001b[39;00m \u001b[38;5;129;01mnot\u001b[39;00m ignore_failures:\n",
      "File \u001b[1;32m~\\AppData\\Local\\Programs\\Python\\Python310\\lib\\site-packages\\pandas\\core\\internals\\blocks.py:580\u001b[0m, in \u001b[0;36mBlock.astype\u001b[1;34m(self, dtype, copy, errors)\u001b[0m\n\u001b[0;32m    562\u001b[0m \u001b[38;5;124;03m\"\"\"\u001b[39;00m\n\u001b[0;32m    563\u001b[0m \u001b[38;5;124;03mCoerce to the new dtype.\u001b[39;00m\n\u001b[0;32m    564\u001b[0m \n\u001b[1;32m   (...)\u001b[0m\n\u001b[0;32m    576\u001b[0m \u001b[38;5;124;03mBlock\u001b[39;00m\n\u001b[0;32m    577\u001b[0m \u001b[38;5;124;03m\"\"\"\u001b[39;00m\n\u001b[0;32m    578\u001b[0m values \u001b[38;5;241m=\u001b[39m \u001b[38;5;28mself\u001b[39m\u001b[38;5;241m.\u001b[39mvalues\n\u001b[1;32m--> 580\u001b[0m new_values \u001b[38;5;241m=\u001b[39m \u001b[43mastype_array_safe\u001b[49m\u001b[43m(\u001b[49m\u001b[43mvalues\u001b[49m\u001b[43m,\u001b[49m\u001b[43m \u001b[49m\u001b[43mdtype\u001b[49m\u001b[43m,\u001b[49m\u001b[43m \u001b[49m\u001b[43mcopy\u001b[49m\u001b[38;5;241;43m=\u001b[39;49m\u001b[43mcopy\u001b[49m\u001b[43m,\u001b[49m\u001b[43m \u001b[49m\u001b[43merrors\u001b[49m\u001b[38;5;241;43m=\u001b[39;49m\u001b[43merrors\u001b[49m\u001b[43m)\u001b[49m\n\u001b[0;32m    582\u001b[0m new_values \u001b[38;5;241m=\u001b[39m maybe_coerce_values(new_values)\n\u001b[0;32m    583\u001b[0m newb \u001b[38;5;241m=\u001b[39m \u001b[38;5;28mself\u001b[39m\u001b[38;5;241m.\u001b[39mmake_block(new_values)\n",
      "File \u001b[1;32m~\\AppData\\Local\\Programs\\Python\\Python310\\lib\\site-packages\\pandas\\core\\dtypes\\cast.py:1292\u001b[0m, in \u001b[0;36mastype_array_safe\u001b[1;34m(values, dtype, copy, errors)\u001b[0m\n\u001b[0;32m   1289\u001b[0m     dtype \u001b[38;5;241m=\u001b[39m dtype\u001b[38;5;241m.\u001b[39mnumpy_dtype\n\u001b[0;32m   1291\u001b[0m \u001b[38;5;28;01mtry\u001b[39;00m:\n\u001b[1;32m-> 1292\u001b[0m     new_values \u001b[38;5;241m=\u001b[39m \u001b[43mastype_array\u001b[49m\u001b[43m(\u001b[49m\u001b[43mvalues\u001b[49m\u001b[43m,\u001b[49m\u001b[43m \u001b[49m\u001b[43mdtype\u001b[49m\u001b[43m,\u001b[49m\u001b[43m \u001b[49m\u001b[43mcopy\u001b[49m\u001b[38;5;241;43m=\u001b[39;49m\u001b[43mcopy\u001b[49m\u001b[43m)\u001b[49m\n\u001b[0;32m   1293\u001b[0m \u001b[38;5;28;01mexcept\u001b[39;00m (\u001b[38;5;167;01mValueError\u001b[39;00m, \u001b[38;5;167;01mTypeError\u001b[39;00m):\n\u001b[0;32m   1294\u001b[0m     \u001b[38;5;66;03m# e.g. astype_nansafe can fail on object-dtype of strings\u001b[39;00m\n\u001b[0;32m   1295\u001b[0m     \u001b[38;5;66;03m#  trying to convert to float\u001b[39;00m\n\u001b[0;32m   1296\u001b[0m     \u001b[38;5;28;01mif\u001b[39;00m errors \u001b[38;5;241m==\u001b[39m \u001b[38;5;124m\"\u001b[39m\u001b[38;5;124mignore\u001b[39m\u001b[38;5;124m\"\u001b[39m:\n",
      "File \u001b[1;32m~\\AppData\\Local\\Programs\\Python\\Python310\\lib\\site-packages\\pandas\\core\\dtypes\\cast.py:1237\u001b[0m, in \u001b[0;36mastype_array\u001b[1;34m(values, dtype, copy)\u001b[0m\n\u001b[0;32m   1234\u001b[0m     values \u001b[38;5;241m=\u001b[39m values\u001b[38;5;241m.\u001b[39mastype(dtype, copy\u001b[38;5;241m=\u001b[39mcopy)\n\u001b[0;32m   1236\u001b[0m \u001b[38;5;28;01melse\u001b[39;00m:\n\u001b[1;32m-> 1237\u001b[0m     values \u001b[38;5;241m=\u001b[39m \u001b[43mastype_nansafe\u001b[49m\u001b[43m(\u001b[49m\u001b[43mvalues\u001b[49m\u001b[43m,\u001b[49m\u001b[43m \u001b[49m\u001b[43mdtype\u001b[49m\u001b[43m,\u001b[49m\u001b[43m \u001b[49m\u001b[43mcopy\u001b[49m\u001b[38;5;241;43m=\u001b[39;49m\u001b[43mcopy\u001b[49m\u001b[43m)\u001b[49m\n\u001b[0;32m   1239\u001b[0m \u001b[38;5;66;03m# in pandas we don't store numpy str dtypes, so convert to object\u001b[39;00m\n\u001b[0;32m   1240\u001b[0m \u001b[38;5;28;01mif\u001b[39;00m \u001b[38;5;28misinstance\u001b[39m(dtype, np\u001b[38;5;241m.\u001b[39mdtype) \u001b[38;5;129;01mand\u001b[39;00m \u001b[38;5;28missubclass\u001b[39m(values\u001b[38;5;241m.\u001b[39mdtype\u001b[38;5;241m.\u001b[39mtype, \u001b[38;5;28mstr\u001b[39m):\n",
      "File \u001b[1;32m~\\AppData\\Local\\Programs\\Python\\Python310\\lib\\site-packages\\pandas\\core\\dtypes\\cast.py:1154\u001b[0m, in \u001b[0;36mastype_nansafe\u001b[1;34m(arr, dtype, copy, skipna)\u001b[0m\n\u001b[0;32m   1150\u001b[0m \u001b[38;5;28;01melif\u001b[39;00m is_object_dtype(arr\u001b[38;5;241m.\u001b[39mdtype):\n\u001b[0;32m   1151\u001b[0m \n\u001b[0;32m   1152\u001b[0m     \u001b[38;5;66;03m# work around NumPy brokenness, #1987\u001b[39;00m\n\u001b[0;32m   1153\u001b[0m     \u001b[38;5;28;01mif\u001b[39;00m np\u001b[38;5;241m.\u001b[39missubdtype(dtype\u001b[38;5;241m.\u001b[39mtype, np\u001b[38;5;241m.\u001b[39minteger):\n\u001b[1;32m-> 1154\u001b[0m         \u001b[38;5;28;01mreturn\u001b[39;00m \u001b[43mlib\u001b[49m\u001b[38;5;241;43m.\u001b[39;49m\u001b[43mastype_intsafe\u001b[49m\u001b[43m(\u001b[49m\u001b[43marr\u001b[49m\u001b[43m,\u001b[49m\u001b[43m \u001b[49m\u001b[43mdtype\u001b[49m\u001b[43m)\u001b[49m\n\u001b[0;32m   1156\u001b[0m     \u001b[38;5;66;03m# if we have a datetime/timedelta array of objects\u001b[39;00m\n\u001b[0;32m   1157\u001b[0m     \u001b[38;5;66;03m# then coerce to a proper dtype and recall astype_nansafe\u001b[39;00m\n\u001b[0;32m   1159\u001b[0m     \u001b[38;5;28;01melif\u001b[39;00m is_datetime64_dtype(dtype):\n",
      "File \u001b[1;32m~\\AppData\\Local\\Programs\\Python\\Python310\\lib\\site-packages\\pandas\\_libs\\lib.pyx:668\u001b[0m, in \u001b[0;36mpandas._libs.lib.astype_intsafe\u001b[1;34m()\u001b[0m\n",
      "\u001b[1;31mValueError\u001b[0m: invalid literal for int() with base 10: 'T'"
     ]
    }
   ],
   "source": [
    "df['favorites'].astype('int64')"
   ]
  },
  {
   "cell_type": "code",
   "execution_count": 57,
   "id": "aae7057e-26fd-4b45-b933-7de382646071",
   "metadata": {
    "collapsed": true,
    "jupyter": {
     "outputs_hidden": true,
     "source_hidden": true
    }
   },
   "outputs": [],
   "source": [
    "filt = df['favorites'] == 'T'\n",
    "df.loc[filt].index\n",
    "df.drop(index=df.loc[filt].index, inplace=True)"
   ]
  },
  {
   "cell_type": "code",
   "execution_count": 60,
   "id": "db07b424-51d1-4a60-a92f-0c26d74f3705",
   "metadata": {
    "collapsed": true,
    "jupyter": {
     "outputs_hidden": true,
     "source_hidden": true
    }
   },
   "outputs": [],
   "source": [
    "df['favorites'] = df['favorites'].astype('int64')"
   ]
  },
  {
   "cell_type": "code",
   "execution_count": 61,
   "id": "8d90d702-94d4-4422-82e2-8094c961aca5",
   "metadata": {
    "collapsed": true,
    "jupyter": {
     "outputs_hidden": true,
     "source_hidden": true
    },
    "tags": []
   },
   "outputs": [
    {
     "data": {
      "text/plain": [
       "Unnamed: 0       int64\n",
       "created_at      object\n",
       "text            object\n",
       "url             object\n",
       "replies          int64\n",
       "retweets         int64\n",
       "favorites        int64\n",
       "views          float64\n",
       "user            object\n",
       "bioguide_id     object\n",
       "party           object\n",
       "state           object\n",
       "dtype: object"
      ]
     },
     "execution_count": 61,
     "metadata": {},
     "output_type": "execute_result"
    }
   ],
   "source": [
    "df.dtypes"
   ]
  },
  {
   "cell_type": "markdown",
   "id": "19a12952-462a-4fcd-92d1-0822c87af3c7",
   "metadata": {},
   "source": [
    "### Inconsistent format"
   ]
  },
  {
   "cell_type": "code",
   "execution_count": 95,
   "id": "4ad0735e-a3df-4740-9a4c-6ad541581bca",
   "metadata": {
    "collapsed": true,
    "jupyter": {
     "outputs_hidden": true,
     "source_hidden": true
    }
   },
   "outputs": [
    {
     "data": {
      "text/plain": [
       "(51,)"
      ]
     },
     "execution_count": 95,
     "metadata": {},
     "output_type": "execute_result"
    }
   ],
   "source": [
    "df['state'].unique().shape"
   ]
  },
  {
   "cell_type": "code",
   "execution_count": 101,
   "id": "0c43404e-5a8a-411b-bed1-3049c3ef619d",
   "metadata": {
    "tags": []
   },
   "outputs": [
    {
     "data": {
      "text/plain": [
       "array(['D', 'R', 'F', 'Q', 'I'], dtype=object)"
      ]
     },
     "execution_count": 101,
     "metadata": {},
     "output_type": "execute_result"
    }
   ],
   "source": [
    "df['party'].unique()"
   ]
  },
  {
   "cell_type": "code",
   "execution_count": 107,
   "id": "8aa3de8e-8c33-4868-bd9b-5750ba364f6d",
   "metadata": {
    "collapsed": true,
    "jupyter": {
     "outputs_hidden": true
    },
    "tags": []
   },
   "outputs": [
    {
     "data": {
      "text/html": [
       "<div>\n",
       "<style scoped>\n",
       "    .dataframe tbody tr th:only-of-type {\n",
       "        vertical-align: middle;\n",
       "    }\n",
       "\n",
       "    .dataframe tbody tr th {\n",
       "        vertical-align: top;\n",
       "    }\n",
       "\n",
       "    .dataframe thead th {\n",
       "        text-align: right;\n",
       "    }\n",
       "</style>\n",
       "<table border=\"1\" class=\"dataframe\">\n",
       "  <thead>\n",
       "    <tr style=\"text-align: right;\">\n",
       "      <th></th>\n",
       "      <th>Unnamed: 0</th>\n",
       "      <th>created_at</th>\n",
       "      <th>text</th>\n",
       "      <th>url</th>\n",
       "      <th>replies</th>\n",
       "      <th>retweets</th>\n",
       "      <th>favorites</th>\n",
       "      <th>views</th>\n",
       "      <th>user</th>\n",
       "      <th>bioguide_id</th>\n",
       "      <th>party</th>\n",
       "      <th>state</th>\n",
       "    </tr>\n",
       "  </thead>\n",
       "  <tbody>\n",
       "    <tr>\n",
       "      <th>14438</th>\n",
       "      <td>14438</td>\n",
       "      <td>NaN</td>\n",
       "      <td>@senjoniernst and I met w 60 North Polk HS stu...</td>\n",
       "      <td>https://twitter.com/ChuckGrassley/status/72286...</td>\n",
       "      <td>3</td>\n",
       "      <td>0</td>\n",
       "      <td>1</td>\n",
       "      <td>NaN</td>\n",
       "      <td>ChuckGrassley</td>\n",
       "      <td>G000386</td>\n",
       "      <td>Republican</td>\n",
       "      <td>IA</td>\n",
       "    </tr>\n",
       "    <tr>\n",
       "      <th>14439</th>\n",
       "      <td>14439</td>\n",
       "      <td>NaN</td>\n",
       "      <td>Pork producers from Iowa in town to talk about...</td>\n",
       "      <td>https://twitter.com/ChuckGrassley/status/72283...</td>\n",
       "      <td>8</td>\n",
       "      <td>6</td>\n",
       "      <td>8</td>\n",
       "      <td>NaN</td>\n",
       "      <td>ChuckGrassley</td>\n",
       "      <td>G000386</td>\n",
       "      <td>Republican</td>\n",
       "      <td>IA</td>\n",
       "    </tr>\n",
       "    <tr>\n",
       "      <th>14440</th>\n",
       "      <td>14440</td>\n",
       "      <td>NaN</td>\n",
       "      <td>Visited w VGM of Waterloo https://t.co/sPQIrzhvLV</td>\n",
       "      <td>https://twitter.com/ChuckGrassley/status/72277...</td>\n",
       "      <td>6</td>\n",
       "      <td>1</td>\n",
       "      <td>5</td>\n",
       "      <td>NaN</td>\n",
       "      <td>ChuckGrassley</td>\n",
       "      <td>G000386</td>\n",
       "      <td>Republican</td>\n",
       "      <td>IA</td>\n",
       "    </tr>\n",
       "  </tbody>\n",
       "</table>\n",
       "</div>"
      ],
      "text/plain": [
       "       Unnamed: 0 created_at  \\\n",
       "14438       14438        NaN   \n",
       "14439       14439        NaN   \n",
       "14440       14440        NaN   \n",
       "\n",
       "                                                    text  \\\n",
       "14438  @senjoniernst and I met w 60 North Polk HS stu...   \n",
       "14439  Pork producers from Iowa in town to talk about...   \n",
       "14440  Visited w VGM of Waterloo https://t.co/sPQIrzhvLV   \n",
       "\n",
       "                                                     url  replies  retweets  \\\n",
       "14438  https://twitter.com/ChuckGrassley/status/72286...        3         0   \n",
       "14439  https://twitter.com/ChuckGrassley/status/72283...        8         6   \n",
       "14440  https://twitter.com/ChuckGrassley/status/72277...        6         1   \n",
       "\n",
       "      favorites  views           user bioguide_id       party state  \n",
       "14438         1    NaN  ChuckGrassley     G000386  Republican    IA  \n",
       "14439         8    NaN  ChuckGrassley     G000386  Republican    IA  \n",
       "14440         5    NaN  ChuckGrassley     G000386  Republican    IA  "
      ]
     },
     "execution_count": 107,
     "metadata": {},
     "output_type": "execute_result"
    }
   ],
   "source": [
    "filt = df['party'] == 'Republican'\n",
    "df.loc[filt]"
   ]
  },
  {
   "cell_type": "code",
   "execution_count": 128,
   "id": "de98cbbd-2ab9-47a3-85a3-da0323ab5f94",
   "metadata": {
    "tags": []
   },
   "outputs": [],
   "source": [
    "df['party'] = df['party'].replace({'Republican': 'R'})"
   ]
  },
  {
   "cell_type": "markdown",
   "id": "fbfb9d7b-489a-44e1-89c5-e4804764904b",
   "metadata": {},
   "source": [
    "### Extreme Values"
   ]
  },
  {
   "cell_type": "code",
   "execution_count": 104,
   "id": "5c05c466-aa30-41c3-ae2c-1520b0f6ca16",
   "metadata": {},
   "outputs": [
    {
     "name": "stdout",
     "output_type": "stream",
     "text": [
      "<class 'pandas.core.frame.DataFrame'>\n",
      "RangeIndex: 288615 entries, 0 to 288614\n",
      "Data columns (total 12 columns):\n",
      " #   Column       Non-Null Count   Dtype  \n",
      "---  ------       --------------   -----  \n",
      " 0   Unnamed: 0   288615 non-null  int64  \n",
      " 1   created_at   85279 non-null   object \n",
      " 2   text         288615 non-null  object \n",
      " 3   url          288615 non-null  object \n",
      " 4   replies      288615 non-null  int64  \n",
      " 5   retweets     288615 non-null  int64  \n",
      " 6   favorites    288615 non-null  object \n",
      " 7   views        19 non-null      float64\n",
      " 8   user         288615 non-null  object \n",
      " 9   bioguide_id  288615 non-null  object \n",
      " 10  party        288615 non-null  object \n",
      " 11  state        288613 non-null  object \n",
      "dtypes: float64(1), int64(3), object(8)\n",
      "memory usage: 26.4+ MB\n"
     ]
    }
   ],
   "source": [
    "df.info()"
   ]
  },
  {
   "cell_type": "code",
   "execution_count": 133,
   "id": "f8187cad-4aa9-475e-9681-773fbdfc3d44",
   "metadata": {},
   "outputs": [
    {
     "data": {
      "text/html": [
       "<div>\n",
       "<style scoped>\n",
       "    .dataframe tbody tr th:only-of-type {\n",
       "        vertical-align: middle;\n",
       "    }\n",
       "\n",
       "    .dataframe tbody tr th {\n",
       "        vertical-align: top;\n",
       "    }\n",
       "\n",
       "    .dataframe thead th {\n",
       "        text-align: right;\n",
       "    }\n",
       "</style>\n",
       "<table border=\"1\" class=\"dataframe\">\n",
       "  <thead>\n",
       "    <tr style=\"text-align: right;\">\n",
       "      <th></th>\n",
       "      <th>Unnamed: 0</th>\n",
       "      <th>replies</th>\n",
       "      <th>retweets</th>\n",
       "      <th>views</th>\n",
       "    </tr>\n",
       "  </thead>\n",
       "  <tbody>\n",
       "    <tr>\n",
       "      <th>count</th>\n",
       "      <td>288615.000000</td>\n",
       "      <td>288615.000000</td>\n",
       "      <td>2.886150e+05</td>\n",
       "      <td>19.000000</td>\n",
       "    </tr>\n",
       "    <tr>\n",
       "      <th>mean</th>\n",
       "      <td>144307.000000</td>\n",
       "      <td>41.901758</td>\n",
       "      <td>2.489682e+02</td>\n",
       "      <td>35547.736842</td>\n",
       "    </tr>\n",
       "    <tr>\n",
       "      <th>std</th>\n",
       "      <td>83316.118309</td>\n",
       "      <td>470.367102</td>\n",
       "      <td>7.793342e+03</td>\n",
       "      <td>99874.007656</td>\n",
       "    </tr>\n",
       "    <tr>\n",
       "      <th>min</th>\n",
       "      <td>0.000000</td>\n",
       "      <td>0.000000</td>\n",
       "      <td>0.000000e+00</td>\n",
       "      <td>250.000000</td>\n",
       "    </tr>\n",
       "    <tr>\n",
       "      <th>25%</th>\n",
       "      <td>72153.500000</td>\n",
       "      <td>1.000000</td>\n",
       "      <td>3.000000e+00</td>\n",
       "      <td>251.000000</td>\n",
       "    </tr>\n",
       "    <tr>\n",
       "      <th>50%</th>\n",
       "      <td>144307.000000</td>\n",
       "      <td>3.000000</td>\n",
       "      <td>8.000000e+00</td>\n",
       "      <td>285.000000</td>\n",
       "    </tr>\n",
       "    <tr>\n",
       "      <th>75%</th>\n",
       "      <td>216460.500000</td>\n",
       "      <td>13.000000</td>\n",
       "      <td>3.200000e+01</td>\n",
       "      <td>2308.000000</td>\n",
       "    </tr>\n",
       "    <tr>\n",
       "      <th>max</th>\n",
       "      <td>288614.000000</td>\n",
       "      <td>66872.000000</td>\n",
       "      <td>3.644423e+06</td>\n",
       "      <td>318704.000000</td>\n",
       "    </tr>\n",
       "  </tbody>\n",
       "</table>\n",
       "</div>"
      ],
      "text/plain": [
       "          Unnamed: 0        replies      retweets          views\n",
       "count  288615.000000  288615.000000  2.886150e+05      19.000000\n",
       "mean   144307.000000      41.901758  2.489682e+02   35547.736842\n",
       "std     83316.118309     470.367102  7.793342e+03   99874.007656\n",
       "min         0.000000       0.000000  0.000000e+00     250.000000\n",
       "25%     72153.500000       1.000000  3.000000e+00     251.000000\n",
       "50%    144307.000000       3.000000  8.000000e+00     285.000000\n",
       "75%    216460.500000      13.000000  3.200000e+01    2308.000000\n",
       "max    288614.000000   66872.000000  3.644423e+06  318704.000000"
      ]
     },
     "execution_count": 133,
     "metadata": {},
     "output_type": "execute_result"
    }
   ],
   "source": [
    "df.describe()"
   ]
  },
  {
   "cell_type": "code",
   "execution_count": 121,
   "id": "1dad8b06-904d-40d0-ba4d-c5d2e22833b0",
   "metadata": {},
   "outputs": [
    {
     "data": {
      "text/plain": [
       "R    146278\n",
       "D    136082\n",
       "I      6255\n",
       "Name: party, dtype: int64"
      ]
     },
     "execution_count": 121,
     "metadata": {},
     "output_type": "execute_result"
    }
   ],
   "source": [
    "df['party'].value_counts()"
   ]
  },
  {
   "cell_type": "code",
   "execution_count": 115,
   "id": "86e77b88-25aa-4851-83b2-7f080c35712c",
   "metadata": {},
   "outputs": [
    {
     "data": {
      "text/html": [
       "<div>\n",
       "<style scoped>\n",
       "    .dataframe tbody tr th:only-of-type {\n",
       "        vertical-align: middle;\n",
       "    }\n",
       "\n",
       "    .dataframe tbody tr th {\n",
       "        vertical-align: top;\n",
       "    }\n",
       "\n",
       "    .dataframe thead th {\n",
       "        text-align: right;\n",
       "    }\n",
       "</style>\n",
       "<table border=\"1\" class=\"dataframe\">\n",
       "  <thead>\n",
       "    <tr style=\"text-align: right;\">\n",
       "      <th></th>\n",
       "      <th>Unnamed: 0</th>\n",
       "      <th>created_at</th>\n",
       "      <th>text</th>\n",
       "      <th>url</th>\n",
       "      <th>replies</th>\n",
       "      <th>retweets</th>\n",
       "      <th>favorites</th>\n",
       "      <th>views</th>\n",
       "      <th>user</th>\n",
       "      <th>bioguide_id</th>\n",
       "      <th>party</th>\n",
       "      <th>state</th>\n",
       "    </tr>\n",
       "  </thead>\n",
       "  <tbody>\n",
       "    <tr>\n",
       "      <th>55474</th>\n",
       "      <td>55474</td>\n",
       "      <td>NaN</td>\n",
       "      <td>Welcomed leaders from the Shoshone-Bannock Tri...</td>\n",
       "      <td>https://twitter.com/MikeCrapo/status/443457340...</td>\n",
       "      <td>0</td>\n",
       "      <td>0</td>\n",
       "      <td>0</td>\n",
       "      <td>NaN</td>\n",
       "      <td>MikeCrapo</td>\n",
       "      <td>C000880</td>\n",
       "      <td>F</td>\n",
       "      <td>ID</td>\n",
       "    </tr>\n",
       "    <tr>\n",
       "      <th>59895</th>\n",
       "      <td>59895</td>\n",
       "      <td>NaN</td>\n",
       "      <td>The victims of wage theft are often low-wage w...</td>\n",
       "      <td>https://twitter.com/PattyMurray/status/7112695...</td>\n",
       "      <td>6</td>\n",
       "      <td>9</td>\n",
       "      <td>15</td>\n",
       "      <td>NaN</td>\n",
       "      <td>PattyMurray</td>\n",
       "      <td>M001111</td>\n",
       "      <td>Q</td>\n",
       "      <td>WA</td>\n",
       "    </tr>\n",
       "  </tbody>\n",
       "</table>\n",
       "</div>"
      ],
      "text/plain": [
       "       Unnamed: 0 created_at  \\\n",
       "55474       55474        NaN   \n",
       "59895       59895        NaN   \n",
       "\n",
       "                                                    text  \\\n",
       "55474  Welcomed leaders from the Shoshone-Bannock Tri...   \n",
       "59895  The victims of wage theft are often low-wage w...   \n",
       "\n",
       "                                                     url  replies  retweets  \\\n",
       "55474  https://twitter.com/MikeCrapo/status/443457340...        0         0   \n",
       "59895  https://twitter.com/PattyMurray/status/7112695...        6         9   \n",
       "\n",
       "      favorites  views         user bioguide_id party state  \n",
       "55474         0    NaN    MikeCrapo     C000880     F    ID  \n",
       "59895        15    NaN  PattyMurray     M001111     Q    WA  "
      ]
     },
     "execution_count": 115,
     "metadata": {},
     "output_type": "execute_result"
    }
   ],
   "source": [
    "possible_parties = ['R', 'D', 'I']\n",
    "filt = df['party'].isin(possible_parties)\n",
    "df.loc[~filt]"
   ]
  },
  {
   "cell_type": "code",
   "execution_count": 129,
   "id": "b72c82fb-1dd7-4370-93fe-e82c9d8883a6",
   "metadata": {},
   "outputs": [],
   "source": [
    "df.loc[ df['user'] == 'MikeCrapo', 'party'] = 'R'"
   ]
  },
  {
   "cell_type": "code",
   "execution_count": 130,
   "id": "931ced33-d151-473b-a3f7-def0db1f7993",
   "metadata": {},
   "outputs": [],
   "source": [
    "df.loc[ df['user'] == 'PattyMurray', 'party'] = 'D'"
   ]
  },
  {
   "cell_type": "code",
   "execution_count": 132,
   "id": "b22088b2-719f-45d8-be81-95e72bd1357b",
   "metadata": {},
   "outputs": [],
   "source": [
    "df.loc[ df['replies'] < 0, 'replies'] *= -1 "
   ]
  },
  {
   "cell_type": "code",
   "execution_count": 134,
   "id": "597641ee-f4b3-4430-b8fa-c6b8145db393",
   "metadata": {},
   "outputs": [],
   "source": [
    "import numpy as np\n",
    "q1 = np.quantile(df['replies'], .25)\n",
    "q3 = np.quantile(df['replies'], .75)\n",
    "iqr = q3 - q1\n",
    "\n",
    "def is_outlier(row):\n",
    "    return row > q3 + (1.5 * iqr)\n"
   ]
  },
  {
   "cell_type": "code",
   "execution_count": 140,
   "id": "8c33b262-5637-4f35-a8b3-af3d36aee544",
   "metadata": {},
   "outputs": [],
   "source": [
    "filt = df['replies'].apply(is_outlier)\n",
    "not_outlier_df = df.loc[ ~filt ]"
   ]
  },
  {
   "cell_type": "code",
   "execution_count": 141,
   "id": "29a647aa-fbed-4a31-a383-58aca1a1afca",
   "metadata": {},
   "outputs": [
    {
     "data": {
      "text/html": [
       "<div>\n",
       "<style scoped>\n",
       "    .dataframe tbody tr th:only-of-type {\n",
       "        vertical-align: middle;\n",
       "    }\n",
       "\n",
       "    .dataframe tbody tr th {\n",
       "        vertical-align: top;\n",
       "    }\n",
       "\n",
       "    .dataframe thead th {\n",
       "        text-align: right;\n",
       "    }\n",
       "</style>\n",
       "<table border=\"1\" class=\"dataframe\">\n",
       "  <thead>\n",
       "    <tr style=\"text-align: right;\">\n",
       "      <th></th>\n",
       "      <th>Unnamed: 0</th>\n",
       "      <th>created_at</th>\n",
       "      <th>text</th>\n",
       "      <th>url</th>\n",
       "      <th>replies</th>\n",
       "      <th>retweets</th>\n",
       "      <th>favorites</th>\n",
       "      <th>views</th>\n",
       "      <th>user</th>\n",
       "      <th>bioguide_id</th>\n",
       "      <th>party</th>\n",
       "      <th>state</th>\n",
       "    </tr>\n",
       "  </thead>\n",
       "  <tbody>\n",
       "    <tr>\n",
       "      <th>0</th>\n",
       "      <td>0</td>\n",
       "      <td>10/19/2017 21:47</td>\n",
       "      <td>We released bipartisan healthcare bill today &amp;...</td>\n",
       "      <td>https://twitter.com/amyklobuchar/status/921130...</td>\n",
       "      <td>21</td>\n",
       "      <td>129</td>\n",
       "      <td>533</td>\n",
       "      <td>NaN</td>\n",
       "      <td>amyklobuchar</td>\n",
       "      <td>K000367</td>\n",
       "      <td>D</td>\n",
       "      <td>MN</td>\n",
       "    </tr>\n",
       "    <tr>\n",
       "      <th>1</th>\n",
       "      <td>1</td>\n",
       "      <td>10/19/2017 18:48</td>\n",
       "      <td>I spoke with @Morning_Joe team abt #HonestAds ...</td>\n",
       "      <td>https://twitter.com/amyklobuchar/status/921085...</td>\n",
       "      <td>8</td>\n",
       "      <td>46</td>\n",
       "      <td>150</td>\n",
       "      <td>NaN</td>\n",
       "      <td>amyklobuchar</td>\n",
       "      <td>K000367</td>\n",
       "      <td>D</td>\n",
       "      <td>MN</td>\n",
       "    </tr>\n",
       "    <tr>\n",
       "      <th>3</th>\n",
       "      <td>3</td>\n",
       "      <td>10/19/2017 18:04</td>\n",
       "      <td>Today's the day @MarkWarner, @SenJohnMcCain &amp;a...</td>\n",
       "      <td>https://twitter.com/amyklobuchar/status/921074...</td>\n",
       "      <td>17</td>\n",
       "      <td>167</td>\n",
       "      <td>550</td>\n",
       "      <td>NaN</td>\n",
       "      <td>amyklobuchar</td>\n",
       "      <td>K000367</td>\n",
       "      <td>D</td>\n",
       "      <td>MN</td>\n",
       "    </tr>\n",
       "    <tr>\n",
       "      <th>4</th>\n",
       "      <td>4</td>\n",
       "      <td>10/19/2017 16:33</td>\n",
       "      <td>.@MarkWarner, @SenJohnMcCain &amp;amp; I put toget...</td>\n",
       "      <td>https://twitter.com/amyklobuchar/status/921051...</td>\n",
       "      <td>31</td>\n",
       "      <td>279</td>\n",
       "      <td>893</td>\n",
       "      <td>NaN</td>\n",
       "      <td>amyklobuchar</td>\n",
       "      <td>K000367</td>\n",
       "      <td>D</td>\n",
       "      <td>MN</td>\n",
       "    </tr>\n",
       "    <tr>\n",
       "      <th>5</th>\n",
       "      <td>5</td>\n",
       "      <td>NaN</td>\n",
       "      <td>Great chat w @chrislhayes about Sessions heari...</td>\n",
       "      <td>https://twitter.com/amyklobuchar/status/921031...</td>\n",
       "      <td>9</td>\n",
       "      <td>37</td>\n",
       "      <td>221</td>\n",
       "      <td>NaN</td>\n",
       "      <td>amyklobuchar</td>\n",
       "      <td>K000367</td>\n",
       "      <td>D</td>\n",
       "      <td>MN</td>\n",
       "    </tr>\n",
       "    <tr>\n",
       "      <th>...</th>\n",
       "      <td>...</td>\n",
       "      <td>...</td>\n",
       "      <td>...</td>\n",
       "      <td>...</td>\n",
       "      <td>...</td>\n",
       "      <td>...</td>\n",
       "      <td>...</td>\n",
       "      <td>...</td>\n",
       "      <td>...</td>\n",
       "      <td>...</td>\n",
       "      <td>...</td>\n",
       "      <td>...</td>\n",
       "    </tr>\n",
       "    <tr>\n",
       "      <th>288610</th>\n",
       "      <td>288610</td>\n",
       "      <td>7/28/2015 15:33</td>\n",
       "      <td>Such a zone would allow the flow of unfettered...</td>\n",
       "      <td>https://twitter.com/timkaine/status/6260527578...</td>\n",
       "      <td>0</td>\n",
       "      <td>4</td>\n",
       "      <td>1</td>\n",
       "      <td>NaN</td>\n",
       "      <td>timkaine</td>\n",
       "      <td>K000384</td>\n",
       "      <td>D</td>\n",
       "      <td>VA</td>\n",
       "    </tr>\n",
       "    <tr>\n",
       "      <th>288611</th>\n",
       "      <td>288611</td>\n",
       "      <td>NaN</td>\n",
       "      <td>I welcome greater cooperation between the U.S....</td>\n",
       "      <td>https://twitter.com/timkaine/status/6260526304...</td>\n",
       "      <td>2</td>\n",
       "      <td>7</td>\n",
       "      <td>2</td>\n",
       "      <td>NaN</td>\n",
       "      <td>timkaine</td>\n",
       "      <td>K000384</td>\n",
       "      <td>D</td>\n",
       "      <td>VA</td>\n",
       "    </tr>\n",
       "    <tr>\n",
       "      <th>288612</th>\n",
       "      <td>288612</td>\n",
       "      <td>NaN</td>\n",
       "      <td>Educacií_n sobre la prevencií_n del abuso sexu...</td>\n",
       "      <td>https://twitter.com/timkaine/status/6257210135...</td>\n",
       "      <td>0</td>\n",
       "      <td>1</td>\n",
       "      <td>0</td>\n",
       "      <td>NaN</td>\n",
       "      <td>timkaine</td>\n",
       "      <td>K000384</td>\n",
       "      <td>D</td>\n",
       "      <td>VA</td>\n",
       "    </tr>\n",
       "    <tr>\n",
       "      <th>288613</th>\n",
       "      <td>288613</td>\n",
       "      <td>NaN</td>\n",
       "      <td>Education on sexual assault prevention should ...</td>\n",
       "      <td>https://twitter.com/timkaine/status/6257198751...</td>\n",
       "      <td>4</td>\n",
       "      <td>5</td>\n",
       "      <td>1</td>\n",
       "      <td>NaN</td>\n",
       "      <td>timkaine</td>\n",
       "      <td>K000384</td>\n",
       "      <td>D</td>\n",
       "      <td>VA</td>\n",
       "    </tr>\n",
       "    <tr>\n",
       "      <th>288614</th>\n",
       "      <td>288614</td>\n",
       "      <td>NaN</td>\n",
       "      <td>25 years since passage, the ADA has helped ens...</td>\n",
       "      <td>https://twitter.com/timkaine/status/6253537947...</td>\n",
       "      <td>1</td>\n",
       "      <td>13</td>\n",
       "      <td>17</td>\n",
       "      <td>NaN</td>\n",
       "      <td>timkaine</td>\n",
       "      <td>K000384</td>\n",
       "      <td>D</td>\n",
       "      <td>VA</td>\n",
       "    </tr>\n",
       "  </tbody>\n",
       "</table>\n",
       "<p>247134 rows × 12 columns</p>\n",
       "</div>"
      ],
      "text/plain": [
       "        Unnamed: 0        created_at  \\\n",
       "0                0  10/19/2017 21:47   \n",
       "1                1  10/19/2017 18:48   \n",
       "3                3  10/19/2017 18:04   \n",
       "4                4  10/19/2017 16:33   \n",
       "5                5               NaN   \n",
       "...            ...               ...   \n",
       "288610      288610   7/28/2015 15:33   \n",
       "288611      288611               NaN   \n",
       "288612      288612               NaN   \n",
       "288613      288613               NaN   \n",
       "288614      288614               NaN   \n",
       "\n",
       "                                                     text  \\\n",
       "0       We released bipartisan healthcare bill today &...   \n",
       "1       I spoke with @Morning_Joe team abt #HonestAds ...   \n",
       "3       Today's the day @MarkWarner, @SenJohnMcCain &a...   \n",
       "4       .@MarkWarner, @SenJohnMcCain &amp; I put toget...   \n",
       "5       Great chat w @chrislhayes about Sessions heari...   \n",
       "...                                                   ...   \n",
       "288610  Such a zone would allow the flow of unfettered...   \n",
       "288611  I welcome greater cooperation between the U.S....   \n",
       "288612  Educacií_n sobre la prevencií_n del abuso sexu...   \n",
       "288613  Education on sexual assault prevention should ...   \n",
       "288614  25 years since passage, the ADA has helped ens...   \n",
       "\n",
       "                                                      url  replies  retweets  \\\n",
       "0       https://twitter.com/amyklobuchar/status/921130...       21       129   \n",
       "1       https://twitter.com/amyklobuchar/status/921085...        8        46   \n",
       "3       https://twitter.com/amyklobuchar/status/921074...       17       167   \n",
       "4       https://twitter.com/amyklobuchar/status/921051...       31       279   \n",
       "5       https://twitter.com/amyklobuchar/status/921031...        9        37   \n",
       "...                                                   ...      ...       ...   \n",
       "288610  https://twitter.com/timkaine/status/6260527578...        0         4   \n",
       "288611  https://twitter.com/timkaine/status/6260526304...        2         7   \n",
       "288612  https://twitter.com/timkaine/status/6257210135...        0         1   \n",
       "288613  https://twitter.com/timkaine/status/6257198751...        4         5   \n",
       "288614  https://twitter.com/timkaine/status/6253537947...        1        13   \n",
       "\n",
       "       favorites  views          user bioguide_id party state  \n",
       "0            533    NaN  amyklobuchar     K000367     D    MN  \n",
       "1            150    NaN  amyklobuchar     K000367     D    MN  \n",
       "3            550    NaN  amyklobuchar     K000367     D    MN  \n",
       "4            893    NaN  amyklobuchar     K000367     D    MN  \n",
       "5            221    NaN  amyklobuchar     K000367     D    MN  \n",
       "...          ...    ...           ...         ...   ...   ...  \n",
       "288610         1    NaN      timkaine     K000384     D    VA  \n",
       "288611         2    NaN      timkaine     K000384     D    VA  \n",
       "288612         0    NaN      timkaine     K000384     D    VA  \n",
       "288613         1    NaN      timkaine     K000384     D    VA  \n",
       "288614        17    NaN      timkaine     K000384     D    VA  \n",
       "\n",
       "[247134 rows x 12 columns]"
      ]
     },
     "execution_count": 141,
     "metadata": {},
     "output_type": "execute_result"
    }
   ],
   "source": [
    "not_outlier_df"
   ]
  },
  {
   "cell_type": "code",
   "execution_count": null,
   "id": "a29f1f8f-e519-4fd6-8c9c-38205eca7bcf",
   "metadata": {},
   "outputs": [],
   "source": []
  }
 ],
 "metadata": {
  "kernelspec": {
   "display_name": "Python 3 (ipykernel)",
   "language": "python",
   "name": "python3"
  },
  "language_info": {
   "codemirror_mode": {
    "name": "ipython",
    "version": 3
   },
   "file_extension": ".py",
   "mimetype": "text/x-python",
   "name": "python",
   "nbconvert_exporter": "python",
   "pygments_lexer": "ipython3",
   "version": "3.10.2"
  }
 },
 "nbformat": 4,
 "nbformat_minor": 5
}
