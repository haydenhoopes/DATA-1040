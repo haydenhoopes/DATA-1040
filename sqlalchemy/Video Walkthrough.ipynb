{
 "cells": [
  {
   "cell_type": "markdown",
   "id": "d690bd24-657f-43a5-bb81-a7957a897b59",
   "metadata": {},
   "source": [
    "# Connecting to a Live SQL Server Database - Video Walkthrough"
   ]
  },
  {
   "cell_type": "code",
   "execution_count": 1,
   "id": "687ee7f2-6d23-45d0-b12e-c4d37c0957ed",
   "metadata": {},
   "outputs": [],
   "source": [
    "import sqlalchemy as sql\n",
    "import pandas as pd"
   ]
  },
  {
   "cell_type": "code",
   "execution_count": 2,
   "id": "bc15bf44-a423-4a39-bb8b-24a5a1bccd18",
   "metadata": {},
   "outputs": [],
   "source": [
    "driver = \"ODBC Driver 17 for SQL Server\"\n",
    "server = \"LT-W1828-HH\\SQLSERVER2019\"\n",
    "db = \"AdventureWorks2019\""
   ]
  },
  {
   "cell_type": "code",
   "execution_count": 3,
   "id": "7d23d74e-704a-4a2c-a49e-fed0cbc2b08b",
   "metadata": {},
   "outputs": [],
   "source": [
    "connection_string = f\"mssql+pyodbc://{server}/{db}?driver={driver}\""
   ]
  },
  {
   "cell_type": "code",
   "execution_count": 4,
   "id": "1942463c-8a61-49b8-abaf-0cf37da22eb9",
   "metadata": {},
   "outputs": [
    {
     "data": {
      "text/plain": [
       "'mssql+pyodbc://LT-W1828-HH\\\\SQLSERVER2019/AdventureWorks2019?driver=ODBC Driver 17 for SQL Server'"
      ]
     },
     "execution_count": 4,
     "metadata": {},
     "output_type": "execute_result"
    }
   ],
   "source": [
    "connection_string"
   ]
  },
  {
   "cell_type": "code",
   "execution_count": 5,
   "id": "98966e57-0752-4c60-993d-e91ca019b1eb",
   "metadata": {},
   "outputs": [],
   "source": [
    "engine = sql.create_engine(connection_string)"
   ]
  },
  {
   "cell_type": "code",
   "execution_count": 6,
   "id": "7e36518e-a83b-479f-9f22-0010b03180ff",
   "metadata": {},
   "outputs": [
    {
     "data": {
      "text/plain": [
       "Engine(mssql+pyodbc://LT-W1828-HH\\SQLSERVER2019/AdventureWorks2019?driver=ODBC+Driver+17+for+SQL+Server)"
      ]
     },
     "execution_count": 6,
     "metadata": {},
     "output_type": "execute_result"
    }
   ],
   "source": [
    "engine"
   ]
  },
  {
   "cell_type": "code",
   "execution_count": 8,
   "id": "d1e4f2c0-c4ed-4cec-91a6-899718990890",
   "metadata": {},
   "outputs": [],
   "source": [
    "connection = engine.connect()"
   ]
  },
  {
   "cell_type": "code",
   "execution_count": 9,
   "id": "2e704eb3-c821-4ddd-bced-a67037b2b1bd",
   "metadata": {},
   "outputs": [],
   "source": [
    "query = '''\n",
    "    SELECT *\n",
    "    FROM Person.PersonPhone\n",
    "    ;\n",
    "'''"
   ]
  },
  {
   "cell_type": "code",
   "execution_count": 10,
   "id": "9d3e3183-11a4-45f7-be1a-c47d240a4ae4",
   "metadata": {},
   "outputs": [
    {
     "data": {
      "text/plain": [
       "'\\n    SELECT *\\n    FROM Person.PersonPhone\\n    ;\\n'"
      ]
     },
     "execution_count": 10,
     "metadata": {},
     "output_type": "execute_result"
    }
   ],
   "source": [
    "query"
   ]
  },
  {
   "cell_type": "code",
   "execution_count": 12,
   "id": "fafd2783-1148-49b0-b1f5-5dea7018f770",
   "metadata": {},
   "outputs": [],
   "source": [
    "df = pd.read_sql(query, connection)"
   ]
  },
  {
   "cell_type": "code",
   "execution_count": 13,
   "id": "88ce05aa-20ba-43c0-8eb0-c3e2748542b8",
   "metadata": {},
   "outputs": [
    {
     "data": {
      "text/html": [
       "<div>\n",
       "<style scoped>\n",
       "    .dataframe tbody tr th:only-of-type {\n",
       "        vertical-align: middle;\n",
       "    }\n",
       "\n",
       "    .dataframe tbody tr th {\n",
       "        vertical-align: top;\n",
       "    }\n",
       "\n",
       "    .dataframe thead th {\n",
       "        text-align: right;\n",
       "    }\n",
       "</style>\n",
       "<table border=\"1\" class=\"dataframe\">\n",
       "  <thead>\n",
       "    <tr style=\"text-align: right;\">\n",
       "      <th></th>\n",
       "      <th>BusinessEntityID</th>\n",
       "      <th>PhoneNumber</th>\n",
       "      <th>PhoneNumberTypeID</th>\n",
       "      <th>ModifiedDate</th>\n",
       "    </tr>\n",
       "  </thead>\n",
       "  <tbody>\n",
       "    <tr>\n",
       "      <th>0</th>\n",
       "      <td>1</td>\n",
       "      <td>697-555-0142</td>\n",
       "      <td>1</td>\n",
       "      <td>2009-01-07</td>\n",
       "    </tr>\n",
       "    <tr>\n",
       "      <th>1</th>\n",
       "      <td>2</td>\n",
       "      <td>819-555-0175</td>\n",
       "      <td>3</td>\n",
       "      <td>2008-01-24</td>\n",
       "    </tr>\n",
       "    <tr>\n",
       "      <th>2</th>\n",
       "      <td>3</td>\n",
       "      <td>212-555-0187</td>\n",
       "      <td>1</td>\n",
       "      <td>2007-11-04</td>\n",
       "    </tr>\n",
       "    <tr>\n",
       "      <th>3</th>\n",
       "      <td>4</td>\n",
       "      <td>612-555-0100</td>\n",
       "      <td>1</td>\n",
       "      <td>2007-11-28</td>\n",
       "    </tr>\n",
       "    <tr>\n",
       "      <th>4</th>\n",
       "      <td>5</td>\n",
       "      <td>849-555-0139</td>\n",
       "      <td>1</td>\n",
       "      <td>2007-12-30</td>\n",
       "    </tr>\n",
       "  </tbody>\n",
       "</table>\n",
       "</div>"
      ],
      "text/plain": [
       "   BusinessEntityID   PhoneNumber  PhoneNumberTypeID ModifiedDate\n",
       "0                 1  697-555-0142                  1   2009-01-07\n",
       "1                 2  819-555-0175                  3   2008-01-24\n",
       "2                 3  212-555-0187                  1   2007-11-04\n",
       "3                 4  612-555-0100                  1   2007-11-28\n",
       "4                 5  849-555-0139                  1   2007-12-30"
      ]
     },
     "execution_count": 13,
     "metadata": {},
     "output_type": "execute_result"
    }
   ],
   "source": [
    "df.head()"
   ]
  },
  {
   "cell_type": "code",
   "execution_count": null,
   "id": "dd342f51-a629-40bb-8cc2-b40fa877c5fc",
   "metadata": {},
   "outputs": [],
   "source": []
  }
 ],
 "metadata": {
  "kernelspec": {
   "display_name": "Python 3 (ipykernel)",
   "language": "python",
   "name": "python3"
  },
  "language_info": {
   "codemirror_mode": {
    "name": "ipython",
    "version": 3
   },
   "file_extension": ".py",
   "mimetype": "text/x-python",
   "name": "python",
   "nbconvert_exporter": "python",
   "pygments_lexer": "ipython3",
   "version": "3.10.2"
  }
 },
 "nbformat": 4,
 "nbformat_minor": 5
}
