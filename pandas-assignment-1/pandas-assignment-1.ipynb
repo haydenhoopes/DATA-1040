{
 "cells": [
  {
   "cell_type": "markdown",
   "id": "73284ee0-f115-4fd9-b1ce-84c488c33381",
   "metadata": {},
   "source": [
    "# Pandas Assignment 1\n",
    "In this assignment you will practice working with Pandas dataframes.\n",
    "\n",
    "Specifically, you will be carrying out the following excercises:\n",
    "\n",
    "1. Import data from a CSV file\n",
    "2. Filter data from the dataframe\n",
    "3. Select specific data values using indexes.\n",
    "\n",
    "## About the data\n",
    "The data used in this assignment is the Titanic data set. This data is a data science classic that contains information about passengers and crew members who boarded the great Titanic cruisliner, including each person's age, sex, name, fare cost, and boarding location. The actual data is stored in a `.csv` file located inside the `data` directory."
   ]
  },
  {
   "cell_type": "code",
   "execution_count": null,
   "id": "c4e94ee3-624c-4af0-b8e1-356e8f98f743",
   "metadata": {},
   "outputs": [],
   "source": []
  }
 ],
 "metadata": {
  "kernelspec": {
   "display_name": "Python 3 (ipykernel)",
   "language": "python",
   "name": "python3"
  },
  "language_info": {
   "codemirror_mode": {
    "name": "ipython",
    "version": 3
   },
   "file_extension": ".py",
   "mimetype": "text/x-python",
   "name": "python",
   "nbconvert_exporter": "python",
   "pygments_lexer": "ipython3",
   "version": "3.10.2"
  }
 },
 "nbformat": 4,
 "nbformat_minor": 5
}
