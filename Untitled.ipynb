{
 "cells": [
  {
   "cell_type": "markdown",
   "id": "84a376b1-796c-4cdb-ae88-7f831baf129e",
   "metadata": {},
   "source": [
    "# Header 1\n",
    "Regular text here\n",
    "- This is a bullet point\n",
    "- So is this\n",
    "1. This is a numbered list item\n",
    "2. So is this\n",
    "3. and this\n",
    "Some _italic_, __bold__, and ___bold and italic___ text\n",
    "This is a [link](https://btech.instructure.com/) to Canvas.\n",
    "Python often uses functions like `print()`. Here is an example.\n",
    "```\n",
    "    a = \"hello\"\n",
    "    b = \" world\"\n",
    "    print(a, b)\n",
    "```\n",
    "As Abraham Lincoln once said,\n",
    "> Markdown has really revolutionized our times.\n",
    "> It makes formatting my Jupyter Lab notebooks\n",
    "> so much easier."
   ]
  },
  {
   "cell_type": "code",
   "execution_count": null,
   "id": "c58af644-8375-4742-ae41-6e9a6ac19a41",
   "metadata": {},
   "outputs": [],
   "source": []
  }
 ],
 "metadata": {
  "kernelspec": {
   "display_name": "Python 3 (ipykernel)",
   "language": "python",
   "name": "python3"
  },
  "language_info": {
   "codemirror_mode": {
    "name": "ipython",
    "version": 3
   },
   "file_extension": ".py",
   "mimetype": "text/x-python",
   "name": "python",
   "nbconvert_exporter": "python",
   "pygments_lexer": "ipython3",
   "version": "3.10.1"
  }
 },
 "nbformat": 4,
 "nbformat_minor": 5
}
