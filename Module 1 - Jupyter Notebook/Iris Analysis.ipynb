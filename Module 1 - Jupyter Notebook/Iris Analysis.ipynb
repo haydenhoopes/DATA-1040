{
 "cells": [
  {
   "cell_type": "markdown",
   "id": "e6d2584d-6766-4839-9ea8-959ae4064a33",
   "metadata": {},
   "source": [
    "# Iris Analysis\n",
    "In this exercise, I will be using the classic *iris* data set to practice exploratory data analysis.\n",
    "\n",
    "The iris data set contains petal, sepal lengths for "
   ]
  },
  {
   "cell_type": "markdown",
   "id": "bbfaa38a-c4ab-421d-a306-99652d2c578f",
   "metadata": {},
   "source": [
    "### 1. Import the csv package"
   ]
  },
  {
   "cell_type": "code",
   "execution_count": 21,
   "id": "a9f15d75-66cf-45a3-af74-bf8d6a4a7750",
   "metadata": {},
   "outputs": [],
   "source": [
    "import pandas as pd"
   ]
  },
  {
   "cell_type": "markdown",
   "id": "6ec26ca6-c005-4cf3-a467-627865bdc1c4",
   "metadata": {},
   "source": [
    "### 2. Import the dataset and save to a variable"
   ]
  },
  {
   "cell_type": "code",
   "execution_count": 16,
   "id": "2a791b03-77ac-446f-9a38-dee0d1d14dc3",
   "metadata": {
    "tags": []
   },
   "outputs": [
    {
     "name": "stdout",
     "output_type": "stream",
     "text": [
      "['1', '0', '3', 'Braund, Mr. Owen Harris', 'male', '22', '1', '0', 'A/5 21171', '7.25', '', 'S']\n"
     ]
    }
   ],
   "source": [
    "with open('train.csv') as csvFile:\n",
    "    csvReader = csv.reader(csvFile)\n",
    "    next(csvReader)\n",
    "    print(next(csvReader))\n",
    "    a = next(csvReader)"
   ]
  },
  {
   "cell_type": "code",
   "execution_count": 20,
   "id": "f5225455-c2ef-4446-9ae9-cf3c7fa3b643",
   "metadata": {},
   "outputs": [
    {
     "name": "stdout",
     "output_type": "stream",
     "text": [
      "22\n"
     ]
    }
   ],
   "source": [
    "print(a, sep=\" \")"
   ]
  },
  {
   "cell_type": "code",
   "execution_count": 19,
   "id": "50627a9e-0588-4e99-86c1-8969b4e42eea",
   "metadata": {
    "tags": []
   },
   "outputs": [],
   "source": [
    "a = 22"
   ]
  },
  {
   "cell_type": "code",
   "execution_count": null,
   "id": "61d1d1cf-311f-4fd5-8236-bb1a615d4c36",
   "metadata": {},
   "outputs": [],
   "source": []
  }
 ],
 "metadata": {
  "kernelspec": {
   "display_name": "Python 3 (ipykernel)",
   "language": "python",
   "name": "python3"
  },
  "language_info": {
   "codemirror_mode": {
    "name": "ipython",
    "version": 3
   },
   "file_extension": ".py",
   "mimetype": "text/x-python",
   "name": "python",
   "nbconvert_exporter": "python",
   "pygments_lexer": "ipython3",
   "version": "3.10.1"
  }
 },
 "nbformat": 4,
 "nbformat_minor": 5
}
