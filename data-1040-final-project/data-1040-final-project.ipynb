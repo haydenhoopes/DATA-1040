{
 "cells": [
  {
   "cell_type": "markdown",
   "id": "d54bf458-009d-4f15-9f6a-e3112826668c",
   "metadata": {},
   "source": [
    "# Advanced Python for Data Analytics - Final Project\n",
    "In this final project, you will put together everything you have learned about working with data using Python.\n",
    "\n",
    "Specifically, in this project you will:\n",
    "1. Use Jupyter Lab, writing code and Markdown in a Jupyter Notebook file.\n",
    "2. Use Pandas to manipulate data.\n",
    "3. Import data into a dataframe using SQLAlchemy.\n",
    "4. Extract text patterns using regular expressions.\n",
    "5. Create visualizations using matplotlib.\n",
    "\n",
    "## About the data\n",
    "This analysis uses the InvoiceLines table from the Sales schema of the WideWorldImporters database. You do not need any other tables or data to complete this project."
   ]
  },
  {
   "cell_type": "markdown",
   "id": "8157cf46-addc-42c9-afa2-8ea04e8c3e3e",
   "metadata": {},
   "source": [
    "#### Import the required packages"
   ]
  },
  {
   "cell_type": "code",
   "execution_count": null,
   "id": "cbbcbfb8-f73c-43ec-b7a3-f4210dece5fc",
   "metadata": {},
   "outputs": [],
   "source": []
  },
  {
   "cell_type": "markdown",
   "id": "5192320e-9cc0-41d2-8f5f-0247d64b6cfe",
   "metadata": {},
   "source": [
    "#### Database settings"
   ]
  },
  {
   "cell_type": "code",
   "execution_count": null,
   "id": "6ef60b96-8206-4859-b0b1-b80f2d05186b",
   "metadata": {},
   "outputs": [],
   "source": []
  },
  {
   "cell_type": "markdown",
   "id": "e3b8603c-9623-444f-891b-30ea18ee62bc",
   "metadata": {},
   "source": [
    "##### Create the SQLAlchemy engine (the database connection)"
   ]
  },
  {
   "cell_type": "code",
   "execution_count": null,
   "id": "02accf3c-1801-4616-85b4-aaba7c7770b3",
   "metadata": {
    "tags": []
   },
   "outputs": [],
   "source": []
  },
  {
   "cell_type": "markdown",
   "id": "5b9ba074-08d0-40f3-b84f-7962b51051ec",
   "metadata": {},
   "source": [
    "Use the `.read_sql()` method from Pandas to import the data directly from the SQL Server database into a dataframe object."
   ]
  },
  {
   "cell_type": "code",
   "execution_count": null,
   "id": "8ff96b0c-6a8d-4a49-b869-9e2b72dbe7c2",
   "metadata": {},
   "outputs": [],
   "source": []
  },
  {
   "cell_type": "markdown",
   "id": "62cebbd0-960c-4b10-9069-0ea5f869793f",
   "metadata": {
    "tags": []
   },
   "source": [
    "## Questions: Invoice Lines\n",
    "\n",
    "#### General Questions (14 points)\n",
    "\n",
    "1. Which are the top 5 most frequently sold products (ie. count of times the product was ordered regardless of the quantity) in **2014**? Include the description of the product.\n",
    "2. Which 5 products produced the largest profit in 2014? \n",
    "3. Which products are the most profitable on average (ie. highest ratio of profit to sale price after grouping by StockItemID)? You can calculate profit ratio by dividing the profit by the quantity * unit price.by dividing the profit by the quantity * unit price.\n",
    "4. How many 'white' products were sold in 2014?\n",
    "5. What is the average unit price for products with \"toy\" in the description?\n",
    "6. The tax rate should be expressed as a percentage (ie. between 0 and 1). Modify it to reflect this.\n",
    "7. Create a scatter plot that plots each line item by its LineProfit and ExtendedPrice. Only show items that did not make a profit.\n",
    "\n",
    "#### Quantity of quantities comparison (12 points)\n",
    "\n",
    "8. Grouping each order together, count up the total quantity per order. Then, group by the total quantity per order, counting how many orders have each total quantity.\n",
    "9. Turn this aggregated data set into a histogram that compares the most frequent order quantities.\n",
    "\n",
    "#### Slippers color and size comparison (16 points)\n",
    "\n",
    "10. Extract a subset of the invoice lines dataframe where \"slippers\" is contained in the description. Add a new column to this subset called \"Color\" that indicates the color of the slippers. Add another column called \"Size\" that indicates its size.\n",
    "11. Which colors of slippers are most frequently purchased? Which sizes of slippers are most frequently purchased?\n",
    "\n",
    "#### Hoodies, slippers, and jackets comparison (20 points)\n",
    "\n",
    "12. Get a subset of the data that includes only hoodies, slippers, and jackets. Add two columns to this subset dataframe, \"Year\" and \"Month\" which contain the appropriate data.\n",
    "13. Plot three lines `hoodies`, `slippers`, and `jackets` to compare their **total sales** (Quantity * UnitPrice) per month over the life of the company.\n",
    "14. Follow the same steps as before to compare the **average** sales per month between hoodies, slippers, and jackets.\n",
    "\n",
    "#### Bubble wrap widths comparison (38 points)\n",
    "\n",
    "15. Create a box plot that compares LineProfit among different bubble wrap widths.\n",
    "\n",
    "----"
   ]
  },
  {
   "cell_type": "markdown",
   "id": "eca9d7d2-b6b0-4a95-9752-322189f7d59c",
   "metadata": {},
   "source": [
    "#### General Questions (14 points)\n",
    "\n",
    "##### 1. Which are the top 5 most frequently sold products (ie. count of times the product was ordered regardless of the quantity) in **2014**? Include the description of the product."
   ]
  },
  {
   "cell_type": "code",
   "execution_count": null,
   "id": "76dcc8e7-3ac9-4fba-b8cc-678cef52b5e6",
   "metadata": {},
   "outputs": [],
   "source": []
  },
  {
   "cell_type": "markdown",
   "id": "454c2e57-c130-43b4-b818-3776d8e95fb0",
   "metadata": {},
   "source": [
    "##### 2. Which 5 products produced the largest profit in 2014? "
   ]
  },
  {
   "cell_type": "code",
   "execution_count": null,
   "id": "968b8c52-5517-4a80-9487-b0a3c995dc91",
   "metadata": {},
   "outputs": [],
   "source": []
  },
  {
   "cell_type": "markdown",
   "id": "daa1da0a-cc57-4440-a71d-a21d913f12c9",
   "metadata": {
    "tags": []
   },
   "source": [
    "##### 3. Which products are the most profitable on average (ie. highest ratio of profit to sale price after grouping by StockItemID)? You can calculate profit ratio by dividing the profit by the quantity * unit price after grouping by StockItemID."
   ]
  },
  {
   "cell_type": "code",
   "execution_count": null,
   "id": "60b20c0b-5a27-482f-8df2-24d849502c72",
   "metadata": {},
   "outputs": [],
   "source": []
  },
  {
   "cell_type": "markdown",
   "id": "a746b63a-6b2f-4e33-bedf-5b42acec8530",
   "metadata": {},
   "source": [
    "##### 4. How many 'white' products were sold in 2014?"
   ]
  },
  {
   "cell_type": "code",
   "execution_count": null,
   "id": "065d2ecc-9a72-4942-9536-82135912277c",
   "metadata": {},
   "outputs": [],
   "source": []
  },
  {
   "cell_type": "markdown",
   "id": "93dcef06-ab67-4081-b8a9-fb75f0121bf9",
   "metadata": {},
   "source": [
    "##### 5. What is the average unit price for products with \"toy\" in the description?"
   ]
  },
  {
   "cell_type": "code",
   "execution_count": null,
   "id": "57416145-f798-49eb-a5d8-4a3991c20180",
   "metadata": {
    "tags": []
   },
   "outputs": [],
   "source": []
  },
  {
   "cell_type": "markdown",
   "id": "9f28bfb6-0f95-4fab-83b9-9c9b8613fd4e",
   "metadata": {},
   "source": [
    "##### 6. The tax rate should be expressed as a percentage (ie. between 0 and 1). Modify it to reflect this."
   ]
  },
  {
   "cell_type": "code",
   "execution_count": null,
   "id": "f48dae82-a4c6-4a41-b372-8170832b7018",
   "metadata": {},
   "outputs": [],
   "source": []
  },
  {
   "cell_type": "markdown",
   "id": "8f29b3c5-3ec1-48eb-85f6-1b8bfc807bf1",
   "metadata": {},
   "source": [
    "##### 7. Create a scatter plot that plots each line item by its LineProfit and ExtendedPrice. Only show items that did not make a profit."
   ]
  },
  {
   "cell_type": "code",
   "execution_count": null,
   "id": "000cdd76-0541-4b47-bb64-532700237f9b",
   "metadata": {},
   "outputs": [],
   "source": []
  },
  {
   "cell_type": "markdown",
   "id": "0fb39ce7-670a-4557-af40-e3cd0af2cf61",
   "metadata": {},
   "source": [
    "#### Quantity of quantities comparison (12 points)\n",
    "\n",
    "##### 8. Grouping each order together, count up the total quantity per order. Then, group by the total quantity per order, counting how many orders have that total quantity."
   ]
  },
  {
   "cell_type": "code",
   "execution_count": null,
   "id": "38b35a55-a0c7-41e8-9e91-7660a3f4c6e2",
   "metadata": {},
   "outputs": [],
   "source": []
  },
  {
   "cell_type": "markdown",
   "id": "71edfc49-333b-4165-856b-ed49d5377da0",
   "metadata": {},
   "source": [
    "##### 9. Plot the order amounts on a histogram."
   ]
  },
  {
   "cell_type": "code",
   "execution_count": null,
   "id": "20d9d9f3-5382-4980-97af-60021124d6b4",
   "metadata": {},
   "outputs": [],
   "source": []
  },
  {
   "cell_type": "markdown",
   "id": "0dd59552-721f-4f3f-9727-8182bd78f58f",
   "metadata": {},
   "source": [
    "#### Slippers color and size coparison ( 16 points)\n",
    "\n",
    "##### 10. Extract a subset of the invoice lines dataframe where \"slippers\" is contained in the description. Add a new column to this subset called \"Color\" that indicates the color of the slippers. Add another column called \"Size\" that indicates its size.\n",
    "You should use regular expressions to extract this information from the dataframe. The regex patterns for doing this are provided to you below:\n",
    "\n",
    "Extract the color: `(?<= \\()(.*)(?=\\))`\n",
    "\n",
    "Extract the size: `(?<=\\) )(XXS|XS|S|M|L|XL|XXL|XXXL)*`"
   ]
  },
  {
   "cell_type": "code",
   "execution_count": null,
   "id": "3229062f-fc20-4b47-859d-9286967bbbe4",
   "metadata": {},
   "outputs": [],
   "source": []
  },
  {
   "cell_type": "markdown",
   "id": "675f74ab-d8bb-45b9-b8f8-7ecb5504be80",
   "metadata": {},
   "source": [
    "##### 11. Which colors of slippers are most frequently purchased? Which sizes of slippers are most frequently purchased?"
   ]
  },
  {
   "cell_type": "code",
   "execution_count": null,
   "id": "4d46d214-89c5-4f2a-a95d-f5ea090ff182",
   "metadata": {},
   "outputs": [],
   "source": []
  },
  {
   "cell_type": "markdown",
   "id": "51a46776-11a9-4807-9809-4828bbed0723",
   "metadata": {},
   "source": [
    "#### Hoodies, slippers, and jackets comparison (20 points)\n",
    "\n",
    "##### 12. Get a subset of the data that includes only hoodies, slippers, and jackets. Add two columns to this subset dataframe, \"Year\" and \"Month\" which contain the appropriate data."
   ]
  },
  {
   "cell_type": "code",
   "execution_count": null,
   "id": "9dfc5bd5-6476-446c-9d9b-bf71760a00d5",
   "metadata": {},
   "outputs": [],
   "source": []
  },
  {
   "cell_type": "markdown",
   "id": "5dd78fc0-d1ae-433a-8c43-221d82341946",
   "metadata": {},
   "source": [
    "##### 13. Plot three lines `hoodies`, `slippers`, and `jackets` to compare their **total sales** (Quantity * UnitPrice) per month over the life of the company."
   ]
  },
  {
   "cell_type": "code",
   "execution_count": null,
   "id": "f537eeda-ff8c-4648-8387-3192cfbf9f3f",
   "metadata": {},
   "outputs": [],
   "source": []
  },
  {
   "cell_type": "markdown",
   "id": "383e47a4-ea45-4a90-b373-4a845826602f",
   "metadata": {},
   "source": [
    "##### 14. Follow the same steps as before to compare the **average** sales per month between hoodies, slippers, and jackets."
   ]
  },
  {
   "cell_type": "code",
   "execution_count": null,
   "id": "04a1d7dd-4209-4bec-a256-19c87b14c3dd",
   "metadata": {},
   "outputs": [],
   "source": []
  },
  {
   "cell_type": "markdown",
   "id": "87da3959-623b-4925-94e2-5b95cfdc34a3",
   "metadata": {},
   "source": [
    "#### Bubble wrap widths comparison (38 points)\n",
    "\n",
    "##### 15. Create a box plot that compares LineProfit among different bubble wrap widths."
   ]
  },
  {
   "cell_type": "code",
   "execution_count": null,
   "id": "45dca761-9cab-4302-8d8e-6859d588a4ac",
   "metadata": {},
   "outputs": [],
   "source": []
  }
 ],
 "metadata": {
  "kernelspec": {
   "display_name": "Python 3 (ipykernel)",
   "language": "python",
   "name": "python3"
  },
  "language_info": {
   "codemirror_mode": {
    "name": "ipython",
    "version": 3
   },
   "file_extension": ".py",
   "mimetype": "text/x-python",
   "name": "python",
   "nbconvert_exporter": "python",
   "pygments_lexer": "ipython3",
   "version": "3.10.2"
  }
 },
 "nbformat": 4,
 "nbformat_minor": 5
}
