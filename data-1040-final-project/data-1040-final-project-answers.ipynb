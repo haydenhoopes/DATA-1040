{
 "cells": [
  {
   "cell_type": "markdown",
   "id": "d54bf458-009d-4f15-9f6a-e3112826668c",
   "metadata": {},
   "source": [
    "# Advanced Python for Data Analytics - Final Project\n",
    "In this final project, you will put together everything you have learned about working with data using Python.\n",
    "\n",
    "Specifically, in this project you will:\n",
    "1. Use Jupyter Lab, writing code and Markdown in a Jupyter Notebook file.\n",
    "2. Use Pandas to manipulate data.\n",
    "3. Import data into a dataframe using SQLAlchemy.\n",
    "4. Extract text patterns using regular expressions.\n",
    "5. Create visualizations using matplotlib.\n",
    "\n",
    "## About the data\n",
    "This analysis uses the InvoiceLines table from the Sales schema of the WideWorldImporters database. You do not need any other tables or data to complete this project."
   ]
  },
  {
   "cell_type": "markdown",
   "id": "8157cf46-addc-42c9-afa2-8ea04e8c3e3e",
   "metadata": {},
   "source": [
    "#### Import the required packages"
   ]
  },
  {
   "cell_type": "code",
   "execution_count": 1,
   "id": "cbbcbfb8-f73c-43ec-b7a3-f4210dece5fc",
   "metadata": {
    "jupyter": {
     "source_hidden": true
    }
   },
   "outputs": [],
   "source": [
    "import pandas as pd\n",
    "import matplotlib.pyplot as plt\n",
    "import sqlalchemy as sal\n",
    "from sqlalchemy import create_engine\n",
    "\n",
    "pd.set_option('display.max_columns', None)"
   ]
  },
  {
   "cell_type": "markdown",
   "id": "5192320e-9cc0-41d2-8f5f-0247d64b6cfe",
   "metadata": {},
   "source": [
    "#### Database settings"
   ]
  },
  {
   "cell_type": "code",
   "execution_count": 2,
   "id": "6ef60b96-8206-4859-b0b1-b80f2d05186b",
   "metadata": {
    "jupyter": {
     "source_hidden": true
    }
   },
   "outputs": [],
   "source": [
    "config = {\n",
    "    \"driver\": \"SQL SERVER\",\n",
    "    \"server\": \"LT-W1828-HH\\SQLSERVER2019\",\n",
    "    \"database\": \"WideWorldImporters\",\n",
    "    \"username\": \"sandbox\",\n",
    "    \"password\": \"password\"\n",
    "}"
   ]
  },
  {
   "cell_type": "markdown",
   "id": "e3b8603c-9623-444f-891b-30ea18ee62bc",
   "metadata": {},
   "source": [
    "##### Create the SQLAlchemy engine (the database connection)"
   ]
  },
  {
   "cell_type": "code",
   "execution_count": 3,
   "id": "24eb580e-b3b1-4ff8-81b8-ec190ab6e211",
   "metadata": {
    "jupyter": {
     "source_hidden": true
    }
   },
   "outputs": [],
   "source": [
    "engine = create_engine(f\"mssql+pyodbc:///?odbc_connect=DRIVER={{{config['driver']}}};SERVER={config['server']};DATABASE={config['database']};UID={config['username']};PWD={config['password']}\")"
   ]
  },
  {
   "cell_type": "code",
   "execution_count": 4,
   "id": "02accf3c-1801-4616-85b4-aaba7c7770b3",
   "metadata": {
    "jupyter": {
     "source_hidden": true
    },
    "tags": []
   },
   "outputs": [],
   "source": [
    "query = \"\"\"\n",
    "    SELECT *\n",
    "    FROM WideWorldImporters.Sales.InvoiceLines\n",
    "\"\"\""
   ]
  },
  {
   "cell_type": "markdown",
   "id": "5b9ba074-08d0-40f3-b84f-7962b51051ec",
   "metadata": {},
   "source": [
    "Use the `.read_sql()` method from Pandas to import the data directly from the SQL Server database into a dataframe object."
   ]
  },
  {
   "cell_type": "code",
   "execution_count": 5,
   "id": "8ff96b0c-6a8d-4a49-b869-9e2b72dbe7c2",
   "metadata": {
    "jupyter": {
     "source_hidden": true
    },
    "tags": []
   },
   "outputs": [],
   "source": [
    "invoiceLines = pd.read_sql(query, engine)\n",
    "invoiceLines.LastEditedWhen = pd.to_datetime(invoiceLines[\"LastEditedWhen\"])"
   ]
  },
  {
   "cell_type": "markdown",
   "id": "62cebbd0-960c-4b10-9069-0ea5f869793f",
   "metadata": {
    "tags": []
   },
   "source": [
    "## Questions: Invoice Lines\n",
    "\n",
    "#### General Questions (14 points)\n",
    "\n",
    "1. Which are the top 5 most frequently sold products (ie. count of times the product was ordered regardless of the quantity) in **2014**? Include the description of the product.\n",
    "2. Which 5 products produced the largest profit in 2014? \n",
    "3. Which products are the most profitable on average (ie. highest ratio of profit to sale price after grouping by StockItemID)? You can calculate profit ratio by dividing the profit by the quantity * unit price.by dividing the profit by the quantity * unit price.\n",
    "4. How many 'white' products were sold in 2014?\n",
    "5. What is the average unit price for products with \"toy\" in the description?\n",
    "6. The tax rate should be expressed as a percentage (ie. between 0 and 1). Modify it to reflect this.\n",
    "7. Create a scatter plot that plots each line item by its LineProfit and ExtendedPrice. Only show items that did not make a profit.\n",
    "\n",
    "#### Quantity of quantities comparison (12 points)\n",
    "\n",
    "8. Grouping each order together, count up the total quantity per order. Then, group by the total quantity per order, counting how many orders have each total quantity.\n",
    "9. Turn this aggregated data set into a histogram that compares the most frequent order quantities.\n",
    "\n",
    "#### Slippers color and size comparison (16 points)\n",
    "\n",
    "10. Extract a subset of the invoice lines dataframe where \"slippers\" is contained in the description. Add a new column to this subset called \"Color\" that indicates the color of the slippers. Add another column called \"Size\" that indicates its size.\n",
    "11. Which colors of slippers are most frequently purchased? Which sizes of slippers are most frequently purchased?\n",
    "\n",
    "#### Hoodies, slippers, and jackets comparison (20 points)\n",
    "\n",
    "12. Get a subset of the data that includes only hoodies, slippers, and jackets. Add two columns to this subset dataframe, \"Year\" and \"Month\" which contain the appropriate data.\n",
    "13. Plot three lines `hoodies`, `slippers`, and `jackets` to compare their **total sales** (Quantity * UnitPrice) per month over the life of the company.\n",
    "14. Follow the same steps as before to compare the **average** sales per month between hoodies, slippers, and jackets.\n",
    "\n",
    "#### Bubble wrap widths comparison (38 points)\n",
    "\n",
    "15. Create a box plot that compares LineProfit among different bubble wrap widths.\n",
    "\n",
    "----"
   ]
  },
  {
   "cell_type": "markdown",
   "id": "eca9d7d2-b6b0-4a95-9752-322189f7d59c",
   "metadata": {},
   "source": [
    "#### General Questions (14 points)\n",
    "\n",
    "##### 1. Which are the top 5 most frequently sold products (ie. count of times the product was ordered regardless of the quantity) in **2014**? Include the description of the product."
   ]
  },
  {
   "cell_type": "code",
   "execution_count": 6,
   "id": "76dcc8e7-3ac9-4fba-b8cc-678cef52b5e6",
   "metadata": {
    "jupyter": {
     "source_hidden": true
    },
    "tags": []
   },
   "outputs": [
    {
     "data": {
      "text/html": [
       "<div>\n",
       "<style scoped>\n",
       "    .dataframe tbody tr th:only-of-type {\n",
       "        vertical-align: middle;\n",
       "    }\n",
       "\n",
       "    .dataframe tbody tr th {\n",
       "        vertical-align: top;\n",
       "    }\n",
       "\n",
       "    .dataframe thead th {\n",
       "        text-align: right;\n",
       "    }\n",
       "</style>\n",
       "<table border=\"1\" class=\"dataframe\">\n",
       "  <thead>\n",
       "    <tr style=\"text-align: right;\">\n",
       "      <th></th>\n",
       "      <th></th>\n",
       "      <th>Quantity</th>\n",
       "    </tr>\n",
       "    <tr>\n",
       "      <th>StockItemID</th>\n",
       "      <th>Description</th>\n",
       "      <th></th>\n",
       "    </tr>\n",
       "  </thead>\n",
       "  <tbody>\n",
       "    <tr>\n",
       "      <th>28</th>\n",
       "      <th>DBA joke mug - two types of DBAs (White)</th>\n",
       "      <td>367</td>\n",
       "    </tr>\n",
       "    <tr>\n",
       "      <th>165</th>\n",
       "      <th>10 mm Anti static bubble wrap (Blue) 10m</th>\n",
       "      <td>364</td>\n",
       "    </tr>\n",
       "    <tr>\n",
       "      <th>13</th>\n",
       "      <th>USB food flash drive - shrimp cocktail</th>\n",
       "      <td>349</td>\n",
       "    </tr>\n",
       "    <tr>\n",
       "      <th>67</th>\n",
       "      <th>Ride on toy sedan car (Black) 1/12 scale</th>\n",
       "      <td>344</td>\n",
       "    </tr>\n",
       "    <tr>\n",
       "      <th>209</th>\n",
       "      <th>Packing knife with metal insert blade (Yellow) 9mm</th>\n",
       "      <td>344</td>\n",
       "    </tr>\n",
       "  </tbody>\n",
       "</table>\n",
       "</div>"
      ],
      "text/plain": [
       "                                                                Quantity\n",
       "StockItemID Description                                                 \n",
       "28          DBA joke mug - two types of DBAs (White)                 367\n",
       "165         10 mm Anti static bubble wrap (Blue) 10m                 364\n",
       "13          USB food flash drive - shrimp cocktail                   349\n",
       "67          Ride on toy sedan car (Black) 1/12 scale                 344\n",
       "209         Packing knife with metal insert blade (Yellow) 9mm       344"
      ]
     },
     "execution_count": 6,
     "metadata": {},
     "output_type": "execute_result"
    }
   ],
   "source": [
    "topFiveProductsByFrequency = invoiceLines.loc[ invoiceLines[\"LastEditedWhen\"].dt.to_period(\"Y\") == \"2014\"].groupby([\"StockItemID\", \"Description\"]).agg({\"Quantity\": \"count\"}).sort_values(by=\"Quantity\", ascending=False).iloc[0:5]\n",
    "topFiveProductsByFrequency"
   ]
  },
  {
   "cell_type": "markdown",
   "id": "454c2e57-c130-43b4-b818-3776d8e95fb0",
   "metadata": {},
   "source": [
    "##### 2. Which 5 products produced the largest profit in 2014? "
   ]
  },
  {
   "cell_type": "code",
   "execution_count": 7,
   "id": "968b8c52-5517-4a80-9487-b0a3c995dc91",
   "metadata": {
    "jupyter": {
     "source_hidden": true
    }
   },
   "outputs": [
    {
     "data": {
      "text/html": [
       "<div>\n",
       "<style scoped>\n",
       "    .dataframe tbody tr th:only-of-type {\n",
       "        vertical-align: middle;\n",
       "    }\n",
       "\n",
       "    .dataframe tbody tr th {\n",
       "        vertical-align: top;\n",
       "    }\n",
       "\n",
       "    .dataframe thead th {\n",
       "        text-align: right;\n",
       "    }\n",
       "</style>\n",
       "<table border=\"1\" class=\"dataframe\">\n",
       "  <thead>\n",
       "    <tr style=\"text-align: right;\">\n",
       "      <th></th>\n",
       "      <th></th>\n",
       "      <th>LineProfit</th>\n",
       "    </tr>\n",
       "    <tr>\n",
       "      <th>StockItemID</th>\n",
       "      <th>Description</th>\n",
       "      <th></th>\n",
       "    </tr>\n",
       "  </thead>\n",
       "  <tbody>\n",
       "    <tr>\n",
       "      <th>161</th>\n",
       "      <th>20 mm Double sided bubble wrap 50m</th>\n",
       "      <td>1467400.0</td>\n",
       "    </tr>\n",
       "    <tr>\n",
       "      <th>215</th>\n",
       "      <th>Air cushion machine (Blue)</th>\n",
       "      <td>1281951.0</td>\n",
       "    </tr>\n",
       "    <tr>\n",
       "      <th>173</th>\n",
       "      <th>32 mm Anti static bubble wrap (Blue) 50m</th>\n",
       "      <td>1041100.0</td>\n",
       "    </tr>\n",
       "    <tr>\n",
       "      <th>167</th>\n",
       "      <th>10 mm Anti static bubble wrap (Blue) 50m</th>\n",
       "      <td>984960.0</td>\n",
       "    </tr>\n",
       "    <tr>\n",
       "      <th>164</th>\n",
       "      <th>32 mm Double sided bubble wrap 50m</th>\n",
       "      <td>911070.0</td>\n",
       "    </tr>\n",
       "  </tbody>\n",
       "</table>\n",
       "</div>"
      ],
      "text/plain": [
       "                                                      LineProfit\n",
       "StockItemID Description                                         \n",
       "161         20 mm Double sided bubble wrap 50m         1467400.0\n",
       "215         Air cushion machine (Blue)                 1281951.0\n",
       "173         32 mm Anti static bubble wrap (Blue) 50m   1041100.0\n",
       "167         10 mm Anti static bubble wrap (Blue) 50m    984960.0\n",
       "164         32 mm Double sided bubble wrap 50m          911070.0"
      ]
     },
     "execution_count": 7,
     "metadata": {},
     "output_type": "execute_result"
    }
   ],
   "source": [
    "invoiceLines.loc[invoiceLines[\"LastEditedWhen\"].dt.to_period('Y') == '2014'].groupby([\"StockItemID\", \"Description\"]).agg({\"LineProfit\": \"sum\"}).sort_values(by=\"LineProfit\", ascending=False).iloc[0:5]"
   ]
  },
  {
   "cell_type": "markdown",
   "id": "daa1da0a-cc57-4440-a71d-a21d913f12c9",
   "metadata": {
    "tags": []
   },
   "source": [
    "##### 3. Which products are the most profitable on average (ie. highest ratio of profit to sale price after grouping by StockItemID)? You can calculate profit ratio by dividing the profit by the quantity * unit price after grouping by StockItemID."
   ]
  },
  {
   "cell_type": "code",
   "execution_count": 8,
   "id": "60b20c0b-5a27-482f-8df2-24d849502c72",
   "metadata": {
    "jupyter": {
     "source_hidden": true
    }
   },
   "outputs": [
    {
     "data": {
      "text/html": [
       "<div>\n",
       "<style scoped>\n",
       "    .dataframe tbody tr th:only-of-type {\n",
       "        vertical-align: middle;\n",
       "    }\n",
       "\n",
       "    .dataframe tbody tr th {\n",
       "        vertical-align: top;\n",
       "    }\n",
       "\n",
       "    .dataframe thead th {\n",
       "        text-align: right;\n",
       "    }\n",
       "</style>\n",
       "<table border=\"1\" class=\"dataframe\">\n",
       "  <thead>\n",
       "    <tr style=\"text-align: right;\">\n",
       "      <th></th>\n",
       "      <th></th>\n",
       "      <th>Quantity</th>\n",
       "      <th>UnitPrice</th>\n",
       "      <th>LineProfit</th>\n",
       "      <th>ProfitRatio</th>\n",
       "    </tr>\n",
       "    <tr>\n",
       "      <th>StockItemID</th>\n",
       "      <th>Description</th>\n",
       "      <th></th>\n",
       "      <th></th>\n",
       "      <th></th>\n",
       "      <th></th>\n",
       "    </tr>\n",
       "  </thead>\n",
       "  <tbody>\n",
       "    <tr>\n",
       "      <th>161</th>\n",
       "      <th>20 mm Double sided bubble wrap 50m</th>\n",
       "      <td>57540</td>\n",
       "      <td>108.0</td>\n",
       "      <td>5293680.0</td>\n",
       "      <td>0.851852</td>\n",
       "    </tr>\n",
       "    <tr>\n",
       "      <th>118</th>\n",
       "      <th>Dinosaur battery-powered slippers (Green) S</th>\n",
       "      <td>5843</td>\n",
       "      <td>32.0</td>\n",
       "      <td>140232.0</td>\n",
       "      <td>0.750000</td>\n",
       "    </tr>\n",
       "    <tr>\n",
       "      <th>127</th>\n",
       "      <th>Plush shark slippers (Gray) M</th>\n",
       "      <td>5702</td>\n",
       "      <td>32.0</td>\n",
       "      <td>136848.0</td>\n",
       "      <td>0.750000</td>\n",
       "    </tr>\n",
       "    <tr>\n",
       "      <th>136</th>\n",
       "      <th>Animal with big feet slippers (Brown) L</th>\n",
       "      <td>5785</td>\n",
       "      <td>32.0</td>\n",
       "      <td>138840.0</td>\n",
       "      <td>0.750000</td>\n",
       "    </tr>\n",
       "    <tr>\n",
       "      <th>135</th>\n",
       "      <th>Animal with big feet slippers (Brown) M</th>\n",
       "      <td>5625</td>\n",
       "      <td>32.0</td>\n",
       "      <td>135000.0</td>\n",
       "      <td>0.750000</td>\n",
       "    </tr>\n",
       "  </tbody>\n",
       "</table>\n",
       "</div>"
      ],
      "text/plain": [
       "                                                         Quantity  UnitPrice  \\\n",
       "StockItemID Description                                                        \n",
       "161         20 mm Double sided bubble wrap 50m              57540      108.0   \n",
       "118         Dinosaur battery-powered slippers (Green) S      5843       32.0   \n",
       "127         Plush shark slippers (Gray) M                    5702       32.0   \n",
       "136         Animal with big feet slippers (Brown) L          5785       32.0   \n",
       "135         Animal with big feet slippers (Brown) M          5625       32.0   \n",
       "\n",
       "                                                         LineProfit  \\\n",
       "StockItemID Description                                               \n",
       "161         20 mm Double sided bubble wrap 50m            5293680.0   \n",
       "118         Dinosaur battery-powered slippers (Green) S    140232.0   \n",
       "127         Plush shark slippers (Gray) M                  136848.0   \n",
       "136         Animal with big feet slippers (Brown) L        138840.0   \n",
       "135         Animal with big feet slippers (Brown) M        135000.0   \n",
       "\n",
       "                                                         ProfitRatio  \n",
       "StockItemID Description                                               \n",
       "161         20 mm Double sided bubble wrap 50m              0.851852  \n",
       "118         Dinosaur battery-powered slippers (Green) S     0.750000  \n",
       "127         Plush shark slippers (Gray) M                   0.750000  \n",
       "136         Animal with big feet slippers (Brown) L         0.750000  \n",
       "135         Animal with big feet slippers (Brown) M         0.750000  "
      ]
     },
     "execution_count": 8,
     "metadata": {},
     "output_type": "execute_result"
    }
   ],
   "source": [
    "groupByStockItemID = invoiceLines.groupby([\"StockItemID\", \"Description\"]).agg({\"Quantity\": \"sum\", \"UnitPrice\": 'mean', 'LineProfit':'sum'})\n",
    "groupByStockItemID['ProfitRatio'] = groupByStockItemID['LineProfit'] / (groupByStockItemID['Quantity'] * groupByStockItemID['UnitPrice'])\n",
    "groupByStockItemID.sort_values(by=\"ProfitRatio\", ascending=False).iloc[0:5]"
   ]
  },
  {
   "cell_type": "markdown",
   "id": "a746b63a-6b2f-4e33-bedf-5b42acec8530",
   "metadata": {},
   "source": [
    "##### 4. How many 'white' products were sold in 2014?"
   ]
  },
  {
   "cell_type": "code",
   "execution_count": 9,
   "id": "065d2ecc-9a72-4942-9536-82135912277c",
   "metadata": {
    "jupyter": {
     "source_hidden": true
    }
   },
   "outputs": [
    {
     "data": {
      "text/plain": [
       "490349"
      ]
     },
     "execution_count": 9,
     "metadata": {},
     "output_type": "execute_result"
    }
   ],
   "source": [
    "invoiceLines.loc[ (invoiceLines['Description'].str.contains(\"white\", case=False)) & (invoiceLines['LastEditedWhen'].dt.to_period('Y') == '2014'), \"Quantity\" ].sum()"
   ]
  },
  {
   "cell_type": "markdown",
   "id": "93dcef06-ab67-4081-b8a9-fb75f0121bf9",
   "metadata": {},
   "source": [
    "##### 5. What is the average unit price for products with \"toy\" in the description?"
   ]
  },
  {
   "cell_type": "code",
   "execution_count": 10,
   "id": "57416145-f798-49eb-a5d8-4a3991c20180",
   "metadata": {
    "jupyter": {
     "source_hidden": true
    },
    "tags": []
   },
   "outputs": [
    {
     "data": {
      "text/plain": [
       "135.27036662903322"
      ]
     },
     "execution_count": 10,
     "metadata": {},
     "output_type": "execute_result"
    }
   ],
   "source": [
    "invoiceLines.loc[ invoiceLines['Description'].str.contains(\" toy\", case=False), \"UnitPrice\"].mean()"
   ]
  },
  {
   "cell_type": "markdown",
   "id": "9f28bfb6-0f95-4fab-83b9-9c9b8613fd4e",
   "metadata": {},
   "source": [
    "##### 6. The tax rate should be expressed as a percentage (ie. between 0 and 1). Modify it to reflect this."
   ]
  },
  {
   "cell_type": "code",
   "execution_count": 11,
   "id": "f48dae82-a4c6-4a41-b372-8170832b7018",
   "metadata": {
    "jupyter": {
     "source_hidden": true
    }
   },
   "outputs": [],
   "source": [
    "invoiceLines['TaxRate'] = invoiceLines['TaxRate'] / 100"
   ]
  },
  {
   "cell_type": "markdown",
   "id": "8f29b3c5-3ec1-48eb-85f6-1b8bfc807bf1",
   "metadata": {},
   "source": [
    "##### 7. Create a scatter plot that plots each line item by its LineProfit and ExtendedPrice. Only show items that did not make a profit."
   ]
  },
  {
   "cell_type": "code",
   "execution_count": 12,
   "id": "000cdd76-0541-4b47-bb64-532700237f9b",
   "metadata": {
    "jupyter": {
     "source_hidden": true
    },
    "tags": []
   },
   "outputs": [
    {
     "data": {
      "image/png": "[encoded data removed]",
      "text/plain": [
       "<Figure size 720x360 with 1 Axes>"
      ]
     },
     "metadata": {
      "needs_background": "light"
     },
     "output_type": "display_data"
    }
   ],
   "source": [
    "unprofitableItems = invoiceLines.loc[ invoiceLines['LineProfit'] < 0 ]\n",
    "plt.figure(figsize=(10,5))\n",
    "plt.scatter(unprofitableItems['LineProfit'], unprofitableItems['ExtendedPrice'], c=\"#4387f450\")\n",
    "plt.xlabel(\"Line Profit Per Line Item\")\n",
    "plt.ylabel(\"Extended Price Per Line Item\")\n",
    "plt.title(\"Extended Price compared to Line Profit for Items That Did Not Make a Profit\")\n",
    "plt.show()\n"
   ]
  },
  {
   "cell_type": "markdown",
   "id": "0fb39ce7-670a-4557-af40-e3cd0af2cf61",
   "metadata": {},
   "source": [
    "#### Quantity of quantities comparison (12 points)\n",
    "\n",
    "##### 8. Grouping each order together, count up the total quantity per order. Then, group by the total quantity per order, counting how many orders have that total quantity."
   ]
  },
  {
   "cell_type": "code",
   "execution_count": 13,
   "id": "38b35a55-a0c7-41e8-9e91-7660a3f4c6e2",
   "metadata": {
    "jupyter": {
     "source_hidden": true
    }
   },
   "outputs": [],
   "source": [
    "totalPerInvoice = invoiceLines.groupby(\"InvoiceID\", as_index=False).agg({'Quantity':'sum'})"
   ]
  },
  {
   "cell_type": "markdown",
   "id": "71edfc49-333b-4165-856b-ed49d5377da0",
   "metadata": {},
   "source": [
    "##### 9. Plot the order amounts on a histogram."
   ]
  },
  {
   "cell_type": "code",
   "execution_count": 14,
   "id": "20d9d9f3-5382-4980-97af-60021124d6b4",
   "metadata": {
    "jupyter": {
     "source_hidden": true
    }
   },
   "outputs": [
    {
     "data": {
      "image/png": "[encoded data removed]",
      "text/plain": [
       "<Figure size 720x360 with 1 Axes>"
      ]
     },
     "metadata": {
      "needs_background": "light"
     },
     "output_type": "display_data"
    }
   ],
   "source": [
    "plt.figure(figsize=(10,5))\n",
    "plt.title(\"The quantity of quantities per order\")\n",
    "plt.ylabel(\"Number of Quantity\")\n",
    "plt.xlabel(\"Quantity Ordered\")\n",
    "plt.hist(totalPerInvoice['Quantity'], bins=20)\n",
    "plt.show()"
   ]
  },
  {
   "cell_type": "markdown",
   "id": "0dd59552-721f-4f3f-9727-8182bd78f58f",
   "metadata": {},
   "source": [
    "#### Slippers color and size coparison ( 16 points)\n",
    "\n",
    "##### 10. Extract a subset of the invoice lines dataframe where \"slippers\" is contained in the description. Add a new column to this subset called \"Color\" that indicates the color of the slippers. Add another column called \"Size\" that indicates its size.\n",
    "You should use regular expressions to extract this information from the dataframe. The regex patterns for doing this are provided to you below:\n",
    "\n",
    "Extract the color: `(?<= \\()(.*)(?=\\))`\n",
    "\n",
    "Extract the size: `(?<=\\) )(XXS|XS|S|M|L|XL|XXL|XXXL)*`"
   ]
  },
  {
   "cell_type": "code",
   "execution_count": 15,
   "id": "3229062f-fc20-4b47-859d-9286967bbbe4",
   "metadata": {
    "jupyter": {
     "source_hidden": true
    }
   },
   "outputs": [],
   "source": [
    "pd.options.mode.chained_assignment = None  # default='warn'\n",
    "\n",
    "slippers = invoiceLines.loc[ invoiceLines['Description'].str.contains(\"slippers\", case=False)]\n",
    "slippers['Color'] = slippers.loc[:,'Description'].str.extract(r'(?<= \\()(.*)(?=\\))', expand=False)\n",
    "slippers['Size'] = slippers.loc[:,'Description'].str.extract(r'(?<=\\) )(XXS|XS|S|M|L|XL|XXL|XXXL)*', expand=False)"
   ]
  },
  {
   "cell_type": "markdown",
   "id": "675f74ab-d8bb-45b9-b8f8-7ecb5504be80",
   "metadata": {},
   "source": [
    "##### 11. Which colors of slippers are most frequently purchased? Which sizes of slippers are most frequently purchased?"
   ]
  },
  {
   "cell_type": "code",
   "execution_count": 16,
   "id": "4d46d214-89c5-4f2a-a95d-f5ea090ff182",
   "metadata": {
    "jupyter": {
     "source_hidden": true
    }
   },
   "outputs": [
    {
     "data": {
      "text/html": [
       "<div>\n",
       "<style scoped>\n",
       "    .dataframe tbody tr th:only-of-type {\n",
       "        vertical-align: middle;\n",
       "    }\n",
       "\n",
       "    .dataframe tbody tr th {\n",
       "        vertical-align: top;\n",
       "    }\n",
       "\n",
       "    .dataframe thead th {\n",
       "        text-align: right;\n",
       "    }\n",
       "</style>\n",
       "<table border=\"1\" class=\"dataframe\">\n",
       "  <thead>\n",
       "    <tr style=\"text-align: right;\">\n",
       "      <th></th>\n",
       "      <th>Quantity</th>\n",
       "    </tr>\n",
       "    <tr>\n",
       "      <th>Color</th>\n",
       "      <th></th>\n",
       "    </tr>\n",
       "  </thead>\n",
       "  <tbody>\n",
       "    <tr>\n",
       "      <th>Green</th>\n",
       "      <td>47639</td>\n",
       "    </tr>\n",
       "    <tr>\n",
       "      <th>Black</th>\n",
       "      <td>23339</td>\n",
       "    </tr>\n",
       "    <tr>\n",
       "      <th>Brown</th>\n",
       "      <td>23112</td>\n",
       "    </tr>\n",
       "    <tr>\n",
       "      <th>Gray</th>\n",
       "      <td>22771</td>\n",
       "    </tr>\n",
       "  </tbody>\n",
       "</table>\n",
       "</div>"
      ],
      "text/plain": [
       "       Quantity\n",
       "Color          \n",
       "Green     47639\n",
       "Black     23339\n",
       "Brown     23112\n",
       "Gray      22771"
      ]
     },
     "execution_count": 16,
     "metadata": {},
     "output_type": "execute_result"
    }
   ],
   "source": [
    "slippers.groupby(\"Color\").agg({'Quantity': 'sum'}).sort_values(by=\"Quantity\", ascending=False)"
   ]
  },
  {
   "cell_type": "code",
   "execution_count": 17,
   "id": "06b829de-274b-4cf4-8b14-1b165cae9ca6",
   "metadata": {
    "jupyter": {
     "source_hidden": true
    }
   },
   "outputs": [
    {
     "data": {
      "text/html": [
       "<div>\n",
       "<style scoped>\n",
       "    .dataframe tbody tr th:only-of-type {\n",
       "        vertical-align: middle;\n",
       "    }\n",
       "\n",
       "    .dataframe tbody tr th {\n",
       "        vertical-align: top;\n",
       "    }\n",
       "\n",
       "    .dataframe thead th {\n",
       "        text-align: right;\n",
       "    }\n",
       "</style>\n",
       "<table border=\"1\" class=\"dataframe\">\n",
       "  <thead>\n",
       "    <tr style=\"text-align: right;\">\n",
       "      <th></th>\n",
       "      <th>Quantity</th>\n",
       "    </tr>\n",
       "    <tr>\n",
       "      <th>Size</th>\n",
       "      <th></th>\n",
       "    </tr>\n",
       "  </thead>\n",
       "  <tbody>\n",
       "    <tr>\n",
       "      <th>XL</th>\n",
       "      <td>29483</td>\n",
       "    </tr>\n",
       "    <tr>\n",
       "      <th>L</th>\n",
       "      <td>29395</td>\n",
       "    </tr>\n",
       "    <tr>\n",
       "      <th>M</th>\n",
       "      <td>29098</td>\n",
       "    </tr>\n",
       "    <tr>\n",
       "      <th>S</th>\n",
       "      <td>28885</td>\n",
       "    </tr>\n",
       "  </tbody>\n",
       "</table>\n",
       "</div>"
      ],
      "text/plain": [
       "      Quantity\n",
       "Size          \n",
       "XL       29483\n",
       "L        29395\n",
       "M        29098\n",
       "S        28885"
      ]
     },
     "execution_count": 17,
     "metadata": {},
     "output_type": "execute_result"
    }
   ],
   "source": [
    "slippers.groupby(\"Size\").agg({'Quantity': 'sum'}).sort_values(by=\"Quantity\", ascending=False)"
   ]
  },
  {
   "cell_type": "markdown",
   "id": "51a46776-11a9-4807-9809-4828bbed0723",
   "metadata": {},
   "source": [
    "#### Hoodies, slippers, and jackets comparison (20 points)\n",
    "\n",
    "##### 12. Get a subset of the data that includes only hoodies, slippers, and jackets. Add two columns to this subset dataframe, \"Year\" and \"Month\" which contain the appropriate data."
   ]
  },
  {
   "cell_type": "code",
   "execution_count": 18,
   "id": "9dfc5bd5-6476-446c-9d9b-bf71760a00d5",
   "metadata": {
    "jupyter": {
     "source_hidden": true
    },
    "tags": []
   },
   "outputs": [],
   "source": [
    "# Filter the data\n",
    "filt = ( invoiceLines['Description'].str.contains(\"hoodie\", case=False) ) | ( invoiceLines['Description'].str.contains(\"slipper\") ) | ( invoiceLines['Description'].str.contains(\"jacket\") )\n",
    "hsj = invoiceLines.loc[filt]\n",
    "\n",
    "# Add month and year columns\n",
    "hsj['Year'] = hsj['LastEditedWhen'].dt.to_period('Y')\n",
    "hsj['Month'] = hsj['LastEditedWhen'].dt.to_period('M')\n",
    "\n",
    "hsj['Sales'] = hsj['Quantity'] * hsj['UnitPrice']\n",
    "hsj['ProductType'] = hsj['Description'].str.extract(r'(jacket|slipper|hoodie)', expand=False)\n",
    "totalSalesHsj = hsj.groupby(['ProductType', 'Month'], as_index=False).agg({'Sales': 'sum'})"
   ]
  },
  {
   "cell_type": "markdown",
   "id": "5dd78fc0-d1ae-433a-8c43-221d82341946",
   "metadata": {},
   "source": [
    "##### 13. Plot three lines `hoodies`, `slippers`, and `jackets` to compare their **total sales** (Quantity * UnitPrice) per month over the life of the company."
   ]
  },
  {
   "cell_type": "code",
   "execution_count": 19,
   "id": "f537eeda-ff8c-4648-8387-3192cfbf9f3f",
   "metadata": {
    "jupyter": {
     "source_hidden": true
    }
   },
   "outputs": [
    {
     "data": {
      "image/png": "[encoded data removed]",
      "text/plain": [
       "<Figure size 720x360 with 1 Axes>"
      ]
     },
     "metadata": {
      "needs_background": "light"
     },
     "output_type": "display_data"
    }
   ],
   "source": [
    "plt.figure(figsize=(10,5))\n",
    "\n",
    "h = totalSalesHsj.loc[ totalSalesHsj['ProductType']=='hoodie' ]\n",
    "s = totalSalesHsj.loc[ totalSalesHsj['ProductType']=='slipper' ]\n",
    "j = totalSalesHsj.loc[ totalSalesHsj['ProductType']=='jacket' ]\n",
    "\n",
    "get_every_nth_label = 4\n",
    "x_labels = totalSalesHsj.Month.unique()[::get_every_nth_label]\n",
    "all_x_indexes = [i for i in range(len(totalSalesHsj['Month'].unique())) ]\n",
    "x_indexes = [(i*get_every_nth_label) for i in range(len(x_labels)) ]\n",
    "\n",
    "plt.plot(all_x_indexes, 'Sales', data=h, label='Hoodies')\n",
    "plt.plot(all_x_indexes, 'Sales', data=s, label='Slippers')\n",
    "plt.plot(all_x_indexes, 'Sales', data=j, label='Jackets')\n",
    "plt.legend()\n",
    "\n",
    "plt.title(\"Total Monthly Sales Per Line Item - Comparison Between Segments\")\n",
    "plt.ylabel(\"Total Monthly Sales\")\n",
    "plt.xlabel(\"Date (Year-Month)\")\n",
    "\n",
    "plt.xticks(x_indexes, x_labels)\n",
    "\n",
    "plt.show()"
   ]
  },
  {
   "cell_type": "markdown",
   "id": "383e47a4-ea45-4a90-b373-4a845826602f",
   "metadata": {},
   "source": [
    "##### 14. Follow the same steps as before to compare the **average** sales per month between hoodies, slippers, and jackets."
   ]
  },
  {
   "cell_type": "code",
   "execution_count": 20,
   "id": "04a1d7dd-4209-4bec-a256-19c87b14c3dd",
   "metadata": {
    "jupyter": {
     "source_hidden": true
    }
   },
   "outputs": [
    {
     "data": {
      "image/png": "[encoded data removed]",
      "text/plain": [
       "<Figure size 720x360 with 1 Axes>"
      ]
     },
     "metadata": {
      "needs_background": "light"
     },
     "output_type": "display_data"
    }
   ],
   "source": [
    "averageHsj = hsj.groupby(['ProductType', 'Month'], as_index=False).agg({'Sales': 'mean'})\n",
    "averageHsj\n",
    "\n",
    "plt.figure(figsize=(10,5))\n",
    "\n",
    "h = averageHsj.loc[ averageHsj['ProductType']=='hoodie' ]\n",
    "s = averageHsj.loc[ averageHsj['ProductType']=='slipper' ]\n",
    "j = averageHsj.loc[ averageHsj['ProductType']=='jacket' ]\n",
    "\n",
    "get_every_nth_label = 4\n",
    "x_labels = averageHsj.Month.unique()[::get_every_nth_label]\n",
    "all_x_indexes = [i for i in range(len(averageHsj['Month'].unique())) ]\n",
    "x_indexes = [(i*get_every_nth_label) for i in range(len(x_labels)) ]\n",
    "\n",
    "plt.plot(all_x_indexes, 'Sales', data=h, label='Hoodies')\n",
    "plt.plot(all_x_indexes, 'Sales', data=s, label='Slippers')\n",
    "plt.plot(all_x_indexes, 'Sales', data=j, label='Jackets')\n",
    "plt.legend()\n",
    "\n",
    "plt.xticks(x_indexes, x_labels)\n",
    "\n",
    "plt.title(\"Average Monthly Sales Per Line Item - Comparison Between Segments\")\n",
    "plt.ylabel(\"Average Monthly Sales\")\n",
    "plt.xlabel(\"Date (Year-Month)\")\n",
    "\n",
    "plt.show()"
   ]
  },
  {
   "cell_type": "markdown",
   "id": "87da3959-623b-4925-94e2-5b95cfdc34a3",
   "metadata": {},
   "source": [
    "#### Bubble wrap widths comparison (38 points)\n",
    "\n",
    "##### 15. Create a box plot that compares LineProfit among different bubble wrap widths."
   ]
  },
  {
   "cell_type": "code",
   "execution_count": 21,
   "id": "45dca761-9cab-4302-8d8e-6859d588a4ac",
   "metadata": {
    "jupyter": {
     "source_hidden": true
    }
   },
   "outputs": [
    {
     "name": "stderr",
     "output_type": "stream",
     "text": [
      "C:\\Users\\HaydenH\\AppData\\Local\\Temp\\ipykernel_25668\\198163451.py:1: UserWarning: This pattern is interpreted as a regular expression, and has match groups. To actually get the groups, use str.extract.\n",
      "  bubble = invoiceLines.loc[ (invoiceLines['Description'].str.contains('([0-9])+( [m]{2})')) & (invoiceLines['Description'].str.contains('bubble')) ]\n"
     ]
    }
   ],
   "source": [
    "bubble = invoiceLines.loc[ (invoiceLines['Description'].str.contains('([0-9])+( [m]{2})')) & (invoiceLines['Description'].str.contains('bubble')) ]\n",
    "bubble['BubbleWidth'] = bubble['Description'].str.extract('([0-9]+ [m]{2})', expand=False)"
   ]
  },
  {
   "cell_type": "code",
   "execution_count": 22,
   "id": "f343d2a8-fa14-4576-b2b1-b00364893cd1",
   "metadata": {
    "jupyter": {
     "source_hidden": true
    }
   },
   "outputs": [
    {
     "data": {
      "text/plain": [
       "array(['10 mm', '32 mm', '20 mm'], dtype=object)"
      ]
     },
     "execution_count": 22,
     "metadata": {},
     "output_type": "execute_result"
    }
   ],
   "source": [
    "bubble.BubbleWidth.unique()"
   ]
  },
  {
   "cell_type": "code",
   "execution_count": 23,
   "id": "5c9ab455-902b-4580-986c-b37962a1406b",
   "metadata": {
    "jupyter": {
     "source_hidden": true
    }
   },
   "outputs": [],
   "source": [
    "bubble10 = bubble.loc[ bubble['BubbleWidth'].str.contains('10') ]['LineProfit']\n",
    "bubble32 = bubble.loc[ bubble['BubbleWidth'].str.contains('32') ]['LineProfit']\n",
    "bubble20 = bubble.loc[ bubble['BubbleWidth'].str.contains('20') ]['LineProfit']"
   ]
  },
  {
   "cell_type": "code",
   "execution_count": 24,
   "id": "86eac252-949e-4399-bbbf-e6dfaa738cd7",
   "metadata": {
    "jupyter": {
     "source_hidden": true
    },
    "tags": []
   },
   "outputs": [
    {
     "data": {
      "image/png": "[encoded data removed]",
      "text/plain": [
       "<Figure size 720x360 with 1 Axes>"
      ]
     },
     "metadata": {
      "needs_background": "light"
     },
     "output_type": "display_data"
    }
   ],
   "source": [
    "plt.figure(figsize=(10,5))\n",
    "plt.title('LineProfit by Bubble Wrap Width')\n",
    "plt.ylabel('Line Profit')\n",
    "plt.xlabel('Bubble Wrap Width')\n",
    "plt.boxplot([bubble10, bubble20, bubble32], labels=['10 mm', '20 mm', '32 mm'])\n",
    "plt.show()"
   ]
  }
 ],
 "metadata": {
  "kernelspec": {
   "display_name": "Python 3 (ipykernel)",
   "language": "python",
   "name": "python3"
  },
  "language_info": {
   "codemirror_mode": {
    "name": "ipython",
    "version": 3
   },
   "file_extension": ".py",
   "mimetype": "text/x-python",
   "name": "python",
   "nbconvert_exporter": "python",
   "pygments_lexer": "ipython3",
   "version": "3.10.2"
  }
 },
 "nbformat": 4,
 "nbformat_minor": 5
}
