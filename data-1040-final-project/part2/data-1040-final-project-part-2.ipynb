{
 "cells": [
  {
   "cell_type": "markdown",
   "id": "0478150d-80f6-434e-85d3-a03a95522dee",
   "metadata": {},
   "source": [
    "# Advanced Python for Data Analytics - Final Project (part 2)\n",
    "\n",
    "In part 2 of this final project, you will use the skills you have learned in this course to explore a data set.\n",
    "\n",
    "Specifically, you will perform the following in this project:\n",
    "\n",
    "1. Use Jupyter Lab to organize notebook text and run Python code.\n",
    "2. Use Pandas to import data, create new columns, run aggregations, and export a CSV file.\n",
    "3. Use regular expressions to enrichen the data set.\n",
    "<!-- 4. Use matplotlib to create meaningful exploratory visualizations -->\n",
    "\n",
    "## About the data\n",
    "The data comes from the `InvoiceLines` table of the `Sales` schema from the `WideWorldImporters` database. The data contains information about invoice lines for different invoices for the company *Wide World Importers*. To clarify, each row contains information about a single invoice line, and a single invoice may contain multiple invoice lines. In other words, each invoice line (each row) contains information about the sale of a single product, even though a customer may have purchased several different products in a single invoice. Thus, each invoice **line item** (each row) belongs to a single invoice.\n",
    "\n",
    "The table contains information about the quantity, unit price, and the profit for each **line item**. You will not need any other tables or data to complete this project.\n",
    "\n",
    "## Instructions\n",
    "This final project will be very similar to the homework assignments you completed in modules 2 and 3. Specifically, you will import and analyze a dataset by creating new columns and using aggregation to summarize data. However, the instructions given to you will be minimal, and the methods used to perform the necessary opertions for cleaning the data set will not be provided in the instructions. You will not need any methods or functions that have not been covered in the course readings to complete the assignment, although you are free to use them if you would like.\n",
    "\n",
    "Answer the questions enumerated below by writing code to obtain the answers. You should show all of your work and then answer the question in a sentence below the question header.\n",
    "\n",
    "You are free to add as many cells to this file as you would like. However, each of the cells should be ordered in such a way that the entire file could be run all at once from top to bottom and everything will run as expected.\n",
    "\n",
    "### Import packages\n",
    "Use the cell below to import all of the packages you will need to complete this assignment. You can come back later and add code to this cell as needed."
   ]
  },
  {
   "cell_type": "code",
   "execution_count": null,
   "id": "2362ac0c-9a86-4aec-b7af-925e27d0c71f",
   "metadata": {},
   "outputs": [],
   "source": []
  },
  {
   "cell_type": "markdown",
   "id": "5b5cfb0a-6f81-49b6-9df7-749bc187d9c8",
   "metadata": {},
   "source": [
    "#### Import data set\n",
    "Import the file `invoice_lines.csv` from the `data` directory into a variable called `df`."
   ]
  },
  {
   "cell_type": "code",
   "execution_count": null,
   "id": "e00996f8-3d32-48f5-b353-a1d26d413ad9",
   "metadata": {},
   "outputs": [],
   "source": []
  },
  {
   "cell_type": "markdown",
   "id": "a4b9d5eb-e6ee-4fb7-a944-6a62d50cb40d",
   "metadata": {},
   "source": [
    "#### First five rows\n",
    "Use appropriate dataframe methods to show the first five rows of the dataframe."
   ]
  },
  {
   "cell_type": "code",
   "execution_count": null,
   "id": "c8083893-c427-4d5e-b363-5d4674d83159",
   "metadata": {},
   "outputs": [],
   "source": []
  },
  {
   "cell_type": "markdown",
   "id": "f83092ae-7b1a-49b7-8644-26e519e33846",
   "metadata": {},
   "source": [
    "#### Describe the data set\n",
    "Use appropriate dataframe methods to describe the data in the dataframe."
   ]
  },
  {
   "cell_type": "code",
   "execution_count": null,
   "id": "f3554ca1-a44c-4b0a-a077-4e4c7695f6b2",
   "metadata": {},
   "outputs": [],
   "source": []
  },
  {
   "cell_type": "markdown",
   "id": "6de59184-3ac2-4214-8b1e-215387f271ad",
   "metadata": {},
   "source": [
    "#### Dataframe information\n",
    "Use appropriate dataframe methods to get information about the data types and non-null counts for each column in the data set."
   ]
  },
  {
   "cell_type": "code",
   "execution_count": null,
   "id": "33712304-490b-4915-a07a-7dfd9f28fb31",
   "metadata": {},
   "outputs": [],
   "source": []
  },
  {
   "cell_type": "markdown",
   "id": "dffe0106-69eb-4a0a-af1e-9b3548c70d5d",
   "metadata": {},
   "source": [
    "#### Null value counts\n",
    "Use appropriate dataframe methods to get information about the number of null values in each column of the dataframe."
   ]
  },
  {
   "cell_type": "code",
   "execution_count": null,
   "id": "c2b16736-c2ec-410e-8678-28e6645e571b",
   "metadata": {},
   "outputs": [],
   "source": []
  },
  {
   "cell_type": "markdown",
   "id": "a2ae524c-1cd8-472b-8600-f83973e6fb6a",
   "metadata": {},
   "source": [
    "### Instructions\n",
    "Using your knowledge of Pandas and regular expressions, answer the questions below. Again, you may add as many cells as you would like to this file, but make sure that you show your work in each question. Also make sure that the code cells in your file can run in order from top to bottom.\n",
    "\n",
    "Add a comment to each question that gives an answer to the question.\n",
    "\n",
    "---\n",
    "##### Question 1: How many rows are there?\n",
    "Answer the question below."
   ]
  },
  {
   "cell_type": "code",
   "execution_count": null,
   "id": "aad1780a-0510-4210-8eb5-b5a0273173a0",
   "metadata": {},
   "outputs": [],
   "source": []
  },
  {
   "cell_type": "markdown",
   "id": "a489eb55-ec3a-48f1-ab0b-157984e03110",
   "metadata": {},
   "source": [
    "```\n",
    "Your answer here.\n",
    "```"
   ]
  },
  {
   "cell_type": "markdown",
   "id": "e210ba75-e27b-4d95-ba84-79d8e5c16062",
   "metadata": {},
   "source": [
    "--- \n",
    "##### Question 2: How many unique InvoiceLines are there?\n",
    "Answer the question below."
   ]
  },
  {
   "cell_type": "code",
   "execution_count": null,
   "id": "01912f4a-7497-438e-8eff-8013b3e48433",
   "metadata": {},
   "outputs": [],
   "source": []
  },
  {
   "cell_type": "markdown",
   "id": "44478299-af18-48da-981e-2c3a28dbc5ba",
   "metadata": {},
   "source": [
    "```\n",
    "Your answer here.\n",
    "```"
   ]
  },
  {
   "cell_type": "markdown",
   "id": "19c0af98-4327-40d0-bf70-5bc2464f7918",
   "metadata": {},
   "source": [
    "---\n",
    "##### Question 3: How many unique Invoices are there?\n",
    "Answer the question below."
   ]
  },
  {
   "cell_type": "code",
   "execution_count": null,
   "id": "799896c1-0ae6-4b0d-913c-fbe3d82a03fc",
   "metadata": {},
   "outputs": [],
   "source": []
  },
  {
   "cell_type": "markdown",
   "id": "9929fb0c-2dc8-4500-a78a-a2f8622e9ef7",
   "metadata": {},
   "source": [
    "```\n",
    "Your answer here.\n",
    "```"
   ]
  },
  {
   "cell_type": "markdown",
   "id": "873204fc-0f1d-44ac-9fb4-ec5a24b90581",
   "metadata": {},
   "source": [
    "---\n",
    "##### Question 4: What is the average `LineProfit`?\n",
    "Answer the question below."
   ]
  },
  {
   "cell_type": "code",
   "execution_count": null,
   "id": "59f39ad8-22ea-4f3a-a636-4185e9028a90",
   "metadata": {},
   "outputs": [],
   "source": []
  },
  {
   "cell_type": "markdown",
   "id": "cf424204-f8e1-4834-8ac2-10d864a87263",
   "metadata": {},
   "source": [
    "```\n",
    "Your answer here.\n",
    "```"
   ]
  },
  {
   "cell_type": "markdown",
   "id": "965480a3-2616-44db-970c-ab9e97cf1772",
   "metadata": {},
   "source": [
    "---\n",
    "##### Question 5: What is the median `LineProfit`?\n",
    "Answer the question below."
   ]
  },
  {
   "cell_type": "code",
   "execution_count": null,
   "id": "310d6dc5-754a-4d34-b35f-89c47524dfdd",
   "metadata": {},
   "outputs": [],
   "source": []
  },
  {
   "cell_type": "markdown",
   "id": "ee11672e-0887-4022-b064-2b2d902ac7b2",
   "metadata": {},
   "source": [
    "```\n",
    "Your answer here.\n",
    "```"
   ]
  },
  {
   "cell_type": "markdown",
   "id": "9b2f2435-392c-4368-b1e3-80d9ea07c8d9",
   "metadata": {},
   "source": [
    "---\n",
    "##### Question 6: Which product (`Description`) seems to have the highest `LineProfit`?\n",
    "Answer the question below."
   ]
  },
  {
   "cell_type": "code",
   "execution_count": null,
   "id": "c40a8af6-bdc3-4f86-830b-a7eae9957767",
   "metadata": {},
   "outputs": [],
   "source": []
  },
  {
   "cell_type": "markdown",
   "id": "45bb89bb-c92a-4d51-b1d0-f00576801da5",
   "metadata": {},
   "source": [
    "```\n",
    "Your answer here.\n",
    "```"
   ]
  },
  {
   "cell_type": "markdown",
   "id": "2e3a1cf7-3f44-4776-bdf3-1d546a7bc3ee",
   "metadata": {},
   "source": [
    "---\n",
    "##### Question 7: Which product (`Description`) is the highest selling product, by total `Quantity` sold?\n",
    "Answer the question below."
   ]
  },
  {
   "cell_type": "code",
   "execution_count": null,
   "id": "06e441f0-5b2c-4552-a4bd-3e6f6da10e0f",
   "metadata": {},
   "outputs": [],
   "source": []
  },
  {
   "cell_type": "markdown",
   "id": "1b756d97-882c-4d4f-a1ad-0b1765c2b83c",
   "metadata": {},
   "source": [
    "```\n",
    "Your answer here.\n",
    "```"
   ]
  },
  {
   "cell_type": "markdown",
   "id": "4c7eaaac-a37f-4086-83bf-f4b2bc32bc8e",
   "metadata": {},
   "source": [
    "---\n",
    "##### Question 8: Which product (`Description`) is the worst selling product by total `Quantity` sold?\n",
    "Answer the question below."
   ]
  },
  {
   "cell_type": "code",
   "execution_count": null,
   "id": "321c5736-6a6e-4fe4-82fd-127541bec891",
   "metadata": {},
   "outputs": [],
   "source": []
  },
  {
   "cell_type": "markdown",
   "id": "82592b18-3eb4-4be5-8d7e-41811ebc0699",
   "metadata": {},
   "source": [
    "```\n",
    "Your answer here.\n",
    "```"
   ]
  },
  {
   "cell_type": "markdown",
   "id": "1070aa31-0370-4bf4-8ae7-892b02465833",
   "metadata": {},
   "source": [
    "---\n",
    "##### Question 9: Which product (`Description`) is the most frequently ordered (count) product?\n",
    "Answer the question below."
   ]
  },
  {
   "cell_type": "code",
   "execution_count": null,
   "id": "ff359e93-58c4-4b47-afae-93b677a59def",
   "metadata": {},
   "outputs": [],
   "source": []
  },
  {
   "cell_type": "markdown",
   "id": "69034b30-f516-43da-8a56-947328434146",
   "metadata": {},
   "source": [
    "```\n",
    "Your answer here.\n",
    "```"
   ]
  },
  {
   "cell_type": "markdown",
   "id": "fae4c3b1-8a0c-400e-ab9d-223b5c138ae0",
   "metadata": {},
   "source": [
    "---\n",
    "##### Question 10: Which product (`Description`) is the least frequently ordered product?\n",
    "Answer the question below."
   ]
  },
  {
   "cell_type": "code",
   "execution_count": null,
   "id": "3d1e95d3-f031-4fb2-9be5-ee71304f1baf",
   "metadata": {},
   "outputs": [],
   "source": []
  },
  {
   "cell_type": "markdown",
   "id": "d3fdc9d3-0f3b-4910-88ea-a197e20c54de",
   "metadata": {},
   "source": [
    "```\n",
    "Your answer here.\n",
    "```"
   ]
  },
  {
   "cell_type": "markdown",
   "id": "9648d604-0afb-42c6-937d-d3bebe3d7adc",
   "metadata": {},
   "source": [
    "---\n",
    "##### Question 11: Create a new column called `ProfitRatio`\n",
    "You can calculate the `ProfitRatio` by using the following formula:\n",
    "$$ ProfitRatio = \\frac{LineProfit}{UnitPrice*Quantity} $$"
   ]
  },
  {
   "cell_type": "code",
   "execution_count": null,
   "id": "bff239b6-7f42-43fe-b341-43cab3eadd54",
   "metadata": {},
   "outputs": [],
   "source": []
  },
  {
   "cell_type": "markdown",
   "id": "c583c9e6-fc6e-4c7a-887a-82eb9270a1f8",
   "metadata": {},
   "source": [
    "```\n",
    "You don't need to write anything to answer this question.\n",
    "```"
   ]
  },
  {
   "cell_type": "markdown",
   "id": "2c70199b-158d-4c52-a19e-d2ac81fe57f9",
   "metadata": {},
   "source": [
    "---\n",
    "##### Question 12: Which product (`Description`) has the highest average `ProfitRatio`?\n",
    "Answer the question below."
   ]
  },
  {
   "cell_type": "code",
   "execution_count": null,
   "id": "edff68ad-9051-4ff7-b8f9-43eaf8f22e32",
   "metadata": {},
   "outputs": [],
   "source": []
  },
  {
   "cell_type": "markdown",
   "id": "18302433-a1db-4ad4-88e8-11a9961279d2",
   "metadata": {},
   "source": [
    "```\n",
    "Your answer here.\n",
    "```"
   ]
  },
  {
   "cell_type": "markdown",
   "id": "ce8b6fcf-cebb-46e9-a79d-f4ed4c605f02",
   "metadata": {},
   "source": [
    "---\n",
    "##### Question 13: Create a new column called `Year`\n",
    "You can find the year in the `LastEditedWhen` column."
   ]
  },
  {
   "cell_type": "code",
   "execution_count": null,
   "id": "c8f2d9ee-4425-4d17-9e03-3b93983ca4a9",
   "metadata": {},
   "outputs": [],
   "source": []
  },
  {
   "cell_type": "markdown",
   "id": "1d0b8027-0252-4611-8c9c-1c24ff6e923d",
   "metadata": {},
   "source": [
    "```\n",
    "You don't need to write anything here to answer this question.\n",
    "```"
   ]
  },
  {
   "cell_type": "markdown",
   "id": "dbfca248-00cb-4e64-919d-9d48863b86da",
   "metadata": {},
   "source": [
    "---\n",
    "##### Question 14: Which year had the highest total `ExtendedPrice`?\n",
    "Answer the question below."
   ]
  },
  {
   "cell_type": "code",
   "execution_count": null,
   "id": "ad0b237d-ea78-449c-b869-ca277c9d5185",
   "metadata": {},
   "outputs": [],
   "source": []
  },
  {
   "cell_type": "markdown",
   "id": "2a160f12-7399-45ee-ad69-1488fc50bb00",
   "metadata": {},
   "source": [
    "```\n",
    "Your answer here.\n",
    "```"
   ]
  },
  {
   "cell_type": "markdown",
   "id": "0581135b-6288-4b8b-b628-57bf5159336c",
   "metadata": {},
   "source": [
    "---\n",
    "##### Question 15: Create a new column called `Color`.\n",
    "You can use the regular expression `\\(([A-Z]\\w+)\\)` to extract the color from the `Description` column."
   ]
  },
  {
   "cell_type": "code",
   "execution_count": null,
   "id": "8b7a8948-ef1a-4722-996d-eb9bb8d02299",
   "metadata": {},
   "outputs": [],
   "source": []
  },
  {
   "cell_type": "markdown",
   "id": "455de11d-be87-4e03-9365-81b1f83f2b2e",
   "metadata": {},
   "source": [
    "```\n",
    "You don't need to write anything here to answer this question.\n",
    "```"
   ]
  },
  {
   "cell_type": "markdown",
   "id": "beee5c8d-819f-40f3-aa34-71b8e29e9f89",
   "metadata": {},
   "source": [
    "---\n",
    "##### Question 16: Which is the most highly sold (total `Quantity`) color among all products?\n",
    "Answer the question below."
   ]
  },
  {
   "cell_type": "code",
   "execution_count": null,
   "id": "34b640b6-5a77-4d0f-aed4-667a873118d2",
   "metadata": {},
   "outputs": [],
   "source": []
  },
  {
   "cell_type": "markdown",
   "id": "a062dd16-1214-4445-a936-c16a4ece271d",
   "metadata": {},
   "source": [
    "```\n",
    "Your answer here.\n",
    "```"
   ]
  },
  {
   "cell_type": "markdown",
   "id": "0ed94715-93d0-4717-b78a-567b3f99d386",
   "metadata": {},
   "source": [
    "---\n",
    "##### Question 17: Create a filtered dataframe called `slippers_df` that includes rows with the word \"slipper\" in the `Description`\n",
    "Create the variable below."
   ]
  },
  {
   "cell_type": "code",
   "execution_count": null,
   "id": "56fab05f-0afb-4047-8140-79d9cc9a3d87",
   "metadata": {},
   "outputs": [],
   "source": []
  },
  {
   "cell_type": "markdown",
   "id": "bfe8e7d0-c4c5-4876-925a-bd5893cc085d",
   "metadata": {},
   "source": [
    "```\n",
    "You don't need to write anything here to answer this question.\n",
    "```"
   ]
  },
  {
   "cell_type": "markdown",
   "id": "52b3020b-c691-4ae0-87dc-a36cec5efb7f",
   "metadata": {},
   "source": [
    "---\n",
    "##### Question 18: Create a new column called `Size` for `slippers_df`\n",
    "You can use the regular expression `\\s([A-Z]+)$` to extract the size from the `Description` column.\n",
    "\n",
    "If you get a `SettingWithCopyWarning`, you can ignore it."
   ]
  },
  {
   "cell_type": "code",
   "execution_count": null,
   "id": "2d24f0ad-338d-48e8-ada9-dc81b99b5d15",
   "metadata": {},
   "outputs": [],
   "source": []
  },
  {
   "cell_type": "markdown",
   "id": "80c8903f-4e82-49bc-9300-5a7feeb32fa2",
   "metadata": {},
   "source": [
    "```\n",
    "You don't need to write anything here to answer this question.\n",
    "```"
   ]
  },
  {
   "cell_type": "markdown",
   "id": "916b9e98-7461-447e-b33c-3d3b920271c7",
   "metadata": {},
   "source": [
    "---\n",
    "##### Question 19: What is the most popular size and color of slipper by total Quantity?\n",
    "Answer the question below."
   ]
  },
  {
   "cell_type": "code",
   "execution_count": null,
   "id": "8ae10449-c8b3-4ba4-9f5b-6518ce2c4024",
   "metadata": {},
   "outputs": [],
   "source": []
  },
  {
   "cell_type": "markdown",
   "id": "6633a23b-c0e3-45a0-8f60-0feccb64e3ba",
   "metadata": {},
   "source": [
    "```\n",
    "Your answer here.\n",
    "```"
   ]
  },
  {
   "cell_type": "markdown",
   "id": "89dcb57e-0b1a-4081-86ef-0e0d98db5591",
   "metadata": {},
   "source": [
    "---\n",
    "##### Question 20: Which size of slippers has the lowest `ProfitRatio`?\n",
    "Answer the question below."
   ]
  },
  {
   "cell_type": "code",
   "execution_count": null,
   "id": "87a12637-ab09-4480-8d73-e2d51485a36c",
   "metadata": {},
   "outputs": [],
   "source": []
  },
  {
   "cell_type": "markdown",
   "id": "add79b74-a79f-485e-8163-5e03084c17a2",
   "metadata": {},
   "source": [
    "```\n",
    "Your answer here.\n",
    "```"
   ]
  },
  {
   "cell_type": "code",
   "execution_count": null,
   "id": "e0bd211c-9db9-405b-a13f-bdb9f8071527",
   "metadata": {},
   "outputs": [],
   "source": []
  }
 ],
 "metadata": {
  "kernelspec": {
   "display_name": "Python 3 (ipykernel)",
   "language": "python",
   "name": "python3"
  },
  "language_info": {
   "codemirror_mode": {
    "name": "ipython",
    "version": 3
   },
   "file_extension": ".py",
   "mimetype": "text/x-python",
   "name": "python",
   "nbconvert_exporter": "python",
   "pygments_lexer": "ipython3",
   "version": "3.10.2"
  }
 },
 "nbformat": 4,
 "nbformat_minor": 5
}
