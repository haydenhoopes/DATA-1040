{
 "cells": [
  {
   "cell_type": "markdown",
   "id": "2c5e4d0c-df4a-4478-be33-c063e1b09924",
   "metadata": {},
   "source": [
    "# Advanced Python for Data Analytics - Final Project (part 1)\n",
    "\n",
    "In part 1 of this final project, you will use the skills you have learned in this course to clean a data set.\n",
    "\n",
    "Specifically, you will perform the following in this project:\n",
    "\n",
    "1. Use Jupyter Lab to organize notebook text and run Python code.\n",
    "2. Use Pandas to import, clean, and export a data set.\n",
    "\n",
    "## About the data\n",
    "The data comes from the `InvoiceLines` table of the `Sales` schema from the `WideWorldImporters` database. The data contains information about invoice lines for different invoices for the company *Wide World Importers*. To clarify, each row contains information about a single invoice line, and a single invoice may contain multiple invoice lines. In other words, each invoice line (each row) contains information about the sale of a single product, even though a customer may have purchased several different products in a single invoice. Thus, each invoice **line item** (each row) belongs to a single invoice.\n",
    "\n",
    "The table contains information about the quantity, unit price, and the profit for each **line item**. You will not need any other tables or data to complete this project.\n",
    "\n",
    "## Instructions\n",
    "This final project will be very similar to the homework assignments you completed in modules 2 and 3. Specifically, you will import and clean a data set. However, the instructions given to you will be minimal, and the methods used to perform the necessary opertions for cleaning the data set will not be provided in the instructions. You will not need any methods or functions that have not been covered in the course readings to complete the assignment, although you are free to use them if you would like.\n",
    "\n",
    "The data set provided to you contains dirty data. Below, some information about *why* the data set is dirty is listed. Use your best judgement to clean the data in the way that you think best. In this way, there are multiple solutions to this project and you will be required to explain your purpose and process for each data cleaning step.\n",
    "\n",
    "You will be graded based on how well you defend and show your data cleaning solutions.\n",
    "\n",
    "Address each part of the dirty data by 1) showing the code that you used to clean the data and 2) explaining your reasoning behind each step. Each of the cells should be ordered in such a way that the entire file could be run all at once from top to bottom and everything will run as expected.\n",
    "\n",
    "### Import packages\n",
    "Use the cell below to import all of the packages you will need to complete this assignment. You can come back later and add code to this cell as needed."
   ]
  },
  {
   "cell_type": "code",
   "execution_count": null,
   "id": "838f6b2b-db11-4a9b-aefe-e40029b71c75",
   "metadata": {},
   "outputs": [],
   "source": []
  },
  {
   "cell_type": "markdown",
   "id": "7a8301f8-c1a8-4ad8-bf08-3a4042a5f7f3",
   "metadata": {},
   "source": [
    "### Import data set\n",
    "Import the file `invoice_lines_dirty.csv` as a Pandas dataframe into a variable called `df`."
   ]
  },
  {
   "cell_type": "code",
   "execution_count": null,
   "id": "988ab74c-02d5-4bdb-91ed-5c35d51d4192",
   "metadata": {},
   "outputs": [],
   "source": []
  },
  {
   "cell_type": "markdown",
   "id": "a7f0e54d-4d4c-45c1-ad9d-b3ea09519e87",
   "metadata": {},
   "source": [
    "#### First five rows\n",
    "Use appropriate dataframe methods to show the first five rows of the dataframe."
   ]
  },
  {
   "cell_type": "code",
   "execution_count": null,
   "id": "3cbb8bd8-e86a-4f52-af73-8a91cb32920d",
   "metadata": {},
   "outputs": [],
   "source": []
  },
  {
   "cell_type": "markdown",
   "id": "43d47343-f8a0-4077-b59e-8aa6985ad238",
   "metadata": {},
   "source": [
    "#### Describe the data set\n",
    "Use appropriate dataframe methods to describe the data in the dataframe."
   ]
  },
  {
   "cell_type": "code",
   "execution_count": null,
   "id": "07ea4e3a-2aaa-4c23-a6ce-16a29a4ad5d2",
   "metadata": {},
   "outputs": [],
   "source": []
  },
  {
   "cell_type": "markdown",
   "id": "acf9f35e-ac7d-420d-850f-6f7218bebf64",
   "metadata": {},
   "source": [
    "#### Dataframe information\n",
    "Use appropriate dataframe methods to get information about the data types and non-null counts for each column in the data set."
   ]
  },
  {
   "cell_type": "code",
   "execution_count": null,
   "id": "13d22169-677e-44dd-92db-cf9de8b574c4",
   "metadata": {},
   "outputs": [],
   "source": []
  },
  {
   "cell_type": "markdown",
   "id": "ffab24e5-deb1-432d-b9ea-161ffd382d5a",
   "metadata": {},
   "source": [
    "#### Null value counts\n",
    "Use appropriate dataframe methods to get information about the number of null values in each column of the dataframe."
   ]
  },
  {
   "cell_type": "code",
   "execution_count": null,
   "id": "1b529dff-4463-407c-8251-1b8d312c9668",
   "metadata": {},
   "outputs": [],
   "source": []
  },
  {
   "cell_type": "markdown",
   "id": "225dcd60-f368-409f-a66b-666a0a07dc37",
   "metadata": {
    "tags": []
   },
   "source": [
    "### Instructions\n",
    "Using your knowledge of cleaning data using Pandas, clean up the data set imported from the file `invoice_lines_dirty.csv`. By examining the dataframe using skills learned previously, you should be able to see the following problems with the data set:\n",
    "\n",
    "1. The `LastEditedBy` column has 177,849 null values (78% of the column is null)\n",
    "2. There are 79 rows with null values only in the `UnitPrice` column\n",
    "3. There are 140 null values in the `StockItemID` and `Description` columns\n",
    "4. The `PackageTypeID` column has a datatype of `object` but should be only integers\n",
    "5. The `StockItemID` column has a datatype of `object` but should only contain integers\n",
    "6. The minimum `TaxRate` is `-15`, which is impossible\n",
    "7. The minimum `UnitPrice`, `TaxAmount`, and `ExtendedPrice` is 0, which should be impossible\n",
    "8. The maximum value in the `ExtendedPrice` column appears to be extremely high\n",
    "\n",
    "Use strategies that you learned about in this course to fix the data set as best as you can. There is not a single right way to carry this process out, but do your best to clean up the data set however you feel is best."
   ]
  },
  {
   "cell_type": "markdown",
   "id": "d61aedbd-d8b7-40dc-8243-748312b5197f",
   "metadata": {
    "tags": []
   },
   "source": [
    "#### Data Cleaning\n",
    "To answer the following questions, write code to clean the data in the way that you see appropriate and explain why you wrote that code.\n",
    "\n",
    "---\n",
    "\n",
    "##### Question 1: The `LastEditedBy` column has 177,849 null values (78% of the column is null)\n",
    "As you can see, the `LastEditedBy` column has 177,849 null values (78% of the column is null). Write code that will clean this part of the data set. Then, write a sentence or two that explains how you cleaned this column and why you did it that way. Show all of your work."
   ]
  },
  {
   "cell_type": "code",
   "execution_count": null,
   "id": "62002231-56c9-4457-b115-b814dc558d5d",
   "metadata": {},
   "outputs": [],
   "source": []
  },
  {
   "cell_type": "markdown",
   "id": "e72bf83b-d7e0-4bb4-ad68-7443cc58184e",
   "metadata": {},
   "source": [
    "```\n",
    "Your answer here.\n",
    "```"
   ]
  },
  {
   "cell_type": "markdown",
   "id": "75b9b4c5-d6a0-4b32-8512-48f3d603633c",
   "metadata": {},
   "source": [
    "---\n",
    "##### Question 2: There are 79 rows with null values only in the `UnitPrice` column\n",
    "There are 79 rows with null values only in the `UnitPrice` column. The `UnitPrice` column can either be dropped, the null rows can be dropped, the `UnitPrice` can be imputed by using the formula: \n",
    "\n",
    "$$ UnitPrice=\\frac{ExtendedPrice - TaxAmount}{Quantity} $$\n",
    "\n",
    "You can choose to use imputation or drop the rows/columns associated with null UnitPrices. Write code to perform the cleaning that you think best fits this data set. Then, write a sentence or two that explains why you used this code. Show all of your work."
   ]
  },
  {
   "cell_type": "code",
   "execution_count": null,
   "id": "90eeb624-b71f-4d28-919b-4492678334e4",
   "metadata": {},
   "outputs": [],
   "source": []
  },
  {
   "cell_type": "markdown",
   "id": "5912f54b-371c-436f-a7bb-57185007e9b0",
   "metadata": {},
   "source": [
    "```\n",
    "Your answer here.\n",
    "```"
   ]
  },
  {
   "cell_type": "markdown",
   "id": "d0389f0a-42a6-477e-afcd-d0dac02ab224",
   "metadata": {},
   "source": [
    "---\n",
    "##### Question 3: There are 140 null values in the `StockItemID` and `Description` columns\n",
    "There are 140 null values in the `StockItemID` and `Description` columns. Although the `UnitPrice` is known for these rows, different products can have the same `UnitPrice` so it will probably be impossible to accurately impute the `StockItemID` and `Description` for these rows.\n",
    "\n",
    "Write the code that will clean this part of the data set. Then, write a sentence or two that explains how you cleaned these columns and why you did it that way. Show all of your work."
   ]
  },
  {
   "cell_type": "code",
   "execution_count": null,
   "id": "84373c70-c040-46f5-bfc1-dd84023d5684",
   "metadata": {},
   "outputs": [],
   "source": []
  },
  {
   "cell_type": "markdown",
   "id": "5963e6b2-ea12-44bf-a86c-52a5b698c0f9",
   "metadata": {},
   "source": [
    "```\n",
    "Your answer here.\n",
    "```"
   ]
  },
  {
   "cell_type": "markdown",
   "id": "a25c0720-d5f4-41b1-98c1-5efc5fd6d0a0",
   "metadata": {},
   "source": [
    "---\n",
    "##### Question 4: The `PackageTypeID` column has a datatype of `object` but should be only integers\n",
    "The `PackageTypeID` column has a datatype of `object` but should be only integers. Before making a choice as to what to do, look at what the non-integer values are and determine your strategy from there.\n",
    "\n",
    "Write the code that will clean this part of the data set. Then, write a sentence or two that explains how you cleaned this column and why you did it that way. Show all of your work."
   ]
  },
  {
   "cell_type": "code",
   "execution_count": null,
   "id": "1cf28719-91a7-4ac4-a6eb-0e9fd3ccf1f7",
   "metadata": {},
   "outputs": [],
   "source": []
  },
  {
   "cell_type": "markdown",
   "id": "bc19567e-930b-445c-a397-bcfbde20e899",
   "metadata": {},
   "source": [
    "```\n",
    "Your answer here.\n",
    "```"
   ]
  },
  {
   "cell_type": "markdown",
   "id": "9d841913-4377-4b68-9c89-fc8a74efdb9a",
   "metadata": {},
   "source": [
    "---\n",
    "##### Question 5: The `StockItemID` column has a datatype of `object` but should only contain integers\n",
    "The `StockItemID` column has a datatype of `object` but should only contain integers. Before making a choice of what to do, look at what the non-integer values are and determine your strategy from there. Hint: You can use `.value_counts()` to get a count of how many times each integer in the `StockItemID` occurs. If you see a value that is not an integer, look for it using a filter.\n",
    "\n",
    "Write the code that will clean this part of the data set. Then, write a sentence or two that explains how you cleaned this column and why you did it that way. Show all of your work."
   ]
  },
  {
   "cell_type": "code",
   "execution_count": null,
   "id": "f992f123-11e2-4048-8e82-7b55b6d45c09",
   "metadata": {},
   "outputs": [],
   "source": []
  },
  {
   "cell_type": "markdown",
   "id": "b1bb18e6-ee11-481a-b331-337db634df17",
   "metadata": {},
   "source": [
    "```\n",
    "Your answer here.\n",
    "```"
   ]
  },
  {
   "cell_type": "markdown",
   "id": "7f4843df-96c1-44ec-a476-6b7fadcbbddc",
   "metadata": {},
   "source": [
    "---\n",
    "##### Question 6: The minimum `TaxRate` is `-15`, which is impossible\n",
    "The minimum `TaxRate` is `-15`, which is impossible. Use your best judgement to fix this.\n",
    "\n",
    "Write the code that will clean this part of the data set. Then, write a sentence or two that explains how you cleaned this column and why you did it that way. Show all of your work."
   ]
  },
  {
   "cell_type": "code",
   "execution_count": null,
   "id": "aa66b174-b060-468d-a8f6-615dfe6826b5",
   "metadata": {},
   "outputs": [],
   "source": []
  },
  {
   "cell_type": "markdown",
   "id": "ab69af0d-1865-4068-8be4-5597794611e1",
   "metadata": {},
   "source": [
    "```\n",
    "Your answer here.\n",
    "```"
   ]
  },
  {
   "cell_type": "markdown",
   "id": "44b72a62-69b0-46f5-909a-12c4cdf6a789",
   "metadata": {},
   "source": [
    "---\n",
    "##### Question 7: The minimum `UnitPrice`, `TaxAmount`, and `ExtendedPrice` is 0, which should be impossible\n",
    "The minimum `UnitPrice`, `TaxAmount`, and `ExtendedPrice` is 0, which should be impossible. Use your best judgement to clean this up. Note that imputation will likely be impossible if `UnitPrice`, `TaxAmount`, and `ExtendedPrice` are all 0.\n",
    "\n",
    "Write the code that will clean this part of the data set. Then, write a sentence or two that explains how you cleaned this column and why you did it that way. Show all of your work."
   ]
  },
  {
   "cell_type": "code",
   "execution_count": null,
   "id": "a6a6a76f-a74f-4371-bfe8-7b5bb4e9e9b4",
   "metadata": {},
   "outputs": [],
   "source": []
  },
  {
   "cell_type": "markdown",
   "id": "1ed10ff3-d544-4e02-b641-1aa3eecf543f",
   "metadata": {},
   "source": [
    "```\n",
    "Your answer here.\n",
    "```"
   ]
  },
  {
   "cell_type": "markdown",
   "id": "06526c26-d150-4060-a4a2-6712e44a39fb",
   "metadata": {},
   "source": [
    "---\n",
    "##### Question 8: The maximum value in the `ExtendedPrice` column appears to be extremely high\n",
    "The maximum value in the `ExtendedPrice` column appears to be extremely high. You can use the function below `is_outlier()` if you want to check if the value is an outlier and clean the data set accordingly (it is optional). You can also look for other hints in the data that might explain this high value.\n",
    "\n",
    "Write the code that will clean this part of the data set. Then, write a sentence or two that explains how you cleaned this column and why you did it that way. Show all of your work."
   ]
  },
  {
   "cell_type": "code",
   "execution_count": null,
   "id": "9cea7e9e-1349-49ab-b986-624fa8096a90",
   "metadata": {},
   "outputs": [],
   "source": [
    "import numpy as np\n",
    "q1 = np.quantile(df['ExtendedPrice'], .25)\n",
    "q3 = np.quantile(df['ExtendedPrice'], .75)\n",
    "iqr = q3 - q1\n",
    "def is_outlier(row):\n",
    "    return row > q3 + (1.5 * iqr)"
   ]
  },
  {
   "cell_type": "code",
   "execution_count": null,
   "id": "e6d0a61c-6285-4174-a3d9-f2b381643e0f",
   "metadata": {},
   "outputs": [],
   "source": []
  },
  {
   "cell_type": "markdown",
   "id": "5aa6bc5c-a40b-4491-b027-0a2265d21443",
   "metadata": {},
   "source": [
    "```\n",
    "Your answer here.\n",
    "```"
   ]
  },
  {
   "cell_type": "markdown",
   "id": "4db07233-85a7-45dc-bc1d-8fb7efe6f4a0",
   "metadata": {},
   "source": [
    "---\n",
    "### Results\n",
    "Use the code cells below to check your work. There should be 0 null values left in the data set, data types should be correct (ie. column names with `ID` should be integers, and so forth), and the most extreme/impossible values have been corrected or eliminated."
   ]
  },
  {
   "cell_type": "code",
   "execution_count": null,
   "id": "898fb6e7-38b5-4731-af8d-badc2cf2dd2b",
   "metadata": {},
   "outputs": [],
   "source": [
    "df.info()"
   ]
  },
  {
   "cell_type": "code",
   "execution_count": null,
   "id": "263a9278-4929-43f4-b753-714a3594b3f8",
   "metadata": {},
   "outputs": [],
   "source": [
    "df.describe()"
   ]
  },
  {
   "cell_type": "code",
   "execution_count": null,
   "id": "74b86184-0eb4-4d43-9244-5cdc0652b97e",
   "metadata": {},
   "outputs": [],
   "source": [
    "df.isna().sum()"
   ]
  }
 ],
 "metadata": {
  "kernelspec": {
   "display_name": "Python 3 (ipykernel)",
   "language": "python",
   "name": "python3"
  },
  "language_info": {
   "codemirror_mode": {
    "name": "ipython",
    "version": 3
   },
   "file_extension": ".py",
   "mimetype": "text/x-python",
   "name": "python",
   "nbconvert_exporter": "python",
   "pygments_lexer": "ipython3",
   "version": "3.10.2"
  }
 },
 "nbformat": 4,
 "nbformat_minor": 5
}
