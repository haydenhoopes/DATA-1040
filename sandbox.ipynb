{
 "cells": [
  {
   "cell_type": "code",
   "execution_count": 3,
   "id": "2c1206b6",
   "metadata": {},
   "outputs": [],
   "source": [
    "import pyodbc"
   ]
  },
  {
   "cell_type": "code",
   "execution_count": 4,
   "id": "6932104d",
   "metadata": {},
   "outputs": [
    {
     "data": {
      "text/plain": [
       "['SQL Server',\n",
       " 'SQL Server Native Client 11.0',\n",
       " 'SQL Server Native Client RDA 11.0',\n",
       " 'ODBC Driver 17 for SQL Server',\n",
       " 'PostgreSQL ANSI(x64)',\n",
       " 'PostgreSQL Unicode(x64)']"
      ]
     },
     "execution_count": 4,
     "metadata": {},
     "output_type": "execute_result"
    }
   ],
   "source": [
    "pyodbc.drivers()"
   ]
  },
  {
   "cell_type": "code",
   "execution_count": 1,
   "id": "60512f5f",
   "metadata": {},
   "outputs": [],
   "source": [
    "c = {    \n",
    "    \"driver\": \"SQL SERVER\",\n",
    "    \"server\": \"LT-W1828-HH\\SQLSERVER2019\",\n",
    "    \"database\": \"AdventureWorks2019\",\n",
    "    \"username\": \"sandbox\",\n",
    "    \"password\": \"mytestpassword\"\n",
    "}\n",
    "\n",
    "connection_string = f\"DRIVER={{{c['driver']}}}; SERVER={c['server']}; Database={c['database']}; UID={c['username']}; PWD={c['password']};\"\n"
   ]
  },
  {
   "cell_type": "markdown",
   "id": "089081b5",
   "metadata": {},
   "source": [
    "This query will fetch everything in the Currency table of the Sales object of the Adventure Works 2019 database"
   ]
  },
  {
   "cell_type": "code",
   "execution_count": 28,
   "id": "01475599",
   "metadata": {},
   "outputs": [],
   "source": [
    "query = \"\"\"\n",
    "    SELECT *\n",
    "    FROM AdventureWorks2019.Sales.Currency;\n",
    "\"\"\""
   ]
  },
  {
   "cell_type": "code",
   "execution_count": 30,
   "id": "fea2c259",
   "metadata": {},
   "outputs": [],
   "source": [
    "with pyodbc.connect(connection_string) as conx:\n",
    "    cursor = conx.cursor()\n",
    "    cursor.execute(query)\n",
    "    data = cursor.fetchall()"
   ]
  },
  {
   "cell_type": "code",
   "execution_count": 34,
   "id": "49994cd7",
   "metadata": {},
   "outputs": [
    {
     "data": {
      "text/plain": [
       "[('AED', 'Emirati Dirham', datetime.datetime(2008, 4, 30, 0, 0)),\n",
       " ('AFA', 'Afghani', datetime.datetime(2008, 4, 30, 0, 0)),\n",
       " ('ALL', 'Lek', datetime.datetime(2008, 4, 30, 0, 0)),\n",
       " ('AMD', 'Armenian Dram', datetime.datetime(2008, 4, 30, 0, 0)),\n",
       " ('ANG', 'Netherlands Antillian Guilder', datetime.datetime(2008, 4, 30, 0, 0))]"
      ]
     },
     "execution_count": 34,
     "metadata": {},
     "output_type": "execute_result"
    }
   ],
   "source": [
    "data[:5]"
   ]
  },
  {
   "cell_type": "code",
   "execution_count": 56,
   "id": "eee1eb45",
   "metadata": {},
   "outputs": [
    {
     "data": {
      "text/plain": [
       "[('AdventureWorks2019', 'Sales', 'Currency', 'CurrencyCode', -8, 'nchar', 3, 6, None, None, 0, None, None, -8, None, 6, 1, 'NO', 47),\n",
       " ('AdventureWorks2019', 'Sales', 'Currency', 'ModifiedDate', 93, 'datetime', 23, 16, 3, None, 0, None, '(getdate())', 9, 3, None, 3, 'NO', 61)]"
      ]
     },
     "execution_count": 56,
     "metadata": {},
     "output_type": "execute_result"
    }
   ],
   "source": [
    "[row for row in cursor.columns(table=\"Currency\")] # Where is \"Name?\""
   ]
  },
  {
   "cell_type": "markdown",
   "id": "35fcb016",
   "metadata": {},
   "source": [
    "This query will get only the United States Dollar and Colombian Peso from the database."
   ]
  },
  {
   "cell_type": "code",
   "execution_count": 73,
   "id": "50acf730",
   "metadata": {},
   "outputs": [],
   "source": [
    "query = \"\"\"\n",
    "    SELECT *\n",
    "    FROM AdventureWorks2019.Sales.Currency\n",
    "    WHERE Name IN ('US Dollar', 'Colombian Peso');\n",
    "\"\"\""
   ]
  },
  {
   "cell_type": "code",
   "execution_count": 74,
   "id": "285e63ec",
   "metadata": {},
   "outputs": [],
   "source": [
    "with pyodbc.connect(connection_string) as conx:\n",
    "    cursor = conx.cursor()\n",
    "    cursor.execute(query)\n",
    "    data = cursor.fetchall()"
   ]
  },
  {
   "cell_type": "code",
   "execution_count": 75,
   "id": "80668a70",
   "metadata": {},
   "outputs": [
    {
     "data": {
      "text/plain": [
       "[('COP', 'Colombian Peso', datetime.datetime(2008, 4, 30, 0, 0)),\n",
       " ('USD', 'US Dollar', datetime.datetime(2008, 4, 30, 0, 0))]"
      ]
     },
     "execution_count": 75,
     "metadata": {},
     "output_type": "execute_result"
    }
   ],
   "source": [
    "data[:5]"
   ]
  }
 ],
 "metadata": {
  "kernelspec": {
   "display_name": "env",
   "language": "python",
   "name": "env"
  },
  "language_info": {
   "codemirror_mode": {
    "name": "ipython",
    "version": 3
   },
   "file_extension": ".py",
   "mimetype": "text/x-python",
   "name": "python",
   "nbconvert_exporter": "python",
   "pygments_lexer": "ipython3",
   "version": "3.10.1"
  }
 },
 "nbformat": 4,
 "nbformat_minor": 5
}
