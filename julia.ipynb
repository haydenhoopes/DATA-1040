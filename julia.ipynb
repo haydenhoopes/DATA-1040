{
 "cells": [
  {
   "cell_type": "code",
   "execution_count": 1,
   "id": "7632503b-b986-47e7-a16b-20b4dbe1ceef",
   "metadata": {},
   "outputs": [],
   "source": [
    "text = \"this is julia\";"
   ]
  },
  {
   "cell_type": "code",
   "execution_count": null,
   "id": "d6521fff-d20d-492c-bfd9-d7e43acb0355",
   "metadata": {},
   "outputs": [],
   "source": []
  }
 ],
 "metadata": {
  "kernelspec": {
   "display_name": "Julia 1.7.3",
   "language": "julia",
   "name": "julia-1.7"
  },
  "language_info": {
   "file_extension": ".jl",
   "mimetype": "application/julia",
   "name": "julia",
   "version": "1.7.3"
  }
 },
 "nbformat": 4,
 "nbformat_minor": 5
}
