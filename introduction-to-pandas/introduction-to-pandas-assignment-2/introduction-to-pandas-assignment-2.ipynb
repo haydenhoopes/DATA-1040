{
 "cells": [
  {
   "cell_type": "markdown",
   "id": "942435f4-acf9-401b-9d1c-c99d0c2ec7f0",
   "metadata": {},
   "source": [
    "# Pandas Assignment 2\n",
    "In this assignment you will practice working with Pandas dataframes.\n",
    "\n",
    "Specifically, you will be carrying out the following excercises:\n",
    "\n",
    "1. Work with Pandas indexes.\n",
    "2. Use filtering to get subsets of dataframes.\n",
    "3. Update rows and columns.\n",
    "\n",
    "### Note about assignments\n",
    "You can add lines of code according to you preferences. As long as the code required by the assignment is found in this notebook file, you will receive credit for it regardless of the presence of additional code. You will lose points for removing starting code if it prevents the notebook from running correctly.\n",
    "\n",
    "## About the data\n",
    "The data used in this assignment is a table built from the Human Resources schema of the Adventure Works 2019 database. This data contains information about each time that Employee Pay History was changed (each line is a pay rate change). It also contains information about the employee and the department they were working in when they received the pay rate listed.\n",
    "\n",
    "The actual data is stored in a `.csv` file located inside the `data` directory. The file is called `pay_history.csv`."
   ]
  },
  {
   "cell_type": "markdown",
   "id": "7f42226d-b3cd-4901-beee-0a5a28527001",
   "metadata": {},
   "source": [
    "##### Imports, dataframe, etc."
   ]
  },
  {
   "cell_type": "code",
   "execution_count": null,
   "id": "8f866ea6-68ed-4132-97cf-cbe54094a523",
   "metadata": {
    "tags": []
   },
   "outputs": [],
   "source": []
  },
  {
   "cell_type": "markdown",
   "id": "736f29d7-779f-43e1-8a22-274cdce36ae0",
   "metadata": {
    "tags": []
   },
   "source": [
    "## Instructions\n",
    "\n",
    "Answer the questions below. Make sure to show your work and your answers as the output to the cells.\n",
    "\n",
    "### Indexes\n",
    "##### Question 1: Get the column `DepartmentName` as a Series object. Save it into a variable called `departmentSeries`."
   ]
  },
  {
   "cell_type": "code",
   "execution_count": null,
   "id": "23b7e5a6-28c4-47b6-9e60-3cd8115e029d",
   "metadata": {},
   "outputs": [],
   "source": []
  },
  {
   "cell_type": "markdown",
   "id": "da7ca06f-43df-459a-9da7-ee11e5f52637",
   "metadata": {},
   "source": [
    "##### Question 2: Get the value counts of each unique value in the `DepartmentName` series."
   ]
  },
  {
   "cell_type": "code",
   "execution_count": null,
   "id": "e425bf93-1978-4230-b4d3-548d2177fe2b",
   "metadata": {},
   "outputs": [],
   "source": []
  },
  {
   "cell_type": "markdown",
   "id": "a6ec88d8-ed3b-42d2-bba0-5e4e22fbc6fc",
   "metadata": {},
   "source": [
    "##### Question 3: Use the `.loc` property to get rows 25, 80, and 122 and the `JobTitle` column."
   ]
  },
  {
   "cell_type": "code",
   "execution_count": null,
   "id": "99c72160-b098-46f7-8286-89e8131cd49b",
   "metadata": {},
   "outputs": [],
   "source": []
  },
  {
   "cell_type": "markdown",
   "id": "a9d3e277-42c5-42c4-a712-0077a8ef9dd2",
   "metadata": {},
   "source": [
    "##### Question 4: Did the previous question return a dataframe or a Series object? Why might this have happened?"
   ]
  },
  {
   "cell_type": "markdown",
   "id": "bb51b982-d0f4-42c3-816b-4c8bf92f1143",
   "metadata": {},
   "source": [
    "`Your answer here`"
   ]
  },
  {
   "cell_type": "markdown",
   "id": "addf2cd9-9953-46f3-a200-1eafcb12a2f0",
   "metadata": {},
   "source": [
    "##### Question 5: Get the first through sixth columns and the last 5 rows using `.iloc`"
   ]
  },
  {
   "cell_type": "code",
   "execution_count": null,
   "id": "34d52306-951f-4afd-937f-aa0bbd67bf34",
   "metadata": {},
   "outputs": [],
   "source": []
  },
  {
   "cell_type": "markdown",
   "id": "2f769eca-ae6c-4315-bc0d-3cb5abfa9c37",
   "metadata": {},
   "source": [
    "### Filtering"
   ]
  },
  {
   "cell_type": "markdown",
   "id": "a5108304-e280-4962-b912-0a85501637b3",
   "metadata": {},
   "source": [
    "##### Question 6: Filter the dataframe to only include rows where the employee is in the Engineering department."
   ]
  },
  {
   "cell_type": "code",
   "execution_count": null,
   "id": "881bf17d-7cf1-4c8b-8606-560596f466cc",
   "metadata": {},
   "outputs": [],
   "source": []
  },
  {
   "cell_type": "markdown",
   "id": "30e0b55e-9800-4e68-9a9d-fe68b98b6f85",
   "metadata": {},
   "source": [
    "##### Question 7: Filter the dataframe to include rows where the employee is either in the Engineering department or the Quality Assurance sub-department."
   ]
  },
  {
   "cell_type": "code",
   "execution_count": null,
   "id": "90970072-6010-4a68-96c9-91b171bdc48a",
   "metadata": {},
   "outputs": [],
   "source": []
  },
  {
   "cell_type": "markdown",
   "id": "044f40c8-076c-4039-b13c-3084e5e4f30d",
   "metadata": {
    "tags": []
   },
   "source": [
    "##### Question 8: Filter the dataframe to only include rows with the word \"Manager\" in the title."
   ]
  },
  {
   "cell_type": "code",
   "execution_count": null,
   "id": "d8846d54-00a7-4f8c-a9b4-24141ab8cb59",
   "metadata": {},
   "outputs": [],
   "source": []
  },
  {
   "cell_type": "markdown",
   "id": "5e950408-ae47-4b38-bed7-3a8ad0f4d487",
   "metadata": {},
   "source": [
    "##### Question 9: Get a dataframe of all employees who are not salaried and are married and work in the finance department."
   ]
  },
  {
   "cell_type": "code",
   "execution_count": null,
   "id": "7c90e893-3ab4-40dd-97c2-d0428dd0e053",
   "metadata": {},
   "outputs": [],
   "source": []
  },
  {
   "cell_type": "markdown",
   "id": "6ba58d25-36d4-4332-ad5f-24427266110f",
   "metadata": {},
   "source": [
    "##### Question 10: Get a dataframe of all employees hired in 2009 who are paid more than $40 per hour. Remember that Pandas currently thinks that the `HireDate` field is a string (use this as an advantage)."
   ]
  },
  {
   "cell_type": "code",
   "execution_count": null,
   "id": "6e2f1af4-bf6b-4c2f-a32b-bfba79bc8798",
   "metadata": {},
   "outputs": [],
   "source": []
  },
  {
   "cell_type": "markdown",
   "id": "62464d53-58fe-4a65-90ee-a7b34982a297",
   "metadata": {
    "tags": []
   },
   "source": [
    "### Updating Rows and Columns\n",
    "\n",
    "##### Question 11: Change the column names to be all lowercase. Make sure that this change is reflected in the original dataframe."
   ]
  },
  {
   "cell_type": "code",
   "execution_count": null,
   "id": "b8178eb3-5acd-46f9-b6c4-94fc12e70fdc",
   "metadata": {},
   "outputs": [],
   "source": []
  },
  {
   "cell_type": "markdown",
   "id": "792c78db-93f3-48be-8110-9d6a0fc00b2b",
   "metadata": {},
   "source": [
    "##### Question 12: Create a function that can grab the employee's username out of the `loginid`. Apply the function to the `loginid` Series.\n",
    "\n",
    "You can used either a named or anonymous function. Note that you do not need to save this new Series as a column since that has not been covered yet."
   ]
  },
  {
   "cell_type": "code",
   "execution_count": null,
   "id": "bb1ef150-db0e-43e7-92c9-189ff280c1c8",
   "metadata": {},
   "outputs": [],
   "source": []
  },
  {
   "cell_type": "markdown",
   "id": "e16ce5c6-36f0-4d99-b04d-792f54ea72eb",
   "metadata": {},
   "source": [
    "##### Question 13: Use the `.apply()` method to change the `rate` column to be rounded to two decimal places."
   ]
  },
  {
   "cell_type": "code",
   "execution_count": null,
   "id": "c22334fa-332e-4ad2-ba7e-11b6424d697d",
   "metadata": {},
   "outputs": [],
   "source": []
  },
  {
   "cell_type": "markdown",
   "id": "0b2567bf-d46c-4cfa-bbfc-37e54c64737f",
   "metadata": {},
   "source": [
    "##### Question 14: Use the `.map()` method to change the values in the `maritalstatus` column to say either Married or Not Married."
   ]
  },
  {
   "cell_type": "code",
   "execution_count": null,
   "id": "47a965cc-e8be-47fe-9842-c229bbc142f2",
   "metadata": {},
   "outputs": [],
   "source": []
  },
  {
   "cell_type": "markdown",
   "id": "baf45f31-bb2c-465c-a5db-f2671cfbf828",
   "metadata": {},
   "source": [
    "##### Question 15: Use the `.replace()` method to replace \"Chief Executive Office\" with \"President and CEO\" in the column `jobtitle`. Show the first five rows of the dataframe."
   ]
  },
  {
   "cell_type": "code",
   "execution_count": null,
   "id": "f8a63de5-d73b-4af4-903d-a059c303c286",
   "metadata": {},
   "outputs": [],
   "source": []
  }
 ],
 "metadata": {
  "kernelspec": {
   "display_name": "Python 3 (ipykernel)",
   "language": "python",
   "name": "python3"
  },
  "language_info": {
   "codemirror_mode": {
    "name": "ipython",
    "version": 3
   },
   "file_extension": ".py",
   "mimetype": "text/x-python",
   "name": "python",
   "nbconvert_exporter": "python",
   "pygments_lexer": "ipython3",
   "version": "3.10.2"
  }
 },
 "nbformat": 4,
 "nbformat_minor": 5
}
