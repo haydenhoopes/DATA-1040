{
 "cells": [
  {
   "cell_type": "markdown",
   "id": "4c1166bc-8349-45c4-9743-b5df10fb8920",
   "metadata": {},
   "source": [
    "# 2.4 Indexes\n",
    "\n",
    "## Slicing Rows and Columns\n",
    "Remember slicing NumPy arrays? NumPy slicing allowed us to select one or more columns and one or more rows at a time. Because Pandas is built on top of NumPy, we can slice a dataframe in the same way. You can select an individual column or a chunck of columns. You can also select an individual row or a chunk of rows.\n",
    "\n",
    "In a dataframe, you can access rows and columns either by their named index or by their integer index. In other words, you can access columns either by their name or by their position relative to the other columns. This will be shown in more detail later."
   ]
  },
  {
   "cell_type": "code",
   "execution_count": null,
   "id": "16fdeaef-693e-491e-aa81-620646396a70",
   "metadata": {},
   "outputs": [],
   "source": [
    "import pandas as pd\n",
    "df = pd.read_csv(\"./data/titanic.csv\")"
   ]
  },
  {
   "cell_type": "code",
   "execution_count": null,
   "id": "8d4c3d35-6128-4b08-b2ce-23e12d74a574",
   "metadata": {},
   "outputs": [],
   "source": [
    "df.head()"
   ]
  },
  {
   "cell_type": "markdown",
   "id": "24ce2bc7-523e-443c-8004-54b16fb125d5",
   "metadata": {
    "tags": []
   },
   "source": [
    "## Working with columns\n",
    "\n",
    "### Get a single column\n",
    "\n",
    "To get an individual column out of a pandas dataframe, we can access the column by using its named index in square brackets after the name of the dataframe as exemplified below."
   ]
  },
  {
   "cell_type": "code",
   "execution_count": null,
   "id": "5b16153f-2063-4df8-9ce8-efe853b60743",
   "metadata": {},
   "outputs": [],
   "source": [
    "df['Sex']"
   ]
  },
  {
   "cell_type": "markdown",
   "id": "8fdf6a1d-6029-4afb-87c9-e17bdf94930f",
   "metadata": {},
   "source": [
    "Notice that when we select a single column (as opposed to several columns or an entire dataframe), the formatting is different. This is because when we select a single column or row, we are actually getting back a Series object instead of an entire dataframe. Remember that **in the same way that a table is made of many columns, a dataframe is made of many series**.\n",
    "\n",
    "### The Series object\n",
    "\n",
    "The Series object acts a lot like an NumPy array in that functions can be directly applied to all the values at once. However, Series objects also retain some of the methods that dataframes have built in.\n",
    "\n",
    "For example, the `value_counts()` method can be used either on a dataframe or a Series object. However, it makes a little more sense to use on a single Series at a time."
   ]
  },
  {
   "cell_type": "code",
   "execution_count": null,
   "id": "76ac4956-e912-4c07-aa8a-192ad6bcc378",
   "metadata": {},
   "outputs": [],
   "source": [
    "# Value counts on a Series\n",
    "df['Sex'].value_counts()"
   ]
  },
  {
   "cell_type": "code",
   "execution_count": null,
   "id": "a66f536c-1e5b-486f-bc9e-c60893456da9",
   "metadata": {},
   "outputs": [],
   "source": [
    "# Value counts on a dataframe -- counts distinct rows with no null values. Not very useful! (in this example)\n",
    "# df.value_counts() # Uncomment me to see"
   ]
  },
  {
   "cell_type": "markdown",
   "id": "f222ace9-c589-478f-a591-768fab47b801",
   "metadata": {},
   "source": [
    "### Get multiple columns\n",
    "\n",
    "To get back several columns in a dataframe, replace the single column name (shown above) with a list of column names. Notice that because we selected more than one column, a new dataframe is returned instead of a Series object."
   ]
  },
  {
   "cell_type": "code",
   "execution_count": null,
   "id": "10d9a13d-fa43-4d48-a6f5-bc902f5ae0cb",
   "metadata": {},
   "outputs": [],
   "source": [
    "df[['Age', 'Sex']]"
   ]
  },
  {
   "cell_type": "markdown",
   "id": "70903dd3-3660-4010-a90a-d8ded28c788e",
   "metadata": {},
   "source": [
    "## Working with rows\n",
    "### Get a single row\n",
    "To get an individual row, use the .loc[] property an pass in an index label. In this case, the index labels are numbers 0-890, although they can take other values.\n",
    "\n",
    "Note that `.loc` is not a function, but rather a property. Thus, it is not called with parentheses but is instead passed an index inside square brackets `[]`."
   ]
  },
  {
   "cell_type": "code",
   "execution_count": null,
   "id": "8e67292b-473c-4289-b636-7f4ad58f5f8e",
   "metadata": {},
   "outputs": [],
   "source": [
    "df.loc[1]"
   ]
  },
  {
   "cell_type": "markdown",
   "id": "708b9b44-6da9-4ee0-a78d-a8006f303a79",
   "metadata": {},
   "source": [
    "Notice again that the formatting of this row is different-- this is another Series object! Pandas converted this single row of data into an array-like data structure.\n",
    "\n",
    "### Get multiple rows\n",
    "\n",
    "However, if we get multiple rows by slicing..."
   ]
  },
  {
   "cell_type": "code",
   "execution_count": null,
   "id": "668a6bce-7061-48a4-9b91-88578c2f99c0",
   "metadata": {},
   "outputs": [],
   "source": [
    "df.loc[1:3]"
   ]
  },
  {
   "cell_type": "markdown",
   "id": "c1183569-2517-4c4e-a897-1e59df67e7d3",
   "metadata": {},
   "source": [
    "... we can see just a few rows returned as a new dataframe.\n",
    "\n",
    "You can also get many different rows by passing a list of indexes to the `.loc` property."
   ]
  },
  {
   "cell_type": "code",
   "execution_count": null,
   "id": "e452b144-2b56-4982-9d91-90ecf80edde9",
   "metadata": {},
   "outputs": [],
   "source": [
    "df.loc[[3, 44, 610]]"
   ]
  },
  {
   "cell_type": "markdown",
   "id": "bf61b729-b7f2-4594-8fde-35bbc32ab0f9",
   "metadata": {},
   "source": [
    "In addition to locating a row by its label, we can also use the `.iloc` property to get a row by its location. Thus, the first row of the dataframe can be obtained without knowing what its index label is."
   ]
  },
  {
   "cell_type": "code",
   "execution_count": null,
   "id": "4aac9b8a-de6d-463a-9d83-4c8a3f3e64a1",
   "metadata": {},
   "outputs": [],
   "source": [
    "df.iloc[0]"
   ]
  },
  {
   "cell_type": "code",
   "execution_count": null,
   "id": "74a0e78f-fdd1-4009-8190-c629d6d64cf8",
   "metadata": {},
   "outputs": [],
   "source": [
    "df.iloc[[1, 44, 610]]"
   ]
  },
  {
   "cell_type": "markdown",
   "id": "d2a008f4-211e-4d67-bec7-6a1171750e3f",
   "metadata": {},
   "source": [
    "## Individual Cells and Mixed rows/columns\n",
    "### Get individual cell or mixed rows and columns\n",
    "To get an individual cell, you can use either `.loc` or `.iloc` to pass in a row and a column that you want to get back. Additionally, you can pass in a list of rows, a list of columns, or a list of both rows and columns to return. Note that when you use `.iloc` with columns, you are searching for the columns by their position and not by their name as you would with `.loc`."
   ]
  },
  {
   "cell_type": "code",
   "execution_count": null,
   "id": "f888bde3-4422-41d2-befe-b62c7f980298",
   "metadata": {},
   "outputs": [],
   "source": [
    "df.loc[50, 'Name']"
   ]
  },
  {
   "cell_type": "code",
   "execution_count": null,
   "id": "57f9da1f-c090-4b16-952a-079fa174876c",
   "metadata": {},
   "outputs": [],
   "source": [
    "# Get rows 10 through 15 (not inclusive) and columns in positions 3 and 7\n",
    "df.iloc[ 10:15, [3, 7] ]"
   ]
  }
 ],
 "metadata": {
  "kernelspec": {
   "display_name": "Python 3 (ipykernel)",
   "language": "python",
   "name": "python3"
  },
  "language_info": {
   "codemirror_mode": {
    "name": "ipython",
    "version": 3
   },
   "file_extension": ".py",
   "mimetype": "text/x-python",
   "name": "python",
   "nbconvert_exporter": "python",
   "pygments_lexer": "ipython3",
   "version": "3.10.2"
  }
 },
 "nbformat": 4,
 "nbformat_minor": 5
}
