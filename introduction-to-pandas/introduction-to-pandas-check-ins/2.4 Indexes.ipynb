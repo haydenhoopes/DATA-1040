{
 "cells": [
  {
   "cell_type": "markdown",
   "id": "4c1166bc-8349-45c4-9743-b5df10fb8920",
   "metadata": {},
   "source": [
    "# 2.4 Indexes\n",
    "\n",
    "## Slicing Rows and Columns\n",
    "Remember slicing NumPy arrays? NumPy slicing allowed us to select one or more columns and one or more rows at a time. Because Pandas is built on top of NumPy, we can slice a dataframe in the same way. You can select an individual column or a chunck of columns. You can also select an individual row or a chunk of rows.\n",
    "\n",
    "In a dataframe, you can access rows and columns either by their named index or by their integer index. In other words, you can access columns either by their name or by their position relative to the other columns. This will be shown in more detail later.\n",
    "\n",
    "### About the data\n",
    "​\n",
    "The data used in this notebook shows information about passengers on the *Titanic* cruiseliner, a ship which set out from Southampton, U.K. to sail across the Atlantic ocean and which tragically sank upon collision with an iceberg. The dataset contains information about each passenger's passenger class, name, sex, age, siblings, parents/children, ticket number, ticket fare, cabin number, and the embarked location. It also contains information about each passenger's survival status. This data set is extremely popular among data scientists and will facilitate demonstrations of Pandas concepts.\n",
    "\n",
    "To begin, we will import pandas and read the data into a dataframe."
   ]
  },
  {
   "cell_type": "code",
   "execution_count": null,
   "id": "16fdeaef-693e-491e-aa81-620646396a70",
   "metadata": {},
   "outputs": [],
   "source": [
    "import pandas as pd\n",
    "df = pd.read_csv(\"./data/titanic.csv\")"
   ]
  },
  {
   "cell_type": "markdown",
   "id": "652c994b-ee57-43a3-bd4a-0e6138c01d92",
   "metadata": {},
   "source": [
    "## Seeing the indexes in our dataframe\n",
    "\n",
    "As stated previously, we can access row and columns by either their **named** index or their **positional** index. We can see the named indexes of our dataframe by printing it out."
   ]
  },
  {
   "cell_type": "code",
   "execution_count": null,
   "id": "8d4c3d35-6128-4b08-b2ce-23e12d74a574",
   "metadata": {},
   "outputs": [],
   "source": [
    "df.head()"
   ]
  },
  {
   "cell_type": "markdown",
   "id": "f16c1eeb-ea9f-4391-b583-4c103bc3d8d2",
   "metadata": {},
   "source": [
    "The **bolded** column names are actually the *named indexes* for the columns. In contrast, the **bolded** row numbers are the *named indexes* for the rows. Index names can be changed, but you can always print out your dataframe to see what they actually are. They will always be in bold font if you are using Jupyter Lab.\n",
    "\n",
    "The positional index cannot be changed and is relative to the number of rows or columns. The column `PassengerId`, in this case, has a positional index of `0`, since it is the first column. Likewise, the first row has a positional index of `0` as well, which just so happens to correspond with the default *named index* of the row. If the named index for the rows were changed to something else (like letters of the alphabet), the positional index of the first row would still be `0`."
   ]
  },
  {
   "cell_type": "markdown",
   "id": "24ce2bc7-523e-443c-8004-54b16fb125d5",
   "metadata": {
    "tags": []
   },
   "source": [
    "## Working with columns\n",
    "\n",
    "### Get a single column\n",
    "\n",
    "To get an individual column out of a pandas dataframe, we can access the column by using its named index in square brackets after the name of the dataframe as exemplified below."
   ]
  },
  {
   "cell_type": "code",
   "execution_count": null,
   "id": "5b16153f-2063-4df8-9ce8-efe853b60743",
   "metadata": {},
   "outputs": [],
   "source": [
    "df['Sex']"
   ]
  },
  {
   "cell_type": "markdown",
   "id": "8fdf6a1d-6029-4afb-87c9-e17bdf94930f",
   "metadata": {},
   "source": [
    "Notice that when we select a single column (as opposed to several columns or an entire dataframe), the formatting is different. This is because when we select a single column or row, we are actually getting back a Series object instead of an entire dataframe. Remember that **in the same way that a table is made of many columns, a dataframe is made of many Series objects**.\n",
    "\n",
    "### The Series object\n",
    "\n",
    "The Series object acts a lot like an NumPy array in that functions can be directly applied to all the values at once. However, Series objects also retain some of the methods that dataframes have built in. Thus, Series objects are an even better version of the NumPy array.\n",
    "\n",
    "For example, the `.value_counts()` method can be used either on a dataframe or a Series object. The `.value_counts()` method counts up each unique value and returns a new Series (if used on a Series) or dataframe (if used on a dataframe) with the counts of the number of times each value appeared. `.value_counts()` isn't usually used on a dataframe with many columns, since it will count up each unique row looking across each column and likely not return any interesting information.\n",
    "\n",
    "We can, however, use `.value_counts()` on a single Series at a time to learn more about the data. In this case, we can use `.value_counts()` on the column `Sex` to learn about how many male and female passengers were on the *Titanic*."
   ]
  },
  {
   "cell_type": "code",
   "execution_count": null,
   "id": "76ac4956-e912-4c07-aa8a-192ad6bcc378",
   "metadata": {},
   "outputs": [],
   "source": [
    "# Value counts on a Series\n",
    "df['Sex'].value_counts()"
   ]
  },
  {
   "cell_type": "code",
   "execution_count": null,
   "id": "a66f536c-1e5b-486f-bc9e-c60893456da9",
   "metadata": {},
   "outputs": [],
   "source": [
    "# Value counts on a dataframe -- counts distinct rows with no null values. Not very useful! (in this example)\n",
    "# df.value_counts() # Uncomment me to see"
   ]
  },
  {
   "cell_type": "markdown",
   "id": "7dfb525b-b4e2-4d29-87d2-5527accbcb5e",
   "metadata": {},
   "source": [
    "#### Converting a Series to a list\n",
    "At any time, you can convert the values in a Series (a column) into a list by using the `.tolist()` method. This method may be useful if you want to do something with the list of values in a row using normal Python functions, such as using the `in` operator to check if a value is in the dataframe. This will be covered in more detail later on."
   ]
  },
  {
   "cell_type": "code",
   "execution_count": null,
   "id": "e981496a-ad92-490a-88d2-639833c7685e",
   "metadata": {},
   "outputs": [],
   "source": [
    "df['Name'].tolist()"
   ]
  },
  {
   "cell_type": "markdown",
   "id": "f222ace9-c589-478f-a591-768fab47b801",
   "metadata": {},
   "source": [
    "### Get multiple columns\n",
    "\n",
    "To get back several columns in a dataframe, replace the single column name (shown above) with a list of column names. Notice that because we selected more than one column, a new dataframe is returned instead of a Series object."
   ]
  },
  {
   "cell_type": "code",
   "execution_count": null,
   "id": "10d9a13d-fa43-4d48-a6f5-bc902f5ae0cb",
   "metadata": {},
   "outputs": [],
   "source": [
    "df[['Age', 'Sex']]"
   ]
  },
  {
   "cell_type": "markdown",
   "id": "70903dd3-3660-4010-a90a-d8ded28c788e",
   "metadata": {},
   "source": [
    "## Working with rows\n",
    "### Get a single row\n",
    "To get an individual row, use the `.loc[]` property an pass in an index label. In this case, the index labels are numbers 0-890, although they can take other values.\n",
    "\n",
    "Note that `.loc` is not a function, but rather a property. Thus, it is not called with parentheses but is instead passed an index inside square brackets `[]`."
   ]
  },
  {
   "cell_type": "code",
   "execution_count": null,
   "id": "8e67292b-473c-4289-b636-7f4ad58f5f8e",
   "metadata": {},
   "outputs": [],
   "source": [
    "df.loc[1]"
   ]
  },
  {
   "cell_type": "markdown",
   "id": "708b9b44-6da9-4ee0-a78d-a8006f303a79",
   "metadata": {},
   "source": [
    "Notice again that the formatting of this row is different-- this is another Series object! Pandas converted this single row of data into an array-like data structure.\n",
    "\n",
    "### Get multiple rows\n",
    "\n",
    "However, if we get multiple rows by slicing..."
   ]
  },
  {
   "cell_type": "code",
   "execution_count": null,
   "id": "668a6bce-7061-48a4-9b91-88578c2f99c0",
   "metadata": {},
   "outputs": [],
   "source": [
    "df.loc[1:3]"
   ]
  },
  {
   "cell_type": "markdown",
   "id": "c1183569-2517-4c4e-a897-1e59df67e7d3",
   "metadata": {},
   "source": [
    "... we can see just a few rows returned as a new dataframe.\n",
    "\n",
    "You can also get many different rows by passing a list of indexes to the `.loc` property."
   ]
  },
  {
   "cell_type": "code",
   "execution_count": null,
   "id": "e452b144-2b56-4982-9d91-90ecf80edde9",
   "metadata": {},
   "outputs": [],
   "source": [
    "df.loc[[3, 44, 610]]"
   ]
  },
  {
   "cell_type": "markdown",
   "id": "bf61b729-b7f2-4594-8fde-35bbc32ab0f9",
   "metadata": {
    "tags": []
   },
   "source": [
    "In addition to locating a row by its named index, we can also use the `.iloc` property to get a row by its positional index. Thus, the first row of the dataframe can be obtained without knowing what its index label is."
   ]
  },
  {
   "cell_type": "code",
   "execution_count": null,
   "id": "4aac9b8a-de6d-463a-9d83-4c8a3f3e64a1",
   "metadata": {},
   "outputs": [],
   "source": [
    "df.iloc[0]"
   ]
  },
  {
   "cell_type": "code",
   "execution_count": null,
   "id": "74a0e78f-fdd1-4009-8190-c629d6d64cf8",
   "metadata": {},
   "outputs": [],
   "source": [
    "df.iloc[[1, 44, 610]]"
   ]
  },
  {
   "cell_type": "markdown",
   "id": "d2a008f4-211e-4d67-bec7-6a1171750e3f",
   "metadata": {},
   "source": [
    "## Individual Cells and Mixed rows/columns\n",
    "### Get individual cell or mixed rows and columns\n",
    "To get an individual cell, you can use either `.loc` or `.iloc` to pass in a row and a column that you want to get back. `.loc` is used with named indexes, and `.iloc` is used with positional indexes. Note that neither of these properties use parentheses, but instead use square brackets to allow you to individually select items.\n",
    "\n",
    "#### `.loc`\n",
    "\n",
    "The `.loc` property allows you to access items from a dataframe by their named indexes. You can access either a single item, a single column and a slice of rows, a slice of columns and a single row, or a slice of columns and a slice of rows. You can also use `.loc` to get the entire dataframe. Note that you can get a slice of columns by placing a `:` between column names to get every column between them.\n",
    "\n",
    "Additionally, you can pass in a list of rows, a list of columns, or a list of both rows and columns to return. Note that when you use `.iloc` with columns, you are searching for the columns by their positional index and not by their named index as you would with `.loc`."
   ]
  },
  {
   "cell_type": "code",
   "execution_count": null,
   "id": "8214eefa-6078-4879-8cf8-81ae7a5e4a2c",
   "metadata": {},
   "outputs": [],
   "source": [
    "# Get a single cell from the table\n",
    "df.loc[50, 'Name']"
   ]
  },
  {
   "cell_type": "code",
   "execution_count": null,
   "id": "ee59078d-328a-44a1-a0ea-c0b4facfb193",
   "metadata": {},
   "outputs": [],
   "source": [
    "# Get a slice of rows and a single column\n",
    "df.loc[50:55, 'Name']"
   ]
  },
  {
   "cell_type": "code",
   "execution_count": null,
   "id": "91f16d15-4d53-4dd8-8a9d-04e788347a01",
   "metadata": {},
   "outputs": [],
   "source": [
    "# Get a single row and a slice of columns\n",
    "df.loc[50, 'Name':'SibSp']"
   ]
  },
  {
   "cell_type": "code",
   "execution_count": null,
   "id": "5c3fee55-2b1a-477c-8e98-97aa92e61537",
   "metadata": {},
   "outputs": [],
   "source": [
    "# Get a slice of rows and a slice of columns\n",
    "df.loc[50:55, 'Name':'SibSp']"
   ]
  },
  {
   "cell_type": "code",
   "execution_count": null,
   "id": "494df425-f202-4d0f-92ad-e7d23e35e054",
   "metadata": {},
   "outputs": [],
   "source": [
    "# Get a slice of rows and all columns\n",
    "df.loc[50:55, :]"
   ]
  },
  {
   "cell_type": "code",
   "execution_count": null,
   "id": "ae061bd0-c49f-4a48-842a-854c9114ec38",
   "metadata": {},
   "outputs": [],
   "source": [
    "# Get all rows and a slice of columns\n",
    "df.loc[:, 'Name':'SibSp']"
   ]
  },
  {
   "cell_type": "markdown",
   "id": "0d2e53fa-f8fc-4551-95d8-daa1782819e3",
   "metadata": {},
   "source": [
    "#### `.iloc`\n",
    "The `.iloc` property allows you to access items from a dataframe by their positional indexes. You can access either a single item, a single column and a slice of rows, a slice of columns and a single row, or a slice of columns and a slice of rows. You can also use `.iloc` to get the entire dataframe."
   ]
  },
  {
   "cell_type": "code",
   "execution_count": null,
   "id": "ba1cdc2c-a62f-4c12-863e-33c1478ce8c0",
   "metadata": {},
   "outputs": [],
   "source": [
    "# Get the value in the 51st row (50) and the fourth column (3)\n",
    "df.iloc[50, 3]"
   ]
  },
  {
   "cell_type": "code",
   "execution_count": null,
   "id": "498be052-3df0-41cc-9b0d-d64d6347cf9b",
   "metadata": {},
   "outputs": [],
   "source": [
    "# Get a slice of rows and a single column\n",
    "df.iloc[50:55, 3]"
   ]
  },
  {
   "cell_type": "code",
   "execution_count": null,
   "id": "d367b234-3394-45b0-8161-1df47cf4f6a6",
   "metadata": {},
   "outputs": [],
   "source": [
    "# Get a single row and a slice of columns\n",
    "df.iloc[50, 3:6]"
   ]
  },
  {
   "cell_type": "code",
   "execution_count": null,
   "id": "51d6a62e-a6b8-4622-b42d-9055a1a9f759",
   "metadata": {},
   "outputs": [],
   "source": [
    "# Get a slice of rows and a slice of columns\n",
    "df.iloc[50:55, 3:6]"
   ]
  },
  {
   "cell_type": "code",
   "execution_count": null,
   "id": "47c67747-f37f-4ea6-9dc5-a2e0cb673909",
   "metadata": {},
   "outputs": [],
   "source": [
    "# Get a slice of rows and all columns\n",
    "df.iloc[50:55, :]"
   ]
  },
  {
   "cell_type": "code",
   "execution_count": null,
   "id": "c25b91da-0875-4097-9985-365c4f0bf2c1",
   "metadata": {},
   "outputs": [],
   "source": [
    "# Get all rows and a slice of columns\n",
    "df.iloc[:, 3:6]"
   ]
  },
  {
   "cell_type": "markdown",
   "id": "5100abbd-01ec-4a0a-8c3f-4f5efe562920",
   "metadata": {},
   "source": [
    "While not used as frequently, you can also use `.loc` and `.iloc` to pick out specific rows and columns by passing in a list of rows and/or columns."
   ]
  },
  {
   "cell_type": "code",
   "execution_count": null,
   "id": "79fd2ff4-0fc7-48b3-9023-f95766250a0a",
   "metadata": {},
   "outputs": [],
   "source": [
    "# Get specific rows and columns with .loc[]\n",
    "df.loc[[3, 66, 549], ['Name', 'Ticket']]"
   ]
  },
  {
   "cell_type": "code",
   "execution_count": null,
   "id": "6e89a27a-a68e-4eee-9f4d-79169d785037",
   "metadata": {},
   "outputs": [],
   "source": [
    "# Get specific rows and columns with .iloc[]\n",
    "df.iloc[[3, 66, 549], [3, 8]]"
   ]
  }
 ],
 "metadata": {
  "kernelspec": {
   "display_name": "Python 3 (ipykernel)",
   "language": "python",
   "name": "python3"
  },
  "language_info": {
   "codemirror_mode": {
    "name": "ipython",
    "version": 3
   },
   "file_extension": ".py",
   "mimetype": "text/x-python",
   "name": "python",
   "nbconvert_exporter": "python",
   "pygments_lexer": "ipython3",
   "version": "3.10.2"
  }
 },
 "nbformat": 4,
 "nbformat_minor": 5
}
