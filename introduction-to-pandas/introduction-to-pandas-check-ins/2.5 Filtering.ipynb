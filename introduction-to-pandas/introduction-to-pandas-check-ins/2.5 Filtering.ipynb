{
 "cells": [
  {
   "cell_type": "markdown",
   "id": "26623c17-b8c6-4baa-926c-4bc3b7e88a3b",
   "metadata": {},
   "source": [
    "# 2.5 Filtering\n",
    "\n",
    "A data set contains a collection of many observations. However, many times, not all observations are relevant to the question being asked. Thus, filtering is an essential part of data analysis in that it allows the analyst to conduct their investigation with greater precision. Filtering also helps the programmer remove null values from the data set.\n",
    "\n",
    "Before we begin, let's import the data set."
   ]
  },
  {
   "cell_type": "code",
   "execution_count": null,
   "id": "c459d81c-a456-4be3-bd08-ce0611972d3b",
   "metadata": {},
   "outputs": [],
   "source": [
    "import pandas as pd\n",
    "df = pd.read_csv(\"./data/titanic.csv\")\n",
    "\n",
    "df.head()"
   ]
  },
  {
   "cell_type": "markdown",
   "id": "4a741e4a-618e-484f-be89-4f8772cfcd63",
   "metadata": {},
   "source": [
    "## Creating a filter\n",
    "\n",
    "Let's say that we want to create a filter that only contains first class passengers (ie. where `Pclass` is 1). To create this dataframe, we might first try to select the column `Pclass` and create a conditional statement where the column is equal to \"1\"."
   ]
  },
  {
   "cell_type": "code",
   "execution_count": null,
   "id": "c5512f5b-a37a-4dba-b167-c50567ff7f46",
   "metadata": {},
   "outputs": [],
   "source": [
    "df['Pclass'] == 1"
   ]
  },
  {
   "cell_type": "markdown",
   "id": "353245ae-8ef7-4df3-a2d0-765d48dd6f8c",
   "metadata": {},
   "source": [
    "Notice, however, that a Series object is returned instead of a dataframe! This ocurred because we grabbed a column (a Series) and tested the condition `== 1` across all of its rows. Thus, a new Series of boolean values (True/False) was returned to us.\n",
    "\n",
    "This Series of boolean values is the heart of filters in Pandas.\n",
    "\n",
    "We can use this filter with a dataframe by directly passing it in to the dataframe inside of square brackets."
   ]
  },
  {
   "cell_type": "code",
   "execution_count": null,
   "id": "103a5853-43d2-4cc8-9ea9-298f7fd38684",
   "metadata": {},
   "outputs": [],
   "source": [
    "df[ df['Pclass'] == 1 ].head()"
   ]
  },
  {
   "cell_type": "markdown",
   "id": "76e2abeb-2e91-41f1-9d86-1faf5a935d7e",
   "metadata": {},
   "source": [
    "Some people even prefer to set the filter equal to a variable before passing it into the dataframe. This makes the filter easier to read."
   ]
  },
  {
   "cell_type": "code",
   "execution_count": null,
   "id": "b721e067-ea60-40ee-bd74-a47e411654df",
   "metadata": {},
   "outputs": [],
   "source": [
    "firstClassPassengers = df['Pclass'] == 1\n",
    "df[ firstClassPassengers ].head()"
   ]
  },
  {
   "cell_type": "markdown",
   "id": "4b955dfe-8e8e-46a6-9c98-2015df94cf86",
   "metadata": {},
   "source": [
    "You can also apply filters to a dataframe by using the `.loc` property. **Using `.loc` with filtering is recommended over passing in the filter to the dataframe in brackets because it allows the analyst to (1) filter rows by a condition *and* (2) select individual columns to be returned.** This can be seen below."
   ]
  },
  {
   "cell_type": "code",
   "execution_count": null,
   "id": "a8fe9192-49ad-4fe6-8ac9-f67943ab3190",
   "metadata": {},
   "outputs": [],
   "source": [
    "females = df['Sex'] == 'female'\n",
    "df.loc[ females, ['Name', 'Sex'] ]"
   ]
  },
  {
   "cell_type": "markdown",
   "id": "4fbb6297-4cbb-4e99-a6f9-333b57b9cf08",
   "metadata": {},
   "source": [
    "## How it works\n",
    "Dataframes are built to recognize Series objects with boolean values. When the Series of booleans gets passed in to the dataframe between parentheses, the dataframe goes through each row and keeps each one where the same row in the boolean Series is True. All of the rows that match to False are discarded, and a dataframe with rows matching the True rows returned by the filter is created. This pattern is also used in other programming languages, such as R."
   ]
  },
  {
   "cell_type": "markdown",
   "id": "1e0dcccd-c8c1-4e1f-8563-e7c53faffa22",
   "metadata": {},
   "source": [
    "## Multiple filters at once\n",
    "You can also pass multiple conditions to a Series to get back a boolean Series. These conditional statements make use of standard logic statements such as *and*, *or*, and *not*, although the usage is slightly different.\n",
    "\n",
    "| Python | Pandas |\n",
    "| ------ | ------ |\n",
    "| and    | &      |\n",
    "| or     | \\|     |\n",
    "| not    | ~      |\n",
    "\n",
    "Multiple conditions can be created by simply encapsulating each condition in parenthesis and then combining them using either the `&` or the `|` symbols. The `~` symbol can be placed in front of a condition to negate it."
   ]
  },
  {
   "cell_type": "code",
   "execution_count": null,
   "id": "0a4e7cb1-cb5f-4f09-ae17-095f7cdd689c",
   "metadata": {},
   "outputs": [],
   "source": [
    "male_and_embarked_at_queenstown = (df['Sex'] == 'male') & (df['Embarked'] == 'Q')\n",
    "df.loc[male_and_embarked_at_queenstown].head()"
   ]
  },
  {
   "cell_type": "code",
   "execution_count": null,
   "id": "be109b50-a2df-42a3-9a2a-727d20745483",
   "metadata": {},
   "outputs": [],
   "source": [
    "younger_than_18_or_older_than_65 = (df['Age'] < 18) | (df['Age'] > 65)\n",
    "df.loc[younger_than_18_or_older_than_65]"
   ]
  },
  {
   "cell_type": "code",
   "execution_count": null,
   "id": "861a0f26-088f-4716-b224-043dcc3823cd",
   "metadata": {},
   "outputs": [],
   "source": [
    "not_first_class_and_not_embarked_Cherbourg = ~(df['Pclass'] == 1) & ~(df['Embarked'] == 'C')\n",
    "df.loc[not_first_class_and_not_embarked_Cherbourg]"
   ]
  },
  {
   "cell_type": "markdown",
   "id": "917024e3-a302-4a38-b297-7f7f8b6f3828",
   "metadata": {},
   "source": [
    "## Filtering by string\n",
    "In a normal Python conditional statment, we can determine if a string exists inside of another string by using the `in` key word."
   ]
  },
  {
   "cell_type": "code",
   "execution_count": null,
   "id": "627a0522-5708-40e0-ac06-1ed481c83792",
   "metadata": {},
   "outputs": [],
   "source": [
    "\"wizard\" in \"You're a wizard, Harry!\""
   ]
  },
  {
   "cell_type": "markdown",
   "id": "25dfd49f-1a7a-4de1-8aba-f5214c761816",
   "metadata": {},
   "source": [
    "Unfortunately, it's not that simple in a Pandas dataframe. However, the Series object does come with some string methods built into it.\n",
    "\n",
    "We can use the `.str` property to access the string methods of a Series object. Then, we can decide which method to call by extending this property into a function call. To search for a string inside of another string, we can use the `.contains` method.\n",
    "\n",
    "In this example, we will try to find all unmarried women by searching for the title \"Ms.\" or \"Miss\" inside of the column \"Name\"."
   ]
  },
  {
   "cell_type": "code",
   "execution_count": null,
   "id": "60e1dda5-104e-4444-9d5c-bc2bc47e2347",
   "metadata": {},
   "outputs": [],
   "source": [
    "unmarried_women = (df['Name'].str.contains(\"Ms.\")) | (df['Name'].str.contains(\"Miss\"))\n",
    "df.loc[ unmarried_women ]"
   ]
  },
  {
   "cell_type": "code",
   "execution_count": null,
   "id": "ae51abf0-729b-4fc3-ad55-5f499e9b0637",
   "metadata": {},
   "outputs": [],
   "source": []
  }
 ],
 "metadata": {
  "kernelspec": {
   "display_name": "Python 3 (ipykernel)",
   "language": "python",
   "name": "python3"
  },
  "language_info": {
   "codemirror_mode": {
    "name": "ipython",
    "version": 3
   },
   "file_extension": ".py",
   "mimetype": "text/x-python",
   "name": "python",
   "nbconvert_exporter": "python",
   "pygments_lexer": "ipython3",
   "version": "3.10.2"
  }
 },
 "nbformat": 4,
 "nbformat_minor": 5
}
