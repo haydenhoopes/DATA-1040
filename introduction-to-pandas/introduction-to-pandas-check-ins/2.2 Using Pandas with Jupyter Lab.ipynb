{
 "cells": [
  {
   "cell_type": "markdown",
   "id": "0f2d3985-f305-451e-8d13-ada718cdc393",
   "metadata": {},
   "source": [
    "# 2.2 Using Pandas with Jupyter Lab\n",
    "\"Pandas was made to be used with Jupyter Lab.\" While that statement might not be literally true, in practice, Pandas is almost always used in conjunction with Jupyter Lab. However, this close relationship isn't necessarily due to a close compatibility between the two technologies, but more because the goals of both Pandas and Jupyter Lab are closely aligned.\n",
    "\n",
    "Data analysis is a process that begins with data exploration. During exploration, data scientists attempt to gain a general comprehension of what the data looks by iterating over different parts of the data set. In each iteration, the data set is broken down and aggregated across new dimensions, and the more interesting ones are explored more carefully to try and spot trends and outliers. In this way, data exploration methodically narrows down the scope of the analysis to include information that is relevant to the stakeholder. Eventually, visualizations are produced and tests may be run to discover the statistical significance of the dimensions analyzed, culminating in discussions with the stakeholder, using the visualizations and data exploration to facilitate understanding of the process.\n",
    "\n",
    "Because data exploration is a fluid process, where the \"next step\" is unknown and priorities are constantly changing, it's important for data scientists to be able to step through their processes and change their focus (and code) as new information is gathered. Thus, traditional code editors like Visual Studio Code aren't great for data exploration because the entire process needs to be run each time a new line of code is added.\n",
    "\n",
    "In Jupyter Lab, however, code cells can be executed and changed at will without affecting processes run previously. The Jupyter kernel keeps track of all variables and connections that the code has produced and keeps the process running. This means that data can be processed once and the code can change many times to explore it without re-processing it. This becomes very important when there is a lot of data to process.\n",
    "\n",
    "Jupyter Lab is also useful because it runs in a browser and can thus take advantage of the formatting power of HTML. For example, you could print out a Pandas dataframe in a regular Python script, but printing out the same Pandas dataframe in Jupyter Lab causes it to be automatically formatted as a table, which is easier to view and understand.\n",
    "\n",
    "Furthermore, visualizations produced in Jupyter Lab are created as HTML and become part of the document. Thus, the graphic can be referred to long after the process is run. On the contrary, visualizations produced in a Python script are produced while the process is running and then are deleted afterwards.\n"
   ]
  }
 ],
 "metadata": {
  "kernelspec": {
   "display_name": "Python 3 (ipykernel)",
   "language": "python",
   "name": "python3"
  },
  "language_info": {
   "codemirror_mode": {
    "name": "ipython",
    "version": 3
   },
   "file_extension": ".py",
   "mimetype": "text/x-python",
   "name": "python",
   "nbconvert_exporter": "python",
   "pygments_lexer": "ipython3",
   "version": "3.10.2"
  }
 },
 "nbformat": 4,
 "nbformat_minor": 5
}
