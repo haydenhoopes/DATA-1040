{
 "cells": [
  {
   "cell_type": "markdown",
   "id": "985abafb-c1bc-4668-9eec-2abd0f129c97",
   "metadata": {
    "tags": []
   },
   "source": [
    "# 2.6 Updating Rows and Columns\n",
    "A really big part of cleaning data with Pandas is the ability to add/update rows and columns. We can do this using some Pandas functions as seen below.\n",
    "\n",
    "### About the data\n",
    "​\n",
    "The data used in this notebook shows information about passengers on the *Titanic* cruiseliner, a ship which set out from Southampton, U.K. to sail across the Atlantic ocean and which tragically sank upon collision with an iceberg. The dataset contains information about each passenger's passenger class, name, sex, age, siblings, parents/children, ticket number, ticket fare, cabin number, and the embarked location. It also contains information about each passenger's survival status. This data set is extremely popular among data scientists and will facilitate demonstrations of Pandas concepts.\n",
    "\n",
    "First, we will import pandas and read the data into a dataframe."
   ]
  },
  {
   "cell_type": "code",
   "execution_count": 2,
   "id": "6b02b1e0-fd09-4429-9db7-e477df554b78",
   "metadata": {},
   "outputs": [],
   "source": [
    "import pandas as pd\n",
    "df = pd.read_csv(\"./data/titanic.csv\")"
   ]
  },
  {
   "cell_type": "code",
   "execution_count": 3,
   "id": "cca3670a-d033-4c8b-9e80-06010b6757e1",
   "metadata": {},
   "outputs": [
    {
     "data": {
      "text/html": [
       "<div>\n",
       "<style scoped>\n",
       "    .dataframe tbody tr th:only-of-type {\n",
       "        vertical-align: middle;\n",
       "    }\n",
       "\n",
       "    .dataframe tbody tr th {\n",
       "        vertical-align: top;\n",
       "    }\n",
       "\n",
       "    .dataframe thead th {\n",
       "        text-align: right;\n",
       "    }\n",
       "</style>\n",
       "<table border=\"1\" class=\"dataframe\">\n",
       "  <thead>\n",
       "    <tr style=\"text-align: right;\">\n",
       "      <th></th>\n",
       "      <th>PassengerId</th>\n",
       "      <th>Survived</th>\n",
       "      <th>Pclass</th>\n",
       "      <th>Name</th>\n",
       "      <th>Sex</th>\n",
       "      <th>Age</th>\n",
       "      <th>SibSp</th>\n",
       "      <th>Parch</th>\n",
       "      <th>Ticket</th>\n",
       "      <th>Fare</th>\n",
       "      <th>Cabin</th>\n",
       "      <th>Embarked</th>\n",
       "    </tr>\n",
       "  </thead>\n",
       "  <tbody>\n",
       "    <tr>\n",
       "      <th>0</th>\n",
       "      <td>1</td>\n",
       "      <td>0</td>\n",
       "      <td>3</td>\n",
       "      <td>Braund, Mr. Owen Harris</td>\n",
       "      <td>male</td>\n",
       "      <td>22.0</td>\n",
       "      <td>1</td>\n",
       "      <td>0</td>\n",
       "      <td>A/5 21171</td>\n",
       "      <td>7.2500</td>\n",
       "      <td>NaN</td>\n",
       "      <td>S</td>\n",
       "    </tr>\n",
       "    <tr>\n",
       "      <th>1</th>\n",
       "      <td>2</td>\n",
       "      <td>1</td>\n",
       "      <td>1</td>\n",
       "      <td>Cumings, Mrs. John Bradley (Florence Briggs Th...</td>\n",
       "      <td>female</td>\n",
       "      <td>38.0</td>\n",
       "      <td>1</td>\n",
       "      <td>0</td>\n",
       "      <td>PC 17599</td>\n",
       "      <td>71.2833</td>\n",
       "      <td>C85</td>\n",
       "      <td>C</td>\n",
       "    </tr>\n",
       "    <tr>\n",
       "      <th>2</th>\n",
       "      <td>3</td>\n",
       "      <td>1</td>\n",
       "      <td>3</td>\n",
       "      <td>Heikkinen, Miss. Laina</td>\n",
       "      <td>female</td>\n",
       "      <td>26.0</td>\n",
       "      <td>0</td>\n",
       "      <td>0</td>\n",
       "      <td>STON/O2. 3101282</td>\n",
       "      <td>7.9250</td>\n",
       "      <td>NaN</td>\n",
       "      <td>S</td>\n",
       "    </tr>\n",
       "    <tr>\n",
       "      <th>3</th>\n",
       "      <td>4</td>\n",
       "      <td>1</td>\n",
       "      <td>1</td>\n",
       "      <td>Futrelle, Mrs. Jacques Heath (Lily May Peel)</td>\n",
       "      <td>female</td>\n",
       "      <td>35.0</td>\n",
       "      <td>1</td>\n",
       "      <td>0</td>\n",
       "      <td>113803</td>\n",
       "      <td>53.1000</td>\n",
       "      <td>C123</td>\n",
       "      <td>S</td>\n",
       "    </tr>\n",
       "    <tr>\n",
       "      <th>4</th>\n",
       "      <td>5</td>\n",
       "      <td>0</td>\n",
       "      <td>3</td>\n",
       "      <td>Allen, Mr. William Henry</td>\n",
       "      <td>male</td>\n",
       "      <td>35.0</td>\n",
       "      <td>0</td>\n",
       "      <td>0</td>\n",
       "      <td>373450</td>\n",
       "      <td>8.0500</td>\n",
       "      <td>NaN</td>\n",
       "      <td>S</td>\n",
       "    </tr>\n",
       "  </tbody>\n",
       "</table>\n",
       "</div>"
      ],
      "text/plain": [
       "   PassengerId  Survived  Pclass  \\\n",
       "0            1         0       3   \n",
       "1            2         1       1   \n",
       "2            3         1       3   \n",
       "3            4         1       1   \n",
       "4            5         0       3   \n",
       "\n",
       "                                                Name     Sex   Age  SibSp  \\\n",
       "0                            Braund, Mr. Owen Harris    male  22.0      1   \n",
       "1  Cumings, Mrs. John Bradley (Florence Briggs Th...  female  38.0      1   \n",
       "2                             Heikkinen, Miss. Laina  female  26.0      0   \n",
       "3       Futrelle, Mrs. Jacques Heath (Lily May Peel)  female  35.0      1   \n",
       "4                           Allen, Mr. William Henry    male  35.0      0   \n",
       "\n",
       "   Parch            Ticket     Fare Cabin Embarked  \n",
       "0      0         A/5 21171   7.2500   NaN        S  \n",
       "1      0          PC 17599  71.2833   C85        C  \n",
       "2      0  STON/O2. 3101282   7.9250   NaN        S  \n",
       "3      0            113803  53.1000  C123        S  \n",
       "4      0            373450   8.0500   NaN        S  "
      ]
     },
     "execution_count": 3,
     "metadata": {},
     "output_type": "execute_result"
    }
   ],
   "source": [
    "df.head()"
   ]
  },
  {
   "cell_type": "markdown",
   "id": "80d5c8d2-35e3-4cdd-b460-dd8c66e35d8b",
   "metadata": {},
   "source": [
    "## Renaming Columns\n",
    "There are a few different ways that we can rename columns in a dataframe. One way to do so is to set the `columns` property of the dataframe to a list of strings equal in length to the number of columns in the dataframe.\n",
    "\n",
    "***Changing the columns in this way, however, is not easy***. You can't just change one column name at a time, but instead have to pass the full list of column names. If the dataset has 80 columns, that would be very tiresome. Below we'll see how to do it anyway.\n",
    "\n",
    "First, let's make a copy of the dataframe using the `.copy()` method. The `.copy()` method makes a copy of the dataframe and stores it in a variable so that the original dataframe isn't accidentally changed during exploration, which would require re-importing the data. By making a copy of the dataframe, we won't accidentally change the column names of the original dataframe, which we may want again later."
   ]
  },
  {
   "cell_type": "code",
   "execution_count": 4,
   "id": "b17e843a-b1bc-4daa-aca7-5a1d57fc9656",
   "metadata": {
    "tags": []
   },
   "outputs": [],
   "source": [
    "# Make a copy of the dataframe\n",
    "copy_df = df.copy()"
   ]
  },
  {
   "cell_type": "markdown",
   "id": "48c5a633-4f9a-466e-855b-582c2cf9c146",
   "metadata": {},
   "source": [
    "### Using the `.columns` property\n",
    "You can use the `.columns` property to get an array of columns on a dataframe. Because `.columns` is a property, it does not have parentheses."
   ]
  },
  {
   "cell_type": "code",
   "execution_count": 5,
   "id": "5d1a72ae-0498-4733-863f-ccf90a991d1a",
   "metadata": {},
   "outputs": [
    {
     "data": {
      "text/plain": [
       "Index(['PassengerId', 'Survived', 'Pclass', 'Name', 'Sex', 'Age', 'SibSp',\n",
       "       'Parch', 'Ticket', 'Fare', 'Cabin', 'Embarked'],\n",
       "      dtype='object')"
      ]
     },
     "execution_count": 5,
     "metadata": {},
     "output_type": "execute_result"
    }
   ],
   "source": [
    "# View the `columns` property of the dataframe\n",
    "copy_df.columns"
   ]
  },
  {
   "cell_type": "markdown",
   "id": "8e207d5d-1491-4a2c-a386-9db6b6c16d31",
   "metadata": {},
   "source": [
    "We can then set the `.columns` property equal to a list of strings, which will be the new column names. Note that the list has to have the same number of strings as there are columns or it will not work."
   ]
  },
  {
   "cell_type": "code",
   "execution_count": 6,
   "id": "b3652261-8be1-4788-b7b3-963241e278bd",
   "metadata": {},
   "outputs": [],
   "source": [
    "copy_df.columns = ['ID', 'LIVED?', 'CLASS', 'FULL NAME', 'SEX', 'HOW OLD?', 'NUMBER OF SIBLINGS', 'NUMBER OF PARENTS OR CHILDREN', 'TICKET NUMBER', 'HOW MUCH PAID', 'CABIN LOCATION', 'EMBARKED WHERE?']"
   ]
  },
  {
   "cell_type": "markdown",
   "id": "8d923f44-49aa-4acb-b5f7-98097392b5da",
   "metadata": {},
   "source": [
    "Now when we print out the dataframe, we can see that the column names have changed."
   ]
  },
  {
   "cell_type": "code",
   "execution_count": 7,
   "id": "ac3f493e-b1a9-4501-bb3d-167c4a24e60a",
   "metadata": {},
   "outputs": [
    {
     "data": {
      "text/html": [
       "<div>\n",
       "<style scoped>\n",
       "    .dataframe tbody tr th:only-of-type {\n",
       "        vertical-align: middle;\n",
       "    }\n",
       "\n",
       "    .dataframe tbody tr th {\n",
       "        vertical-align: top;\n",
       "    }\n",
       "\n",
       "    .dataframe thead th {\n",
       "        text-align: right;\n",
       "    }\n",
       "</style>\n",
       "<table border=\"1\" class=\"dataframe\">\n",
       "  <thead>\n",
       "    <tr style=\"text-align: right;\">\n",
       "      <th></th>\n",
       "      <th>ID</th>\n",
       "      <th>LIVED?</th>\n",
       "      <th>CLASS</th>\n",
       "      <th>FULL NAME</th>\n",
       "      <th>SEX</th>\n",
       "      <th>HOW OLD?</th>\n",
       "      <th>NUMBER OF SIBLINGS</th>\n",
       "      <th>NUMBER OF PARENTS OR CHILDREN</th>\n",
       "      <th>TICKET NUMBER</th>\n",
       "      <th>HOW MUCH PAID</th>\n",
       "      <th>CABIN LOCATION</th>\n",
       "      <th>EMBARKED WHERE?</th>\n",
       "    </tr>\n",
       "  </thead>\n",
       "  <tbody>\n",
       "    <tr>\n",
       "      <th>0</th>\n",
       "      <td>1</td>\n",
       "      <td>0</td>\n",
       "      <td>3</td>\n",
       "      <td>Braund, Mr. Owen Harris</td>\n",
       "      <td>male</td>\n",
       "      <td>22.0</td>\n",
       "      <td>1</td>\n",
       "      <td>0</td>\n",
       "      <td>A/5 21171</td>\n",
       "      <td>7.2500</td>\n",
       "      <td>NaN</td>\n",
       "      <td>S</td>\n",
       "    </tr>\n",
       "    <tr>\n",
       "      <th>1</th>\n",
       "      <td>2</td>\n",
       "      <td>1</td>\n",
       "      <td>1</td>\n",
       "      <td>Cumings, Mrs. John Bradley (Florence Briggs Th...</td>\n",
       "      <td>female</td>\n",
       "      <td>38.0</td>\n",
       "      <td>1</td>\n",
       "      <td>0</td>\n",
       "      <td>PC 17599</td>\n",
       "      <td>71.2833</td>\n",
       "      <td>C85</td>\n",
       "      <td>C</td>\n",
       "    </tr>\n",
       "    <tr>\n",
       "      <th>2</th>\n",
       "      <td>3</td>\n",
       "      <td>1</td>\n",
       "      <td>3</td>\n",
       "      <td>Heikkinen, Miss. Laina</td>\n",
       "      <td>female</td>\n",
       "      <td>26.0</td>\n",
       "      <td>0</td>\n",
       "      <td>0</td>\n",
       "      <td>STON/O2. 3101282</td>\n",
       "      <td>7.9250</td>\n",
       "      <td>NaN</td>\n",
       "      <td>S</td>\n",
       "    </tr>\n",
       "    <tr>\n",
       "      <th>3</th>\n",
       "      <td>4</td>\n",
       "      <td>1</td>\n",
       "      <td>1</td>\n",
       "      <td>Futrelle, Mrs. Jacques Heath (Lily May Peel)</td>\n",
       "      <td>female</td>\n",
       "      <td>35.0</td>\n",
       "      <td>1</td>\n",
       "      <td>0</td>\n",
       "      <td>113803</td>\n",
       "      <td>53.1000</td>\n",
       "      <td>C123</td>\n",
       "      <td>S</td>\n",
       "    </tr>\n",
       "    <tr>\n",
       "      <th>4</th>\n",
       "      <td>5</td>\n",
       "      <td>0</td>\n",
       "      <td>3</td>\n",
       "      <td>Allen, Mr. William Henry</td>\n",
       "      <td>male</td>\n",
       "      <td>35.0</td>\n",
       "      <td>0</td>\n",
       "      <td>0</td>\n",
       "      <td>373450</td>\n",
       "      <td>8.0500</td>\n",
       "      <td>NaN</td>\n",
       "      <td>S</td>\n",
       "    </tr>\n",
       "  </tbody>\n",
       "</table>\n",
       "</div>"
      ],
      "text/plain": [
       "   ID  LIVED?  CLASS                                          FULL NAME  \\\n",
       "0   1       0      3                            Braund, Mr. Owen Harris   \n",
       "1   2       1      1  Cumings, Mrs. John Bradley (Florence Briggs Th...   \n",
       "2   3       1      3                             Heikkinen, Miss. Laina   \n",
       "3   4       1      1       Futrelle, Mrs. Jacques Heath (Lily May Peel)   \n",
       "4   5       0      3                           Allen, Mr. William Henry   \n",
       "\n",
       "      SEX  HOW OLD?  NUMBER OF SIBLINGS  NUMBER OF PARENTS OR CHILDREN  \\\n",
       "0    male      22.0                   1                              0   \n",
       "1  female      38.0                   1                              0   \n",
       "2  female      26.0                   0                              0   \n",
       "3  female      35.0                   1                              0   \n",
       "4    male      35.0                   0                              0   \n",
       "\n",
       "      TICKET NUMBER  HOW MUCH PAID CABIN LOCATION EMBARKED WHERE?  \n",
       "0         A/5 21171         7.2500            NaN               S  \n",
       "1          PC 17599        71.2833            C85               C  \n",
       "2  STON/O2. 3101282         7.9250            NaN               S  \n",
       "3            113803        53.1000           C123               S  \n",
       "4            373450         8.0500            NaN               S  "
      ]
     },
     "execution_count": 7,
     "metadata": {},
     "output_type": "execute_result"
    }
   ],
   "source": [
    "copy_df.head()"
   ]
  },
  {
   "cell_type": "markdown",
   "id": "6bb71455-c8cf-4cf3-8875-025e5f46890f",
   "metadata": {},
   "source": [
    "### Using the `.rename()` method\n",
    "The easiest way to rename a column in Pandas is by using the `.rename()` method. This method allows the programmer to change any number of column names. Let's give it a try with a new copy of the dataframe.\n",
    "\n",
    "This method takes in a parameter called `columns`, which is then set equal to a dictionary. In this dictionary, the key (before the colon `:`) is the current name of the column and the value (after the colon `:`) is the new name of the column."
   ]
  },
  {
   "cell_type": "code",
   "execution_count": 7,
   "id": "b138396e-d58e-4bcc-98cf-02b9a94d6612",
   "metadata": {},
   "outputs": [
    {
     "data": {
      "text/html": [
       "<div>\n",
       "<style scoped>\n",
       "    .dataframe tbody tr th:only-of-type {\n",
       "        vertical-align: middle;\n",
       "    }\n",
       "\n",
       "    .dataframe tbody tr th {\n",
       "        vertical-align: top;\n",
       "    }\n",
       "\n",
       "    .dataframe thead th {\n",
       "        text-align: right;\n",
       "    }\n",
       "</style>\n",
       "<table border=\"1\" class=\"dataframe\">\n",
       "  <thead>\n",
       "    <tr style=\"text-align: right;\">\n",
       "      <th></th>\n",
       "      <th>ID</th>\n",
       "      <th>LIVED?</th>\n",
       "      <th>CLASS</th>\n",
       "      <th>FULL NAME</th>\n",
       "      <th>SEX</th>\n",
       "      <th>HOW OLD?</th>\n",
       "      <th>NUMBER OF SIBLINGS</th>\n",
       "      <th>NUMBER OF PARENTS OR CHILDREN</th>\n",
       "      <th>TICKET NUMBER</th>\n",
       "      <th>HOW MUCH PAID</th>\n",
       "      <th>CABIN LOCATION</th>\n",
       "      <th>EMBARKED WHERE?</th>\n",
       "    </tr>\n",
       "  </thead>\n",
       "  <tbody>\n",
       "    <tr>\n",
       "      <th>0</th>\n",
       "      <td>1</td>\n",
       "      <td>0</td>\n",
       "      <td>3</td>\n",
       "      <td>Braund, Mr. Owen Harris</td>\n",
       "      <td>male</td>\n",
       "      <td>22.0</td>\n",
       "      <td>1</td>\n",
       "      <td>0</td>\n",
       "      <td>A/5 21171</td>\n",
       "      <td>7.2500</td>\n",
       "      <td>NaN</td>\n",
       "      <td>S</td>\n",
       "    </tr>\n",
       "    <tr>\n",
       "      <th>1</th>\n",
       "      <td>2</td>\n",
       "      <td>1</td>\n",
       "      <td>1</td>\n",
       "      <td>Cumings, Mrs. John Bradley (Florence Briggs Th...</td>\n",
       "      <td>female</td>\n",
       "      <td>38.0</td>\n",
       "      <td>1</td>\n",
       "      <td>0</td>\n",
       "      <td>PC 17599</td>\n",
       "      <td>71.2833</td>\n",
       "      <td>C85</td>\n",
       "      <td>C</td>\n",
       "    </tr>\n",
       "  </tbody>\n",
       "</table>\n",
       "</div>"
      ],
      "text/plain": [
       "   ID  LIVED?  CLASS                                          FULL NAME  \\\n",
       "0   1       0      3                            Braund, Mr. Owen Harris   \n",
       "1   2       1      1  Cumings, Mrs. John Bradley (Florence Briggs Th...   \n",
       "\n",
       "      SEX  HOW OLD?  NUMBER OF SIBLINGS  NUMBER OF PARENTS OR CHILDREN  \\\n",
       "0    male      22.0                   1                              0   \n",
       "1  female      38.0                   1                              0   \n",
       "\n",
       "  TICKET NUMBER  HOW MUCH PAID CABIN LOCATION EMBARKED WHERE?  \n",
       "0     A/5 21171         7.2500            NaN               S  \n",
       "1      PC 17599        71.2833            C85               C  "
      ]
     },
     "execution_count": 7,
     "metadata": {},
     "output_type": "execute_result"
    }
   ],
   "source": [
    "# Using the `.rename()` method\n",
    "copy_df.rename(columns={'LIVED?': 'Survived'})\n",
    "copy_df.head(2)"
   ]
  },
  {
   "cell_type": "markdown",
   "id": "4d45a0e3-7db8-4507-81e1-3f378ff791ec",
   "metadata": {},
   "source": [
    "What do you see? We used the `.rename()` method above and there were no errors... But the column name didn't change! That's because the `.rename()` method returns an entirely new dataframe without modifying the old one. Thus, in the code above, we created a copy of the `copy_df` dataframe, changed it's column name...and then did nothing with it. It got thrown out, and then we looked at the original `copy_df` dataframe.\n",
    "\n",
    "To get around this, many methods on Pandas dataframes have an optional parameter called `inplace`, which means \"Replace the original dataframe with this new dataframe?\". By default, it is set to `False`, but if we set it to `True`, we will see that the column name in the original dataframe is changed. (Note: We also could have just saved the the result of the `.rename()` method to a new dataframe)"
   ]
  },
  {
   "cell_type": "code",
   "execution_count": 9,
   "id": "41cdde9c-fd67-4a42-8518-279351b3d706",
   "metadata": {},
   "outputs": [
    {
     "data": {
      "text/html": [
       "<div>\n",
       "<style scoped>\n",
       "    .dataframe tbody tr th:only-of-type {\n",
       "        vertical-align: middle;\n",
       "    }\n",
       "\n",
       "    .dataframe tbody tr th {\n",
       "        vertical-align: top;\n",
       "    }\n",
       "\n",
       "    .dataframe thead th {\n",
       "        text-align: right;\n",
       "    }\n",
       "</style>\n",
       "<table border=\"1\" class=\"dataframe\">\n",
       "  <thead>\n",
       "    <tr style=\"text-align: right;\">\n",
       "      <th></th>\n",
       "      <th>ID</th>\n",
       "      <th>Survived</th>\n",
       "      <th>CLASS</th>\n",
       "      <th>FULL NAME</th>\n",
       "      <th>SEX</th>\n",
       "      <th>HOW OLD?</th>\n",
       "      <th>NUMBER OF SIBLINGS</th>\n",
       "      <th>NUMBER OF PARENTS OR CHILDREN</th>\n",
       "      <th>TICKET NUMBER</th>\n",
       "      <th>HOW MUCH PAID</th>\n",
       "      <th>CABIN LOCATION</th>\n",
       "      <th>EMBARKED WHERE?</th>\n",
       "    </tr>\n",
       "  </thead>\n",
       "  <tbody>\n",
       "    <tr>\n",
       "      <th>0</th>\n",
       "      <td>1</td>\n",
       "      <td>0</td>\n",
       "      <td>3</td>\n",
       "      <td>Braund, Mr. Owen Harris</td>\n",
       "      <td>male</td>\n",
       "      <td>22.0</td>\n",
       "      <td>1</td>\n",
       "      <td>0</td>\n",
       "      <td>A/5 21171</td>\n",
       "      <td>7.2500</td>\n",
       "      <td>NaN</td>\n",
       "      <td>S</td>\n",
       "    </tr>\n",
       "    <tr>\n",
       "      <th>1</th>\n",
       "      <td>2</td>\n",
       "      <td>1</td>\n",
       "      <td>1</td>\n",
       "      <td>Cumings, Mrs. John Bradley (Florence Briggs Th...</td>\n",
       "      <td>female</td>\n",
       "      <td>38.0</td>\n",
       "      <td>1</td>\n",
       "      <td>0</td>\n",
       "      <td>PC 17599</td>\n",
       "      <td>71.2833</td>\n",
       "      <td>C85</td>\n",
       "      <td>C</td>\n",
       "    </tr>\n",
       "  </tbody>\n",
       "</table>\n",
       "</div>"
      ],
      "text/plain": [
       "   ID  Survived  CLASS                                          FULL NAME  \\\n",
       "0   1         0      3                            Braund, Mr. Owen Harris   \n",
       "1   2         1      1  Cumings, Mrs. John Bradley (Florence Briggs Th...   \n",
       "\n",
       "      SEX  HOW OLD?  NUMBER OF SIBLINGS  NUMBER OF PARENTS OR CHILDREN  \\\n",
       "0    male      22.0                   1                              0   \n",
       "1  female      38.0                   1                              0   \n",
       "\n",
       "  TICKET NUMBER  HOW MUCH PAID CABIN LOCATION EMBARKED WHERE?  \n",
       "0     A/5 21171         7.2500            NaN               S  \n",
       "1      PC 17599        71.2833            C85               C  "
      ]
     },
     "execution_count": 9,
     "metadata": {},
     "output_type": "execute_result"
    }
   ],
   "source": [
    "copy_df.rename(columns={'LIVED?': 'Survived'}, inplace=True)\n",
    "copy_df.head(2)"
   ]
  },
  {
   "cell_type": "markdown",
   "id": "ac66df74-9dda-4876-8d08-689c6ea9e035",
   "metadata": {},
   "source": [
    "### Formatting Column Names\n",
    "In some cases, you may want to change the format of column names. For example, notice how some of the column names above have spaces in them. Sometimes, these spaces might get in the way of your analysis. You can select a column that doesn't have spaces in its name by using a dot with the dataframe `df.column_name`. However, if there is a space in the column name, you can't access the column that way and must use square brackets instead `df['column_name']`."
   ]
  },
  {
   "cell_type": "code",
   "execution_count": 10,
   "id": "eb91c3a4-71eb-4370-87f9-34f7b04402fe",
   "metadata": {},
   "outputs": [
    {
     "data": {
      "text/plain": [
       "0      0\n",
       "1      1\n",
       "2      1\n",
       "3      1\n",
       "4      0\n",
       "      ..\n",
       "886    0\n",
       "887    1\n",
       "888    0\n",
       "889    1\n",
       "890    0\n",
       "Name: Survived, Length: 891, dtype: int64"
      ]
     },
     "execution_count": 10,
     "metadata": {},
     "output_type": "execute_result"
    }
   ],
   "source": [
    "copy_df.Survived"
   ]
  },
  {
   "cell_type": "code",
   "execution_count": 11,
   "id": "2a7d3616-5e20-474c-90e4-8adbbdab44ea",
   "metadata": {},
   "outputs": [
    {
     "ename": "SyntaxError",
     "evalue": "invalid syntax (643309674.py, line 1)",
     "output_type": "error",
     "traceback": [
      "\u001b[1;36m  Input \u001b[1;32mIn [11]\u001b[1;36m\u001b[0m\n\u001b[1;33m    copy_df.FULL NAME\u001b[0m\n\u001b[1;37m                 ^\u001b[0m\n\u001b[1;31mSyntaxError\u001b[0m\u001b[1;31m:\u001b[0m invalid syntax\n"
     ]
    }
   ],
   "source": [
    "copy_df.FULL NAME"
   ]
  },
  {
   "cell_type": "markdown",
   "id": "6010e317-e524-41b8-ac65-fb369c74afe9",
   "metadata": {},
   "source": [
    "You may also want all of your columns to be lowercase, uppercase, or exclude non-alphanumeric characters. We can do this with the `.str.replace()` method on the `columns` property of the dataframe. We can then use the `.str.lower()` method to make all of the letters lowercase.\n",
    "\n",
    "Notice that we set the `columns` property of the dataframe equal to the new list of columns in which we replaced the spaces. The `.str` methods do not have an `inplace` argument."
   ]
  },
  {
   "cell_type": "code",
   "execution_count": null,
   "id": "6d78ebff-8e61-474d-a342-1471bff14db2",
   "metadata": {},
   "outputs": [],
   "source": [
    "# Replace spaces of the column names with underscore `_`\n",
    "copy_df.columns = copy_df.columns.str.replace(\" \", \"_\")\n",
    "copy_df.columns = copy_df.columns.str.lower()\n",
    "copy_df.head()"
   ]
  },
  {
   "cell_type": "markdown",
   "id": "d1490780-5cc0-471b-a82a-76a946f05248",
   "metadata": {
    "tags": []
   },
   "source": [
    "## Cleaning Data\n",
    "Now that we've cleaned up the column names, we can clean up the data as well. There are four different methods that we can use to clean up the data in our dataframe, each of which has its own particular use.\n",
    "\n",
    "### The `.apply()` method\n",
    "**Applies to dataframes and Series objects.**\n",
    "\n",
    "You may have seen before the `.max()` or `.mean()` methods used on a dataframe or Series."
   ]
  },
  {
   "cell_type": "code",
   "execution_count": null,
   "id": "325a0f77-f20e-4d65-b372-7f97b12dbdd0",
   "metadata": {},
   "outputs": [],
   "source": [
    "df['Age'].mean()"
   ]
  },
  {
   "cell_type": "markdown",
   "id": "9b202c04-bd88-474b-bc4e-3f1eca2789ea",
   "metadata": {},
   "source": [
    "#### Defining a named function\n",
    "These methods are built into dataframe and Series objects. However, there may be times that you want to apply your own custom function. The `.apply()` method allows you to pass in and run a custom function over a dataframe or Series. The function will iterate through each *value in a Series* or each *row in a dataframe*.\n",
    "\n",
    "For example, perhaps I am looking at the \"Embarked\" column of the dataframe and keep getting confused as to what each letter stands for. I can create a named function (a regular function) that will be run for each value in the Series and return the proper location in a full word."
   ]
  },
  {
   "cell_type": "code",
   "execution_count": null,
   "id": "99e68f8a-1195-4ddc-ac62-783f18131d3c",
   "metadata": {},
   "outputs": [],
   "source": [
    "def getFullEmbarkedLocation(letter):\n",
    "    if letter == \"S\":\n",
    "        return \"Southampton\"\n",
    "    elif letter == \"C\":\n",
    "        return \"Cherbourg\"\n",
    "    else:\n",
    "        return \"Queenstown\""
   ]
  },
  {
   "cell_type": "markdown",
   "id": "d0e31d1a-22a6-4a0b-9abc-b230994cd46f",
   "metadata": {},
   "source": [
    "Now I apply this function (without the parentheses, we aren't calling the function but are just passing in its name) to the Series object."
   ]
  },
  {
   "cell_type": "code",
   "execution_count": null,
   "id": "a7fec473-add3-4d3c-9f40-eacf6f661767",
   "metadata": {},
   "outputs": [],
   "source": [
    "df['Embarked'].apply(getFullEmbarkedLocation)"
   ]
  },
  {
   "cell_type": "markdown",
   "id": "74685d5c-6c8f-4a4b-bc24-668646d17660",
   "metadata": {},
   "source": [
    "If I set the `Embarked` column equal to this new Series, I will see the changes reflected in the dataframe."
   ]
  },
  {
   "cell_type": "code",
   "execution_count": null,
   "id": "5e87d1ac-3778-4429-89eb-1d6c6d95b03b",
   "metadata": {},
   "outputs": [],
   "source": [
    "df['Embarked'] = df['Embarked'].apply(getFullEmbarkedLocation)"
   ]
  },
  {
   "cell_type": "code",
   "execution_count": null,
   "id": "321c988a-f216-4e42-9655-094fa7d60b24",
   "metadata": {},
   "outputs": [],
   "source": [
    "df.head()"
   ]
  },
  {
   "cell_type": "markdown",
   "id": "b71536d4-ccc1-4f5f-a4da-4f8bbf9b84a6",
   "metadata": {},
   "source": [
    "Note: When using the `.apply()` method on a dataframe, it may be necessary to pass in the parameter `axis=1` to the method. The `axis` parameter tells the method to run the function on each column when equal to 0 or each row when equal to 1."
   ]
  },
  {
   "cell_type": "markdown",
   "id": "23122ee3-5830-47e7-b1eb-6d84984c420d",
   "metadata": {
    "tags": []
   },
   "source": [
    "#### Using an anonymous (non-named) function \n",
    "Rather that defining a named function to be passed in to `.apply()`, most data scientists use what are called *lambda functions*. These are essentially non-named functions that are passed directly into another function and are not meant to be reused.\n",
    "\n",
    "You don't have to use lambda functions, but you will probably see a lot of code that does. The syntax looks something like this:"
   ]
  },
  {
   "cell_type": "code",
   "execution_count": null,
   "id": "25b3ec86-241e-4872-8f0b-94307fd80408",
   "metadata": {},
   "outputs": [],
   "source": [
    "# This changes \"male\" to \"M\" and \"female\" to \"F\"\n",
    "df['Sex'] = df['Sex'].apply( lambda x : \"F\" if x == \"female\" else \"M\")\n",
    "df.head()"
   ]
  },
  {
   "cell_type": "markdown",
   "id": "f0d683dc-3286-4629-978a-38b07355f7cd",
   "metadata": {},
   "source": [
    "### The `.applymap()` method\n",
    "**Applies only to dataframes**\n",
    "\n",
    "The `.applymap()` method allows you to apply a function to each individual value in the entire dataframe. This method is not commonly used but may be useful if you need to do mass conversions across several columns of data. The danger of using this method is that the function applies to all columns regardless of its data type. Thus, passing in a subtraction function, for example, would not work with our data since strings (as seen in the \"Name\" column) cannot be subtracted.\n",
    "\n",
    "Here, we get the length of each value after converting it to a string. In other words, we calculate the number of characters."
   ]
  },
  {
   "cell_type": "code",
   "execution_count": null,
   "id": "4b959595-e3b7-4044-8a0f-158470eda6dc",
   "metadata": {},
   "outputs": [],
   "source": [
    "df.applymap(lambda x : len(str(x)))"
   ]
  },
  {
   "cell_type": "markdown",
   "id": "85867efe-0b6c-4b3a-ae85-1ba982f2f41d",
   "metadata": {},
   "source": [
    "### The `.map()` method\n",
    "**Applies only to Series**\n",
    "\n",
    "The `.map()` method allows us to replace specific values with another value. Any value not specified in the method is changed to NULL (or as Pandas calls it, NaN). In this example, we change \"Queenstown\" and \"Southampton\" back to \"Q\" and \"S\". We do not include \"Cherbourg\" in the map.\n",
    "\n",
    "We specify which values we want to change by passing in a dictionary where the key is the current data  and the value is the data we want to replace it with."
   ]
  },
  {
   "cell_type": "code",
   "execution_count": null,
   "id": "8278b596-0c08-4251-8246-4c2765df0253",
   "metadata": {},
   "outputs": [],
   "source": [
    "df['Embarked'].map( {'Queenstown': 'Q', 'Southampton': 'S'} ).head(6)"
   ]
  },
  {
   "cell_type": "markdown",
   "id": "90f89c5c-3bb3-4680-9d30-4b8bb343c3e8",
   "metadata": {},
   "source": [
    "### The `.replace()` method\n",
    "**Applies to dataframe and Series**\n",
    "\n",
    "The `.replace()` function works in the same way as the `.map()` function but does not leave NULL (NaN) values if a key-value pair is not specified. It can also be used with an entire dataframe to replace a value anywhere it occurs."
   ]
  },
  {
   "cell_type": "code",
   "execution_count": null,
   "id": "46b2813d-decb-4542-87a3-a184dc07817e",
   "metadata": {},
   "outputs": [],
   "source": [
    "df['Embarked'].replace( {'Queenstown': 'Q', 'Southampton': 'S'} ).head(6)"
   ]
  },
  {
   "cell_type": "code",
   "execution_count": null,
   "id": "4f5a74f5-20bc-4e23-94ee-ea4ec019c903",
   "metadata": {},
   "outputs": [],
   "source": [
    "df.replace({'Queenstown': 'Q'})"
   ]
  }
 ],
 "metadata": {
  "kernelspec": {
   "display_name": "Python 3 (ipykernel)",
   "language": "python",
   "name": "python3"
  },
  "language_info": {
   "codemirror_mode": {
    "name": "ipython",
    "version": 3
   },
   "file_extension": ".py",
   "mimetype": "text/x-python",
   "name": "python",
   "nbconvert_exporter": "python",
   "pygments_lexer": "ipython3",
   "version": "3.10.2"
  }
 },
 "nbformat": 4,
 "nbformat_minor": 5
}
