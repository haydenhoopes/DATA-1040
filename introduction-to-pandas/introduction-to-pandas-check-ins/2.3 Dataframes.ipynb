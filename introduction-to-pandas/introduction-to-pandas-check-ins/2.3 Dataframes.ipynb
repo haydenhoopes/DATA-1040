{
 "cells": [
  {
   "cell_type": "markdown",
   "id": "a6722b80-417f-4876-a7e9-85495fabc9b3",
   "metadata": {},
   "source": [
    "# 2.3 Dataframes\n",
    "The Pandas library for Python organizes data into 2-dimensional structures called dataframes, a collection of columns and rows organized into a table-like format. Like normal data tables, columns of data are distributed across the x-axis, and rows are likewise distributed across the y-axis. Dataframes should be a fairly easy concept to comprehend if you have worked with programs like Microsoft Excel before.\n",
    "\n",
    "The dataframe is a class created by the Pandas library, meaning that it comes equipped with special methods (functions) that it can use on itself to apply functions. The DataFrame is really essentially a dictionary of Series objects, where each Series represents a column and is formatted as a NumPy array (one value for each row of data). We'll talk about Series in the next section. \n",
    "\n",
    "For now, you can think of the key of each item in the dictionary as the column name, and the value of the item is an array of data representing the rows."
   ]
  },
  {
   "cell_type": "markdown",
   "id": "7ce06128-c1f6-456d-ad0a-d69591bbef24",
   "metadata": {},
   "source": [
    "## Creating a dataframe from scratch\n",
    "By understanding how a dataframe is created, you will be able to more easily understand how to use it.\n",
    "\n",
    "Imagine that you want to represent an important person in a Python data structure. You might create something like this:"
   ]
  },
  {
   "cell_type": "code",
   "execution_count": null,
   "id": "8def18bd-5872-4c14-b989-12780c7212c0",
   "metadata": {
    "tags": []
   },
   "outputs": [],
   "source": [
    "important_person = {\n",
    "    \"firstName\": \"Christopher\",\n",
    "    \"lastName\": \"Columbus\",\n",
    "    \"age\": 53,\n",
    "    \"city\": \"Lisbon\",\n",
    "    \"country\": \"Portugal\"\n",
    "}"
   ]
  },
  {
   "cell_type": "markdown",
   "id": "94881b2e-f0d6-4570-819a-10cf454acdaf",
   "metadata": {},
   "source": [
    "This dictionary works great for representing aspects of a single person. However, what if you want to add somebody else to this list? There are likely several ways that you could accomplish this task, but one way (how Pandas does it) is by turning the values of each key into lists:"
   ]
  },
  {
   "cell_type": "code",
   "execution_count": null,
   "id": "2b313a36-ee39-478d-b8ac-eda6841f3921",
   "metadata": {
    "tags": []
   },
   "outputs": [],
   "source": [
    "important_people = {\n",
    "    \"firstName\": [\"Christopher\", \"Patrick\"],\n",
    "    \"lastName\": [\"Columbus\", \"Henry\"],\n",
    "    \"age\": [53, 63],\n",
    "    \"city\": [\"Lisbon\", \"Studley\"],\n",
    "    \"country\": [\"Portugal\", \"United States\"]\n",
    "}"
   ]
  },
  {
   "cell_type": "markdown",
   "id": "d2455b4a-366f-41c0-8b24-1bedbd5309e8",
   "metadata": {},
   "source": [
    "Using this data structure, each key (ie. \"firstName\") acts as a column name while the list of values following it act as rows. Each row maintains its relationship with data in other columns because of its index position in the list.\n",
    "\n",
    "This data structure can now be used to create a Pandas dataframe. We can do this by using the DataFrame function after importing Pandas. Note that by convention, Pandas dataframes are typically stored in a variable that is or contains \"df\". Don't forget to import pandas!"
   ]
  },
  {
   "cell_type": "code",
   "execution_count": null,
   "id": "e813c83e-7225-4a76-a389-dadb69bc7a43",
   "metadata": {
    "tags": []
   },
   "outputs": [],
   "source": [
    "import pandas as pd\n",
    "important_people_df = pd.DataFrame(important_people)\n",
    "important_people_df"
   ]
  },
  {
   "cell_type": "markdown",
   "id": "14ebc494-1ba8-46f4-b2ae-b14e269a1dc4",
   "metadata": {},
   "source": [
    "## Importing external data into a dataframe\n",
    "Many times, you will create Pandas dataframes by importing data from an external file. Pandas comes pre-equipped with methods for importing data from many different file types, including CSV files and Excel files. These functions are shown below\n",
    "\n",
    "In this example, I downloaded one of the most classic datasets in a .csv format, the Titanic survival\n",
    "dataset. The file contains information about each passenger on the famous Titanic cruiseliner,\n",
    "including their passenger class, sex, embark location, and if they survived or not."
   ]
  },
  {
   "cell_type": "code",
   "execution_count": null,
   "id": "c1b1a49c-1785-4a6a-b61b-b16e95090e9f",
   "metadata": {
    "tags": []
   },
   "outputs": [],
   "source": [
    "df = pd.read_csv(\"./data/titanic.csv\")"
   ]
  },
  {
   "cell_type": "markdown",
   "id": "8d048a8c-acc6-4027-8493-befb9ffb8332",
   "metadata": {},
   "source": [
    "The \"read_\" functions in Pandas require a path to the file, but other optional parameters can be added as well to accommodate your data format, allowing you to specify a line separator, column delimiter, and headers, among other things. These functions automatically convert the data into a dataframe."
   ]
  },
  {
   "cell_type": "code",
   "execution_count": null,
   "id": "11bc7a21-1688-459b-8377-c22895c8a1c6",
   "metadata": {
    "tags": []
   },
   "outputs": [],
   "source": [
    "df"
   ]
  },
  {
   "cell_type": "markdown",
   "id": "6cb7b3cf-9c88-439b-b0b4-cc0d60bb73d0",
   "metadata": {},
   "source": [
    "Pandas can convert CSV files (`.csv`), Excel files (`.xlsx`), and many other file types to dataframes. If you have a special data type that you want to analyze, you should look up how to convert it to a dataframe by doing a Google search."
   ]
  },
  {
   "cell_type": "markdown",
   "id": "45a34b81-b3ed-4167-ba58-fe6687a17a61",
   "metadata": {},
   "source": [
    "## Initial observations of the data\n",
    "At first glance of our table, we can see a lot of information. First, note that all the columns of\n",
    "the table have names, except for the leftmost one. The leftmost column in a dataframe is called\n",
    "the index, and it is used to attach a unique identifier to each row. It is used quite often to access\n",
    "specific rows of the dataframe.\n",
    "\n",
    "Also note that the lower left-hand corner specifies that this dataset contains 891 rows and 12\n",
    "columns. However, not all of them are presented in the data seen above. Pandas, by default,\n",
    "prevents users from displaying too many rows/columns of data, but this setting can be overridden.\n",
    "\n",
    "It’s often useful when exploring data to see the shape of the dataframe, or, in other words, how\n",
    "many rows or columns it has. We can see it visually above but sometimes it’s helpful to get it\n",
    "programmatically as well.\n",
    "\n",
    "You can find the number of rows and columns by calling the `shape` attribute of the dataframe. Note that `shape` is not a function, so it doesn't use parentheses."
   ]
  },
  {
   "cell_type": "code",
   "execution_count": null,
   "id": "044f075d-db24-4ca5-96b0-fcde638d9554",
   "metadata": {
    "tags": []
   },
   "outputs": [],
   "source": [
    "df.shape"
   ]
  },
  {
   "cell_type": "markdown",
   "id": "ab9c2011-3092-443b-af14-3462dc17a020",
   "metadata": {
    "tags": []
   },
   "source": [
    "We can also get some useful summary information from our dataframe using the .info() method,\n",
    "which tells us about each of our columns and their datatypes. “int64” indicates an integer, “object”\n",
    "indicates a string, and “float64” indicates a floating point number (decimal).\n",
    "\n",
    "Observe that there are 11 columns (excluding the index column) and that not each column has\n",
    "data in all of its rows. For example, the “Cabin” column only has 204 non-null entries, even though\n",
    "there are 891 rows."
   ]
  },
  {
   "cell_type": "code",
   "execution_count": null,
   "id": "00bf4f62-90a0-4aa7-b421-98ee545974d9",
   "metadata": {},
   "outputs": [],
   "source": [
    "df.info()"
   ]
  },
  {
   "cell_type": "markdown",
   "id": "c5762906-56cd-4877-8bda-5833a47c6de2",
   "metadata": {},
   "source": [
    "There’s also a method called “.describe()” which we can use to get standard information about\n",
    "columns in the dataframe with numerical information, including the count, mean, standard devia\u0002tion, min, max, and quartiles"
   ]
  },
  {
   "cell_type": "code",
   "execution_count": null,
   "id": "7e152ee6-2ea4-45e8-b55d-a70f13197423",
   "metadata": {},
   "outputs": [],
   "source": [
    "df.describe()"
   ]
  },
  {
   "cell_type": "markdown",
   "id": "35f99c5e-1feb-4e64-a2b1-0382d0194386",
   "metadata": {},
   "source": [
    "You can see above that if a column exists that has a numerical data type, the `.describe()` method does not return information about categorical data. You can get information regarding categorical data by passing in the parameter `include=[object]` to the method."
   ]
  },
  {
   "cell_type": "code",
   "execution_count": null,
   "id": "f05a9d71-7606-43eb-bc6d-a7bda8c03de9",
   "metadata": {},
   "outputs": [],
   "source": [
    "df.describe(include=[object])"
   ]
  },
  {
   "cell_type": "markdown",
   "id": "8ef482ea-b4ef-4027-9952-1684a98d2edf",
   "metadata": {},
   "source": [
    "You can even convert columns to objects to describe them categorically. For example, we might want to see the most frequent passenger class or age."
   ]
  },
  {
   "cell_type": "code",
   "execution_count": null,
   "id": "7360dd8b-61de-4ae6-a442-0f4954eceee6",
   "metadata": {},
   "outputs": [],
   "source": [
    "df.astype(object).describe()"
   ]
  },
  {
   "cell_type": "markdown",
   "id": "70aa332a-1a15-43ca-a337-7e3b0665dd14",
   "metadata": {},
   "source": [
    "At many points during the data exploration process you will likely need to refer to the original\n",
    "dataframe. To avoid printing out all of the rows, use the .head() function, which prints out the\n",
    "first five rows, or the .tail() function, which prints out the last 5 rows."
   ]
  },
  {
   "cell_type": "code",
   "execution_count": null,
   "id": "6151e977-9204-4672-9ad6-e30140332cc9",
   "metadata": {},
   "outputs": [],
   "source": [
    "df.head()"
   ]
  },
  {
   "cell_type": "code",
   "execution_count": null,
   "id": "5702f087-f06c-48b2-9dbe-aef593acabf3",
   "metadata": {},
   "outputs": [],
   "source": [
    "df.tail()"
   ]
  },
  {
   "cell_type": "markdown",
   "id": "b4f586be-ec83-4280-88e8-4722124599e1",
   "metadata": {},
   "source": [
    "## Seeing all columns and/or all rows\n",
    "In an effort to save computing resources and space on your screen, Jupyter automatically limits the number of columns and rows that appear in a dataframe when it is printed out. You can change these settings with the following code:"
   ]
  },
  {
   "cell_type": "code",
   "execution_count": null,
   "id": "0d221c02-1aa1-457f-b671-449e06ed4a94",
   "metadata": {},
   "outputs": [],
   "source": [
    "pd.set_option('display.max_columns', None) # No limit for columns\n",
    "pd.set_option('display.max_rows', None) # No limit for rows"
   ]
  }
 ],
 "metadata": {
  "kernelspec": {
   "display_name": "Python 3 (ipykernel)",
   "language": "python",
   "name": "python3"
  },
  "language_info": {
   "codemirror_mode": {
    "name": "ipython",
    "version": 3
   },
   "file_extension": ".py",
   "mimetype": "text/x-python",
   "name": "python",
   "nbconvert_exporter": "python",
   "pygments_lexer": "ipython3",
   "version": "3.10.2"
  }
 },
 "nbformat": 4,
 "nbformat_minor": 5
}
