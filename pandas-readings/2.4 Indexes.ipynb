{
 "cells": [
  {
   "cell_type": "markdown",
   "id": "4c1166bc-8349-45c4-9743-b5df10fb8920",
   "metadata": {},
   "source": [
    "# 2.4 Indexes\n",
    "\n",
    "## Slicing Rows and Columns\n",
    "Remember slicing NumPy arrays? NumPy slicing allowed us to select one or more columns and one or more rows at a time. Because Pandas is built on top of NumPy, we can slice a dataframe in the same way.\n",
    "\n",
    "To get an individual column out of a pandas dataframe, add the column name in square brackets\n",
    "after the name of the dataframe as exemplified below.\n"
   ]
  },
  {
   "cell_type": "code",
   "execution_count": null,
   "id": "16fdeaef-693e-491e-aa81-620646396a70",
   "metadata": {},
   "outputs": [],
   "source": []
  }
 ],
 "metadata": {
  "kernelspec": {
   "display_name": "data-1040",
   "language": "python",
   "name": "data-1040"
  },
  "language_info": {
   "codemirror_mode": {
    "name": "ipython",
    "version": 3
   },
   "file_extension": ".py",
   "mimetype": "text/x-python",
   "name": "python",
   "nbconvert_exporter": "python",
   "pygments_lexer": "ipython3",
   "version": "3.10.2"
  }
 },
 "nbformat": 4,
 "nbformat_minor": 5
}
