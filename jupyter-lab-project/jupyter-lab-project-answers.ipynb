{
 "cells": [
  {
   "cell_type": "markdown",
   "id": "e6d2584d-6766-4839-9ea8-959ae4064a33",
   "metadata": {},
   "source": [
    "# Iris Analysis\n",
    "In this exercise, I will be using the classic *iris* data set to practice exploratory data analysis.\n",
    "\n",
    "The iris data set contains petal and sepal lengths and widths for three different species of irises. This data is one of the typical first data sets used in learning data science because it contains measures and dimensions that are distinct enough from each other to permit conclusions to be drawn about the different species, but similar enough that the data requires deeper analysis.\n",
    "\n",
    "This tutorial will use some of the Python libraries that you will be learning in this course to demonstrate how they can be used in data analysis. The goal of this assignment is not for you to write code, but rather for you to learn to use Markdown instead of inline Python comments since they provide your code with additional formatting options and thus greater readability. As you reformat the comments in this code to be Markdown, I hope that you may also gain an appreciation for how Jupyter Lab works and start thinking about how you will use the libraries that you will learn in your future data analytics projects."
   ]
  },
  {
   "cell_type": "markdown",
   "id": "85b26e7a-a029-4caf-b84a-f4c5113af6ae",
   "metadata": {},
   "source": [
    "#### Install matplotlib and pandas\n",
    "You probably don't have the matplotlib or pandas package installed yet, so the following line of code installs them for you from Jupyter Lab."
   ]
  },
  {
   "cell_type": "code",
   "execution_count": 1,
   "id": "7fb8835b-82f1-4321-a24b-0365f83c52c8",
   "metadata": {},
   "outputs": [
    {
     "name": "stdout",
     "output_type": "stream",
     "text": [
      "Requirement already satisfied: matplotlib in c:\\users\\haydenh\\appdata\\local\\programs\\python\\python310\\lib\\site-packages (3.5.1)\n",
      "Requirement already satisfied: pandas in c:\\users\\haydenh\\appdata\\local\\programs\\python\\python310\\lib\\site-packages (1.4.1)\n",
      "Requirement already satisfied: numpy>=1.17 in c:\\users\\haydenh\\appdata\\local\\programs\\python\\python310\\lib\\site-packages (from matplotlib) (1.22.3)\n",
      "Requirement already satisfied: packaging>=20.0 in c:\\users\\haydenh\\appdata\\local\\programs\\python\\python310\\lib\\site-packages (from matplotlib) (21.3)\n",
      "Requirement already satisfied: kiwisolver>=1.0.1 in c:\\users\\haydenh\\appdata\\local\\programs\\python\\python310\\lib\\site-packages (from matplotlib) (1.3.2)\n"
     ]
    },
    {
     "name": "stderr",
     "output_type": "stream",
     "text": [
      "\n"
     ]
    },
    {
     "name": "stdout",
     "output_type": "stream",
     "text": [
      "Requirement already satisfied: pillow>=6.2.0 in c:\\users\\haydenh\\appdata\\local\\programs\\python\\python310\\lib\\site-packages (from matplotlib) (9.0.0)\n",
      "Requirement already satisfied: fonttools>=4.22.0 in c:\\users\\haydenh\\appdata\\local\\programs\\python\\python310\\lib\\site-packages (from matplotlib) (4.29.1)\n",
      "Requirement already satisfied: python-dateutil>=2.7 in c:\\users\\haydenh\\appdata\\local\\programs\\python\\python310\\lib\\site-packages (from matplotlib) (2.8.2)\n",
      "Requirement already satisfied: pyparsing>=2.2.1 in c:\\users\\haydenh\\appdata\\local\\programs\\python\\python310\\lib\\site-packages (from matplotlib) (3.0.7)\n",
      "Requirement already satisfied: cycler>=0.10 in c:\\users\\haydenh\\appdata\\local\\programs\\python\\python310\\lib\\site-packages (from matplotlib) (0.11.0)\n",
      "Requirement already satisfied: pytz>=2020.1 in c:\\users\\haydenh\\appdata\\local\\programs\\python\\python310\\lib\\site-packages (from pandas) (2021.3)\n",
      "Requirement already satisfied: six>=1.5 in c:\\users\\haydenh\\appdata\\local\\programs\\python\\python310\\lib\\site-packages (from python-dateutil>=2.7->matplotlib) (1.16.0)\n"
     ]
    },
    {
     "name": "stderr",
     "output_type": "stream",
     "text": [
      "[notice] A new release of pip available: 22.2.1 -> 22.3.1\n",
      "[notice] To update, run: python.exe -m pip install --upgrade pip\n"
     ]
    }
   ],
   "source": [
    "!pip install matplotlib pandas"
   ]
  },
  {
   "cell_type": "markdown",
   "id": "bbfaa38a-c4ab-421d-a306-99652d2c578f",
   "metadata": {
    "tags": []
   },
   "source": [
    "#### Import the pandas library\n",
    "Pandas is a library that converts data into Python objects called \"dataframes\", which are similar to tables in structure. However, unlike regular tables, pandas dataframes come equipped with pre-built functions that allow for quick analysis and cleaning."
   ]
  },
  {
   "cell_type": "code",
   "execution_count": 2,
   "id": "a9f15d75-66cf-45a3-af74-bf8d6a4a7750",
   "metadata": {},
   "outputs": [],
   "source": [
    "import pandas as pd"
   ]
  },
  {
   "cell_type": "markdown",
   "id": "6ec26ca6-c005-4cf3-a467-627865bdc1c4",
   "metadata": {},
   "source": [
    "#### Import the dataset and save to a variable\n",
    "In the first line of this cell, I save the name of the data file as a string to a variable. That makes it easier to read.\n",
    "\n",
    "Then, I use the pandas function `read_csv()` to import the CSV file into a pandas dataframe, assigning it into a variable that I will easily remember as a dataframe \"df\"."
   ]
  },
  {
   "cell_type": "code",
   "execution_count": 3,
   "id": "2a791b03-77ac-446f-9a38-dee0d1d14dc3",
   "metadata": {
    "tags": []
   },
   "outputs": [],
   "source": [
    "filename = 'iris.csv'\n",
    "df = pd.read_csv(filename) # Pandas automatically converts this CSV file \n",
    "                           # to a dataframe"
   ]
  },
  {
   "cell_type": "markdown",
   "id": "9c84968e-d1f9-4510-8102-f145e04bc67d",
   "metadata": {},
   "source": [
    "#### View the first five rows of the data frame\n",
    "The `df.head()` function automatically returns the dataframe's first ten rows, although any number can be passed in to see that many rows. In this case, I pass in the number 5 to see the first five rows.\n",
    "\n",
    "You can also use the function `df.tail()` to get the last ten rows of the dataframe."
   ]
  },
  {
   "cell_type": "code",
   "execution_count": 4,
   "id": "50627a9e-0588-4e99-86c1-8969b4e42eea",
   "metadata": {
    "tags": []
   },
   "outputs": [
    {
     "data": {
      "text/html": [
       "<div>\n",
       "<style scoped>\n",
       "    .dataframe tbody tr th:only-of-type {\n",
       "        vertical-align: middle;\n",
       "    }\n",
       "\n",
       "    .dataframe tbody tr th {\n",
       "        vertical-align: top;\n",
       "    }\n",
       "\n",
       "    .dataframe thead th {\n",
       "        text-align: right;\n",
       "    }\n",
       "</style>\n",
       "<table border=\"1\" class=\"dataframe\">\n",
       "  <thead>\n",
       "    <tr style=\"text-align: right;\">\n",
       "      <th></th>\n",
       "      <th>sepal_length</th>\n",
       "      <th>sepal_width</th>\n",
       "      <th>petal_length</th>\n",
       "      <th>petal_width</th>\n",
       "      <th>species</th>\n",
       "    </tr>\n",
       "  </thead>\n",
       "  <tbody>\n",
       "    <tr>\n",
       "      <th>0</th>\n",
       "      <td>5.1</td>\n",
       "      <td>3.5</td>\n",
       "      <td>1.4</td>\n",
       "      <td>0.2</td>\n",
       "      <td>Iris-setosa</td>\n",
       "    </tr>\n",
       "    <tr>\n",
       "      <th>1</th>\n",
       "      <td>4.9</td>\n",
       "      <td>3.0</td>\n",
       "      <td>1.4</td>\n",
       "      <td>0.2</td>\n",
       "      <td>Iris-setosa</td>\n",
       "    </tr>\n",
       "    <tr>\n",
       "      <th>2</th>\n",
       "      <td>4.7</td>\n",
       "      <td>3.2</td>\n",
       "      <td>1.3</td>\n",
       "      <td>0.2</td>\n",
       "      <td>Iris-setosa</td>\n",
       "    </tr>\n",
       "    <tr>\n",
       "      <th>3</th>\n",
       "      <td>4.6</td>\n",
       "      <td>3.1</td>\n",
       "      <td>1.5</td>\n",
       "      <td>0.2</td>\n",
       "      <td>Iris-setosa</td>\n",
       "    </tr>\n",
       "    <tr>\n",
       "      <th>4</th>\n",
       "      <td>5.0</td>\n",
       "      <td>3.6</td>\n",
       "      <td>1.4</td>\n",
       "      <td>0.2</td>\n",
       "      <td>Iris-setosa</td>\n",
       "    </tr>\n",
       "  </tbody>\n",
       "</table>\n",
       "</div>"
      ],
      "text/plain": [
       "   sepal_length  sepal_width  petal_length  petal_width      species\n",
       "0           5.1          3.5           1.4          0.2  Iris-setosa\n",
       "1           4.9          3.0           1.4          0.2  Iris-setosa\n",
       "2           4.7          3.2           1.3          0.2  Iris-setosa\n",
       "3           4.6          3.1           1.5          0.2  Iris-setosa\n",
       "4           5.0          3.6           1.4          0.2  Iris-setosa"
      ]
     },
     "execution_count": 4,
     "metadata": {},
     "output_type": "execute_result"
    }
   ],
   "source": [
    "df.head(5)"
   ]
  },
  {
   "cell_type": "markdown",
   "id": "9a66422f-d287-4b34-baa1-2b093ffe94b9",
   "metadata": {},
   "source": [
    "#### Get the column names and types\n",
    "It looks like there are five different columns in this data. Four of them have a data type \"float64\" (NumPy's way of saying \"a precise floating point number\") and one column has a data type \"object\", which generally means that it contains text."
   ]
  },
  {
   "cell_type": "code",
   "execution_count": 5,
   "id": "3e549d6b-a8d3-4931-8f7a-ce18c55aab71",
   "metadata": {},
   "outputs": [
    {
     "name": "stdout",
     "output_type": "stream",
     "text": [
      "<class 'pandas.core.frame.DataFrame'>\n",
      "RangeIndex: 150 entries, 0 to 149\n",
      "Data columns (total 5 columns):\n",
      " #   Column        Non-Null Count  Dtype  \n",
      "---  ------        --------------  -----  \n",
      " 0   sepal_length  150 non-null    float64\n",
      " 1   sepal_width   150 non-null    float64\n",
      " 2   petal_length  150 non-null    float64\n",
      " 3   petal_width   150 non-null    float64\n",
      " 4   species       150 non-null    object \n",
      "dtypes: float64(4), object(1)\n",
      "memory usage: 6.0+ KB\n"
     ]
    }
   ],
   "source": [
    "df.info()"
   ]
  },
  {
   "cell_type": "markdown",
   "id": "47aa9675-bc40-4e6b-b86b-5081f5187af1",
   "metadata": {},
   "source": [
    "#### Get unique species\n",
    "Let's see the unique species in this data frame.\n",
    "Notice how it returns a NumPy array!"
   ]
  },
  {
   "cell_type": "code",
   "execution_count": 6,
   "id": "61d1d1cf-311f-4fd5-8236-bb1a615d4c36",
   "metadata": {},
   "outputs": [
    {
     "data": {
      "text/plain": [
       "array(['Iris-setosa', 'Iris-versicolor', 'Iris-virginica'], dtype=object)"
      ]
     },
     "execution_count": 6,
     "metadata": {},
     "output_type": "execute_result"
    }
   ],
   "source": [
    "df['species'].unique()"
   ]
  },
  {
   "cell_type": "markdown",
   "id": "eab6105e-cd56-4df6-ab1e-c67869654da9",
   "metadata": {},
   "source": [
    "#### Get summary statistics\n",
    "Here we can see some summary statistics about quantitative fields in the dataframe. It looks like the following averages occur in this data set:\n",
    "- sepal length: 5.843\n",
    "- sepal width: 3.054\n",
    "- petal length: 3.759\n",
    "- petal width: 1.199\n",
    "\n",
    "That might be interesting to take note of..."
   ]
  },
  {
   "cell_type": "code",
   "execution_count": 7,
   "id": "53b6c0c8-260d-4707-b333-7ccf73a63a0b",
   "metadata": {},
   "outputs": [
    {
     "data": {
      "text/html": [
       "<div>\n",
       "<style scoped>\n",
       "    .dataframe tbody tr th:only-of-type {\n",
       "        vertical-align: middle;\n",
       "    }\n",
       "\n",
       "    .dataframe tbody tr th {\n",
       "        vertical-align: top;\n",
       "    }\n",
       "\n",
       "    .dataframe thead th {\n",
       "        text-align: right;\n",
       "    }\n",
       "</style>\n",
       "<table border=\"1\" class=\"dataframe\">\n",
       "  <thead>\n",
       "    <tr style=\"text-align: right;\">\n",
       "      <th></th>\n",
       "      <th>sepal_length</th>\n",
       "      <th>sepal_width</th>\n",
       "      <th>petal_length</th>\n",
       "      <th>petal_width</th>\n",
       "    </tr>\n",
       "  </thead>\n",
       "  <tbody>\n",
       "    <tr>\n",
       "      <th>count</th>\n",
       "      <td>150.000000</td>\n",
       "      <td>150.000000</td>\n",
       "      <td>150.000000</td>\n",
       "      <td>150.000000</td>\n",
       "    </tr>\n",
       "    <tr>\n",
       "      <th>mean</th>\n",
       "      <td>5.843333</td>\n",
       "      <td>3.054000</td>\n",
       "      <td>3.758667</td>\n",
       "      <td>1.198667</td>\n",
       "    </tr>\n",
       "    <tr>\n",
       "      <th>std</th>\n",
       "      <td>0.828066</td>\n",
       "      <td>0.433594</td>\n",
       "      <td>1.764420</td>\n",
       "      <td>0.763161</td>\n",
       "    </tr>\n",
       "    <tr>\n",
       "      <th>min</th>\n",
       "      <td>4.300000</td>\n",
       "      <td>2.000000</td>\n",
       "      <td>1.000000</td>\n",
       "      <td>0.100000</td>\n",
       "    </tr>\n",
       "    <tr>\n",
       "      <th>25%</th>\n",
       "      <td>5.100000</td>\n",
       "      <td>2.800000</td>\n",
       "      <td>1.600000</td>\n",
       "      <td>0.300000</td>\n",
       "    </tr>\n",
       "    <tr>\n",
       "      <th>50%</th>\n",
       "      <td>5.800000</td>\n",
       "      <td>3.000000</td>\n",
       "      <td>4.350000</td>\n",
       "      <td>1.300000</td>\n",
       "    </tr>\n",
       "    <tr>\n",
       "      <th>75%</th>\n",
       "      <td>6.400000</td>\n",
       "      <td>3.300000</td>\n",
       "      <td>5.100000</td>\n",
       "      <td>1.800000</td>\n",
       "    </tr>\n",
       "    <tr>\n",
       "      <th>max</th>\n",
       "      <td>7.900000</td>\n",
       "      <td>4.400000</td>\n",
       "      <td>6.900000</td>\n",
       "      <td>2.500000</td>\n",
       "    </tr>\n",
       "  </tbody>\n",
       "</table>\n",
       "</div>"
      ],
      "text/plain": [
       "       sepal_length  sepal_width  petal_length  petal_width\n",
       "count    150.000000   150.000000    150.000000   150.000000\n",
       "mean       5.843333     3.054000      3.758667     1.198667\n",
       "std        0.828066     0.433594      1.764420     0.763161\n",
       "min        4.300000     2.000000      1.000000     0.100000\n",
       "25%        5.100000     2.800000      1.600000     0.300000\n",
       "50%        5.800000     3.000000      4.350000     1.300000\n",
       "75%        6.400000     3.300000      5.100000     1.800000\n",
       "max        7.900000     4.400000      6.900000     2.500000"
      ]
     },
     "execution_count": 7,
     "metadata": {},
     "output_type": "execute_result"
    }
   ],
   "source": [
    "df.describe()"
   ]
  },
  {
   "cell_type": "markdown",
   "id": "8d71c297-8372-4886-8c8a-0920efb0e1aa",
   "metadata": {
    "tags": []
   },
   "source": [
    "#### Get averages... aggregated by species\n",
    "To perform aggregate functions across groups, we first need to group the data just as we would in SQL. The `.groupby()` function takes in a column name and returns a DataFrameGroupBy object. An aggregate function `.agg()` can then be performed on the object.\n",
    "\n",
    "Here we see an entirely new dataframe that was returned by the groupby. It looks like the means of each measure (sepal and petal lengths and widths) are quite different from each other, with the mean petal length for the Iris-setosa species being particularly different from the others."
   ]
  },
  {
   "cell_type": "code",
   "execution_count": 8,
   "id": "1282ebcb-153f-4a60-9450-a923a2fcaa68",
   "metadata": {},
   "outputs": [
    {
     "data": {
      "text/html": [
       "<div>\n",
       "<style scoped>\n",
       "    .dataframe tbody tr th:only-of-type {\n",
       "        vertical-align: middle;\n",
       "    }\n",
       "\n",
       "    .dataframe tbody tr th {\n",
       "        vertical-align: top;\n",
       "    }\n",
       "\n",
       "    .dataframe thead tr th {\n",
       "        text-align: left;\n",
       "    }\n",
       "\n",
       "    .dataframe thead tr:last-of-type th {\n",
       "        text-align: right;\n",
       "    }\n",
       "</style>\n",
       "<table border=\"1\" class=\"dataframe\">\n",
       "  <thead>\n",
       "    <tr>\n",
       "      <th></th>\n",
       "      <th>sepal_length</th>\n",
       "      <th>sepal_width</th>\n",
       "      <th>petal_length</th>\n",
       "      <th>petal_width</th>\n",
       "    </tr>\n",
       "    <tr>\n",
       "      <th></th>\n",
       "      <th>mean</th>\n",
       "      <th>mean</th>\n",
       "      <th>mean</th>\n",
       "      <th>mean</th>\n",
       "    </tr>\n",
       "    <tr>\n",
       "      <th>species</th>\n",
       "      <th></th>\n",
       "      <th></th>\n",
       "      <th></th>\n",
       "      <th></th>\n",
       "    </tr>\n",
       "  </thead>\n",
       "  <tbody>\n",
       "    <tr>\n",
       "      <th>Iris-setosa</th>\n",
       "      <td>5.006</td>\n",
       "      <td>3.418</td>\n",
       "      <td>1.464</td>\n",
       "      <td>0.244</td>\n",
       "    </tr>\n",
       "    <tr>\n",
       "      <th>Iris-versicolor</th>\n",
       "      <td>5.936</td>\n",
       "      <td>2.770</td>\n",
       "      <td>4.260</td>\n",
       "      <td>1.326</td>\n",
       "    </tr>\n",
       "    <tr>\n",
       "      <th>Iris-virginica</th>\n",
       "      <td>6.588</td>\n",
       "      <td>2.974</td>\n",
       "      <td>5.552</td>\n",
       "      <td>2.026</td>\n",
       "    </tr>\n",
       "  </tbody>\n",
       "</table>\n",
       "</div>"
      ],
      "text/plain": [
       "                sepal_length sepal_width petal_length petal_width\n",
       "                        mean        mean         mean        mean\n",
       "species                                                          \n",
       "Iris-setosa            5.006       3.418        1.464       0.244\n",
       "Iris-versicolor        5.936       2.770        4.260       1.326\n",
       "Iris-virginica         6.588       2.974        5.552       2.026"
      ]
     },
     "execution_count": 8,
     "metadata": {},
     "output_type": "execute_result"
    }
   ],
   "source": [
    "mean_df = df.groupby(\"species\").agg([\"mean\"])\n",
    "mean_df"
   ]
  },
  {
   "cell_type": "markdown",
   "id": "6af12031-a95f-4650-a6a6-861e10465987",
   "metadata": {},
   "source": [
    "We can also look at the median for each measure across the species."
   ]
  },
  {
   "cell_type": "code",
   "execution_count": 9,
   "id": "61b5ccb7-8180-42a0-8a2d-9354d41dc113",
   "metadata": {},
   "outputs": [
    {
     "data": {
      "text/html": [
       "<div>\n",
       "<style scoped>\n",
       "    .dataframe tbody tr th:only-of-type {\n",
       "        vertical-align: middle;\n",
       "    }\n",
       "\n",
       "    .dataframe tbody tr th {\n",
       "        vertical-align: top;\n",
       "    }\n",
       "\n",
       "    .dataframe thead th {\n",
       "        text-align: right;\n",
       "    }\n",
       "</style>\n",
       "<table border=\"1\" class=\"dataframe\">\n",
       "  <thead>\n",
       "    <tr style=\"text-align: right;\">\n",
       "      <th></th>\n",
       "      <th>sepal_length</th>\n",
       "      <th>sepal_width</th>\n",
       "      <th>petal_length</th>\n",
       "      <th>petal_width</th>\n",
       "    </tr>\n",
       "    <tr>\n",
       "      <th>species</th>\n",
       "      <th></th>\n",
       "      <th></th>\n",
       "      <th></th>\n",
       "      <th></th>\n",
       "    </tr>\n",
       "  </thead>\n",
       "  <tbody>\n",
       "    <tr>\n",
       "      <th>Iris-setosa</th>\n",
       "      <td>5.0</td>\n",
       "      <td>3.4</td>\n",
       "      <td>1.50</td>\n",
       "      <td>0.2</td>\n",
       "    </tr>\n",
       "    <tr>\n",
       "      <th>Iris-versicolor</th>\n",
       "      <td>5.9</td>\n",
       "      <td>2.8</td>\n",
       "      <td>4.35</td>\n",
       "      <td>1.3</td>\n",
       "    </tr>\n",
       "    <tr>\n",
       "      <th>Iris-virginica</th>\n",
       "      <td>6.5</td>\n",
       "      <td>3.0</td>\n",
       "      <td>5.55</td>\n",
       "      <td>2.0</td>\n",
       "    </tr>\n",
       "  </tbody>\n",
       "</table>\n",
       "</div>"
      ],
      "text/plain": [
       "                 sepal_length  sepal_width  petal_length  petal_width\n",
       "species                                                              \n",
       "Iris-setosa               5.0          3.4          1.50          0.2\n",
       "Iris-versicolor           5.9          2.8          4.35          1.3\n",
       "Iris-virginica            6.5          3.0          5.55          2.0"
      ]
     },
     "execution_count": 9,
     "metadata": {},
     "output_type": "execute_result"
    }
   ],
   "source": [
    "median_df = df.groupby(\"species\").agg(\"median\")\n",
    "median_df"
   ]
  },
  {
   "cell_type": "markdown",
   "id": "e110b9f2-ffa8-47da-8031-6b9c2bb36bcc",
   "metadata": {},
   "source": [
    "Let's take a look at the standard deviations of each of the variables regardless of the species. This might help us get a better direction for generating some graphs. Whichever variable has the greatest standard deviation is the one we'll study more in-depth.\n",
    "\n",
    "It looks like \"Petal Length\" has the greatest standard deviation. Standard deviation isn't always a reason to explore a variable more carefully, but it can be useful if you just need some direction to get started, and *and it might be an important variable after all!*"
   ]
  },
  {
   "cell_type": "code",
   "execution_count": 10,
   "id": "810dc52f-829a-4927-a96d-dd80a57e1676",
   "metadata": {},
   "outputs": [
    {
     "data": {
      "text/html": [
       "<div>\n",
       "<style scoped>\n",
       "    .dataframe tbody tr th:only-of-type {\n",
       "        vertical-align: middle;\n",
       "    }\n",
       "\n",
       "    .dataframe tbody tr th {\n",
       "        vertical-align: top;\n",
       "    }\n",
       "\n",
       "    .dataframe thead th {\n",
       "        text-align: right;\n",
       "    }\n",
       "</style>\n",
       "<table border=\"1\" class=\"dataframe\">\n",
       "  <thead>\n",
       "    <tr style=\"text-align: right;\">\n",
       "      <th></th>\n",
       "      <th>sepal_length</th>\n",
       "      <th>sepal_width</th>\n",
       "      <th>petal_length</th>\n",
       "      <th>petal_width</th>\n",
       "    </tr>\n",
       "  </thead>\n",
       "  <tbody>\n",
       "    <tr>\n",
       "      <th>count</th>\n",
       "      <td>150.000000</td>\n",
       "      <td>150.000000</td>\n",
       "      <td>150.000000</td>\n",
       "      <td>150.000000</td>\n",
       "    </tr>\n",
       "    <tr>\n",
       "      <th>mean</th>\n",
       "      <td>5.843333</td>\n",
       "      <td>3.054000</td>\n",
       "      <td>3.758667</td>\n",
       "      <td>1.198667</td>\n",
       "    </tr>\n",
       "    <tr>\n",
       "      <th>std</th>\n",
       "      <td>0.828066</td>\n",
       "      <td>0.433594</td>\n",
       "      <td>1.764420</td>\n",
       "      <td>0.763161</td>\n",
       "    </tr>\n",
       "    <tr>\n",
       "      <th>min</th>\n",
       "      <td>4.300000</td>\n",
       "      <td>2.000000</td>\n",
       "      <td>1.000000</td>\n",
       "      <td>0.100000</td>\n",
       "    </tr>\n",
       "    <tr>\n",
       "      <th>25%</th>\n",
       "      <td>5.100000</td>\n",
       "      <td>2.800000</td>\n",
       "      <td>1.600000</td>\n",
       "      <td>0.300000</td>\n",
       "    </tr>\n",
       "    <tr>\n",
       "      <th>50%</th>\n",
       "      <td>5.800000</td>\n",
       "      <td>3.000000</td>\n",
       "      <td>4.350000</td>\n",
       "      <td>1.300000</td>\n",
       "    </tr>\n",
       "    <tr>\n",
       "      <th>75%</th>\n",
       "      <td>6.400000</td>\n",
       "      <td>3.300000</td>\n",
       "      <td>5.100000</td>\n",
       "      <td>1.800000</td>\n",
       "    </tr>\n",
       "    <tr>\n",
       "      <th>max</th>\n",
       "      <td>7.900000</td>\n",
       "      <td>4.400000</td>\n",
       "      <td>6.900000</td>\n",
       "      <td>2.500000</td>\n",
       "    </tr>\n",
       "  </tbody>\n",
       "</table>\n",
       "</div>"
      ],
      "text/plain": [
       "       sepal_length  sepal_width  petal_length  petal_width\n",
       "count    150.000000   150.000000    150.000000   150.000000\n",
       "mean       5.843333     3.054000      3.758667     1.198667\n",
       "std        0.828066     0.433594      1.764420     0.763161\n",
       "min        4.300000     2.000000      1.000000     0.100000\n",
       "25%        5.100000     2.800000      1.600000     0.300000\n",
       "50%        5.800000     3.000000      4.350000     1.300000\n",
       "75%        6.400000     3.300000      5.100000     1.800000\n",
       "max        7.900000     4.400000      6.900000     2.500000"
      ]
     },
     "execution_count": 10,
     "metadata": {},
     "output_type": "execute_result"
    }
   ],
   "source": [
    "df.describe()"
   ]
  },
  {
   "cell_type": "markdown",
   "id": "14049263-8551-4e58-92ba-7df5647133b5",
   "metadata": {},
   "source": [
    "## Plots\n",
    "Now that we have explored the data a little bit using pandas, let's look at the data with matplotlib in graphs.\n",
    "\n",
    "Let's choose a single measure of the irises to examine more closely. We'll use Petal Length as decided previously."
   ]
  },
  {
   "cell_type": "markdown",
   "id": "47132711-8a59-42ea-952b-624eb9417884",
   "metadata": {},
   "source": [
    "#### Import matplotlib\n",
    "Matplotlib is a Python library used to plot data into graphs. It makes use of Axis objects, which receive the data and are then placed on to a Plot object. The plot can then be shown with the `.show()` function.\n",
    "\n",
    "Notice that we are just importing the pyplot file from the matplotlib package. This is common convention."
   ]
  },
  {
   "cell_type": "code",
   "execution_count": 11,
   "id": "99245f44-bddc-4105-8957-9d2e46029531",
   "metadata": {},
   "outputs": [],
   "source": [
    "import matplotlib.pyplot as plt"
   ]
  },
  {
   "cell_type": "markdown",
   "id": "b887b2a6-4e90-4340-9d09-7c279e6f3d2f",
   "metadata": {},
   "source": [
    "First, lets make a histogram that shows Petal Length among all the species of irises. To do this, we will run the subplots function of the pyplot file (imported under the alias 'plt'). This function returns both a figure (where the data will be shown) and an axis.\n",
    "\n",
    "The figure will be blank at first, since we haven't added anything to the axis yet!"
   ]
  },
  {
   "cell_type": "code",
   "execution_count": 12,
   "id": "af24f243-7a20-4320-bef3-4c0f380ad72c",
   "metadata": {},
   "outputs": [
    {
     "data": {
      "image/png": "[encoded data removed]",
      "text/plain": [
       "<Figure size 720x720 with 1 Axes>"
      ]
     },
     "metadata": {
      "needs_background": "light"
     },
     "output_type": "display_data"
    }
   ],
   "source": [
    "plt.figure(figsize=(10,10))\n",
    "plt.title(\"Petal Lengths for Irises\")\n",
    "plt.xlabel(\"Petal Lengths\")\n",
    "\n",
    "bins = 14 \n",
    "hist_range = (0, 7)\n",
    "x = df['petal_length'] # the column to be the x axis\n",
    "\n",
    "plt.hist(x, bins, range=hist_range) # add the histogram to the axis\n",
    "plt.show()"
   ]
  },
  {
   "cell_type": "markdown",
   "id": "539955bf-148c-4925-a018-26c5641adb9a",
   "metadata": {},
   "source": [
    "Above we set the number of bins to 14 and the range from 0 to 7. That way, a bin is created for values 0 to 0.5, 0.5 to 1.0, and so on. We also made a variable called `x` that was given all the values in the column \"petal_length\". Finally, we called the `.hist()` method of the axis object, assigning the histogram values, a number of bins, and a range, finalizing by calling the fig to make it appear.\n",
    "\n",
    "As you can see in the histogram, there appear to be two major groups of irises in terms of Petal Length that are manifest by the bimodal distribution. However, we may want to examine this more closely **to see if the variable Petal Length is, in reality, significantly different for one species compared to others**.\n",
    "\n",
    "Next, let's build a box-and-whisker and then a violinplot to examine the distribution of petal lengths between groups.\n",
    "\n",
    "The first task is to clear the figure and get a new Axis. You can use `fig.clear()` to clear the figure, but the easiest way to make a new figure and Axis is simply by calling the code above again."
   ]
  },
  {
   "cell_type": "markdown",
   "id": "cf61d296-6485-46b8-b73d-abdf3700e53c",
   "metadata": {},
   "source": [
    "Next, we'll make a different dataframe of values for each species of iris. Then, we add the `petal_length` column from each dataframe to a list, creating a list of lists, where each item represents a different iris species."
   ]
  },
  {
   "cell_type": "code",
   "execution_count": 13,
   "id": "6c011f63-b6c4-4b7c-b110-89bb9b40fd98",
   "metadata": {},
   "outputs": [],
   "source": [
    "setosa_df = df[ df['species'] == 'Iris-setosa']\n",
    "versicolor_df = df[ df['species'] == 'Iris-versicolor']\n",
    "virginica_df = df[ df['species'] == 'Iris-virginica']\n",
    "data = [setosa_df['petal_length'], versicolor_df['petal_length'], virginica_df['petal_length']]"
   ]
  },
  {
   "cell_type": "markdown",
   "id": "6d063b02-fb22-42d5-94ad-8d64ccbe24db",
   "metadata": {},
   "source": [
    "Now, lets run the box plot function of the axis"
   ]
  },
  {
   "cell_type": "code",
   "execution_count": 14,
   "id": "08cc35c1-269f-44bb-9d31-b817d38254ec",
   "metadata": {},
   "outputs": [
    {
     "data": {
      "image/png": "[encoded data removed]",
      "text/plain": [
       "<Figure size 432x288 with 1 Axes>"
      ]
     },
     "metadata": {
      "needs_background": "light"
     },
     "output_type": "display_data"
    }
   ],
   "source": [
    "plt.title(\"Petal Lengths Of Irises by Species\")\n",
    "plt.xlabel(\"Species\")\n",
    "\n",
    "plt.boxplot(data, labels=['Iris-setosa', 'Iris-versicolor', 'Iris-virginica'])\n",
    "plt.show()"
   ]
  },
  {
   "cell_type": "markdown",
   "id": "55e8769e-f060-4e33-a729-2643158c3ff7",
   "metadata": {},
   "source": [
    "Isn't this cool? Looking at this graph, we can make a lot more sense of the differences between these different Iris species. Iris-versicolor and Iris-virginica are more similar to each other than Iris-setosa, but really, the medians of all Iris species are quite different.\n",
    "\n",
    "Let's combine the petal length with the other attributes and look at the petal width, sepal length, and sepal width as well."
   ]
  },
  {
   "cell_type": "code",
   "execution_count": 15,
   "id": "5eaf9ca7-a7ea-458d-96f9-37d9e3954b2c",
   "metadata": {},
   "outputs": [
    {
     "data": {
      "image/png": "[encoded data removed]",
      "text/plain": [
       "<Figure size 1440x864 with 4 Axes>"
      ]
     },
     "metadata": {
      "needs_background": "light"
     },
     "output_type": "display_data"
    }
   ],
   "source": [
    "petalwidth_data = [setosa_df['petal_width'], versicolor_df['petal_width'], virginica_df['petal_width']]\n",
    "sepallength_data = [setosa_df['sepal_length'], versicolor_df['sepal_length'], virginica_df['sepal_length']]\n",
    "sepalwidth_data = [setosa_df['sepal_width'], versicolor_df['sepal_width'], virginica_df['sepal_width']]\n",
    "\n",
    "fig, ((ax1, ax2), (ax3, ax4)) = plt.subplots(2, 2, figsize=(20, 12))\n",
    "\n",
    "\n",
    "ax1.set_title('Sepal Width of Irises by Species')\n",
    "ax1.set_ylim([0,5])\n",
    "ax1 = ax1.boxplot(sepalwidth_data, labels=['Iris-setosa', 'Iris-versicolor', 'Iris-virginica'])\n",
    "\n",
    "ax2.set_title('Petal Width of Irises by Species')\n",
    "ax2.set_ylim([0,5])\n",
    "ax2 = ax2.boxplot(petalwidth_data, labels=['Iris-setosa', 'Iris-versicolor', 'Iris-virginica'])\n",
    "\n",
    "ax3.set_title('Sepal Length of Irises by Species')\n",
    "ax3.set_ylim([0,8])\n",
    "ax3 = ax3.boxplot(sepallength_data, labels=['Iris-setosa', 'Iris-versicolor', 'Iris-virginica'])\n",
    "\n",
    "ax4.set_title('Petal Length of Irises by Species')\n",
    "ax4.set_ylim([0,8])\n",
    "ax4 = ax4.boxplot(data, labels=['Iris-setosa', 'Iris-versicolor', 'Iris-virginica'])\n",
    "\n",
    "plt.show()"
   ]
  },
  {
   "cell_type": "markdown",
   "id": "3a321598-739c-4331-ab91-a0b22a00e95a",
   "metadata": {},
   "source": [
    "This has been a short exploratory analysis of the Iris data set. There is definitely more that we could do in terms of of visualizations and analyses to learn more about the differences between these irises, but the visualizations produced thus far suffice to give us a quick idea of what the different data sets look like."
   ]
  }
 ],
 "metadata": {
  "kernelspec": {
   "display_name": "Python 3 (ipykernel)",
   "language": "python",
   "name": "python3"
  },
  "language_info": {
   "codemirror_mode": {
    "name": "ipython",
    "version": 3
   },
   "file_extension": ".py",
   "mimetype": "text/x-python",
   "name": "python",
   "nbconvert_exporter": "python",
   "pygments_lexer": "ipython3",
   "version": "3.10.6"
  }
 },
 "nbformat": 4,
 "nbformat_minor": 5
}
